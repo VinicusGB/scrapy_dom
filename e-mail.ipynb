{
 "cells": [
  {
   "cell_type": "markdown",
   "metadata": {},
   "source": [
    "# Envia e-mail"
   ]
  },
  {
   "cell_type": "markdown",
   "metadata": {},
   "source": [
    "## Por meio do OUTLOOK\n",
    "Fonte: https://www.hashtagtreinamentos.com/envio-e-mail-python"
   ]
  },
  {
   "cell_type": "code",
   "execution_count": 15,
   "metadata": {},
   "outputs": [],
   "source": [
    "import win32com.client as win32"
   ]
  },
  {
   "cell_type": "code",
   "execution_count": 16,
   "metadata": {},
   "outputs": [],
   "source": [
    "# criar a integração com o outlook\n",
    "outlook = win32.Dispatch('outlook.application')"
   ]
  },
  {
   "cell_type": "code",
   "execution_count": 17,
   "metadata": {},
   "outputs": [],
   "source": [
    "# criar um email\n",
    "email = outlook.CreateItem(0)"
   ]
  },
  {
   "cell_type": "code",
   "execution_count": 18,
   "metadata": {},
   "outputs": [],
   "source": [
    "faturamento = 1500\n",
    "qtde_produtos = 10\n",
    "ticket_medio = faturamento / qtde_produtos"
   ]
  },
  {
   "cell_type": "code",
   "execution_count": 19,
   "metadata": {},
   "outputs": [],
   "source": [
    "# configurar as informações do seu e-mail\n",
    "#email.To = \"destino; destino2\"\n",
    "email.To = \"projeto@sindsep-sp.org.br\"\n",
    "email.Subject = \"E-mail automático do Python\"\n",
    "email.HTMLBody = f\"\"\"\n",
    "<p>Olá Lira, aqui é o código Python</p>\n",
    "\n",
    "<p>O faturamento da loja foi de R${faturamento}</p>\n",
    "<p>Vendemos {qtde_produtos} produtos</p>\n",
    "<p>O ticket Médio foi de R${ticket_medio}</p>\n",
    "\n",
    "<p>Abs,</p>\n",
    "<p>Código Python</p>\n",
    "\"\"\""
   ]
  },
  {
   "cell_type": "code",
   "execution_count": 21,
   "metadata": {},
   "outputs": [
    {
     "data": {
      "text/plain": [
       "<COMObject Add>"
      ]
     },
     "execution_count": 21,
     "metadata": {},
     "output_type": "execute_result"
    }
   ],
   "source": [
    "# anexo = \"C://Users/joaop/Downloads/arquivo.xlsx\"\n",
    "anexo = \"C://Projetos//scrapy_dom//outputs_files//2022-07-05//DOM_SP-67_124_105_2022-07-05.pdf\"\n",
    "email.Attachments.Add(anexo)"
   ]
  },
  {
   "cell_type": "code",
   "execution_count": 22,
   "metadata": {},
   "outputs": [
    {
     "name": "stdout",
     "output_type": "stream",
     "text": [
      "Email Enviado\n"
     ]
    }
   ],
   "source": [
    "email.Send()\n",
    "print(\"Email Enviado\")"
   ]
  },
  {
   "cell_type": "markdown",
   "metadata": {},
   "source": [
    "## Por meio do método SMTP\n",
    "Fonte: https://www.delftstack.com/pt/howto/python/python-send-email/#:~:text=Para%20enviar%20um%20e-mail%20usando%20Python%2C%20use%20as,iniciar%20o%20TLS%20para%20a%20configura%C3%A7%C3%A3o%20de%20seguran%C3%A7a."
   ]
  },
  {
   "cell_type": "code",
   "execution_count": 26,
   "metadata": {},
   "outputs": [],
   "source": [
    "import smtplib"
   ]
  },
  {
   "cell_type": "code",
   "execution_count": 27,
   "metadata": {},
   "outputs": [],
   "source": [
    "# configurações principais\n",
    "#SMTP_SERVER = \"smtp.gmail.com\"\n",
    "SMTP_SERVER = \"smtp.office365.com\"\n",
    "#SMTP_PORT = 587\n",
    "SMTP_PORT = 587\n",
    "#SMTP_USERNAME = \"sender_username_here@gmail.com\"\n",
    "SMTP_USERNAME = \"projeto@sindsep-sp.org.br\"\n",
    "#SMTP_PASSWORD = \"sender_password_here\"\n",
    "SMTP_PASSWORD = \"#SindSep@20221$\"\n",
    "#EMAIL_FROM = \"sender_username_here@gmail.com\"\n",
    "EMAIL_FROM = \"projeto@sindsep-sp.org.br\"\n",
    "#EMAIL_TO = \"receiver_username_here@gmail.com\"\n",
    "EMAIL_TO = \"viniciusgomesb@gmail.com\"\n",
    "#EMAIL_SUBJECT = \"Attention:Subject here\"\n",
    "EMAIL_SUBJECT = \"Teste Python\"\n",
    "EMAIL_MESSAGE = \"The message here\"\n",
    "#EMAIL_MESSAGE = \"Este é um e-mail de teste em Python\""
   ]
  },
  {
   "cell_type": "code",
   "execution_count": 28,
   "metadata": {},
   "outputs": [],
   "source": [
    "s = smtplib.SMTP(SMTP_SERVER,SMTP_PORT)"
   ]
  },
  {
   "cell_type": "code",
   "execution_count": 29,
   "metadata": {},
   "outputs": [
    {
     "data": {
      "text/plain": [
       "(220, b'2.0.0 SMTP server ready')"
      ]
     },
     "execution_count": 29,
     "metadata": {},
     "output_type": "execute_result"
    }
   ],
   "source": [
    "s.starttls()"
   ]
  },
  {
   "cell_type": "code",
   "execution_count": 30,
   "metadata": {},
   "outputs": [
    {
     "data": {
      "text/plain": [
       "(235, b'2.7.0 Authentication successful')"
      ]
     },
     "execution_count": 30,
     "metadata": {},
     "output_type": "execute_result"
    }
   ],
   "source": [
    "s.login(SMTP_USERNAME,SMTP_PASSWORD)"
   ]
  },
  {
   "cell_type": "code",
   "execution_count": 31,
   "metadata": {},
   "outputs": [],
   "source": [
    "message = 'Subject: {}\\n\\n{}'.format(EMAIL_SUBJECT, EMAIL_MESSAGE)"
   ]
  },
  {
   "cell_type": "code",
   "execution_count": 32,
   "metadata": {},
   "outputs": [
    {
     "data": {
      "text/plain": [
       "{}"
      ]
     },
     "execution_count": 32,
     "metadata": {},
     "output_type": "execute_result"
    }
   ],
   "source": [
    "s.sendmail(EMAIL_FROM, EMAIL_TO, message)"
   ]
  },
  {
   "cell_type": "code",
   "execution_count": 33,
   "metadata": {},
   "outputs": [
    {
     "data": {
      "text/plain": [
       "(221, b'2.0.0 Service closing transmission channel')"
      ]
     },
     "execution_count": 33,
     "metadata": {},
     "output_type": "execute_result"
    }
   ],
   "source": [
    "s.quit()"
   ]
  },
  {
   "cell_type": "markdown",
   "metadata": {},
   "source": [
    "## Por meio do SMTPLIB AKIRADEV\n",
    "Fonte: https://akiradev.netlify.app/posts/enviando-emails-python/#:~:text=A%20Biblioteca%20smtplib%20O%20m%C3%B3dulo%20smtplib%20define%20um,Protocol%29%20e%20o%20RFC%201869%20%28SMTP%20Service%20Extensions%29."
   ]
  },
  {
   "cell_type": "markdown",
   "metadata": {},
   "source": [
    "### Enviando Email Plain-Text"
   ]
  },
  {
   "cell_type": "code",
   "execution_count": 19,
   "metadata": {},
   "outputs": [],
   "source": [
    "from email.message import EmailMessage\n",
    "import smtplib"
   ]
  },
  {
   "cell_type": "code",
   "execution_count": 24,
   "metadata": {},
   "outputs": [],
   "source": [
    "#EMAIL = 'gabrielfelippe90@gmail.com'\n",
    "EMAIL = \"projeto@sindsep-sp.org.br\"\n",
    "#SENHA = input('Digite a senha do seu Email: ')\n",
    "SENHA = \"#SindSep@20221$\"\n",
    "SMTP_USERNAME = \"projeto@sindsep-sp.org.br\"\n",
    "SMTP_PASSWORD = \"#SindSep@20221$\""
   ]
  },
  {
   "cell_type": "code",
   "execution_count": 21,
   "metadata": {},
   "outputs": [],
   "source": [
    "msg = EmailMessage()\n",
    "msg['Subject'] = 'Linguagem Python'\n",
    "msg['From'] = EMAIL\n",
    "msg['To'] = 'viniciusgomesb@gmail.com'\n",
    "msg.set_content('Contéudo do Email enviado com Python!')\n",
    "#print(msg)"
   ]
  },
  {
   "cell_type": "code",
   "execution_count": 15,
   "metadata": {},
   "outputs": [
    {
     "ename": "SSLError",
     "evalue": "[SSL: WRONG_VERSION_NUMBER] wrong version number (_ssl.c:997)",
     "output_type": "error",
     "traceback": [
      "\u001b[1;31m---------------------------------------------------------------------------\u001b[0m",
      "\u001b[1;31mSSLError\u001b[0m                                  Traceback (most recent call last)",
      "\u001b[1;32mc:\\Projetos\\scrapy_dom\\e-mail.ipynb Cell 3'\u001b[0m in \u001b[0;36m<cell line: 1>\u001b[1;34m()\u001b[0m\n\u001b[1;32m----> <a href='vscode-notebook-cell:/c%3A/Projetos/scrapy_dom/e-mail.ipynb#ch0000000?line=0'>1</a>\u001b[0m \u001b[39mwith\u001b[39;00m smtplib\u001b[39m.\u001b[39;49mSMTP_SSL(\u001b[39m\"\u001b[39;49m\u001b[39msmtp.office365.com\u001b[39;49m\u001b[39m\"\u001b[39;49m, \u001b[39m587\u001b[39;49m) \u001b[39mas\u001b[39;00m smtp:\n\u001b[0;32m      <a href='vscode-notebook-cell:/c%3A/Projetos/scrapy_dom/e-mail.ipynb#ch0000000?line=1'>2</a>\u001b[0m     smtp\u001b[39m.\u001b[39mlogin(EMAIL, SENHA)\n\u001b[0;32m      <a href='vscode-notebook-cell:/c%3A/Projetos/scrapy_dom/e-mail.ipynb#ch0000000?line=2'>3</a>\u001b[0m     smtp\u001b[39m.\u001b[39msend_message(msg)\n",
      "File \u001b[1;32mC:\\Python310\\lib\\smtplib.py:1050\u001b[0m, in \u001b[0;36mSMTP_SSL.__init__\u001b[1;34m(self, host, port, local_hostname, keyfile, certfile, timeout, source_address, context)\u001b[0m\n\u001b[0;32m   1047\u001b[0m     context \u001b[39m=\u001b[39m ssl\u001b[39m.\u001b[39m_create_stdlib_context(certfile\u001b[39m=\u001b[39mcertfile,\n\u001b[0;32m   1048\u001b[0m                                          keyfile\u001b[39m=\u001b[39mkeyfile)\n\u001b[0;32m   1049\u001b[0m \u001b[39mself\u001b[39m\u001b[39m.\u001b[39mcontext \u001b[39m=\u001b[39m context\n\u001b[1;32m-> 1050\u001b[0m SMTP\u001b[39m.\u001b[39;49m\u001b[39m__init__\u001b[39;49m(\u001b[39mself\u001b[39;49m, host, port, local_hostname, timeout,\n\u001b[0;32m   1051\u001b[0m               source_address)\n",
      "File \u001b[1;32mC:\\Python310\\lib\\smtplib.py:255\u001b[0m, in \u001b[0;36mSMTP.__init__\u001b[1;34m(self, host, port, local_hostname, timeout, source_address)\u001b[0m\n\u001b[0;32m    252\u001b[0m \u001b[39mself\u001b[39m\u001b[39m.\u001b[39m_auth_challenge_count \u001b[39m=\u001b[39m \u001b[39m0\u001b[39m\n\u001b[0;32m    254\u001b[0m \u001b[39mif\u001b[39;00m host:\n\u001b[1;32m--> 255\u001b[0m     (code, msg) \u001b[39m=\u001b[39m \u001b[39mself\u001b[39;49m\u001b[39m.\u001b[39;49mconnect(host, port)\n\u001b[0;32m    256\u001b[0m     \u001b[39mif\u001b[39;00m code \u001b[39m!=\u001b[39m \u001b[39m220\u001b[39m:\n\u001b[0;32m    257\u001b[0m         \u001b[39mself\u001b[39m\u001b[39m.\u001b[39mclose()\n",
      "File \u001b[1;32mC:\\Python310\\lib\\smtplib.py:341\u001b[0m, in \u001b[0;36mSMTP.connect\u001b[1;34m(self, host, port, source_address)\u001b[0m\n\u001b[0;32m    339\u001b[0m     port \u001b[39m=\u001b[39m \u001b[39mself\u001b[39m\u001b[39m.\u001b[39mdefault_port\n\u001b[0;32m    340\u001b[0m sys\u001b[39m.\u001b[39maudit(\u001b[39m\"\u001b[39m\u001b[39msmtplib.connect\u001b[39m\u001b[39m\"\u001b[39m, \u001b[39mself\u001b[39m, host, port)\n\u001b[1;32m--> 341\u001b[0m \u001b[39mself\u001b[39m\u001b[39m.\u001b[39msock \u001b[39m=\u001b[39m \u001b[39mself\u001b[39;49m\u001b[39m.\u001b[39;49m_get_socket(host, port, \u001b[39mself\u001b[39;49m\u001b[39m.\u001b[39;49mtimeout)\n\u001b[0;32m    342\u001b[0m \u001b[39mself\u001b[39m\u001b[39m.\u001b[39mfile \u001b[39m=\u001b[39m \u001b[39mNone\u001b[39;00m\n\u001b[0;32m    343\u001b[0m (code, msg) \u001b[39m=\u001b[39m \u001b[39mself\u001b[39m\u001b[39m.\u001b[39mgetreply()\n",
      "File \u001b[1;32mC:\\Python310\\lib\\smtplib.py:1057\u001b[0m, in \u001b[0;36mSMTP_SSL._get_socket\u001b[1;34m(self, host, port, timeout)\u001b[0m\n\u001b[0;32m   1055\u001b[0m     \u001b[39mself\u001b[39m\u001b[39m.\u001b[39m_print_debug(\u001b[39m'\u001b[39m\u001b[39mconnect:\u001b[39m\u001b[39m'\u001b[39m, (host, port))\n\u001b[0;32m   1056\u001b[0m new_socket \u001b[39m=\u001b[39m \u001b[39msuper\u001b[39m()\u001b[39m.\u001b[39m_get_socket(host, port, timeout)\n\u001b[1;32m-> 1057\u001b[0m new_socket \u001b[39m=\u001b[39m \u001b[39mself\u001b[39;49m\u001b[39m.\u001b[39;49mcontext\u001b[39m.\u001b[39;49mwrap_socket(new_socket,\n\u001b[0;32m   1058\u001b[0m                                       server_hostname\u001b[39m=\u001b[39;49m\u001b[39mself\u001b[39;49m\u001b[39m.\u001b[39;49m_host)\n\u001b[0;32m   1059\u001b[0m \u001b[39mreturn\u001b[39;00m new_socket\n",
      "File \u001b[1;32mC:\\Python310\\lib\\ssl.py:512\u001b[0m, in \u001b[0;36mSSLContext.wrap_socket\u001b[1;34m(self, sock, server_side, do_handshake_on_connect, suppress_ragged_eofs, server_hostname, session)\u001b[0m\n\u001b[0;32m    506\u001b[0m \u001b[39mdef\u001b[39;00m \u001b[39mwrap_socket\u001b[39m(\u001b[39mself\u001b[39m, sock, server_side\u001b[39m=\u001b[39m\u001b[39mFalse\u001b[39;00m,\n\u001b[0;32m    507\u001b[0m                 do_handshake_on_connect\u001b[39m=\u001b[39m\u001b[39mTrue\u001b[39;00m,\n\u001b[0;32m    508\u001b[0m                 suppress_ragged_eofs\u001b[39m=\u001b[39m\u001b[39mTrue\u001b[39;00m,\n\u001b[0;32m    509\u001b[0m                 server_hostname\u001b[39m=\u001b[39m\u001b[39mNone\u001b[39;00m, session\u001b[39m=\u001b[39m\u001b[39mNone\u001b[39;00m):\n\u001b[0;32m    510\u001b[0m     \u001b[39m# SSLSocket class handles server_hostname encoding before it calls\u001b[39;00m\n\u001b[0;32m    511\u001b[0m     \u001b[39m# ctx._wrap_socket()\u001b[39;00m\n\u001b[1;32m--> 512\u001b[0m     \u001b[39mreturn\u001b[39;00m \u001b[39mself\u001b[39;49m\u001b[39m.\u001b[39;49msslsocket_class\u001b[39m.\u001b[39;49m_create(\n\u001b[0;32m    513\u001b[0m         sock\u001b[39m=\u001b[39;49msock,\n\u001b[0;32m    514\u001b[0m         server_side\u001b[39m=\u001b[39;49mserver_side,\n\u001b[0;32m    515\u001b[0m         do_handshake_on_connect\u001b[39m=\u001b[39;49mdo_handshake_on_connect,\n\u001b[0;32m    516\u001b[0m         suppress_ragged_eofs\u001b[39m=\u001b[39;49msuppress_ragged_eofs,\n\u001b[0;32m    517\u001b[0m         server_hostname\u001b[39m=\u001b[39;49mserver_hostname,\n\u001b[0;32m    518\u001b[0m         context\u001b[39m=\u001b[39;49m\u001b[39mself\u001b[39;49m,\n\u001b[0;32m    519\u001b[0m         session\u001b[39m=\u001b[39;49msession\n\u001b[0;32m    520\u001b[0m     )\n",
      "File \u001b[1;32mC:\\Python310\\lib\\ssl.py:1070\u001b[0m, in \u001b[0;36mSSLSocket._create\u001b[1;34m(cls, sock, server_side, do_handshake_on_connect, suppress_ragged_eofs, server_hostname, context, session)\u001b[0m\n\u001b[0;32m   1067\u001b[0m         \u001b[39mif\u001b[39;00m timeout \u001b[39m==\u001b[39m \u001b[39m0.0\u001b[39m:\n\u001b[0;32m   1068\u001b[0m             \u001b[39m# non-blocking\u001b[39;00m\n\u001b[0;32m   1069\u001b[0m             \u001b[39mraise\u001b[39;00m \u001b[39mValueError\u001b[39;00m(\u001b[39m\"\u001b[39m\u001b[39mdo_handshake_on_connect should not be specified for non-blocking sockets\u001b[39m\u001b[39m\"\u001b[39m)\n\u001b[1;32m-> 1070\u001b[0m         \u001b[39mself\u001b[39;49m\u001b[39m.\u001b[39;49mdo_handshake()\n\u001b[0;32m   1071\u001b[0m \u001b[39mexcept\u001b[39;00m (\u001b[39mOSError\u001b[39;00m, \u001b[39mValueError\u001b[39;00m):\n\u001b[0;32m   1072\u001b[0m     \u001b[39mself\u001b[39m\u001b[39m.\u001b[39mclose()\n",
      "File \u001b[1;32mC:\\Python310\\lib\\ssl.py:1341\u001b[0m, in \u001b[0;36mSSLSocket.do_handshake\u001b[1;34m(self, block)\u001b[0m\n\u001b[0;32m   1339\u001b[0m     \u001b[39mif\u001b[39;00m timeout \u001b[39m==\u001b[39m \u001b[39m0.0\u001b[39m \u001b[39mand\u001b[39;00m block:\n\u001b[0;32m   1340\u001b[0m         \u001b[39mself\u001b[39m\u001b[39m.\u001b[39msettimeout(\u001b[39mNone\u001b[39;00m)\n\u001b[1;32m-> 1341\u001b[0m     \u001b[39mself\u001b[39;49m\u001b[39m.\u001b[39;49m_sslobj\u001b[39m.\u001b[39;49mdo_handshake()\n\u001b[0;32m   1342\u001b[0m \u001b[39mfinally\u001b[39;00m:\n\u001b[0;32m   1343\u001b[0m     \u001b[39mself\u001b[39m\u001b[39m.\u001b[39msettimeout(timeout)\n",
      "\u001b[1;31mSSLError\u001b[0m: [SSL: WRONG_VERSION_NUMBER] wrong version number (_ssl.c:997)"
     ]
    }
   ],
   "source": [
    "with smtplib.SMTP_SSL(\"smtp.office365.com\", 587) as smtp:\n",
    "    smtp.login(EMAIL, SENHA)\n",
    "    smtp.send_message(msg)"
   ]
  },
  {
   "cell_type": "code",
   "execution_count": 25,
   "metadata": {},
   "outputs": [
    {
     "ename": "SMTPNotSupportedError",
     "evalue": "SMTP AUTH extension not supported by server.",
     "output_type": "error",
     "traceback": [
      "\u001b[1;31m---------------------------------------------------------------------------\u001b[0m",
      "\u001b[1;31mSMTPNotSupportedError\u001b[0m                     Traceback (most recent call last)",
      "\u001b[1;32mc:\\Projetos\\scrapy_dom\\e-mail.ipynb Cell 25'\u001b[0m in \u001b[0;36m<cell line: 2>\u001b[1;34m()\u001b[0m\n\u001b[0;32m      <a href='vscode-notebook-cell:/c%3A/Projetos/scrapy_dom/e-mail.ipynb#ch0000025?line=0'>1</a>\u001b[0m smtp \u001b[39m=\u001b[39m smtplib\u001b[39m.\u001b[39mSMTP(\u001b[39m\"\u001b[39m\u001b[39msmtp.office365.com\u001b[39m\u001b[39m\"\u001b[39m,\u001b[39m587\u001b[39m)\n\u001b[1;32m----> <a href='vscode-notebook-cell:/c%3A/Projetos/scrapy_dom/e-mail.ipynb#ch0000025?line=1'>2</a>\u001b[0m smtp\u001b[39m.\u001b[39;49mlogin(SMTP_USERNAME,SMTP_PASSWORD)\n\u001b[0;32m      <a href='vscode-notebook-cell:/c%3A/Projetos/scrapy_dom/e-mail.ipynb#ch0000025?line=2'>3</a>\u001b[0m smtp\u001b[39m.\u001b[39msend_message(msg)\n",
      "File \u001b[1;32mC:\\Python310\\lib\\smtplib.py:716\u001b[0m, in \u001b[0;36mSMTP.login\u001b[1;34m(self, user, password, initial_response_ok)\u001b[0m\n\u001b[0;32m    714\u001b[0m \u001b[39mself\u001b[39m\u001b[39m.\u001b[39mehlo_or_helo_if_needed()\n\u001b[0;32m    715\u001b[0m \u001b[39mif\u001b[39;00m \u001b[39mnot\u001b[39;00m \u001b[39mself\u001b[39m\u001b[39m.\u001b[39mhas_extn(\u001b[39m\"\u001b[39m\u001b[39mauth\u001b[39m\u001b[39m\"\u001b[39m):\n\u001b[1;32m--> 716\u001b[0m     \u001b[39mraise\u001b[39;00m SMTPNotSupportedError(\n\u001b[0;32m    717\u001b[0m         \u001b[39m\"\u001b[39m\u001b[39mSMTP AUTH extension not supported by server.\u001b[39m\u001b[39m\"\u001b[39m)\n\u001b[0;32m    719\u001b[0m \u001b[39m# Authentication methods the server claims to support\u001b[39;00m\n\u001b[0;32m    720\u001b[0m advertised_authlist \u001b[39m=\u001b[39m \u001b[39mself\u001b[39m\u001b[39m.\u001b[39mesmtp_features[\u001b[39m\"\u001b[39m\u001b[39mauth\u001b[39m\u001b[39m\"\u001b[39m]\u001b[39m.\u001b[39msplit()\n",
      "\u001b[1;31mSMTPNotSupportedError\u001b[0m: SMTP AUTH extension not supported by server."
     ]
    }
   ],
   "source": [
    "smtp = smtplib.SMTP(\"smtp.office365.com\",587)\n",
    "smtp.login(SMTP_USERNAME,SMTP_PASSWORD)\n",
    "smtp.send_message(msg)"
   ]
  },
  {
   "cell_type": "markdown",
   "metadata": {},
   "source": [
    "### Enviando Email com Imagens"
   ]
  },
  {
   "cell_type": "code",
   "execution_count": null,
   "metadata": {},
   "outputs": [],
   "source": [
    "from email.message import EmailMessage\n",
    "import smtplib\n",
    "import imghdr\n",
    "\n",
    "EMAIL = 'gabrielfelippe90@gmail.com'\n",
    "SENHA = input('Digite a senha do seu Email: ')\n",
    "\n",
    "msg = EmailMessage()\n",
    "msg['Subject'] = 'Teste'\n",
    "msg['From'] = EMAIL\n",
    "msg['To'] = 'gabrielfelippe@outlook.com'\n",
    "msg.set_content('Imagem anexada')\n",
    "\n",
    "files = ['imagem.jpg','imagem2.jpg']\n",
    "\n",
    "for file in files:\n",
    "    with open(file, 'rb') as f:\n",
    "        file_data = f.read()\n",
    "        file_type = imghdr.what(f.name)\n",
    "        file_name = f.name\n",
    "\n",
    "    msg.add_attachment(file_data, \n",
    "        maintype='image', \n",
    "        subtype=file_type,\n",
    "        filename=file_name\n",
    "    )\n",
    "\n",
    "with smtplib.SMTP_SSL('smtp.gmail.com', 465) as smtp:\n",
    "    smtp.login(EMAIL, SENHA)\n",
    "    smtp.send_message(msg)"
   ]
  },
  {
   "cell_type": "markdown",
   "metadata": {},
   "source": [
    "### Enviando Email com Arquivos PDF"
   ]
  },
  {
   "cell_type": "code",
   "execution_count": null,
   "metadata": {},
   "outputs": [],
   "source": [
    "from email.message import EmailMessage\n",
    "import smtplib\n",
    "\n",
    "EMAIL = 'gabrielfelippe90@gmail.com'\n",
    "SENHA = input('Digite a senha do seu Email: ')\n",
    "\n",
    "contacts = ['gabrielfelippe@outlook.com','akirascientist@gmail.com']\n",
    "\n",
    "msg = EmailMessage()\n",
    "msg['Subject'] = 'Teste'\n",
    "msg['From'] = EMAIL\n",
    "msg['To'] = ', '.join(contacts)\n",
    "msg.set_content('Livro em Anexo')\n",
    "\n",
    "files = ['Simulacra_and_Simulation.pdf','Neuromancer.pdf']\n",
    "\n",
    "for file in files:\n",
    "    with open(file, 'rb') as f:\n",
    "        file_data = f.read()\n",
    "        file_name = f.name\n",
    "\n",
    "    msg.add_attachment(file_data, \n",
    "        maintype='application', \n",
    "        subtype='octet-stream',\n",
    "        filename=file_name\n",
    "    )\n",
    "\n",
    "with smtplib.SMTP_SSL('smtp.gmail.com', 465) as smtp:\n",
    "    smtp.login(EMAIL, SENHA)\n",
    "    smtp.send_message(msg)"
   ]
  },
  {
   "cell_type": "markdown",
   "metadata": {},
   "source": [
    "### Enviando Email com Conteúdo HTML"
   ]
  },
  {
   "cell_type": "code",
   "execution_count": null,
   "metadata": {},
   "outputs": [],
   "source": [
    "from email.message import EmailMessage\n",
    "import smtplib\n",
    "\n",
    "EMAIL = 'gabrielfelippe90@gmail.com'\n",
    "SENHA = input('Digite a senha do seu Email: ')\n",
    "\n",
    "contacts = ['gabrielfelippe@outlook.com','akirascientist@gmail.com']\n",
    "\n",
    "msg = EmailMessage()\n",
    "msg['Subject'] = 'Teste'\n",
    "msg['From'] = EMAIL\n",
    "msg['To'] = ', '.join(contacts)\n",
    "\n",
    "msg.set_content('Conteúdo em texto puro')\n",
    "msg.add_alternative(\"\"\"\n",
    "<!DOCTYPE html>\n",
    "<html>\n",
    "    <body>\n",
    "        <h1 style=\"color:MidnightBlue;\">Email escrito em HTML!</h1>\n",
    "    </body>\n",
    "</html>\n",
    "\"\"\", subtype='html')\n",
    "\n",
    "with smtplib.SMTP_SSL('smtp.gmail.com', 465) as smtp:\n",
    "    smtp.login(EMAIL, SENHA)\n",
    "    smtp.send_message(msg)"
   ]
  }
 ],
 "metadata": {
  "kernelspec": {
   "display_name": "Python 3.10.2 ('dom')",
   "language": "python",
   "name": "python3"
  },
  "language_info": {
   "codemirror_mode": {
    "name": "ipython",
    "version": 3
   },
   "file_extension": ".py",
   "mimetype": "text/x-python",
   "name": "python",
   "nbconvert_exporter": "python",
   "pygments_lexer": "ipython3",
   "version": "3.10.2"
  },
  "orig_nbformat": 4,
  "vscode": {
   "interpreter": {
    "hash": "31998cb917190a853c3fd1ae24bdc9afc831ff1caa3d83c63b3cf1ba0cc5525e"
   }
  }
 },
 "nbformat": 4,
 "nbformat_minor": 2
}
