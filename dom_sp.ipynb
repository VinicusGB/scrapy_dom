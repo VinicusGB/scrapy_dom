{
 "cells": [
  {
   "cell_type": "code",
   "execution_count": 1,
   "metadata": {},
   "outputs": [],
   "source": [
    "from datetime import datetime, date, timedelta\n",
    "from functools import reduce\n",
    "from pandas import read_csv, concat\n",
    "import fitz as fz\n",
    "import subprocess\n",
    "from scripts.tools import *"
   ]
  },
  {
   "cell_type": "code",
   "execution_count": 2,
   "metadata": {},
   "outputs": [],
   "source": [
    "class Diretorio():\n",
    "    '''Classe dos diretórios para salvar os dados'''\n",
    "    def __init__(self, published = datetime.now().date()):\n",
    "        self.base = subprocess.os.getcwd()\n",
    "        self.remoto = subprocess.os.path.join(self.base,'querido-diario','data_collection','data','3550308',str(published))\n",
    "        self.local = subprocess.os.path.join(self.base,'outputs_files',str(published))\n",
    "        #self.file_tsv = PurePath.joinpath(self.save,[f for f in Path.iterdir(self.save) if f.endswith(\"tsv\")][0])\n",
    "        #self.files = Path.iterdir(self.data)\n",
    "    def __str__(self):\n",
    "        return self.base\n",
    "    def baixado(self):\n",
    "        '''Verifica o diretório remoto(querido-diario/data_collection/) e se os arquivos foram tratados'''\n",
    "        try:\n",
    "            subprocess.os.listdir(self.remoto)\n",
    "            return print('Diário baixado')\n",
    "        except:\n",
    "            return print('Diário não foi baixado')\n",
    "    def tratado(self):\n",
    "        try: \n",
    "            subprocess.os.listdir(self.local)\n",
    "            return print('Diário foi tratado')\n",
    "        except:\n",
    "            return print('Diário não foi tratado')"
   ]
  },
  {
   "cell_type": "code",
   "execution_count": 3,
   "metadata": {},
   "outputs": [
    {
     "name": "stdout",
     "output_type": "stream",
     "text": [
      "c:\\Projetos\\scrapy_dom\n",
      "c:\\Projetos\\scrapy_dom\\outputs_files\\2022-08-31\n",
      "c:\\Projetos\\scrapy_dom\\querido-diario\\data_collection\\data\\3550308\\2022-08-31\n"
     ]
    }
   ],
   "source": [
    "teste = Diretorio()\n",
    "print(teste.base)\n",
    "print(teste.local)\n",
    "print(teste.remoto)"
   ]
  },
  {
   "cell_type": "code",
   "execution_count": 4,
   "metadata": {},
   "outputs": [],
   "source": [
    "class Remoto():\n",
    "    '''Classe do diretório remoto'''\n",
    "    def __init__(self, published = datetime.now().date()):\n",
    "        subprocess.os.chdir('c:\\Projetos\\scrapy_dom')\n",
    "        self.published = published\n",
    "        self.base = subprocess.os.path.join(subprocess.os.getcwd(),'querido-diario','data_collection')\n",
    "        self.dir = subprocess.os.path.join(self.base,'data','3550308',str(published))\n",
    "        def foi_baixado(self):\n",
    "            '''Método que verfica se os arquivos foram baixados, tratados e lista os arquivos'''\n",
    "            try: return True, subprocess.os.listdir(self.dir)\n",
    "            except: return False, []\n",
    "        self.baixado, self.arquivos_baixados = foi_baixado(self)\n",
    "        def foi_tratado(self):\n",
    "            '''Método para verificar se os arquivos foram tratados'''\n",
    "            if self.baixado == True: return bool(reduce(lambda a,b: (str(a).startswith('pg_',0,3)) + (str(b).startswith('pg_',0,3)), self.arquivos_baixados))\n",
    "            else: return False\n",
    "        self.tratado = foi_tratado(self)\n",
    "    def baixar(self):\n",
    "        subprocess.os.chdir('c:\\Projetos\\scrapy_dom')\n",
    "        try:\n",
    "            [subprocess.os.remove(subprocess.os.path.join(self.dir,arquivo)) for arquivo in self.arquivos_baixados]\n",
    "            subprocess.os.removedirs(self.dir)\n",
    "            print(\"Arquivos apagados\")\n",
    "        except FileNotFoundError:\n",
    "            print(\"Diretório não existe\")\n",
    "            pass   \n",
    "        subprocess.os.chdir(self.base)\n",
    "        print(\"Baixando o diário\")\n",
    "        subprocess.call([\"scrapy\",\"crawl\",\"sp_sao_paulo\",\"-a\",f\"start_date={str(self.published)}\"])\n",
    "        print(\"Diário baixado\")"
   ]
  },
  {
   "cell_type": "code",
   "execution_count": 5,
   "metadata": {},
   "outputs": [
    {
     "name": "stdout",
     "output_type": "stream",
     "text": [
      "c:\\Projetos\\scrapy_dom\\querido-diario\\data_collection\n",
      "c:\\Projetos\\scrapy_dom\\querido-diario\\data_collection\\data\\3550308\\2022-08-27\n",
      "2022-08-27\n",
      "True\n",
      "['03b4e27bb10d24801f8eea2ea102f0e133b73f54.pdf', '0442e5ef80a809db063ffc1d88b42dd41c117804.pdf', '066035cf19bab771f927b0f943b07b0f651367c5.pdf', '067cadb12fe2a6d1fddba5bafdab4addb167b906.pdf', '06e70e1db7fc717227aaf8aa6ed362f53b8a7dbb.pdf', '084bce8acd799cfff9b2c29c07e427b7121b1e5f.pdf', '0953b87df8e281be0ee39bb796f31d254343a47c.pdf', '09a368d47bddce60a4d85a481f59c1bf29f083d8.pdf', '0d5ae194c5631264808998c04e0237e63d117578.pdf', '0eff8dcfa0e511191e46bd1546d0ff6c5b1eafb1.pdf', '11336b9a6d07115909730d184262c34c718aa74a.pdf', '12e607adf968ce7ba18e30b38e873643114fefc6.pdf', '13da9535da3954f0942f488ad53c20d8e7d2701a.pdf', '13dbc605efe80186f51f0cce51311cb2e7258925.pdf', '14ccb1649b8a2150f242b279d49bec3c46a0aa75.pdf', '18a8bcc5c8f6c57d1dbc838714f43880fa40c45d.pdf', '18f8768d288fb4529b11669e7e43b5c321a7683b.pdf', '19503a12543f747f83dc4a0b51087b620d2a30f6.pdf', '1bca35c4d93e79ab80f15e0c588f377d1c00c9b9.pdf', '1d313d11ab72afe87cbd36e46af73d74058ae0bf.pdf', '1e86d88bf793a96c4a1f8d2ffda88cf96740db50.pdf', '1f877624dc1dcb2b0274e5a43efeb8d139f78b46.pdf', '1fd352e78c9a799ccf1b059b0197a60e2574ff51.pdf', '221eb870b66d612eca9512bb767e6809f2977561.pdf', '22b03bf0fa037a33ba8d5cc8425b25f0b7e9eac8.pdf', '24815d8436f01df6c811ccb2b6c577c7015d9f72.pdf', '2877d6d12ef17a08135e6956e1da6710758b5830.pdf', '28cb4cec376df78b1c952845320e9a74e7425a3c.pdf', '2b9bca53186230acdba072a1ff9cd8164f2fda33.pdf', '2f4ef64754b6e2dc4789b84a81222ba6e800de95.pdf', '344a6351a7d90ab1ed5816c85c5069db2de9c437.pdf', '39befadb9beaf1b7d912ac61536fbea6239f2774.pdf', '3e2bb70cf1f3693ec169ee872b946b97e2a6b183.pdf', '4148297ceb2f970751a4390ae2efce396558950d.pdf', '4152aaebce863aa0674b80b7e335bf5b113b0038.pdf', '438e20f26bb21028276204b5ff15b0e2063abce9.pdf', '449abc88cdb354efabdc07fb0d6f7244c7475dc7.pdf', '450e07dd34a6c76e2c1c3175f45e0d753cc92abb.pdf', '457b7d4a4f836df10b61977429cc726f4cc7cde7.pdf', '4963535b1ff014a81e2963f7d6a11a69b13f6e1d.pdf', '4ca1c1a9e0e5189044c984d64b7cd1bd6712ebd2.pdf', '4e5e2962c014c0e92a9d1740d83fcfcb5d98a090.pdf', '4ff97afee20274778672ab1453af012460c7bf82.pdf', '50fbd0ebf367dc5f0157f409d8b275680d4d1eca.pdf', '5167b67778220fcfb083d94abb93bf2f976d862f.pdf', '530b48931fc026e387f3a731247db1c7cd96e0f4.pdf', '53b873e4a774e97f1c887d630a0648b594cfcc42.pdf', '54346acce248e0a8caeb5fe8f3d28ae7151e23c0.pdf', '55a47ceb38b782e90f95bf9fca34f6e681022fd0.pdf', '56002920a9c944b0114c8185ebc1b7509500b82e.pdf', '57897cf7214c062ed58d0cd19a17b2bd4db0b820.pdf', '5795c4cf8f7d4cf2a50b80bb34f3a57df6b9e4f6.pdf', '58276fa1cc676ebf96bdb7da2394c7f4b725847b.pdf', '5b7761e51ebee5503a2bab3df04592b9f0342697.pdf', '5c0514767489dace048235db19fcac73218b8b5a.pdf', '5dd49b3a3b695581e114fd26e0ea8d6701186352.pdf', '5ed7457e63bfc9f35ac6c6af8da1017252bab675.pdf', '5f535429dad7f37e255c0ea2b0e34e6bf4013e68.pdf', '60785991feba1a796c6b07cb72e3accf40475aec.pdf', '616f456cf7442cdb999e04db104412a79d0afadd.pdf', '61e37adc9f2fd03f9d72036bbe221956c1126e32.pdf', '62d52aff7d765b83d3961efa5b0517965a16e112.pdf', '62eda32b4efe12f487366c45736b0ec18d4e8695.pdf', '630145202921162c6c2abb8f50fdcd14e2e58260.pdf', '63fea3077d4ca0092404bcd55e18a7874a4bc7dc.pdf', '65fae7112b924586f768fd7fe3ed0cfaadca3cfa.pdf', '6b88c5a51efc8557c92c5cf951ee5e6c66f732f4.pdf', '6ce78fb9251cb12a2c5e2452a7a1ab6fc91d6362.pdf', '6e2b5dcf300d01cc871d67d45426fa3e1d5f3717.pdf', '739c92c343b10ea6c4539c3b507c601e15fcbbb9.pdf', '74ca469a71a7479e592a339e56cfa0458e2f8c64.pdf', '752c1106f1935404e7f52cf379c469228e6f1d2b.pdf', '75c0783edc91998773dc1854e564ff4aaeb00950.pdf', '77b0cee97057771dc9964702b913f61765eaa674.pdf', '7878f416f323216e4cb6a30563f9be62bcffe26f.pdf', '7c8fd16b217e7be925aca5c6f37d7ff85f1231c0.pdf', '7e4b12f1c565cf4d523c3b196cd47f1550526dba.pdf', '7f1731c15f05cd9cbd0440de2aad96ce474f93bf.pdf', '8399b728cecfc4d4a808a2f6177e5d340ba2aa78.pdf', '83badee6368df735537ed7d21dd768c30bb6cb88.pdf', '84deebdb26e5e46f989ecfc41e7bac0283169a2c.pdf', '869a105deb272282f228067255cf28ae6782ccd5.pdf', '8825aa96b9ad6587547f283129c058d69f744ae5.pdf', '89d9dc84c451ecec65ce066f03317fc027df5c96.pdf', '8a64fa4975f92ff459123fe0b1b24f3c93d938d8.pdf', '8ada836146ed301fbe2292c2006fcb40895eda85.pdf', '8b116673add5d8b5c0b2b66ca66667af7cdeab9a.pdf', '8e58bef5c8c024c21a9fc26ca4c810ab871ba267.pdf', '8f0c04d045dc06f61fbb6692a2fa9bf79a37db46.pdf', '9002fafc2cb9eb5eff426e63756f51a89c814618.pdf', '90f48749292e1e56a88f4a802c01c8deb87e7f74.pdf', '9428e42405331426bb3bc8517a6e2123e9448358.pdf', '94b41fdc85e46d667f5af817a765d8c9c101f90a.pdf', '94dfe49bdbbc6cfbc059e8f8aa8b0d6adf5cbfbd.pdf', '9526cf52b0c8c7289b94ef8833484c9c2ee6e484.pdf', '97f06bcff374984da427936ee721cb941cb4f4b9.pdf', '99ed3e6adb3d2aeb287ad9a872244a928dfb59e4.pdf', '9aaa89f3fbff5ee22c6566cf2af003ef92e7cbee.pdf', '9c0168f4f4db681a55531525281ec8ceca3be7c1.pdf', '9f09ba67b8583b70f2033b68505c72160383d582.pdf', 'a1bf44ae054d68b27b7a42fca62c9861c33debfc.pdf', 'a248ca97a3d506f41b7df9581d424a099f00288c.pdf', 'a43eeb1187e51d02accb1182db1193e4cc799a84.pdf', 'a67e603e2ee1e2542d3775dfb5fea9220afe1da6.pdf', 'a6bab5b4f4670cff166ca57318c1199f5f9a7e21.pdf', 'a976af2ad649e778b8fc733589dc05704d04a73e.pdf', 'ad130c65f1c60eb24e65b0ca57d2825951a34b8b.pdf', 'af9a62ac5a94ef4f7f3d940994f8eb44e277e00c.pdf', 'b28c5287cbe4de5e86b0e12d182e8b9bef9b9beb.pdf', 'b3550f83f3fd71d96aa4c5e7620ee6498c5e23cd.pdf', 'b37240537b2e6c27fcc464f45ccecfa3f5082da5.pdf', 'b4419ecbf37af41841d0ff170a8a623ee85afdc3.pdf', 'b51133882d8d05f2d83774e62a2bea0d43385431.pdf', 'b637a00bb813dc2251ba7af1f9e22b349f54366a.pdf', 'b69f6c5634d0f3a26f9cd90a61256e505c2e8c71.pdf', 'b6a4b3f72f80244b5884eeeadca4a89095c3a53d.pdf', 'b7083b08729285ea0b8e109a8358db7f837dc0a1.pdf', 'b71dd48e4a4ecde48aa7f11f73564c4f7848c014.pdf', 'b82fe7e2c3c1ed0a85cfc3b863ecbf01cbd6c717.pdf', 'ba75b938d1ddd9bdf5749eaacfa138eec09c832c.pdf', 'bcd31548885fba04f8d72d635ade058a7a73c1b0.pdf', 'bce58e3cb7ab758c0fca3cb4feda4331d3a73997.pdf', 'bd7407817939d592e0ce5138bf007a0e91fa8231.pdf', 'bf9e079222f912a067bca1716e7efd7de8c4fb83.pdf', 'c24664198697c70cafcaee883c756a691e183b82.pdf', 'c3d48959fff0fa063976b7c815d6a1d7ab5d30fd.pdf', 'c5381b1a3804d871786a350e0d5132237349c70a.pdf', 'c6810fa2f150d016260079a1df5d960d51286336.pdf', 'c8dc58d893b6ee7509682942a56a5c8c5cbd7d48.pdf', 'c8e17c959fc88a3073f3fd79490cb1c29abf5692.pdf', 'c9ee7586fe58f3a770352aa53f9806497730d186.pdf', 'c9fd2329a5fbbbf6ddadb5c1bbeb6fb51d7fdbb4.pdf', 'ca4378d7faa9bdd11b0856d9afdeebb031d8a5f6.pdf', 'cb879db859848f1abcc7d0fac228f4ef4cb823d6.pdf', 'cdd701b61838eb2c112b9b6e6736d8b4b4f9fcb6.pdf', 'cff385f78050bd5f2b8cb2f3c0313cb897f56416.pdf', 'd20d4e55f8983110d168e937234f77aa596a508e.pdf', 'd5064a929bd3f6d0013a46839b0e2fb3f954512e.pdf', 'd710777ebfe9a53fae963627eca36ffce93b92f6.pdf', 'd95d6393694192f5a581c3c48675c5151b5ec78a.pdf', 'db19f9e375a5b00020f807110d7556bc770b3c4c.pdf', 'dbe76d11b3bdc9c4641df0e76aefeaa20a05eb24.pdf', 'dc6a032b46431bb412b21765ee87cefc399109b1.pdf', 'dc8d033e7064bfd4a501617cc7d3ce6164809917.pdf', 'e3471184803a84314d33d471f0ffe8a73fef449c.pdf', 'e6a9564dd31143ffcbaa4bad2337953c21a66c6b.pdf', 'eaa8f5273c473175ea207841180db683ad62e62d.pdf', 'eb03d67ac45d6ea53dffc70f3e45153f22c0ee78.pdf', 'ebb6c448b9bfcb5ab8006ca6b8d5a97603fbe20e.pdf', 'ede1c7fbe45aae335a6c9a483eba7b95ae890b8f.pdf', 'ee697f18e1548cf5a461d8dc36ed414e09ae903f.pdf', 'f34c9a506685aee4b52182856cb633a12b8c7f54.pdf', 'f407e1f4ba380fd4876ee62398db4ce16fd83e89.pdf', 'f692d989fe354283740d8468822006d38911e791.pdf', 'f809662cbc6c00e3c7fe12655022cb9a524be61c.pdf', 'f9a6fe931a9d8ea466db6e46f17e38d721c5a7e9.pdf', 'f9ae7b803397b60aff8408b7babe3d665e24f537.pdf', 'fa77a891d2e32735847a85ff4e4c8f28c1fcfe4e.pdf', 'fcdb0c464b47ca695e6e434a03c85ca34478906a.pdf']\n",
      "False\n"
     ]
    }
   ],
   "source": [
    "teste = Remoto(date(2022,8,27))\n",
    "print(teste.base)\n",
    "print(teste.dir)\n",
    "print(teste.published)\n",
    "print(teste.baixado)\n",
    "print(teste.arquivos_baixados)\n",
    "print(teste.tratado)"
   ]
  },
  {
   "cell_type": "code",
   "execution_count": 6,
   "metadata": {},
   "outputs": [
    {
     "name": "stdout",
     "output_type": "stream",
     "text": [
      "Arquivos apagados\n",
      "Baixando o diário\n",
      "Diário baixado\n"
     ]
    }
   ],
   "source": [
    "teste.baixar()"
   ]
  },
  {
   "cell_type": "code",
   "execution_count": 7,
   "metadata": {},
   "outputs": [],
   "source": [
    "class Local():\n",
    "    '''Classe do diretório local'''\n",
    "    def __init__(self, published = datetime.now().date()):\n",
    "        self.published = published\n",
    "        self.base = subprocess.os.path.join(subprocess.os.getcwd())\n",
    "        self.dir = subprocess.os.path.join(self.base,'outputs_files',str(published))\n",
    "        def foi_baixado(self):\n",
    "            '''Método que verfica se os arquivos foram baixados, tratados e lista os arquivos'''\n",
    "            try: return True, subprocess.os.listdir(self.dir)\n",
    "            except: return False, []\n",
    "        self.baixado, self.arquivos_baixados = foi_baixado(self)\n",
    "        def foi_tratado(self):\n",
    "                    '''Método para verificar se os arquivos foram tratados'''\n",
    "                    if self.baixado == True: return bool(reduce(lambda a,b: (str(a).startswith('pg_',0,3)) + (str(b).startswith('pg_',0,3)), self.arquivos_baixados))\n",
    "                    else: return False\n",
    "        self.tratado = foi_tratado(self)"
   ]
  },
  {
   "cell_type": "code",
   "execution_count": 8,
   "metadata": {},
   "outputs": [],
   "source": [
    "class DOMSP():\n",
    "    '''Classe do Diário Oficial do Município de São Paulo - (DOM SP)'''\n",
    "    def __init__(self, published = datetime.now().date()):\n",
    "        '''Método que instância o objeto do DOM SP'''\n",
    "        subprocess.os.chdir('c:\\Projetos\\scrapy_dom')\n",
    "        print(f\"Diário Oficial do Município de São Paulo\")\n",
    "        def houve_publicacao(published):\n",
    "            '''Obtém a data atual e retorna uma string: (YYYY-mm-dd)'''\n",
    "            base = subprocess.os.getcwd()\n",
    "            subprocess.os.chdir(base)\n",
    "            feriadosmunicipais = read_csv(subprocess.os.path.join(base,'Feriados','docs','FeriadosMunicipaisBr.csv'),sep=';').query('UF == \"SP\" and NOME_DA_CIDADE == \"São Paulo\"')[['UF','NOME_DA_CIDADE','DIA','MÊS']]\n",
    "            feriadosmunicipais['EVENTO'] = 'Aniversário do Município de São Paulo'\n",
    "            feriadosestaduais = read_csv(subprocess.os.path.join(base,'Feriados','docs','FeriadosEstaduaisBr.csv'),sep=';').query('UF == \"SP\"')\n",
    "            feriadosnacionais = read_csv(subprocess.os.path.join(base,'Feriados','docs','FeriadosNacionaisBr.csv'),sep=';')\n",
    "\n",
    "            feriados = concat([feriadosmunicipais,feriadosestaduais,feriadosnacionais],ignore_index=True)\n",
    "            \n",
    "            while True:\n",
    "                if feriados.query(f'DIA == {published.day} and MÊS == {published.month}')['EVENTO'].count() != 0:\n",
    "                    published = published - timedelta(1)\n",
    "                    print(\"ATENÇÃO: Não houve publicação neste dia. FERIADO na data de solicitação. Data de solicitação ajustada para a última publicação.\")\n",
    "                    published = houve_publicacao(published)\n",
    "                elif (published.weekday() == 0 or published.weekday() == 6) and published <= datetime.now().date():\n",
    "                    if published.weekday() == 0:\n",
    "                        published = published - timedelta(2)\n",
    "                        print(\"ATENÇÃO: Não houve publicação neste dia. Período de publicação do DOM-SP de terça a sábado. Data de solicitação ajustada para a última publicação.\")\n",
    "                        break\n",
    "                    elif published.weekday() == 6:\n",
    "                        published = published - timedelta(1)\n",
    "                        print(\"ATENÇÃO: Não houve publicação neste dia. Período de publicação do DOM-SP de terça a sábado. Data de solicitação ajustada para a última publicação.\")\n",
    "                        break\n",
    "                elif published > datetime.now().date():\n",
    "                    published = houve_publicacao(datetime.now().date())\n",
    "                else:\n",
    "                    published = published\n",
    "                    break\n",
    "            return published\n",
    "        self.published = houve_publicacao(published)\n",
    "        print(f\"Data de publicação: {self.published}\")\n",
    "        self.year = published.year - 1955\n",
    "        self.dir = Diretorio(self.published)\n",
    "        self.remoto = Remoto(self.published)\n",
    "        self.local = Local(self.published)\n",
    "        self.edition = 0\n",
    "        self.pags = 0\n",
    "        self.head = f'São Paulo, {str(self.year)} ({str(self.edition)})'\n",
    "    def __str__(self):\n",
    "        '''Método para quando o objeto e chamado'''\n",
    "        return print(f\"\\\n",
    "        Diário Oficial do Município de São Paulo\\n\\\n",
    "        Data de publicação: {self.published}\\\n",
    "        \")\n",
    "        "
   ]
  },
  {
   "cell_type": "code",
   "execution_count": 15,
   "metadata": {},
   "outputs": [
    {
     "name": "stdout",
     "output_type": "stream",
     "text": [
      "Diário Oficial do Município de São Paulo\n",
      "ATENÇÃO: Não houve publicação neste dia. FERIADO na data de solicitação. Data de solicitação ajustada para a última publicação.\n",
      "Data de publicação: 2021-12-31\n"
     ]
    }
   ],
   "source": [
    "dom_sp = DOMSP(date(2022,1,1))"
   ]
  },
  {
   "cell_type": "code",
   "execution_count": 10,
   "metadata": {},
   "outputs": [
    {
     "data": {
      "text/plain": [
       "'c:\\\\Projetos\\\\scrapy_dom\\\\querido-diario\\\\data_collection\\\\data\\\\3550308\\\\2018-06-30'"
      ]
     },
     "execution_count": 10,
     "metadata": {},
     "output_type": "execute_result"
    }
   ],
   "source": [
    "dom_sp.remoto.dir"
   ]
  },
  {
   "cell_type": "code",
   "execution_count": 11,
   "metadata": {},
   "outputs": [
    {
     "data": {
      "text/plain": [
       "True"
      ]
     },
     "execution_count": 11,
     "metadata": {},
     "output_type": "execute_result"
    }
   ],
   "source": [
    "dom_sp.remoto.baixado"
   ]
  },
  {
   "cell_type": "code",
   "execution_count": 12,
   "metadata": {},
   "outputs": [
    {
     "data": {
      "text/plain": [
       "['0098c495f10d3251f7aa83e4bc113700569b58e7.pdf',\n",
       " '032b201cd764eb66623e2c8c77f7bfda9181a00d.pdf',\n",
       " '07ef8518e0c610ead8ce7e7064eda98a6e190777.pdf',\n",
       " '081f077061615cf13094b5322dfcbae7d4349d4a.pdf',\n",
       " '0a2caa6e78ac23c7e9649c68d18b55e1544f33dd.pdf',\n",
       " '0c3c5a284f66f709c598274ec987857a2531ebf8.pdf',\n",
       " '0fd529b8e156ddc66c3847f3a1f53e0adb8f1946.pdf',\n",
       " '14987f84df4e4167fb85003020361e3eff918709.pdf',\n",
       " '1b956a59ccd5b12e1349290473204f9437fc7a42.pdf',\n",
       " '1c63744f1e4e7386ef26f858bc900f8f7e58379e.pdf',\n",
       " '1f4ad44897094b9bbe79383cb7f92076212750b4.pdf',\n",
       " '2094c7fc868ba50ea9b6d2c0453cad203509b6d5.pdf',\n",
       " '23db96f483a2f68debf32218aec4863520f91e71.pdf',\n",
       " '24f7705c0fa11a63b522fc46a8f40022c440911d.pdf',\n",
       " '262025873b7fc7d74060b3bca0b5404cd655ced7.pdf',\n",
       " '273f2bf5f93ff7f87a5e3a3a2ae2b3ccb5084b0d.pdf',\n",
       " '29ae208e306db9b9accdb8194567e9205bec6fd2.pdf',\n",
       " '2b1234dd2b924620ec761d0f16e8639b6db4ca71.pdf',\n",
       " '2b13c9aa1839bfa1c824a6812fa516c034aba982.pdf',\n",
       " '2b8b09041a19acab0efd3f0194f6d357bd77aad3.pdf',\n",
       " '2bd5e14e878f4a2ee5402b342095c9081658da90.pdf',\n",
       " '2c2328a5a41eee7d533677d9dbe8133ffbaa9b1c.pdf',\n",
       " '2e54bfcc6063599d32baa2c4e346bedf0aad49bb.pdf',\n",
       " '2f03961c62ac4fbf4e72e2ae25edf03d98447464.pdf',\n",
       " '30e16b377512d4936a38ccf0614866a711aea50a.pdf',\n",
       " '36b837372cd9418817991c0db380ff06f8a3b764.pdf',\n",
       " '37f78e5ad4683a1141b781a0f364b46678384bf1.pdf',\n",
       " '39d37f43b5ada204247d02ed2a44a81eaf1f30eb.pdf',\n",
       " '3ba4ffd9a8cdeb296fdf8340d5f76ff7c3efa832.pdf',\n",
       " '3cc144fbe44ca4ba107efea2e4cd3cb941a0c61e.pdf',\n",
       " '3cff33a4f6fb97c2cc867450fa4507d170bd650a.pdf',\n",
       " '43f38d118a0fbe5419e954886f8e3f0ac5a47730.pdf',\n",
       " '4b4026471e2b39ce857357fb2e0b3412507376b6.pdf',\n",
       " '4c08b4f0fffa658262f0c0c8348d4834bd2aa584.pdf',\n",
       " '4fd0d68591409262d19611f0c7db0607c9e1fae0.pdf',\n",
       " '57f13408eaafe3c02c6d07daedf5757664309ef9.pdf',\n",
       " '588587db92e4070982e87fb7bd86f04617696835.pdf',\n",
       " '59200a3c13c4b0c102bf1e8c88f46e00bfd2b49b.pdf',\n",
       " '59760433aca920bbe3e384a8f4e86f3469ad9097.pdf',\n",
       " '59d876f827678ae88a23430e6155c45fb582983b.pdf',\n",
       " '5a1635c836b1b4858e873e7fdd4ff037391272b5.pdf',\n",
       " '5ae7c5f6765fce316450c97bc2d416e9bd2574fd.pdf',\n",
       " '5b141e4cd3fd3f82ce9d069ba356318e9b80d41a.pdf',\n",
       " '5bef215680981c2b55f7bac777739ddaa1984e72.pdf',\n",
       " '5dfe230ee8972a5731687a1b969f2f1e584b1747.pdf',\n",
       " '5f6e09704d4521dc58cb211b64ee470b5ca1fc64.pdf',\n",
       " '648201fb31f0823e62ad8d6440e578a1a4901add.pdf',\n",
       " '68f807ab4b173e88cd77f708319c75624175fb9f.pdf',\n",
       " '69966ee42c7d47fc8845bd6a44f16ad803800b34.pdf',\n",
       " '69e906c8a5a4602f47a6c502f09227e132b89e97.pdf',\n",
       " '6ac1a24d15ba692941d3d80fa3e5fbb16af744f1.pdf',\n",
       " '6b79260cef6e959e3be59fcf20a596ca6d8c1551.pdf',\n",
       " '6b91c7990bb33071ed4b7698219eafbaec320038.pdf',\n",
       " '6bff490557ec8150b9ccc89c5a5bff234c819eab.pdf',\n",
       " '6c6afd6b744cc0dbc638ba3e6ecf52b402750af5.pdf',\n",
       " '6e555d133adf7402314271935b3f391cfaca68a0.pdf',\n",
       " '70b3392b1b74bcf91d3ce9f12e320c0d3378943e.pdf',\n",
       " '740a20263c9504acd1b7cc2e4c844c4f79f523c1.pdf',\n",
       " '79650bea4af42483d0b8c2f25b187e3c6b18bbad.pdf',\n",
       " '79a181c318f03092c7a7ea2edb0a30eab389c0d9.pdf',\n",
       " '7a64b0dc18c1f9bf87044db7c63f5477c6f04ec2.pdf',\n",
       " '7ba770779369df942e64a55a7e581fda0934716a.pdf',\n",
       " '7f247f542bdc66e5b4f2981db63870aced0865d8.pdf',\n",
       " '821da57503092d88feddd48cc3f3714c2be099bb.pdf',\n",
       " '863f244f5f7aaa4543cc913b24cbed0987a88277.pdf',\n",
       " '8de9eb14c7e901980b096da5d7617b451e2734b0.pdf',\n",
       " '9011dcc86f9db2679be867eb85e7041dc81fe1e5.pdf',\n",
       " '96918ddecfe96b3a364951bcd0b8bf781c7bfcc3.pdf',\n",
       " '9729ed2313fbe2e545d6e1e0fe14fdf0f796d92a.pdf',\n",
       " '9bdd63b8412ef76d863c8f605e43e29ad5910b7a.pdf',\n",
       " '9da5a306f52233009af65d361d5d79d645dcc3c0.pdf',\n",
       " '9db76ff364d8199f1db3b882e9d039304961e43c.pdf',\n",
       " '9fa3e8f0faf690d936da4892a69868d6d8bf95f7.pdf',\n",
       " '9fad993870fa894ba09413992918bea173839c3c.pdf',\n",
       " '9fdd614ed87cecf446ab770fbf86c8ed6806fc07.pdf',\n",
       " 'a159133eb2e3a81cce5bcf1b22ba6063f5a2f4d9.pdf',\n",
       " 'a2aae3cb553201e609f85fdb3dfb2a6a60b831fb.pdf',\n",
       " 'a60ef874e998ef5ebb755059d242bc568bc7918e.pdf',\n",
       " 'a75d91991a47614497667a7a864157d720922e05.pdf',\n",
       " 'aeeab603a6561da50eb6f334495f2bb8a291c667.pdf',\n",
       " 'b0ac7265fe8968ea9c28a11e224e8d5f5cf360f4.pdf',\n",
       " 'b13819bde2bc89c520c8294de880491992022882.pdf',\n",
       " 'b1c82104a288ac915886b59fa39b29a7e0f51c50.pdf',\n",
       " 'b8e3ae79f2bbe92cc536f205034098cbca49cc2b.pdf',\n",
       " 'ba5e71d4786a07cf519aeed9182c1be60634975d.pdf',\n",
       " 'bdd03b1784ed0c68c17b0c376d91f9969a414751.pdf',\n",
       " 'c06837089b8684728a69109ad0efeec3336a60d6.pdf',\n",
       " 'c3c801315d0e58e79427717c10e7654bac24b40f.pdf',\n",
       " 'c52bcbd9c38acd634f6d1796b257b06a831c1ff9.pdf',\n",
       " 'c576715dfec75f05e49a610fd5d755e9ec9a0587.pdf',\n",
       " 'c9be80541b2fe052b90a7246f7607f4f7118442c.pdf',\n",
       " 'ca53557198ced91e51f42bc293385dc1c61dc287.pdf',\n",
       " 'ca57d198e21dd171c26d215116be98ad3ffc30c4.pdf',\n",
       " 'cadec80acbe4d0c0542848cbd0fa7c3b1d7f6b6e.pdf',\n",
       " 'cdd4989c52ec0e90570ee366241db7632d9ab29f.pdf',\n",
       " 'd504f5f4245eb6a1f63049ba42a483cd36812ef0.pdf',\n",
       " 'd67763268ca83a961ff1217203da0b3d80a2676c.pdf',\n",
       " 'd709686b990c5fd78b79d70d985245556802a29e.pdf',\n",
       " 'd8cef77418cdf8100a6fe2845306fe823dae3a5d.pdf',\n",
       " 'd9d75a98be1125edee563a7384041805da5d9cf6.pdf',\n",
       " 'da713136022f8d30c03f6d7e79c13eb494a671fb.pdf',\n",
       " 'db4b06349129626d37e2f162dc8e28cbd34530ab.pdf',\n",
       " 'dd2df4d678ba1289b4b31513b5d25803946844f0.pdf',\n",
       " 'de76c275bf27203e1048dcca9ef265ed2f0bd2b3.pdf',\n",
       " 'e0d464a2f0d6c0ee365c57a2d8f40929f126655d.pdf',\n",
       " 'e262abdc35e4ad9446606f81667d1c05792fe024.pdf',\n",
       " 'e2a187ab77f4229ec8b1ff5b13fafe4cc78c18d5.pdf',\n",
       " 'e3b40a99cac6f560a848c67a9927260ad9eb6b53.pdf',\n",
       " 'e425625da4fea1cb6f82da1575a82377e2e4a417.pdf',\n",
       " 'e9052c0e7cae194a197179f95262d1753f78753d.pdf',\n",
       " 'ecba9b089ed33585fb10fd9f38a163810e4ff846.pdf',\n",
       " 'ee7f3aa2f8c8786424b8c7f1d8b8589927a13842.pdf',\n",
       " 'eedea035d4a20061e68d4d80d3e20d10cc7d29d9.pdf',\n",
       " 'f022c48de76c2b860a324b7573eb474de949abea.pdf',\n",
       " 'f07697857f9002f71e3bc786b609e5a56db83a5e.pdf',\n",
       " 'f11de7eb31ae3d130a48fdd3a454ed3de2c05382.pdf',\n",
       " 'f230c0eb4a8b719c6bbaa55994a349933a67a1d9.pdf',\n",
       " 'f2f4e687c43a6aa6ecd8170307a85ef58915fe44.pdf',\n",
       " 'f985c992c14303d686bf66f7818f211dbd877c0c.pdf',\n",
       " 'fa4a292602a108a5f4f047fb8b56d9b143b44b31.pdf',\n",
       " 'fad5c02a519ce7abb547ad56290f1e6a2bc86447.pdf',\n",
       " 'fcf3ff0c13e4b8e681bfed3b4d5752a6ccad8450.pdf']"
      ]
     },
     "execution_count": 12,
     "metadata": {},
     "output_type": "execute_result"
    }
   ],
   "source": [
    "dom_sp.remoto.arquivos_baixados"
   ]
  },
  {
   "cell_type": "code",
   "execution_count": 13,
   "metadata": {},
   "outputs": [
    {
     "data": {
      "text/plain": [
       "False"
      ]
     },
     "execution_count": 13,
     "metadata": {},
     "output_type": "execute_result"
    }
   ],
   "source": [
    "dom_sp.remoto.tratado"
   ]
  },
  {
   "cell_type": "code",
   "execution_count": 14,
   "metadata": {},
   "outputs": [
    {
     "name": "stdout",
     "output_type": "stream",
     "text": [
      "Arquivos apagados\n",
      "Baixando o diário\n",
      "Diário baixado\n"
     ]
    }
   ],
   "source": [
    "dom_sp.remoto.baixar()"
   ]
  },
  {
   "cell_type": "code",
   "execution_count": null,
   "metadata": {},
   "outputs": [],
   "source": [
    "from scripts.tools import consulta_dom_sp"
   ]
  },
  {
   "cell_type": "code",
   "execution_count": null,
   "metadata": {},
   "outputs": [],
   "source": [
    "pesquisa = consulta_dom_sp(\"marco simões da silva\")"
   ]
  },
  {
   "cell_type": "code",
   "execution_count": null,
   "metadata": {},
   "outputs": [],
   "source": [
    "from scripts import *"
   ]
  },
  {
   "cell_type": "code",
   "execution_count": null,
   "metadata": {},
   "outputs": [],
   "source": [
    "pesquisa = consulta_dom_sp(\"marco simões da silva\")"
   ]
  },
  {
   "cell_type": "code",
   "execution_count": null,
   "metadata": {},
   "outputs": [],
   "source": [
    "\n",
    "def consulta_dom_sp(termo):\n",
    "    url_busca_dom_sp = f\"http://www.docidadesp.imprensaoficial.com.br/ResultadoBusca.aspx?PalavraChave={termo}&Caderno=&dtInicio=\"\n",
    "    response_dom_sp = requests.get(url_busca_dom_sp)\n",
    "    return response_dom_sp"
   ]
  },
  {
   "cell_type": "code",
   "execution_count": null,
   "metadata": {},
   "outputs": [],
   "source": []
  },
  {
   "cell_type": "code",
   "execution_count": null,
   "metadata": {},
   "outputs": [],
   "source": [
    "pesquisa = consulta_dom_sp(\"marco simões da silva\")"
   ]
  },
  {
   "cell_type": "code",
   "execution_count": null,
   "metadata": {},
   "outputs": [],
   "source": [
    "pesquisa.content"
   ]
  },
  {
   "cell_type": "code",
   "execution_count": null,
   "metadata": {},
   "outputs": [],
   "source": []
  }
 ],
 "metadata": {
  "kernelspec": {
   "display_name": "Python 3.10.2 ('dom')",
   "language": "python",
   "name": "python3"
  },
  "language_info": {
   "codemirror_mode": {
    "name": "ipython",
    "version": 3
   },
   "file_extension": ".py",
   "mimetype": "text/x-python",
   "name": "python",
   "nbconvert_exporter": "python",
   "pygments_lexer": "ipython3",
   "version": "3.10.2"
  },
  "orig_nbformat": 4,
  "vscode": {
   "interpreter": {
    "hash": "31998cb917190a853c3fd1ae24bdc9afc831ff1caa3d83c63b3cf1ba0cc5525e"
   }
  }
 },
 "nbformat": 4,
 "nbformat_minor": 2
}
