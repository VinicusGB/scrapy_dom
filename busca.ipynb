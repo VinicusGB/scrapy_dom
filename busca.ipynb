{
 "cells": [
  {
   "cell_type": "markdown",
   "metadata": {},
   "source": [
    "# Busca termos no Diário Oficial"
   ]
  },
  {
   "cell_type": "code",
   "execution_count": null,
   "metadata": {},
   "outputs": [],
   "source": [
    "termo = \"marco simões da silva\"\n",
    "url_busca_dou = f\"https://www.in.gov.br/consulta/-/buscar/dou?q={termo}&s=todos&exactDate=all&sortType=0\"\n",
    "url_busca_dom_sp = f\"http://www.docidadesp.imprensaoficial.com.br/ResultadoBusca.aspx?PalavraChave={termo}&Caderno=&dtInicio=\""
   ]
  },
  {
   "cell_type": "code",
   "execution_count": null,
   "metadata": {},
   "outputs": [],
   "source": [
    "import requests"
   ]
  },
  {
   "cell_type": "code",
   "execution_count": null,
   "metadata": {},
   "outputs": [],
   "source": [
    "# <div class=\"resultado\">\n",
    "response_dou = requests.get(url_busca_dou)"
   ]
  },
  {
   "cell_type": "code",
   "execution_count": null,
   "metadata": {},
   "outputs": [],
   "source": [
    "# <div class=\"ResultadoItem\">\n",
    "response_dom_sp = requests.get(url_busca_dom_sp)"
   ]
  },
  {
   "cell_type": "code",
   "execution_count": null,
   "metadata": {},
   "outputs": [],
   "source": [
    "print(response_dou.url)\n",
    "print(response_dom_sp.url)"
   ]
  },
  {
   "cell_type": "code",
   "execution_count": null,
   "metadata": {},
   "outputs": [],
   "source": [
    "response_dou.content"
   ]
  },
  {
   "cell_type": "code",
   "execution_count": null,
   "metadata": {},
   "outputs": [],
   "source": [
    "response_dom_sp.content"
   ]
  },
  {
   "cell_type": "code",
   "execution_count": null,
   "metadata": {},
   "outputs": [],
   "source": []
  }
 ],
 "metadata": {
  "kernelspec": {
   "display_name": "Python 3.10.2 ('dom')",
   "language": "python",
   "name": "python3"
  },
  "language_info": {
   "codemirror_mode": {
    "name": "ipython",
    "version": 3
   },
   "file_extension": ".py",
   "mimetype": "text/x-python",
   "name": "python",
   "nbconvert_exporter": "python",
   "pygments_lexer": "ipython3",
   "version": "3.10.2"
  },
  "orig_nbformat": 4,
  "vscode": {
   "interpreter": {
    "hash": "31998cb917190a853c3fd1ae24bdc9afc831ff1caa3d83c63b3cf1ba0cc5525e"
   }
  }
 },
 "nbformat": 4,
 "nbformat_minor": 2
}
