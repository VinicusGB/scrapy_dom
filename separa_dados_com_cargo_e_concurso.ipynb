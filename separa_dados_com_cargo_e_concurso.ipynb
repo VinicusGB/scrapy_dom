{
 "cells": [
  {
   "cell_type": "code",
   "execution_count": 2,
   "metadata": {},
   "outputs": [],
   "source": [
    "import fitz as fz\n",
    "\n",
    "with fz.open(\"dados/remocao2019.pdf\") as pdf:\n",
    "    conteudo = \"\"\n",
    "    for pagina in pdf:\n",
    "        conteudo += pagina.get_text()"
   ]
  },
  {
   "cell_type": "code",
   "execution_count": 1,
   "metadata": {},
   "outputs": [
    {
     "ename": "NameError",
     "evalue": "name 'conteudo' is not defined",
     "output_type": "error",
     "traceback": [
      "\u001b[1;31m---------------------------------------------------------------------------\u001b[0m",
      "\u001b[1;31mNameError\u001b[0m                                 Traceback (most recent call last)",
      "\u001b[1;32mC:\\Users\\VINICI~2.GOM\\AppData\\Local\\Temp/ipykernel_11552/3733975429.py\u001b[0m in \u001b[0;36m<module>\u001b[1;34m\u001b[0m\n\u001b[0;32m      1\u001b[0m \u001b[1;31m#Localizando o início da tabela de dados\u001b[0m\u001b[1;33m\u001b[0m\u001b[1;33m\u001b[0m\u001b[0m\n\u001b[1;32m----> 2\u001b[1;33m \u001b[0mindice_dados\u001b[0m \u001b[1;33m=\u001b[0m \u001b[0mconteudo\u001b[0m\u001b[1;33m.\u001b[0m\u001b[0mfind\u001b[0m\u001b[1;33m(\u001b[0m\u001b[1;34m'CONCURSO:'\u001b[0m\u001b[1;33m)\u001b[0m\u001b[1;33m\u001b[0m\u001b[1;33m\u001b[0m\u001b[0m\n\u001b[0m\u001b[0;32m      3\u001b[0m \u001b[1;33m\u001b[0m\u001b[0m\n\u001b[0;32m      4\u001b[0m \u001b[0mcabecalho_dom\u001b[0m \u001b[1;33m=\u001b[0m \u001b[0mconteudo\u001b[0m\u001b[1;33m[\u001b[0m\u001b[1;33m:\u001b[0m\u001b[0mindice_dados\u001b[0m\u001b[1;33m-\u001b[0m\u001b[1;36m1\u001b[0m\u001b[1;33m]\u001b[0m\u001b[1;33m.\u001b[0m\u001b[0mreplace\u001b[0m\u001b[1;33m(\u001b[0m\u001b[1;34m'\\n'\u001b[0m\u001b[1;33m,\u001b[0m\u001b[1;34m' '\u001b[0m\u001b[1;33m)\u001b[0m\u001b[1;33m\u001b[0m\u001b[1;33m\u001b[0m\u001b[0m\n\u001b[0;32m      5\u001b[0m \u001b[0mdados\u001b[0m \u001b[1;33m=\u001b[0m \u001b[0mconteudo\u001b[0m\u001b[1;33m[\u001b[0m\u001b[0mindice_dados\u001b[0m\u001b[1;33m:\u001b[0m\u001b[1;33m]\u001b[0m\u001b[1;33m\u001b[0m\u001b[1;33m\u001b[0m\u001b[0m\n",
      "\u001b[1;31mNameError\u001b[0m: name 'conteudo' is not defined"
     ]
    }
   ],
   "source": [
    "#Localizando o início da tabela de dados\n",
    "indice_dados = conteudo.find('CONCURSO:')\n",
    "\n",
    "cabecalho_dom = conteudo[:indice_dados-1].replace('\\n',' ')\n",
    "dados = conteudo[indice_dados:]\n",
    "\n",
    "dados = dados.replace('\\n',' ')\n",
    "dados = dados.replace(' - ',' ')\n",
    "dados = dados.replace('- ','-')\n",
    "dados = dados.replace(' -', '-')\n",
    "#dados = dados.replace('CONAE-','CONAE ')\n",
    "\n",
    "col = 1\n",
    "position = 0\n",
    "position_cargo = -1\n",
    "position_concurso = -1\n",
    "position_next = -1\n",
    "separadados = dados\n",
    "concurso = ''\n",
    "cargo = ''\n",
    "linhas = \"REG.FUN;ID_CARGO_ANTIGO;ID_CARGO_NOVO;NOME;ID_DE;DE;ID_PARA;PARA;CONCURSO;CARGO\\n\""
   ]
  },
  {
   "cell_type": "code",
   "execution_count": 3,
   "metadata": {},
   "outputs": [
    {
     "ename": "IndentationError",
     "evalue": "unexpected indent (Temp/ipykernel_10776/3741285513.py, line 11)",
     "output_type": "error",
     "traceback": [
      "\u001b[1;36m  File \u001b[1;32m\"C:\\Users\\VINICI~2.GOM\\AppData\\Local\\Temp/ipykernel_10776/3741285513.py\"\u001b[1;36m, line \u001b[1;32m11\u001b[0m\n\u001b[1;33m    cargo = (';' + cargo + ';' + concurso).replace('\\n',' ')\u001b[0m\n\u001b[1;37m    ^\u001b[0m\n\u001b[1;31mIndentationError\u001b[0m\u001b[1;31m:\u001b[0m unexpected indent\n"
     ]
    }
   ],
   "source": [
    "while separadados.find('-') != -1:\n",
    "    if col == 1:\n",
    "        position = separadados.find('-')\n",
    "        if separadados[:position].find('CARGO=') != -1:\n",
    "                position_cargo = separadados[:position].find('CARGO=')\n",
    "                cargo = separadados[position_cargo+6:position-6]\n",
    "                if separadados[:position].find('CONCURSO:') != -1:\n",
    "                        position_concurso = separadados[:position].find('CONCURSO:')\n",
    "                        concurso = separadados[position_concurso+9:position_cargo]\n",
    "        if position != -1 and separadados[position-1].isnumeric() and separadados[position+1].isnumeric():\n",
    "                cargo = (';' + cargo + ';' + concurso).replace('\\n',' ')\n",
    "                info = separadados[position-7:position+5]\n",
    "                info = info.strip()\n",
    "                info = info.replace('\\n', ' ')\n",
    "                info = info.replace('-', ';')\n",
    "                linhas = linhas + info + ';'\n",
    "                #linha.append(info)\n",
    "                print(f'coluna 01: {info}')\n",
    "                separadados = separadados[position+6:]\n",
    "                #print(separadados)\n",
    "                #break\n",
    "                col +=1\n",
    "        else:\n",
    "            separadados = separadados.replace('-', ' ',1)\n",
    "            continue\n",
    "    elif col  == 2:\n",
    "        position = separadados.find('-')\n",
    "        if position != -1 and separadados[position-1].isnumeric():\n",
    "                info = separadados[0:position-6]\n",
    "                info = info.strip()\n",
    "                info = info.replace('\\n', ' ')\n",
    "                linhas = linhas + info + ';'\n",
    "                #linha.append(info)\n",
    "                print(f'coluna 02: {info}')\n",
    "                separadados = separadados[position-6:]\n",
    "                #print(separadados)\n",
    "                #break\n",
    "                col +=1\n",
    "        else:\n",
    "            separadados = separadados.replace('-', ' ',1)\n",
    "            continue\n",
    "    elif col  == 3:\n",
    "        position = separadados.find('-')\n",
    "        if position != -1 and separadados[position-1].isnumeric():\n",
    "                separadados = separadados.replace('-','*',1)\n",
    "                position_next = separadados.find('-')\n",
    "                info = separadados[0:position_next-6]\n",
    "                info = info.strip()\n",
    "                info = info.replace('*',';')\n",
    "                info = info.replace('\\n',' ')\n",
    "                linhas = linhas + info + ';'\n",
    "                #linha.append(info)\n",
    "                print(f'coluna 03: {info}')\n",
    "                separadados = separadados[position_next-6:]\n",
    "                #print(separadados)\n",
    "                #break\n",
    "                col +=1\n",
    "        else:\n",
    "            separadados = separadados.replace('-', ' ',1)\n",
    "            continue\n",
    "    elif col  == 4:\n",
    "        position = separadados.find('-')\n",
    "        if position != -1 and separadados[position-1].isnumeric():\n",
    "                separadados = separadados.replace('-','*',1)\n",
    "                position_next = separadados.find('-')\n",
    "                info = separadados[0:position_next-7]\n",
    "                info = info.strip()\n",
    "                info = info.replace('*',';')\n",
    "                info = info.replace('\\n',' ')\n",
    "                linhas = linhas + info + cargo +'\\n'\n",
    "                #linha.append(info)\n",
    "                print(f'coluna 04: {info}\\ncoluna 05: {cargo}')\n",
    "                print(linhas)\n",
    "                separadados = separadados[position+1:]\n",
    "                #print(separadados)\n",
    "                #break\n",
    "                col = 1\n",
    "        else:\n",
    "            separadados = separadados.replace('-', ' ',1)\n",
    "            continue"
   ]
  },
  {
   "cell_type": "code",
   "execution_count": 4,
   "metadata": {},
   "outputs": [],
   "source": [
    "#arquivo = open(\"teste2.csv\", \"a\", encoding=\"utf-8\")\n",
    "#arquivo.write(linhas)\n",
    "\n",
    "with open(\"teste3.csv\",\"w\",encoding=\"utf-8\") as arquivo:\n",
    "    arquivo.write(linhas)"
   ]
  },
  {
   "cell_type": "code",
   "execution_count": null,
   "metadata": {},
   "outputs": [],
   "source": []
  }
 ],
 "metadata": {
  "interpreter": {
   "hash": "ef796e1e7024433d19305a7ffeb65115dd8f1e6a355f1f9a5c3ca9ca67053e84"
  },
  "kernelspec": {
   "display_name": "Python 3.8.12 64-bit ('base': conda)",
   "language": "python",
   "name": "python3"
  },
  "language_info": {
   "codemirror_mode": {
    "name": "ipython",
    "version": 3
   },
   "file_extension": ".py",
   "mimetype": "text/x-python",
   "name": "python",
   "nbconvert_exporter": "python",
   "pygments_lexer": "ipython3",
   "version": "3.9.7"
  },
  "orig_nbformat": 4
 },
 "nbformat": 4,
 "nbformat_minor": 2
}
