{
 "cells": [
  {
   "cell_type": "markdown",
   "metadata": {},
   "source": [
    "# Planilhas SFMSP"
   ]
  },
  {
   "cell_type": "markdown",
   "metadata": {},
   "source": [
    "**Problema:** Estrair os dados de arquivos PDF. O arquivo é dividido em duas partes:\n",
    "- Cabeçalho: Dados pessoal do servidor\n",
    "- Tabela: Dados de insalubridade mensal divido em duas partes:\n",
    "  - Valor Recebido: INSAL. %, VALOR, 6ª PTE, FÉRIAS, Q. DIAS  \n",
    "  - Valor Devido: V. INSAL., 6ªPTE, FÉRIAS, A RECEB."
   ]
  },
  {
   "cell_type": "markdown",
   "metadata": {},
   "source": [
    "## Bibliotecas"
   ]
  },
  {
   "cell_type": "code",
   "execution_count": 376,
   "metadata": {},
   "outputs": [],
   "source": [
    "import os\n",
    "import re\n",
    "import tabula\n",
    "import fitz as fz\n",
    "from random import random"
   ]
  },
  {
   "cell_type": "markdown",
   "metadata": {},
   "source": [
    "## Código"
   ]
  },
  {
   "cell_type": "markdown",
   "metadata": {},
   "source": [
    "### Diretórios"
   ]
  },
  {
   "cell_type": "code",
   "execution_count": 377,
   "metadata": {},
   "outputs": [],
   "source": [
    "BASE_DIR = os.getcwd()\n",
    "DATA_DIR = f'{BASE_DIR}\\\\data'\n",
    "DATA_FILES = os.listdir(DATA_DIR)\n",
    "total_itens = len(DATA_FILES)"
   ]
  },
  {
   "cell_type": "markdown",
   "metadata": {},
   "source": [
    "### Ler conteúdo do arquivo"
   ]
  },
  {
   "cell_type": "code",
   "execution_count": 378,
   "metadata": {},
   "outputs": [],
   "source": [
    "def ler_dados(DATA_FILE):\n",
    "        with fz.open(f'{DATA_DIR}\\\\{DATA_FILE}') as file:\n",
    "                context = ''\n",
    "                for page in file:\n",
    "                        context += page.get_text()\n",
    "        return context                      "
   ]
  },
  {
   "cell_type": "code",
   "execution_count": 383,
   "metadata": {},
   "outputs": [],
   "source": [
    "def extrai_tabela(file,cpf,id):\n",
    "    pg1,pg2 = tabula.read_pdf_with_template(f'{DATA_DIR}\\\\{file}',template_path=f'{BASE_DIR}\\\\tabula2.json')\n",
    "    if pg1['Unnamed: 0'].isna().count() == len(pg1['Unnamed: 0']) and len(pg1.columns) == 13:\n",
    "        del pg1['Unnamed: 0']\n",
    "    colunas1 = ['MÊS', 'Unnamed: 0', 'Unnamed: 1', 'INSAL. %', 'VALOR', '6a PTE','FÉRIAS', 'Q. DIAS', 'B-01', 'V. INSAL.', '6aPTE', 'FÉRIAS.1','A RECEB.']\n",
    "    colunas2 = ['MÊS', 'Unnamed: 1', 'INSAL. %', 'VALOR', '6a PTE','FÉRIAS', 'Q. DIAS', 'B-01', 'V. INSAL.', '6aPTE', 'FÉRIAS.1','A RECEB.']\n",
    "    pg2.columns = colunas2\n",
    "    pg1.set_index('MÊS', inplace = True)\n",
    "    pg2.set_index('MÊS', inplace = True)\n",
    "    pg = pg1.append(pg2)\n",
    "    pg['CPF'] = cpf\n",
    "    pg['ID'] = id\n",
    "    return pg"
   ]
  },
  {
   "cell_type": "markdown",
   "metadata": {},
   "source": [
    "### Extrair informações do cabeçalho"
   ]
  },
  {
   "cell_type": "code",
   "execution_count": 384,
   "metadata": {},
   "outputs": [],
   "source": [
    "def extrai_cabecalho(context,id,file):\n",
    "    #print(context)\n",
    "    info_data = context\n",
    "    nome = info_data[:info_data.find(\"RF:\")].replace('NOME:','').strip()\n",
    "    info_data = info_data[info_data.find(\"RF:\"):]\n",
    "    #print(nome)\n",
    "    rf = (';').join(info_data[:info_data.find(\"CPF:\")].replace('RF:','').strip().split('/'))\n",
    "    info_data = info_data[info_data.find(\"CPF:\"):]\n",
    "    #print(rf)\n",
    "    cpf = info_data[:info_data.find(\"Data Nascto.:\")].replace('CPF:','').replace(' ','').replace('.','').replace('-','').strip()\n",
    "    info_data = info_data[info_data.find(\"Data Nascto.:\"):]\n",
    "    #print(cpf)\n",
    "    nascimento = info_data[:info_data.find(\"Proc. Jud. S/nº\")].replace('Data Nascto.:','').strip()\n",
    "    info_data = info_data[info_data.find(\"Proc. Jud. S/nº\"):]\n",
    "    #print(nascimento)\n",
    "    judicial = info_data[:info_data.find(\"P.SEI.\")].replace('Proc. Jud. S/nº','').strip()\n",
    "    info_data = info_data[info_data.find(\"P.SEI.\"):]\n",
    "    #print(judicial)\n",
    "    sei = info_data[:info_data.find(\"Demonstrativos dos valores\")].replace('P.SEI.','').strip()\n",
    "    info_data = info_data[info_data.find(\"Demonstrativos dos valores\"):]\n",
    "    #print(sei)\n",
    "    obs2 = info_data[:info_data.find(\"Período:\")].replace('\\n',' ').strip()\n",
    "    info_data = info_data[info_data.find(\"Período:\"):]\n",
    "    #print(obs2)\n",
    "    periodo = (';').join(info_data[:info_data.find(\"Situação funcional\")].replace('Período:',' ').replace(' ','').strip().split('a'))\n",
    "    info_data = info_data[info_data.find(\"Situação funcional\"):]\n",
    "    #print(periodo)\n",
    "    situacao = info_data[:info_data.find(\"Obs:\")].replace('Situação funcional','').replace(':','').replace(' ','').strip()\n",
    "    info_data = info_data[info_data.find(\"Obs:\"):]\n",
    "    #print(situacao)\n",
    "    obs = info_data[:info_data.find(\"\\n\")].replace('Obs:','').replace('\\n',' ')\n",
    "    info_data = info_data[info_data.find(\"\\n\"):]\n",
    "    info_tabela = info_data\n",
    "    #print(obs)\n",
    "    info_data = f'{id};{nome};{rf};{cpf};{nascimento};{judicial};{sei};{periodo};{situacao};{obs2};{obs}'.replace('\\n',' ')\n",
    "    info_data = f'{info_data};\\n'\n",
    "    #print(tabela)\n",
    "    tabela = extrai_tabela(file,cpf,id)\n",
    "    print(nome)\n",
    "    return info_data, tabela\n"
   ]
  },
  {
   "cell_type": "markdown",
   "metadata": {},
   "source": [
    "### Salva arquivos"
   ]
  },
  {
   "cell_type": "code",
   "execution_count": 385,
   "metadata": {},
   "outputs": [],
   "source": [
    "def save_file(SAVE_DIR,CONTEXT,NAME_FILE,FORMAT='txt'):\n",
    "        '''\n",
    "                Cria um arquivo com o conteúdo e salva na pasta.\n",
    "                        SAVE_DIR  : Diretório para salvar o conteúdo\n",
    "                        CONTEXT   : Conteúdo a ser salvo\n",
    "                        NAME_FILE : Nome do arquivo para ser salvo\n",
    "                        FORMAT    : Formato do arquivo final\n",
    "        '''\n",
    "\n",
    "        with open(f\"{SAVE_DIR}\\\\{NAME_FILE}.{FORMAT}\",\"a\",encoding='utf-8') as output_file:\n",
    "                output_file.write(CONTEXT)\n",
    "        \n",
    "        return f\"{SAVE_DIR}\\\\{NAME_FILE}.{FORMAT}\""
   ]
  },
  {
   "cell_type": "markdown",
   "metadata": {},
   "source": [
    "### Arquivo final"
   ]
  },
  {
   "cell_type": "code",
   "execution_count": 386,
   "metadata": {},
   "outputs": [
    {
     "name": "stderr",
     "output_type": "stream",
     "text": [
      "C:\\Users\\vinicius.gomes\\AppData\\Local\\Temp\\ipykernel_9740\\3355230442.py:10: FutureWarning: The frame.append method is deprecated and will be removed from pandas in a future version. Use pandas.concat instead.\n",
      "  pg = pg1.append(pg2)\n",
      "\n"
     ]
    },
    {
     "name": "stdout",
     "output_type": "stream",
     "text": [
      "ADENILSON SOUZA COSTA\n",
      "1\n"
     ]
    },
    {
     "name": "stderr",
     "output_type": "stream",
     "text": [
      "C:\\Users\\vinicius.gomes\\AppData\\Local\\Temp\\ipykernel_9740\\3355230442.py:10: FutureWarning: The frame.append method is deprecated and will be removed from pandas in a future version. Use pandas.concat instead.\n",
      "  pg = pg1.append(pg2)\n",
      "\n"
     ]
    },
    {
     "name": "stdout",
     "output_type": "stream",
     "text": [
      "ADEVAIR PEREIRA DA SILVA\n",
      "2\n"
     ]
    },
    {
     "name": "stderr",
     "output_type": "stream",
     "text": [
      "C:\\Users\\vinicius.gomes\\AppData\\Local\\Temp\\ipykernel_9740\\3355230442.py:10: FutureWarning: The frame.append method is deprecated and will be removed from pandas in a future version. Use pandas.concat instead.\n",
      "  pg = pg1.append(pg2)\n",
      "\n"
     ]
    },
    {
     "name": "stdout",
     "output_type": "stream",
     "text": [
      "ALBECI SOARES MENDES\n",
      "3\n"
     ]
    },
    {
     "name": "stderr",
     "output_type": "stream",
     "text": [
      "C:\\Users\\vinicius.gomes\\AppData\\Local\\Temp\\ipykernel_9740\\3355230442.py:10: FutureWarning: The frame.append method is deprecated and will be removed from pandas in a future version. Use pandas.concat instead.\n",
      "  pg = pg1.append(pg2)\n",
      "\n"
     ]
    },
    {
     "name": "stdout",
     "output_type": "stream",
     "text": [
      "ALFREDO PARDINI NETO\n",
      "4\n"
     ]
    },
    {
     "name": "stderr",
     "output_type": "stream",
     "text": [
      "C:\\Users\\vinicius.gomes\\AppData\\Local\\Temp\\ipykernel_9740\\3355230442.py:10: FutureWarning: The frame.append method is deprecated and will be removed from pandas in a future version. Use pandas.concat instead.\n",
      "  pg = pg1.append(pg2)\n",
      "\n"
     ]
    },
    {
     "name": "stdout",
     "output_type": "stream",
     "text": [
      "ALOISIO OLINTHO DE O.ROCHA\n",
      "5\n"
     ]
    },
    {
     "name": "stderr",
     "output_type": "stream",
     "text": [
      "C:\\Users\\vinicius.gomes\\AppData\\Local\\Temp\\ipykernel_9740\\3355230442.py:10: FutureWarning: The frame.append method is deprecated and will be removed from pandas in a future version. Use pandas.concat instead.\n",
      "  pg = pg1.append(pg2)\n",
      "\n"
     ]
    },
    {
     "name": "stdout",
     "output_type": "stream",
     "text": [
      "ANDERSON LIMA DOS S.FERREIRA\n",
      "6\n"
     ]
    },
    {
     "name": "stderr",
     "output_type": "stream",
     "text": [
      "C:\\Users\\vinicius.gomes\\AppData\\Local\\Temp\\ipykernel_9740\\3355230442.py:10: FutureWarning: The frame.append method is deprecated and will be removed from pandas in a future version. Use pandas.concat instead.\n",
      "  pg = pg1.append(pg2)\n",
      "\n"
     ]
    },
    {
     "name": "stdout",
     "output_type": "stream",
     "text": [
      "ANTONIO CARLOS DA ROSA\n",
      "7\n"
     ]
    },
    {
     "name": "stderr",
     "output_type": "stream",
     "text": [
      "C:\\Users\\vinicius.gomes\\AppData\\Local\\Temp\\ipykernel_9740\\3355230442.py:10: FutureWarning: The frame.append method is deprecated and will be removed from pandas in a future version. Use pandas.concat instead.\n",
      "  pg = pg1.append(pg2)\n",
      "\n"
     ]
    },
    {
     "name": "stdout",
     "output_type": "stream",
     "text": [
      "ANTONIO CARLOS DA SILVA\n",
      "8\n"
     ]
    },
    {
     "name": "stderr",
     "output_type": "stream",
     "text": [
      "C:\\Users\\vinicius.gomes\\AppData\\Local\\Temp\\ipykernel_9740\\3355230442.py:10: FutureWarning: The frame.append method is deprecated and will be removed from pandas in a future version. Use pandas.concat instead.\n",
      "  pg = pg1.append(pg2)\n",
      "\n"
     ]
    },
    {
     "name": "stdout",
     "output_type": "stream",
     "text": [
      "ANTONIO CARLOS DIAS LIMA\n",
      "9\n"
     ]
    },
    {
     "name": "stderr",
     "output_type": "stream",
     "text": [
      "C:\\Users\\vinicius.gomes\\AppData\\Local\\Temp\\ipykernel_9740\\3355230442.py:10: FutureWarning: The frame.append method is deprecated and will be removed from pandas in a future version. Use pandas.concat instead.\n",
      "  pg = pg1.append(pg2)\n",
      "\n"
     ]
    },
    {
     "name": "stdout",
     "output_type": "stream",
     "text": [
      "ANTONIO RAFAEL DE MIRANDA\n",
      "10\n"
     ]
    },
    {
     "name": "stderr",
     "output_type": "stream",
     "text": [
      "C:\\Users\\vinicius.gomes\\AppData\\Local\\Temp\\ipykernel_9740\\3355230442.py:10: FutureWarning: The frame.append method is deprecated and will be removed from pandas in a future version. Use pandas.concat instead.\n",
      "  pg = pg1.append(pg2)\n",
      "\n"
     ]
    },
    {
     "name": "stdout",
     "output_type": "stream",
     "text": [
      "ANTONIO SANTOS DOS ANJOS\n",
      "11\n"
     ]
    },
    {
     "name": "stderr",
     "output_type": "stream",
     "text": [
      "C:\\Users\\vinicius.gomes\\AppData\\Local\\Temp\\ipykernel_9740\\3355230442.py:10: FutureWarning: The frame.append method is deprecated and will be removed from pandas in a future version. Use pandas.concat instead.\n",
      "  pg = pg1.append(pg2)\n",
      "\n"
     ]
    },
    {
     "name": "stdout",
     "output_type": "stream",
     "text": [
      "APARECIDO RODRIGUES ALVES\n",
      "12\n"
     ]
    },
    {
     "name": "stderr",
     "output_type": "stream",
     "text": [
      "C:\\Users\\vinicius.gomes\\AppData\\Local\\Temp\\ipykernel_9740\\3355230442.py:10: FutureWarning: The frame.append method is deprecated and will be removed from pandas in a future version. Use pandas.concat instead.\n",
      "  pg = pg1.append(pg2)\n",
      "\n"
     ]
    },
    {
     "name": "stdout",
     "output_type": "stream",
     "text": [
      "ARLINDO RODRIGUES ALVES\n",
      "13\n"
     ]
    },
    {
     "name": "stderr",
     "output_type": "stream",
     "text": [
      "C:\\Users\\vinicius.gomes\\AppData\\Local\\Temp\\ipykernel_9740\\3355230442.py:10: FutureWarning: The frame.append method is deprecated and will be removed from pandas in a future version. Use pandas.concat instead.\n",
      "  pg = pg1.append(pg2)\n",
      "\n"
     ]
    },
    {
     "name": "stdout",
     "output_type": "stream",
     "text": [
      "BENEDITO DO ESPIRITO SANTO\n",
      "14\n"
     ]
    },
    {
     "name": "stderr",
     "output_type": "stream",
     "text": [
      "C:\\Users\\vinicius.gomes\\AppData\\Local\\Temp\\ipykernel_9740\\3355230442.py:10: FutureWarning: The frame.append method is deprecated and will be removed from pandas in a future version. Use pandas.concat instead.\n",
      "  pg = pg1.append(pg2)\n",
      "\n"
     ]
    },
    {
     "name": "stdout",
     "output_type": "stream",
     "text": [
      "CARLOS ALBERTO GONÇALVES\n",
      "15\n"
     ]
    },
    {
     "name": "stderr",
     "output_type": "stream",
     "text": [
      "C:\\Users\\vinicius.gomes\\AppData\\Local\\Temp\\ipykernel_9740\\3355230442.py:10: FutureWarning: The frame.append method is deprecated and will be removed from pandas in a future version. Use pandas.concat instead.\n",
      "  pg = pg1.append(pg2)\n",
      "\n"
     ]
    },
    {
     "name": "stdout",
     "output_type": "stream",
     "text": [
      "CARLOS EDUARDO CUSTODIO\n",
      "16\n"
     ]
    },
    {
     "name": "stderr",
     "output_type": "stream",
     "text": [
      "C:\\Users\\vinicius.gomes\\AppData\\Local\\Temp\\ipykernel_9740\\3355230442.py:10: FutureWarning: The frame.append method is deprecated and will be removed from pandas in a future version. Use pandas.concat instead.\n",
      "  pg = pg1.append(pg2)\n",
      "\n"
     ]
    },
    {
     "name": "stdout",
     "output_type": "stream",
     "text": [
      "CARLOS LUIS DOS SANTOS BARRETO\n",
      "17\n"
     ]
    },
    {
     "name": "stderr",
     "output_type": "stream",
     "text": [
      "C:\\Users\\vinicius.gomes\\AppData\\Local\\Temp\\ipykernel_9740\\3355230442.py:10: FutureWarning: The frame.append method is deprecated and will be removed from pandas in a future version. Use pandas.concat instead.\n",
      "  pg = pg1.append(pg2)\n",
      "\n"
     ]
    },
    {
     "name": "stdout",
     "output_type": "stream",
     "text": [
      "CARLOS ROBERTO DE OLIVEIRA\n",
      "18\n"
     ]
    },
    {
     "name": "stderr",
     "output_type": "stream",
     "text": [
      "C:\\Users\\vinicius.gomes\\AppData\\Local\\Temp\\ipykernel_9740\\3355230442.py:10: FutureWarning: The frame.append method is deprecated and will be removed from pandas in a future version. Use pandas.concat instead.\n",
      "  pg = pg1.append(pg2)\n",
      "\n"
     ]
    },
    {
     "name": "stdout",
     "output_type": "stream",
     "text": [
      "CELSO ONORIO\n",
      "19\n"
     ]
    },
    {
     "name": "stderr",
     "output_type": "stream",
     "text": [
      "C:\\Users\\vinicius.gomes\\AppData\\Local\\Temp\\ipykernel_9740\\3355230442.py:10: FutureWarning: The frame.append method is deprecated and will be removed from pandas in a future version. Use pandas.concat instead.\n",
      "  pg = pg1.append(pg2)\n",
      "\n"
     ]
    },
    {
     "name": "stdout",
     "output_type": "stream",
     "text": [
      "CICERO MAGAYVER MARTINS COSTA\n",
      "20\n"
     ]
    },
    {
     "name": "stderr",
     "output_type": "stream",
     "text": [
      "C:\\Users\\vinicius.gomes\\AppData\\Local\\Temp\\ipykernel_9740\\3355230442.py:10: FutureWarning: The frame.append method is deprecated and will be removed from pandas in a future version. Use pandas.concat instead.\n",
      "  pg = pg1.append(pg2)\n",
      "\n"
     ]
    },
    {
     "name": "stdout",
     "output_type": "stream",
     "text": [
      "CICERO PAULO DOS SANTOS\n",
      "21\n"
     ]
    },
    {
     "name": "stderr",
     "output_type": "stream",
     "text": [
      "C:\\Users\\vinicius.gomes\\AppData\\Local\\Temp\\ipykernel_9740\\3355230442.py:10: FutureWarning: The frame.append method is deprecated and will be removed from pandas in a future version. Use pandas.concat instead.\n",
      "  pg = pg1.append(pg2)\n",
      "\n"
     ]
    },
    {
     "name": "stdout",
     "output_type": "stream",
     "text": [
      "CLAUDIO DA SILVA ESPIRITO SANTO\n",
      "22\n"
     ]
    },
    {
     "name": "stderr",
     "output_type": "stream",
     "text": [
      "C:\\Users\\vinicius.gomes\\AppData\\Local\\Temp\\ipykernel_9740\\3355230442.py:10: FutureWarning: The frame.append method is deprecated and will be removed from pandas in a future version. Use pandas.concat instead.\n",
      "  pg = pg1.append(pg2)\n",
      "\n"
     ]
    },
    {
     "name": "stdout",
     "output_type": "stream",
     "text": [
      "CLAUDIO INACIO BISPO\n",
      "23\n"
     ]
    },
    {
     "name": "stderr",
     "output_type": "stream",
     "text": [
      "C:\\Users\\vinicius.gomes\\AppData\\Local\\Temp\\ipykernel_9740\\3355230442.py:10: FutureWarning: The frame.append method is deprecated and will be removed from pandas in a future version. Use pandas.concat instead.\n",
      "  pg = pg1.append(pg2)\n",
      "\n"
     ]
    },
    {
     "name": "stdout",
     "output_type": "stream",
     "text": [
      "CLAUDIO KOHUT\n",
      "24\n"
     ]
    },
    {
     "name": "stderr",
     "output_type": "stream",
     "text": [
      "C:\\Users\\vinicius.gomes\\AppData\\Local\\Temp\\ipykernel_9740\\3355230442.py:10: FutureWarning: The frame.append method is deprecated and will be removed from pandas in a future version. Use pandas.concat instead.\n",
      "  pg = pg1.append(pg2)\n",
      "\n"
     ]
    },
    {
     "name": "stdout",
     "output_type": "stream",
     "text": [
      "CLAUDIO MAGALHAES SOARES\n",
      "25\n"
     ]
    },
    {
     "name": "stderr",
     "output_type": "stream",
     "text": [
      "C:\\Users\\vinicius.gomes\\AppData\\Local\\Temp\\ipykernel_9740\\3355230442.py:10: FutureWarning: The frame.append method is deprecated and will be removed from pandas in a future version. Use pandas.concat instead.\n",
      "  pg = pg1.append(pg2)\n",
      "\n"
     ]
    },
    {
     "name": "stdout",
     "output_type": "stream",
     "text": [
      "CLEBER LUIS AIELLO\n",
      "26\n"
     ]
    },
    {
     "name": "stderr",
     "output_type": "stream",
     "text": [
      "C:\\Users\\vinicius.gomes\\AppData\\Local\\Temp\\ipykernel_9740\\3355230442.py:10: FutureWarning: The frame.append method is deprecated and will be removed from pandas in a future version. Use pandas.concat instead.\n",
      "  pg = pg1.append(pg2)\n",
      "\n"
     ]
    },
    {
     "name": "stdout",
     "output_type": "stream",
     "text": [
      "CLECIO BERNARDO ALAMINO\n",
      "27\n"
     ]
    },
    {
     "name": "stderr",
     "output_type": "stream",
     "text": [
      "C:\\Users\\vinicius.gomes\\AppData\\Local\\Temp\\ipykernel_9740\\3355230442.py:10: FutureWarning: The frame.append method is deprecated and will be removed from pandas in a future version. Use pandas.concat instead.\n",
      "  pg = pg1.append(pg2)\n",
      "\n"
     ]
    },
    {
     "name": "stdout",
     "output_type": "stream",
     "text": [
      "CONSTANTINO GONÇALVES S NETO\n",
      "28\n"
     ]
    },
    {
     "name": "stderr",
     "output_type": "stream",
     "text": [
      "C:\\Users\\vinicius.gomes\\AppData\\Local\\Temp\\ipykernel_9740\\3355230442.py:10: FutureWarning: The frame.append method is deprecated and will be removed from pandas in a future version. Use pandas.concat instead.\n",
      "  pg = pg1.append(pg2)\n",
      "\n"
     ]
    },
    {
     "name": "stdout",
     "output_type": "stream",
     "text": [
      "CREZIO AZEVEDO GALDINO\n",
      "29\n"
     ]
    },
    {
     "name": "stderr",
     "output_type": "stream",
     "text": [
      "C:\\Users\\vinicius.gomes\\AppData\\Local\\Temp\\ipykernel_9740\\3355230442.py:10: FutureWarning: The frame.append method is deprecated and will be removed from pandas in a future version. Use pandas.concat instead.\n",
      "  pg = pg1.append(pg2)\n",
      "\n"
     ]
    },
    {
     "name": "stdout",
     "output_type": "stream",
     "text": [
      "DANIEL CALISTO DOS SANTOS\n",
      "30\n"
     ]
    },
    {
     "name": "stderr",
     "output_type": "stream",
     "text": [
      "C:\\Users\\vinicius.gomes\\AppData\\Local\\Temp\\ipykernel_9740\\3355230442.py:10: FutureWarning: The frame.append method is deprecated and will be removed from pandas in a future version. Use pandas.concat instead.\n",
      "  pg = pg1.append(pg2)\n",
      "\n"
     ]
    },
    {
     "name": "stdout",
     "output_type": "stream",
     "text": [
      "DANIEL DE SOUZA\n",
      "31\n"
     ]
    },
    {
     "name": "stderr",
     "output_type": "stream",
     "text": [
      "C:\\Users\\vinicius.gomes\\AppData\\Local\\Temp\\ipykernel_9740\\3355230442.py:10: FutureWarning: The frame.append method is deprecated and will be removed from pandas in a future version. Use pandas.concat instead.\n",
      "  pg = pg1.append(pg2)\n",
      "\n"
     ]
    },
    {
     "name": "stdout",
     "output_type": "stream",
     "text": [
      "DANIEL MARTINS DE OLIVEIRA\n",
      "32\n"
     ]
    },
    {
     "name": "stderr",
     "output_type": "stream",
     "text": [
      "C:\\Users\\vinicius.gomes\\AppData\\Local\\Temp\\ipykernel_9740\\3355230442.py:10: FutureWarning: The frame.append method is deprecated and will be removed from pandas in a future version. Use pandas.concat instead.\n",
      "  pg = pg1.append(pg2)\n",
      "\n"
     ]
    },
    {
     "name": "stdout",
     "output_type": "stream",
     "text": [
      "DENIVALDO LOPES DA SILVA\n",
      "33\n"
     ]
    },
    {
     "name": "stderr",
     "output_type": "stream",
     "text": [
      "C:\\Users\\vinicius.gomes\\AppData\\Local\\Temp\\ipykernel_9740\\3355230442.py:10: FutureWarning: The frame.append method is deprecated and will be removed from pandas in a future version. Use pandas.concat instead.\n",
      "  pg = pg1.append(pg2)\n",
      "\n"
     ]
    },
    {
     "name": "stdout",
     "output_type": "stream",
     "text": [
      "DOUGLAS DE OLIVEIRA DA SILVA\n",
      "34\n"
     ]
    },
    {
     "name": "stderr",
     "output_type": "stream",
     "text": [
      "C:\\Users\\vinicius.gomes\\AppData\\Local\\Temp\\ipykernel_9740\\3355230442.py:10: FutureWarning: The frame.append method is deprecated and will be removed from pandas in a future version. Use pandas.concat instead.\n",
      "  pg = pg1.append(pg2)\n",
      "\n"
     ]
    },
    {
     "name": "stdout",
     "output_type": "stream",
     "text": [
      "DOUGLAS PAIVA BOROMELO\n",
      "35\n"
     ]
    },
    {
     "name": "stderr",
     "output_type": "stream",
     "text": [
      "C:\\Users\\vinicius.gomes\\AppData\\Local\\Temp\\ipykernel_9740\\3355230442.py:10: FutureWarning: The frame.append method is deprecated and will be removed from pandas in a future version. Use pandas.concat instead.\n",
      "  pg = pg1.append(pg2)\n",
      "\n"
     ]
    },
    {
     "name": "stdout",
     "output_type": "stream",
     "text": [
      "EDIVALDO DA COSTA\n",
      "36\n"
     ]
    },
    {
     "name": "stderr",
     "output_type": "stream",
     "text": [
      "C:\\Users\\vinicius.gomes\\AppData\\Local\\Temp\\ipykernel_9740\\3355230442.py:10: FutureWarning: The frame.append method is deprecated and will be removed from pandas in a future version. Use pandas.concat instead.\n",
      "  pg = pg1.append(pg2)\n",
      "\n"
     ]
    },
    {
     "name": "stdout",
     "output_type": "stream",
     "text": [
      "EDMILSON BATISTA DE MORAIS\n",
      "37\n"
     ]
    },
    {
     "name": "stderr",
     "output_type": "stream",
     "text": [
      "C:\\Users\\vinicius.gomes\\AppData\\Local\\Temp\\ipykernel_9740\\3355230442.py:10: FutureWarning: The frame.append method is deprecated and will be removed from pandas in a future version. Use pandas.concat instead.\n",
      "  pg = pg1.append(pg2)\n",
      "\n"
     ]
    },
    {
     "name": "stdout",
     "output_type": "stream",
     "text": [
      "EDMILSON GOMES DA SILVA\n",
      "38\n"
     ]
    },
    {
     "name": "stderr",
     "output_type": "stream",
     "text": [
      "C:\\Users\\vinicius.gomes\\AppData\\Local\\Temp\\ipykernel_9740\\3355230442.py:10: FutureWarning: The frame.append method is deprecated and will be removed from pandas in a future version. Use pandas.concat instead.\n",
      "  pg = pg1.append(pg2)\n",
      "\n"
     ]
    },
    {
     "name": "stdout",
     "output_type": "stream",
     "text": [
      "EDSON BENEDITO GOMES\n",
      "39\n"
     ]
    },
    {
     "name": "stderr",
     "output_type": "stream",
     "text": [
      "C:\\Users\\vinicius.gomes\\AppData\\Local\\Temp\\ipykernel_9740\\3355230442.py:10: FutureWarning: The frame.append method is deprecated and will be removed from pandas in a future version. Use pandas.concat instead.\n",
      "  pg = pg1.append(pg2)\n",
      "\n"
     ]
    },
    {
     "name": "stdout",
     "output_type": "stream",
     "text": [
      "EDSON DIAS DE OLIVEIRA\n",
      "40\n"
     ]
    },
    {
     "name": "stderr",
     "output_type": "stream",
     "text": [
      "C:\\Users\\vinicius.gomes\\AppData\\Local\\Temp\\ipykernel_9740\\3355230442.py:10: FutureWarning: The frame.append method is deprecated and will be removed from pandas in a future version. Use pandas.concat instead.\n",
      "  pg = pg1.append(pg2)\n",
      "\n"
     ]
    },
    {
     "name": "stdout",
     "output_type": "stream",
     "text": [
      "EDSON FRANCISCO BARBOSA\n",
      "41\n"
     ]
    },
    {
     "name": "stderr",
     "output_type": "stream",
     "text": [
      "C:\\Users\\vinicius.gomes\\AppData\\Local\\Temp\\ipykernel_9740\\3355230442.py:10: FutureWarning: The frame.append method is deprecated and will be removed from pandas in a future version. Use pandas.concat instead.\n",
      "  pg = pg1.append(pg2)\n",
      "\n"
     ]
    },
    {
     "name": "stdout",
     "output_type": "stream",
     "text": [
      "EDUARDO COSTA AQUINO\n",
      "42\n"
     ]
    },
    {
     "name": "stderr",
     "output_type": "stream",
     "text": [
      "C:\\Users\\vinicius.gomes\\AppData\\Local\\Temp\\ipykernel_9740\\3355230442.py:10: FutureWarning: The frame.append method is deprecated and will be removed from pandas in a future version. Use pandas.concat instead.\n",
      "  pg = pg1.append(pg2)\n",
      "\n"
     ]
    },
    {
     "name": "stdout",
     "output_type": "stream",
     "text": [
      "ELCIO MARTINS COSTA\n",
      "43\n"
     ]
    },
    {
     "name": "stderr",
     "output_type": "stream",
     "text": [
      "C:\\Users\\vinicius.gomes\\AppData\\Local\\Temp\\ipykernel_9740\\3355230442.py:10: FutureWarning: The frame.append method is deprecated and will be removed from pandas in a future version. Use pandas.concat instead.\n",
      "  pg = pg1.append(pg2)\n",
      "\n"
     ]
    },
    {
     "name": "stdout",
     "output_type": "stream",
     "text": [
      "ELIAS MARQUES\n",
      "44\n"
     ]
    },
    {
     "name": "stderr",
     "output_type": "stream",
     "text": [
      "C:\\Users\\vinicius.gomes\\AppData\\Local\\Temp\\ipykernel_9740\\3355230442.py:10: FutureWarning: The frame.append method is deprecated and will be removed from pandas in a future version. Use pandas.concat instead.\n",
      "  pg = pg1.append(pg2)\n",
      "\n"
     ]
    },
    {
     "name": "stdout",
     "output_type": "stream",
     "text": [
      "ELIAS ROBERTO\n",
      "45\n"
     ]
    },
    {
     "name": "stderr",
     "output_type": "stream",
     "text": [
      "C:\\Users\\vinicius.gomes\\AppData\\Local\\Temp\\ipykernel_9740\\3355230442.py:10: FutureWarning: The frame.append method is deprecated and will be removed from pandas in a future version. Use pandas.concat instead.\n",
      "  pg = pg1.append(pg2)\n",
      "\n"
     ]
    },
    {
     "name": "stdout",
     "output_type": "stream",
     "text": [
      "ERIC PINTO SILVA\n",
      "46\n"
     ]
    },
    {
     "name": "stderr",
     "output_type": "stream",
     "text": [
      "C:\\Users\\vinicius.gomes\\AppData\\Local\\Temp\\ipykernel_9740\\3355230442.py:10: FutureWarning: The frame.append method is deprecated and will be removed from pandas in a future version. Use pandas.concat instead.\n",
      "  pg = pg1.append(pg2)\n",
      "\n"
     ]
    },
    {
     "name": "stdout",
     "output_type": "stream",
     "text": [
      "ERICK KLEIN HESSEL ALVES\n",
      "47\n"
     ]
    },
    {
     "name": "stderr",
     "output_type": "stream",
     "text": [
      "C:\\Users\\vinicius.gomes\\AppData\\Local\\Temp\\ipykernel_9740\\3355230442.py:10: FutureWarning: The frame.append method is deprecated and will be removed from pandas in a future version. Use pandas.concat instead.\n",
      "  pg = pg1.append(pg2)\n",
      "\n"
     ]
    },
    {
     "name": "stdout",
     "output_type": "stream",
     "text": [
      "EXPEDITO FROTA F FILHO\n",
      "48\n"
     ]
    },
    {
     "name": "stderr",
     "output_type": "stream",
     "text": [
      "C:\\Users\\vinicius.gomes\\AppData\\Local\\Temp\\ipykernel_9740\\3355230442.py:10: FutureWarning: The frame.append method is deprecated and will be removed from pandas in a future version. Use pandas.concat instead.\n",
      "  pg = pg1.append(pg2)\n",
      "\n"
     ]
    },
    {
     "name": "stdout",
     "output_type": "stream",
     "text": [
      "FLAVIO APARECIDO PIROLA\n",
      "49\n"
     ]
    },
    {
     "name": "stderr",
     "output_type": "stream",
     "text": [
      "C:\\Users\\vinicius.gomes\\AppData\\Local\\Temp\\ipykernel_9740\\3355230442.py:10: FutureWarning: The frame.append method is deprecated and will be removed from pandas in a future version. Use pandas.concat instead.\n",
      "  pg = pg1.append(pg2)\n",
      "\n"
     ]
    },
    {
     "name": "stdout",
     "output_type": "stream",
     "text": [
      "FRANCISCO DE ASSIS FERREIRA\n",
      "50\n"
     ]
    },
    {
     "name": "stderr",
     "output_type": "stream",
     "text": [
      "C:\\Users\\vinicius.gomes\\AppData\\Local\\Temp\\ipykernel_9740\\3355230442.py:10: FutureWarning: The frame.append method is deprecated and will be removed from pandas in a future version. Use pandas.concat instead.\n",
      "  pg = pg1.append(pg2)\n",
      "\n"
     ]
    },
    {
     "name": "stdout",
     "output_type": "stream",
     "text": [
      "FRANCISCO FIRMO TELES\n",
      "51\n"
     ]
    },
    {
     "name": "stderr",
     "output_type": "stream",
     "text": [
      "C:\\Users\\vinicius.gomes\\AppData\\Local\\Temp\\ipykernel_9740\\3355230442.py:10: FutureWarning: The frame.append method is deprecated and will be removed from pandas in a future version. Use pandas.concat instead.\n",
      "  pg = pg1.append(pg2)\n",
      "\n"
     ]
    },
    {
     "name": "stdout",
     "output_type": "stream",
     "text": [
      "GERALDO JOSE DE MOURA\n",
      "52\n"
     ]
    },
    {
     "name": "stderr",
     "output_type": "stream",
     "text": [
      "C:\\Users\\vinicius.gomes\\AppData\\Local\\Temp\\ipykernel_9740\\3355230442.py:10: FutureWarning: The frame.append method is deprecated and will be removed from pandas in a future version. Use pandas.concat instead.\n",
      "  pg = pg1.append(pg2)\n",
      "\n"
     ]
    },
    {
     "name": "stdout",
     "output_type": "stream",
     "text": [
      "GERALDO TEODORO DA SILVA\n",
      "53\n"
     ]
    },
    {
     "name": "stderr",
     "output_type": "stream",
     "text": [
      "C:\\Users\\vinicius.gomes\\AppData\\Local\\Temp\\ipykernel_9740\\3355230442.py:10: FutureWarning: The frame.append method is deprecated and will be removed from pandas in a future version. Use pandas.concat instead.\n",
      "  pg = pg1.append(pg2)\n",
      "\n"
     ]
    },
    {
     "name": "stdout",
     "output_type": "stream",
     "text": [
      "GERSON MARLON FRESCHI\n",
      "54\n"
     ]
    },
    {
     "name": "stderr",
     "output_type": "stream",
     "text": [
      "C:\\Users\\vinicius.gomes\\AppData\\Local\\Temp\\ipykernel_9740\\3355230442.py:10: FutureWarning: The frame.append method is deprecated and will be removed from pandas in a future version. Use pandas.concat instead.\n",
      "  pg = pg1.append(pg2)\n",
      "\n"
     ]
    },
    {
     "name": "stdout",
     "output_type": "stream",
     "text": [
      "GERVASIO DO CARMO SILVA\n",
      "55\n"
     ]
    },
    {
     "name": "stderr",
     "output_type": "stream",
     "text": [
      "C:\\Users\\vinicius.gomes\\AppData\\Local\\Temp\\ipykernel_9740\\3355230442.py:10: FutureWarning: The frame.append method is deprecated and will be removed from pandas in a future version. Use pandas.concat instead.\n",
      "  pg = pg1.append(pg2)\n",
      "\n"
     ]
    },
    {
     "name": "stdout",
     "output_type": "stream",
     "text": [
      "GILBERTO PEREIRA DE OLIVEIRA\n",
      "56\n"
     ]
    },
    {
     "name": "stderr",
     "output_type": "stream",
     "text": [
      "C:\\Users\\vinicius.gomes\\AppData\\Local\\Temp\\ipykernel_9740\\3355230442.py:10: FutureWarning: The frame.append method is deprecated and will be removed from pandas in a future version. Use pandas.concat instead.\n",
      "  pg = pg1.append(pg2)\n",
      "\n"
     ]
    },
    {
     "name": "stdout",
     "output_type": "stream",
     "text": [
      "GIVALDO DE LIMA CARNEIRO\n",
      "57\n"
     ]
    },
    {
     "name": "stderr",
     "output_type": "stream",
     "text": [
      "C:\\Users\\vinicius.gomes\\AppData\\Local\\Temp\\ipykernel_9740\\3355230442.py:10: FutureWarning: The frame.append method is deprecated and will be removed from pandas in a future version. Use pandas.concat instead.\n",
      "  pg = pg1.append(pg2)\n",
      "\n"
     ]
    },
    {
     "name": "stdout",
     "output_type": "stream",
     "text": [
      "HAMILTON FRANCISCO DO AMARAL\n",
      "58\n"
     ]
    },
    {
     "name": "stderr",
     "output_type": "stream",
     "text": [
      "C:\\Users\\vinicius.gomes\\AppData\\Local\\Temp\\ipykernel_9740\\3355230442.py:10: FutureWarning: The frame.append method is deprecated and will be removed from pandas in a future version. Use pandas.concat instead.\n",
      "  pg = pg1.append(pg2)\n",
      "\n"
     ]
    },
    {
     "name": "stdout",
     "output_type": "stream",
     "text": [
      "HELIO ROCUMBACK DE LIMA\n",
      "59\n"
     ]
    },
    {
     "name": "stderr",
     "output_type": "stream",
     "text": [
      "C:\\Users\\vinicius.gomes\\AppData\\Local\\Temp\\ipykernel_9740\\3355230442.py:10: FutureWarning: The frame.append method is deprecated and will be removed from pandas in a future version. Use pandas.concat instead.\n",
      "  pg = pg1.append(pg2)\n",
      "\n"
     ]
    },
    {
     "name": "stdout",
     "output_type": "stream",
     "text": [
      "HENRIQUE GOUVEA DE SOUZA FELIX\n",
      "60\n"
     ]
    },
    {
     "name": "stderr",
     "output_type": "stream",
     "text": [
      "C:\\Users\\vinicius.gomes\\AppData\\Local\\Temp\\ipykernel_9740\\3355230442.py:10: FutureWarning: The frame.append method is deprecated and will be removed from pandas in a future version. Use pandas.concat instead.\n",
      "  pg = pg1.append(pg2)\n",
      "\n"
     ]
    },
    {
     "name": "stdout",
     "output_type": "stream",
     "text": [
      "HUDSON MARQUES SOARES\n",
      "61\n"
     ]
    },
    {
     "name": "stderr",
     "output_type": "stream",
     "text": [
      "C:\\Users\\vinicius.gomes\\AppData\\Local\\Temp\\ipykernel_9740\\3355230442.py:10: FutureWarning: The frame.append method is deprecated and will be removed from pandas in a future version. Use pandas.concat instead.\n",
      "  pg = pg1.append(pg2)\n",
      "\n"
     ]
    },
    {
     "name": "stdout",
     "output_type": "stream",
     "text": [
      "ISAC ALENCAR REIS\n",
      "62\n"
     ]
    },
    {
     "name": "stderr",
     "output_type": "stream",
     "text": [
      "C:\\Users\\vinicius.gomes\\AppData\\Local\\Temp\\ipykernel_9740\\3355230442.py:10: FutureWarning: The frame.append method is deprecated and will be removed from pandas in a future version. Use pandas.concat instead.\n",
      "  pg = pg1.append(pg2)\n",
      "\n"
     ]
    },
    {
     "name": "stdout",
     "output_type": "stream",
     "text": [
      "IVAN RODRIGUES BARBOSA\n",
      "63\n"
     ]
    },
    {
     "name": "stderr",
     "output_type": "stream",
     "text": [
      "C:\\Users\\vinicius.gomes\\AppData\\Local\\Temp\\ipykernel_9740\\3355230442.py:10: FutureWarning: The frame.append method is deprecated and will be removed from pandas in a future version. Use pandas.concat instead.\n",
      "  pg = pg1.append(pg2)\n",
      "\n"
     ]
    },
    {
     "name": "stdout",
     "output_type": "stream",
     "text": [
      "JAIME LOPES SILVA\n",
      "64\n"
     ]
    },
    {
     "name": "stderr",
     "output_type": "stream",
     "text": [
      "C:\\Users\\vinicius.gomes\\AppData\\Local\\Temp\\ipykernel_9740\\3355230442.py:10: FutureWarning: The frame.append method is deprecated and will be removed from pandas in a future version. Use pandas.concat instead.\n",
      "  pg = pg1.append(pg2)\n",
      "\n"
     ]
    },
    {
     "name": "stdout",
     "output_type": "stream",
     "text": [
      "JAIRO FILOGONIO R MIRANDA\n",
      "65\n"
     ]
    },
    {
     "name": "stderr",
     "output_type": "stream",
     "text": [
      "C:\\Users\\vinicius.gomes\\AppData\\Local\\Temp\\ipykernel_9740\\3355230442.py:10: FutureWarning: The frame.append method is deprecated and will be removed from pandas in a future version. Use pandas.concat instead.\n",
      "  pg = pg1.append(pg2)\n",
      "\n"
     ]
    },
    {
     "name": "stdout",
     "output_type": "stream",
     "text": [
      "JAMES ALAN GOMES DA SILVA\n",
      "66\n"
     ]
    },
    {
     "name": "stderr",
     "output_type": "stream",
     "text": [
      "C:\\Users\\vinicius.gomes\\AppData\\Local\\Temp\\ipykernel_9740\\3355230442.py:10: FutureWarning: The frame.append method is deprecated and will be removed from pandas in a future version. Use pandas.concat instead.\n",
      "  pg = pg1.append(pg2)\n",
      "\n"
     ]
    },
    {
     "name": "stdout",
     "output_type": "stream",
     "text": [
      "JEAN FELICIANO DA SILVA\n",
      "67\n"
     ]
    },
    {
     "name": "stderr",
     "output_type": "stream",
     "text": [
      "C:\\Users\\vinicius.gomes\\AppData\\Local\\Temp\\ipykernel_9740\\3355230442.py:10: FutureWarning: The frame.append method is deprecated and will be removed from pandas in a future version. Use pandas.concat instead.\n",
      "  pg = pg1.append(pg2)\n",
      "\n"
     ]
    },
    {
     "name": "stdout",
     "output_type": "stream",
     "text": [
      "JESUALDO HENRIQUE DOURADO\n",
      "68\n"
     ]
    },
    {
     "name": "stderr",
     "output_type": "stream",
     "text": [
      "C:\\Users\\vinicius.gomes\\AppData\\Local\\Temp\\ipykernel_9740\\3355230442.py:10: FutureWarning: The frame.append method is deprecated and will be removed from pandas in a future version. Use pandas.concat instead.\n",
      "  pg = pg1.append(pg2)\n",
      "\n"
     ]
    },
    {
     "name": "stdout",
     "output_type": "stream",
     "text": [
      "JOAO ALBERTO PESSOA FERREIRA\n",
      "69\n"
     ]
    },
    {
     "name": "stderr",
     "output_type": "stream",
     "text": [
      "C:\\Users\\vinicius.gomes\\AppData\\Local\\Temp\\ipykernel_9740\\3355230442.py:10: FutureWarning: The frame.append method is deprecated and will be removed from pandas in a future version. Use pandas.concat instead.\n",
      "  pg = pg1.append(pg2)\n",
      "\n"
     ]
    },
    {
     "name": "stdout",
     "output_type": "stream",
     "text": [
      "JOAO CARLOS AGOSTON\n",
      "70\n"
     ]
    },
    {
     "name": "stderr",
     "output_type": "stream",
     "text": [
      "C:\\Users\\vinicius.gomes\\AppData\\Local\\Temp\\ipykernel_9740\\3355230442.py:10: FutureWarning: The frame.append method is deprecated and will be removed from pandas in a future version. Use pandas.concat instead.\n",
      "  pg = pg1.append(pg2)\n",
      "\n"
     ]
    },
    {
     "name": "stdout",
     "output_type": "stream",
     "text": [
      "JOHNNY LUIS ARAUJO\n",
      "71\n"
     ]
    },
    {
     "name": "stderr",
     "output_type": "stream",
     "text": [
      "C:\\Users\\vinicius.gomes\\AppData\\Local\\Temp\\ipykernel_9740\\3355230442.py:10: FutureWarning: The frame.append method is deprecated and will be removed from pandas in a future version. Use pandas.concat instead.\n",
      "  pg = pg1.append(pg2)\n",
      "\n"
     ]
    },
    {
     "name": "stdout",
     "output_type": "stream",
     "text": [
      "JOSE ALFREDO BUENO\n",
      "72\n"
     ]
    },
    {
     "name": "stderr",
     "output_type": "stream",
     "text": [
      "C:\\Users\\vinicius.gomes\\AppData\\Local\\Temp\\ipykernel_9740\\3355230442.py:10: FutureWarning: The frame.append method is deprecated and will be removed from pandas in a future version. Use pandas.concat instead.\n",
      "  pg = pg1.append(pg2)\n",
      "\n"
     ]
    },
    {
     "name": "stdout",
     "output_type": "stream",
     "text": [
      "JOSE ALVES DA FONSECA\n",
      "73\n"
     ]
    },
    {
     "name": "stderr",
     "output_type": "stream",
     "text": [
      "C:\\Users\\vinicius.gomes\\AppData\\Local\\Temp\\ipykernel_9740\\3355230442.py:10: FutureWarning: The frame.append method is deprecated and will be removed from pandas in a future version. Use pandas.concat instead.\n",
      "  pg = pg1.append(pg2)\n",
      "\n"
     ]
    },
    {
     "name": "stdout",
     "output_type": "stream",
     "text": [
      "JOSE APARECIDO ZAGO\n",
      "74\n"
     ]
    },
    {
     "name": "stderr",
     "output_type": "stream",
     "text": [
      "C:\\Users\\vinicius.gomes\\AppData\\Local\\Temp\\ipykernel_9740\\3355230442.py:10: FutureWarning: The frame.append method is deprecated and will be removed from pandas in a future version. Use pandas.concat instead.\n",
      "  pg = pg1.append(pg2)\n",
      "\n"
     ]
    },
    {
     "name": "stdout",
     "output_type": "stream",
     "text": [
      "JOSE ARAUJO DA SILVA\n",
      "75\n"
     ]
    },
    {
     "name": "stderr",
     "output_type": "stream",
     "text": [
      "C:\\Users\\vinicius.gomes\\AppData\\Local\\Temp\\ipykernel_9740\\3355230442.py:10: FutureWarning: The frame.append method is deprecated and will be removed from pandas in a future version. Use pandas.concat instead.\n",
      "  pg = pg1.append(pg2)\n",
      "\n"
     ]
    },
    {
     "name": "stdout",
     "output_type": "stream",
     "text": [
      "JOSE AUGUSTO MENEZES\n",
      "76\n"
     ]
    },
    {
     "name": "stderr",
     "output_type": "stream",
     "text": [
      "C:\\Users\\vinicius.gomes\\AppData\\Local\\Temp\\ipykernel_9740\\3355230442.py:10: FutureWarning: The frame.append method is deprecated and will be removed from pandas in a future version. Use pandas.concat instead.\n",
      "  pg = pg1.append(pg2)\n",
      "\n"
     ]
    },
    {
     "name": "stdout",
     "output_type": "stream",
     "text": [
      "JOSE CARLOS DE OLIVEIRA\n",
      "77\n"
     ]
    },
    {
     "name": "stderr",
     "output_type": "stream",
     "text": [
      "C:\\Users\\vinicius.gomes\\AppData\\Local\\Temp\\ipykernel_9740\\3355230442.py:10: FutureWarning: The frame.append method is deprecated and will be removed from pandas in a future version. Use pandas.concat instead.\n",
      "  pg = pg1.append(pg2)\n",
      "\n"
     ]
    },
    {
     "name": "stdout",
     "output_type": "stream",
     "text": [
      "JOSE CARLOS DOS SANTOS SILVA\n",
      "78\n"
     ]
    },
    {
     "name": "stderr",
     "output_type": "stream",
     "text": [
      "C:\\Users\\vinicius.gomes\\AppData\\Local\\Temp\\ipykernel_9740\\3355230442.py:10: FutureWarning: The frame.append method is deprecated and will be removed from pandas in a future version. Use pandas.concat instead.\n",
      "  pg = pg1.append(pg2)\n",
      "\n"
     ]
    },
    {
     "name": "stdout",
     "output_type": "stream",
     "text": [
      "JOSE CARLOS LAURENTINO\n",
      "79\n"
     ]
    },
    {
     "name": "stderr",
     "output_type": "stream",
     "text": [
      "C:\\Users\\vinicius.gomes\\AppData\\Local\\Temp\\ipykernel_9740\\3355230442.py:10: FutureWarning: The frame.append method is deprecated and will be removed from pandas in a future version. Use pandas.concat instead.\n",
      "  pg = pg1.append(pg2)\n",
      "\n"
     ]
    },
    {
     "name": "stdout",
     "output_type": "stream",
     "text": [
      "JOSE DE OLIVEIRA FRANCISCO\n",
      "80\n"
     ]
    },
    {
     "name": "stderr",
     "output_type": "stream",
     "text": [
      "C:\\Users\\vinicius.gomes\\AppData\\Local\\Temp\\ipykernel_9740\\3355230442.py:10: FutureWarning: The frame.append method is deprecated and will be removed from pandas in a future version. Use pandas.concat instead.\n",
      "  pg = pg1.append(pg2)\n",
      "\n"
     ]
    },
    {
     "name": "stdout",
     "output_type": "stream",
     "text": [
      "JOSE EDSON DA SILVA\n",
      "81\n"
     ]
    },
    {
     "name": "stderr",
     "output_type": "stream",
     "text": [
      "C:\\Users\\vinicius.gomes\\AppData\\Local\\Temp\\ipykernel_9740\\3355230442.py:10: FutureWarning: The frame.append method is deprecated and will be removed from pandas in a future version. Use pandas.concat instead.\n",
      "  pg = pg1.append(pg2)\n",
      "\n"
     ]
    },
    {
     "name": "stdout",
     "output_type": "stream",
     "text": [
      "JOSE FELIPE RIBEIRO\n",
      "82\n"
     ]
    },
    {
     "name": "stderr",
     "output_type": "stream",
     "text": [
      "C:\\Users\\vinicius.gomes\\AppData\\Local\\Temp\\ipykernel_9740\\3355230442.py:10: FutureWarning: The frame.append method is deprecated and will be removed from pandas in a future version. Use pandas.concat instead.\n",
      "  pg = pg1.append(pg2)\n",
      "\n"
     ]
    },
    {
     "name": "stdout",
     "output_type": "stream",
     "text": [
      "JOSE FRANCISCO ALVES\n",
      "83\n"
     ]
    },
    {
     "name": "stderr",
     "output_type": "stream",
     "text": [
      "C:\\Users\\vinicius.gomes\\AppData\\Local\\Temp\\ipykernel_9740\\3355230442.py:10: FutureWarning: The frame.append method is deprecated and will be removed from pandas in a future version. Use pandas.concat instead.\n",
      "  pg = pg1.append(pg2)\n",
      "\n"
     ]
    },
    {
     "name": "stdout",
     "output_type": "stream",
     "text": [
      "JOSE LUIZ DE MENESES\n",
      "84\n"
     ]
    },
    {
     "name": "stderr",
     "output_type": "stream",
     "text": [
      "C:\\Users\\vinicius.gomes\\AppData\\Local\\Temp\\ipykernel_9740\\3355230442.py:10: FutureWarning: The frame.append method is deprecated and will be removed from pandas in a future version. Use pandas.concat instead.\n",
      "  pg = pg1.append(pg2)\n",
      "\n"
     ]
    },
    {
     "name": "stdout",
     "output_type": "stream",
     "text": [
      "JOSE LUIZ RIBEIRO\n",
      "85\n"
     ]
    },
    {
     "name": "stderr",
     "output_type": "stream",
     "text": [
      "C:\\Users\\vinicius.gomes\\AppData\\Local\\Temp\\ipykernel_9740\\3355230442.py:10: FutureWarning: The frame.append method is deprecated and will be removed from pandas in a future version. Use pandas.concat instead.\n",
      "  pg = pg1.append(pg2)\n",
      "\n"
     ]
    },
    {
     "name": "stdout",
     "output_type": "stream",
     "text": [
      "JOSE MARIA DA SILVA\n",
      "86\n"
     ]
    },
    {
     "name": "stderr",
     "output_type": "stream",
     "text": [
      "C:\\Users\\vinicius.gomes\\AppData\\Local\\Temp\\ipykernel_9740\\3355230442.py:10: FutureWarning: The frame.append method is deprecated and will be removed from pandas in a future version. Use pandas.concat instead.\n",
      "  pg = pg1.append(pg2)\n",
      "\n"
     ]
    },
    {
     "name": "stdout",
     "output_type": "stream",
     "text": [
      "JOSE SILVA DE MELO\n",
      "87\n"
     ]
    },
    {
     "name": "stderr",
     "output_type": "stream",
     "text": [
      "C:\\Users\\vinicius.gomes\\AppData\\Local\\Temp\\ipykernel_9740\\3355230442.py:10: FutureWarning: The frame.append method is deprecated and will be removed from pandas in a future version. Use pandas.concat instead.\n",
      "  pg = pg1.append(pg2)\n",
      "\n"
     ]
    },
    {
     "name": "stdout",
     "output_type": "stream",
     "text": [
      "JOSUE AZEVEDO DA SILVA\n",
      "88\n"
     ]
    },
    {
     "name": "stderr",
     "output_type": "stream",
     "text": [
      "C:\\Users\\vinicius.gomes\\AppData\\Local\\Temp\\ipykernel_9740\\3355230442.py:10: FutureWarning: The frame.append method is deprecated and will be removed from pandas in a future version. Use pandas.concat instead.\n",
      "  pg = pg1.append(pg2)\n",
      "\n"
     ]
    },
    {
     "name": "stdout",
     "output_type": "stream",
     "text": [
      "LAERCIO FELICIANO BUENO\n",
      "89\n"
     ]
    },
    {
     "name": "stderr",
     "output_type": "stream",
     "text": [
      "C:\\Users\\vinicius.gomes\\AppData\\Local\\Temp\\ipykernel_9740\\3355230442.py:10: FutureWarning: The frame.append method is deprecated and will be removed from pandas in a future version. Use pandas.concat instead.\n",
      "  pg = pg1.append(pg2)\n",
      "\n"
     ]
    },
    {
     "name": "stdout",
     "output_type": "stream",
     "text": [
      "LEANDRO DIAS DE CAMARGO\n",
      "90\n"
     ]
    },
    {
     "name": "stderr",
     "output_type": "stream",
     "text": [
      "C:\\Users\\vinicius.gomes\\AppData\\Local\\Temp\\ipykernel_9740\\3355230442.py:10: FutureWarning: The frame.append method is deprecated and will be removed from pandas in a future version. Use pandas.concat instead.\n",
      "  pg = pg1.append(pg2)\n",
      "\n"
     ]
    },
    {
     "name": "stdout",
     "output_type": "stream",
     "text": [
      "LUCIANO PEREIRA PALMIERI\n",
      "91\n"
     ]
    },
    {
     "name": "stderr",
     "output_type": "stream",
     "text": [
      "C:\\Users\\vinicius.gomes\\AppData\\Local\\Temp\\ipykernel_9740\\3355230442.py:10: FutureWarning: The frame.append method is deprecated and will be removed from pandas in a future version. Use pandas.concat instead.\n",
      "  pg = pg1.append(pg2)\n",
      "\n"
     ]
    },
    {
     "name": "stdout",
     "output_type": "stream",
     "text": [
      "LUCIANO TERESIN\n",
      "92\n"
     ]
    },
    {
     "name": "stderr",
     "output_type": "stream",
     "text": [
      "C:\\Users\\vinicius.gomes\\AppData\\Local\\Temp\\ipykernel_9740\\3355230442.py:10: FutureWarning: The frame.append method is deprecated and will be removed from pandas in a future version. Use pandas.concat instead.\n",
      "  pg = pg1.append(pg2)\n",
      "\n"
     ]
    },
    {
     "name": "stdout",
     "output_type": "stream",
     "text": [
      "LUIS CLAUDIO MIGLIORANCI\n",
      "93\n"
     ]
    },
    {
     "name": "stderr",
     "output_type": "stream",
     "text": [
      "C:\\Users\\vinicius.gomes\\AppData\\Local\\Temp\\ipykernel_9740\\3355230442.py:10: FutureWarning: The frame.append method is deprecated and will be removed from pandas in a future version. Use pandas.concat instead.\n",
      "  pg = pg1.append(pg2)\n",
      "\n"
     ]
    },
    {
     "name": "stdout",
     "output_type": "stream",
     "text": [
      "LUIS DIOGENES M DE OLIVEIRA\n",
      "94\n"
     ]
    },
    {
     "name": "stderr",
     "output_type": "stream",
     "text": [
      "C:\\Users\\vinicius.gomes\\AppData\\Local\\Temp\\ipykernel_9740\\3355230442.py:10: FutureWarning: The frame.append method is deprecated and will be removed from pandas in a future version. Use pandas.concat instead.\n",
      "  pg = pg1.append(pg2)\n",
      "\n"
     ]
    },
    {
     "name": "stdout",
     "output_type": "stream",
     "text": [
      "LUIZ ANTONIO RASQUINHO\n",
      "95\n"
     ]
    },
    {
     "name": "stderr",
     "output_type": "stream",
     "text": [
      "C:\\Users\\vinicius.gomes\\AppData\\Local\\Temp\\ipykernel_9740\\3355230442.py:10: FutureWarning: The frame.append method is deprecated and will be removed from pandas in a future version. Use pandas.concat instead.\n",
      "  pg = pg1.append(pg2)\n",
      "\n"
     ]
    },
    {
     "name": "stdout",
     "output_type": "stream",
     "text": [
      "LUIZ FABIANO PEREIRA GOMES\n",
      "96\n"
     ]
    },
    {
     "name": "stderr",
     "output_type": "stream",
     "text": [
      "C:\\Users\\vinicius.gomes\\AppData\\Local\\Temp\\ipykernel_9740\\3355230442.py:10: FutureWarning: The frame.append method is deprecated and will be removed from pandas in a future version. Use pandas.concat instead.\n",
      "  pg = pg1.append(pg2)\n",
      "\n"
     ]
    },
    {
     "name": "stdout",
     "output_type": "stream",
     "text": [
      "MANOEL MINERVINO\n",
      "97\n"
     ]
    },
    {
     "name": "stderr",
     "output_type": "stream",
     "text": [
      "C:\\Users\\vinicius.gomes\\AppData\\Local\\Temp\\ipykernel_9740\\3355230442.py:10: FutureWarning: The frame.append method is deprecated and will be removed from pandas in a future version. Use pandas.concat instead.\n",
      "  pg = pg1.append(pg2)\n",
      "\n"
     ]
    },
    {
     "name": "stdout",
     "output_type": "stream",
     "text": [
      "MANOEL NORBERTO PEREIRA\n",
      "98\n"
     ]
    },
    {
     "name": "stderr",
     "output_type": "stream",
     "text": [
      "C:\\Users\\vinicius.gomes\\AppData\\Local\\Temp\\ipykernel_9740\\3355230442.py:10: FutureWarning: The frame.append method is deprecated and will be removed from pandas in a future version. Use pandas.concat instead.\n",
      "  pg = pg1.append(pg2)\n",
      "\n"
     ]
    },
    {
     "name": "stdout",
     "output_type": "stream",
     "text": [
      "MANOEL PEREIRA NOVAES\n",
      "99\n"
     ]
    },
    {
     "name": "stderr",
     "output_type": "stream",
     "text": [
      "C:\\Users\\vinicius.gomes\\AppData\\Local\\Temp\\ipykernel_9740\\3355230442.py:10: FutureWarning: The frame.append method is deprecated and will be removed from pandas in a future version. Use pandas.concat instead.\n",
      "  pg = pg1.append(pg2)\n",
      "\n"
     ]
    },
    {
     "name": "stdout",
     "output_type": "stream",
     "text": [
      "MARCELO DE CASTRO SANTOS\n",
      "100\n"
     ]
    },
    {
     "name": "stderr",
     "output_type": "stream",
     "text": [
      "C:\\Users\\vinicius.gomes\\AppData\\Local\\Temp\\ipykernel_9740\\3355230442.py:10: FutureWarning: The frame.append method is deprecated and will be removed from pandas in a future version. Use pandas.concat instead.\n",
      "  pg = pg1.append(pg2)\n",
      "\n"
     ]
    },
    {
     "name": "stdout",
     "output_type": "stream",
     "text": [
      "MARCO ANTONIO DOS SANTOS\n",
      "101\n"
     ]
    },
    {
     "name": "stderr",
     "output_type": "stream",
     "text": [
      "C:\\Users\\vinicius.gomes\\AppData\\Local\\Temp\\ipykernel_9740\\3355230442.py:10: FutureWarning: The frame.append method is deprecated and will be removed from pandas in a future version. Use pandas.concat instead.\n",
      "  pg = pg1.append(pg2)\n",
      "\n"
     ]
    },
    {
     "name": "stdout",
     "output_type": "stream",
     "text": [
      "MARIA DE FATIMA RIBEIRO SANTOS\n",
      "102\n"
     ]
    },
    {
     "name": "stderr",
     "output_type": "stream",
     "text": [
      "C:\\Users\\vinicius.gomes\\AppData\\Local\\Temp\\ipykernel_9740\\3355230442.py:10: FutureWarning: The frame.append method is deprecated and will be removed from pandas in a future version. Use pandas.concat instead.\n",
      "  pg = pg1.append(pg2)\n",
      "\n"
     ]
    },
    {
     "name": "stdout",
     "output_type": "stream",
     "text": [
      "MARIO APARECIDO C.DA SILVA\n",
      "103\n"
     ]
    },
    {
     "name": "stderr",
     "output_type": "stream",
     "text": [
      "C:\\Users\\vinicius.gomes\\AppData\\Local\\Temp\\ipykernel_9740\\3355230442.py:10: FutureWarning: The frame.append method is deprecated and will be removed from pandas in a future version. Use pandas.concat instead.\n",
      "  pg = pg1.append(pg2)\n",
      "\n"
     ]
    },
    {
     "name": "stdout",
     "output_type": "stream",
     "text": [
      "MIGUEL RODRIGUES VIEIRA\n",
      "104\n"
     ]
    },
    {
     "name": "stderr",
     "output_type": "stream",
     "text": [
      "C:\\Users\\vinicius.gomes\\AppData\\Local\\Temp\\ipykernel_9740\\3355230442.py:10: FutureWarning: The frame.append method is deprecated and will be removed from pandas in a future version. Use pandas.concat instead.\n",
      "  pg = pg1.append(pg2)\n",
      "\n"
     ]
    },
    {
     "name": "stdout",
     "output_type": "stream",
     "text": [
      "MILTON CESAR ROCHA DA SILVA\n",
      "105\n"
     ]
    },
    {
     "name": "stderr",
     "output_type": "stream",
     "text": [
      "C:\\Users\\vinicius.gomes\\AppData\\Local\\Temp\\ipykernel_9740\\3355230442.py:10: FutureWarning: The frame.append method is deprecated and will be removed from pandas in a future version. Use pandas.concat instead.\n",
      "  pg = pg1.append(pg2)\n",
      "\n"
     ]
    },
    {
     "name": "stdout",
     "output_type": "stream",
     "text": [
      "MIZAEL FRANCISCO DA SILVA\n",
      "106\n"
     ]
    },
    {
     "name": "stderr",
     "output_type": "stream",
     "text": [
      "C:\\Users\\vinicius.gomes\\AppData\\Local\\Temp\\ipykernel_9740\\3355230442.py:10: FutureWarning: The frame.append method is deprecated and will be removed from pandas in a future version. Use pandas.concat instead.\n",
      "  pg = pg1.append(pg2)\n",
      "\n"
     ]
    },
    {
     "name": "stdout",
     "output_type": "stream",
     "text": [
      "NELIO DA CONCEIÇÃO ALVES\n",
      "107\n"
     ]
    },
    {
     "name": "stderr",
     "output_type": "stream",
     "text": [
      "C:\\Users\\vinicius.gomes\\AppData\\Local\\Temp\\ipykernel_9740\\3355230442.py:10: FutureWarning: The frame.append method is deprecated and will be removed from pandas in a future version. Use pandas.concat instead.\n",
      "  pg = pg1.append(pg2)\n",
      "\n"
     ]
    },
    {
     "name": "stdout",
     "output_type": "stream",
     "text": [
      "NELSON INACIO PINTO JUNIOR\n",
      "108\n"
     ]
    },
    {
     "name": "stderr",
     "output_type": "stream",
     "text": [
      "C:\\Users\\vinicius.gomes\\AppData\\Local\\Temp\\ipykernel_9740\\3355230442.py:10: FutureWarning: The frame.append method is deprecated and will be removed from pandas in a future version. Use pandas.concat instead.\n",
      "  pg = pg1.append(pg2)\n",
      "\n"
     ]
    },
    {
     "name": "stdout",
     "output_type": "stream",
     "text": [
      "NICOMEDES SILVA MARTINS\n",
      "109\n"
     ]
    },
    {
     "name": "stderr",
     "output_type": "stream",
     "text": [
      "C:\\Users\\vinicius.gomes\\AppData\\Local\\Temp\\ipykernel_9740\\3355230442.py:10: FutureWarning: The frame.append method is deprecated and will be removed from pandas in a future version. Use pandas.concat instead.\n",
      "  pg = pg1.append(pg2)\n",
      "\n"
     ]
    },
    {
     "name": "stdout",
     "output_type": "stream",
     "text": [
      "OLDAIR ANDRADE MENEZES\n",
      "110\n"
     ]
    },
    {
     "name": "stderr",
     "output_type": "stream",
     "text": [
      "C:\\Users\\vinicius.gomes\\AppData\\Local\\Temp\\ipykernel_9740\\3355230442.py:10: FutureWarning: The frame.append method is deprecated and will be removed from pandas in a future version. Use pandas.concat instead.\n",
      "  pg = pg1.append(pg2)\n",
      "\n"
     ]
    },
    {
     "name": "stdout",
     "output_type": "stream",
     "text": [
      "OSNI DE OLIVEIRA BALBINO\n",
      "111\n"
     ]
    },
    {
     "name": "stderr",
     "output_type": "stream",
     "text": [
      "C:\\Users\\vinicius.gomes\\AppData\\Local\\Temp\\ipykernel_9740\\3355230442.py:10: FutureWarning: The frame.append method is deprecated and will be removed from pandas in a future version. Use pandas.concat instead.\n",
      "  pg = pg1.append(pg2)\n",
      "\n"
     ]
    },
    {
     "name": "stdout",
     "output_type": "stream",
     "text": [
      "OSWALDO DA ROCHA\n",
      "112\n"
     ]
    },
    {
     "name": "stderr",
     "output_type": "stream",
     "text": [
      "C:\\Users\\vinicius.gomes\\AppData\\Local\\Temp\\ipykernel_9740\\3355230442.py:10: FutureWarning: The frame.append method is deprecated and will be removed from pandas in a future version. Use pandas.concat instead.\n",
      "  pg = pg1.append(pg2)\n",
      "\n"
     ]
    },
    {
     "name": "stdout",
     "output_type": "stream",
     "text": [
      "PAULO DONIZETE DA SILVA\n",
      "113\n"
     ]
    },
    {
     "name": "stderr",
     "output_type": "stream",
     "text": [
      "C:\\Users\\vinicius.gomes\\AppData\\Local\\Temp\\ipykernel_9740\\3355230442.py:10: FutureWarning: The frame.append method is deprecated and will be removed from pandas in a future version. Use pandas.concat instead.\n",
      "  pg = pg1.append(pg2)\n",
      "\n"
     ]
    },
    {
     "name": "stdout",
     "output_type": "stream",
     "text": [
      "PAULO FILOMENO DE LIMA\n",
      "114\n"
     ]
    },
    {
     "name": "stderr",
     "output_type": "stream",
     "text": [
      "C:\\Users\\vinicius.gomes\\AppData\\Local\\Temp\\ipykernel_9740\\3355230442.py:10: FutureWarning: The frame.append method is deprecated and will be removed from pandas in a future version. Use pandas.concat instead.\n",
      "  pg = pg1.append(pg2)\n",
      "\n"
     ]
    },
    {
     "name": "stdout",
     "output_type": "stream",
     "text": [
      "PEDRO ALVES DE AGUIAR\n",
      "115\n"
     ]
    },
    {
     "name": "stderr",
     "output_type": "stream",
     "text": [
      "C:\\Users\\vinicius.gomes\\AppData\\Local\\Temp\\ipykernel_9740\\3355230442.py:10: FutureWarning: The frame.append method is deprecated and will be removed from pandas in a future version. Use pandas.concat instead.\n",
      "  pg = pg1.append(pg2)\n",
      "\n"
     ]
    },
    {
     "name": "stdout",
     "output_type": "stream",
     "text": [
      "PEDRO PEREIRA\n",
      "116\n"
     ]
    },
    {
     "name": "stderr",
     "output_type": "stream",
     "text": [
      "C:\\Users\\vinicius.gomes\\AppData\\Local\\Temp\\ipykernel_9740\\3355230442.py:10: FutureWarning: The frame.append method is deprecated and will be removed from pandas in a future version. Use pandas.concat instead.\n",
      "  pg = pg1.append(pg2)\n",
      "\n"
     ]
    },
    {
     "name": "stdout",
     "output_type": "stream",
     "text": [
      "RAUL JOSÉ DA SILVA\n",
      "117\n"
     ]
    },
    {
     "name": "stderr",
     "output_type": "stream",
     "text": [
      "C:\\Users\\vinicius.gomes\\AppData\\Local\\Temp\\ipykernel_9740\\3355230442.py:10: FutureWarning: The frame.append method is deprecated and will be removed from pandas in a future version. Use pandas.concat instead.\n",
      "  pg = pg1.append(pg2)\n",
      "\n"
     ]
    },
    {
     "name": "stdout",
     "output_type": "stream",
     "text": [
      "REGINALDO DE OLIVEIRA\n",
      "118\n"
     ]
    },
    {
     "name": "stderr",
     "output_type": "stream",
     "text": [
      "C:\\Users\\vinicius.gomes\\AppData\\Local\\Temp\\ipykernel_9740\\3355230442.py:10: FutureWarning: The frame.append method is deprecated and will be removed from pandas in a future version. Use pandas.concat instead.\n",
      "  pg = pg1.append(pg2)\n",
      "\n"
     ]
    },
    {
     "name": "stdout",
     "output_type": "stream",
     "text": [
      "REGINALDO LUZ PEDRO\n",
      "119\n"
     ]
    },
    {
     "name": "stderr",
     "output_type": "stream",
     "text": [
      "C:\\Users\\vinicius.gomes\\AppData\\Local\\Temp\\ipykernel_9740\\3355230442.py:10: FutureWarning: The frame.append method is deprecated and will be removed from pandas in a future version. Use pandas.concat instead.\n",
      "  pg = pg1.append(pg2)\n",
      "\n"
     ]
    },
    {
     "name": "stdout",
     "output_type": "stream",
     "text": [
      "RENATO DIAMANTINO SARDINHA\n",
      "120\n"
     ]
    },
    {
     "name": "stderr",
     "output_type": "stream",
     "text": [
      "C:\\Users\\vinicius.gomes\\AppData\\Local\\Temp\\ipykernel_9740\\3355230442.py:10: FutureWarning: The frame.append method is deprecated and will be removed from pandas in a future version. Use pandas.concat instead.\n",
      "  pg = pg1.append(pg2)\n",
      "\n"
     ]
    },
    {
     "name": "stdout",
     "output_type": "stream",
     "text": [
      "RICARDO MONCHUI\n",
      "121\n"
     ]
    },
    {
     "name": "stderr",
     "output_type": "stream",
     "text": [
      "C:\\Users\\vinicius.gomes\\AppData\\Local\\Temp\\ipykernel_9740\\3355230442.py:10: FutureWarning: The frame.append method is deprecated and will be removed from pandas in a future version. Use pandas.concat instead.\n",
      "  pg = pg1.append(pg2)\n",
      "\n"
     ]
    },
    {
     "name": "stdout",
     "output_type": "stream",
     "text": [
      "RICARDO PEREIRA COUTINHO\n",
      "122\n"
     ]
    },
    {
     "name": "stderr",
     "output_type": "stream",
     "text": [
      "C:\\Users\\vinicius.gomes\\AppData\\Local\\Temp\\ipykernel_9740\\3355230442.py:10: FutureWarning: The frame.append method is deprecated and will be removed from pandas in a future version. Use pandas.concat instead.\n",
      "  pg = pg1.append(pg2)\n",
      "\n"
     ]
    },
    {
     "name": "stdout",
     "output_type": "stream",
     "text": [
      "ROBERTO BETINELI\n",
      "123\n"
     ]
    },
    {
     "name": "stderr",
     "output_type": "stream",
     "text": [
      "C:\\Users\\vinicius.gomes\\AppData\\Local\\Temp\\ipykernel_9740\\3355230442.py:10: FutureWarning: The frame.append method is deprecated and will be removed from pandas in a future version. Use pandas.concat instead.\n",
      "  pg = pg1.append(pg2)\n",
      "\n"
     ]
    },
    {
     "name": "stdout",
     "output_type": "stream",
     "text": [
      "ROBERTO CORSO\n",
      "124\n"
     ]
    },
    {
     "name": "stderr",
     "output_type": "stream",
     "text": [
      "C:\\Users\\vinicius.gomes\\AppData\\Local\\Temp\\ipykernel_9740\\3355230442.py:10: FutureWarning: The frame.append method is deprecated and will be removed from pandas in a future version. Use pandas.concat instead.\n",
      "  pg = pg1.append(pg2)\n",
      "\n"
     ]
    },
    {
     "name": "stdout",
     "output_type": "stream",
     "text": [
      "ROBSON DA SILVA\n",
      "125\n"
     ]
    },
    {
     "name": "stderr",
     "output_type": "stream",
     "text": [
      "C:\\Users\\vinicius.gomes\\AppData\\Local\\Temp\\ipykernel_9740\\3355230442.py:10: FutureWarning: The frame.append method is deprecated and will be removed from pandas in a future version. Use pandas.concat instead.\n",
      "  pg = pg1.append(pg2)\n",
      "\n"
     ]
    },
    {
     "name": "stdout",
     "output_type": "stream",
     "text": [
      "RODE DE MELO LOPES\n",
      "126\n"
     ]
    },
    {
     "name": "stderr",
     "output_type": "stream",
     "text": [
      "C:\\Users\\vinicius.gomes\\AppData\\Local\\Temp\\ipykernel_9740\\3355230442.py:10: FutureWarning: The frame.append method is deprecated and will be removed from pandas in a future version. Use pandas.concat instead.\n",
      "  pg = pg1.append(pg2)\n",
      "\n"
     ]
    },
    {
     "name": "stdout",
     "output_type": "stream",
     "text": [
      "ROGERIO ARRUDA\n",
      "127\n"
     ]
    },
    {
     "name": "stderr",
     "output_type": "stream",
     "text": [
      "C:\\Users\\vinicius.gomes\\AppData\\Local\\Temp\\ipykernel_9740\\3355230442.py:10: FutureWarning: The frame.append method is deprecated and will be removed from pandas in a future version. Use pandas.concat instead.\n",
      "  pg = pg1.append(pg2)\n",
      "\n"
     ]
    },
    {
     "name": "stdout",
     "output_type": "stream",
     "text": [
      "RUBENS FREITAS DOS SANTOS\n",
      "128\n"
     ]
    },
    {
     "name": "stderr",
     "output_type": "stream",
     "text": [
      "C:\\Users\\vinicius.gomes\\AppData\\Local\\Temp\\ipykernel_9740\\3355230442.py:10: FutureWarning: The frame.append method is deprecated and will be removed from pandas in a future version. Use pandas.concat instead.\n",
      "  pg = pg1.append(pg2)\n",
      "\n"
     ]
    },
    {
     "name": "stdout",
     "output_type": "stream",
     "text": [
      "SALVADOR GUARRIERO NETO\n",
      "129\n"
     ]
    },
    {
     "name": "stderr",
     "output_type": "stream",
     "text": [
      "C:\\Users\\vinicius.gomes\\AppData\\Local\\Temp\\ipykernel_9740\\3355230442.py:10: FutureWarning: The frame.append method is deprecated and will be removed from pandas in a future version. Use pandas.concat instead.\n",
      "  pg = pg1.append(pg2)\n",
      "\n"
     ]
    },
    {
     "name": "stdout",
     "output_type": "stream",
     "text": [
      "SAMUEL SILVEIRA\n",
      "130\n"
     ]
    },
    {
     "name": "stderr",
     "output_type": "stream",
     "text": [
      "C:\\Users\\vinicius.gomes\\AppData\\Local\\Temp\\ipykernel_9740\\3355230442.py:10: FutureWarning: The frame.append method is deprecated and will be removed from pandas in a future version. Use pandas.concat instead.\n",
      "  pg = pg1.append(pg2)\n",
      "\n"
     ]
    },
    {
     "name": "stdout",
     "output_type": "stream",
     "text": [
      "SAMUEL PEREIRA DE OLIVEIRA\n",
      "131\n"
     ]
    },
    {
     "name": "stderr",
     "output_type": "stream",
     "text": [
      "C:\\Users\\vinicius.gomes\\AppData\\Local\\Temp\\ipykernel_9740\\3355230442.py:10: FutureWarning: The frame.append method is deprecated and will be removed from pandas in a future version. Use pandas.concat instead.\n",
      "  pg = pg1.append(pg2)\n",
      "\n"
     ]
    },
    {
     "name": "stdout",
     "output_type": "stream",
     "text": [
      "SEBASTIAO EURIPEDES OLIVEIRA\n",
      "132\n"
     ]
    },
    {
     "name": "stderr",
     "output_type": "stream",
     "text": [
      "C:\\Users\\vinicius.gomes\\AppData\\Local\\Temp\\ipykernel_9740\\3355230442.py:10: FutureWarning: The frame.append method is deprecated and will be removed from pandas in a future version. Use pandas.concat instead.\n",
      "  pg = pg1.append(pg2)\n",
      "\n"
     ]
    },
    {
     "name": "stdout",
     "output_type": "stream",
     "text": [
      "SEBASTIÃO DE SOUZA APARECIDO\n",
      "133\n"
     ]
    },
    {
     "name": "stderr",
     "output_type": "stream",
     "text": [
      "C:\\Users\\vinicius.gomes\\AppData\\Local\\Temp\\ipykernel_9740\\3355230442.py:10: FutureWarning: The frame.append method is deprecated and will be removed from pandas in a future version. Use pandas.concat instead.\n",
      "  pg = pg1.append(pg2)\n",
      "\n"
     ]
    },
    {
     "name": "stdout",
     "output_type": "stream",
     "text": [
      "SERGIO ROBERTO M. NASCIMENTO\n",
      "134\n"
     ]
    },
    {
     "name": "stderr",
     "output_type": "stream",
     "text": [
      "C:\\Users\\vinicius.gomes\\AppData\\Local\\Temp\\ipykernel_9740\\3355230442.py:10: FutureWarning: The frame.append method is deprecated and will be removed from pandas in a future version. Use pandas.concat instead.\n",
      "  pg = pg1.append(pg2)\n",
      "\n"
     ]
    },
    {
     "name": "stdout",
     "output_type": "stream",
     "text": [
      "SETE PEREIRA DE OLIVEIRA\n",
      "135\n"
     ]
    },
    {
     "name": "stderr",
     "output_type": "stream",
     "text": [
      "C:\\Users\\vinicius.gomes\\AppData\\Local\\Temp\\ipykernel_9740\\3355230442.py:10: FutureWarning: The frame.append method is deprecated and will be removed from pandas in a future version. Use pandas.concat instead.\n",
      "  pg = pg1.append(pg2)\n",
      "\n"
     ]
    },
    {
     "name": "stdout",
     "output_type": "stream",
     "text": [
      "SIBELE LEISE ANTONIO GARCIA\n",
      "136\n"
     ]
    },
    {
     "name": "stderr",
     "output_type": "stream",
     "text": [
      "C:\\Users\\vinicius.gomes\\AppData\\Local\\Temp\\ipykernel_9740\\3355230442.py:10: FutureWarning: The frame.append method is deprecated and will be removed from pandas in a future version. Use pandas.concat instead.\n",
      "  pg = pg1.append(pg2)\n",
      "\n"
     ]
    },
    {
     "name": "stdout",
     "output_type": "stream",
     "text": [
      "SULIVAN APARECIDO LEITE SANTOS\n",
      "137\n"
     ]
    },
    {
     "name": "stderr",
     "output_type": "stream",
     "text": [
      "C:\\Users\\vinicius.gomes\\AppData\\Local\\Temp\\ipykernel_9740\\3355230442.py:10: FutureWarning: The frame.append method is deprecated and will be removed from pandas in a future version. Use pandas.concat instead.\n",
      "  pg = pg1.append(pg2)\n",
      "\n"
     ]
    },
    {
     "name": "stdout",
     "output_type": "stream",
     "text": [
      "TABAJARA DOS SANTOS\n",
      "138\n"
     ]
    },
    {
     "name": "stderr",
     "output_type": "stream",
     "text": [
      "C:\\Users\\vinicius.gomes\\AppData\\Local\\Temp\\ipykernel_9740\\3355230442.py:10: FutureWarning: The frame.append method is deprecated and will be removed from pandas in a future version. Use pandas.concat instead.\n",
      "  pg = pg1.append(pg2)\n",
      "\n"
     ]
    },
    {
     "name": "stdout",
     "output_type": "stream",
     "text": [
      "VALDEMIR TEODORO DA SILVA\n",
      "139\n"
     ]
    },
    {
     "name": "stderr",
     "output_type": "stream",
     "text": [
      "C:\\Users\\vinicius.gomes\\AppData\\Local\\Temp\\ipykernel_9740\\3355230442.py:10: FutureWarning: The frame.append method is deprecated and will be removed from pandas in a future version. Use pandas.concat instead.\n",
      "  pg = pg1.append(pg2)\n",
      "\n"
     ]
    },
    {
     "name": "stdout",
     "output_type": "stream",
     "text": [
      "VALDENOR PASTEGA\n",
      "140\n"
     ]
    },
    {
     "name": "stderr",
     "output_type": "stream",
     "text": [
      "C:\\Users\\vinicius.gomes\\AppData\\Local\\Temp\\ipykernel_9740\\3355230442.py:10: FutureWarning: The frame.append method is deprecated and will be removed from pandas in a future version. Use pandas.concat instead.\n",
      "  pg = pg1.append(pg2)\n",
      "\n"
     ]
    },
    {
     "name": "stdout",
     "output_type": "stream",
     "text": [
      "VANDERLEI ALVES DA SILVA\n",
      "141\n"
     ]
    },
    {
     "name": "stderr",
     "output_type": "stream",
     "text": [
      "C:\\Users\\vinicius.gomes\\AppData\\Local\\Temp\\ipykernel_9740\\3355230442.py:10: FutureWarning: The frame.append method is deprecated and will be removed from pandas in a future version. Use pandas.concat instead.\n",
      "  pg = pg1.append(pg2)\n",
      "\n"
     ]
    },
    {
     "name": "stdout",
     "output_type": "stream",
     "text": [
      "WALMIR CARDOMINGO\n",
      "142\n"
     ]
    },
    {
     "name": "stderr",
     "output_type": "stream",
     "text": [
      "C:\\Users\\vinicius.gomes\\AppData\\Local\\Temp\\ipykernel_9740\\3355230442.py:10: FutureWarning: The frame.append method is deprecated and will be removed from pandas in a future version. Use pandas.concat instead.\n",
      "  pg = pg1.append(pg2)\n",
      "\n"
     ]
    },
    {
     "name": "stdout",
     "output_type": "stream",
     "text": [
      "WILKER COSTA PAES\n",
      "143\n",
      "WILLIAN ALVARENGA DE SOUZA\n",
      "144\n"
     ]
    },
    {
     "name": "stderr",
     "output_type": "stream",
     "text": [
      "C:\\Users\\vinicius.gomes\\AppData\\Local\\Temp\\ipykernel_9740\\3355230442.py:10: FutureWarning: The frame.append method is deprecated and will be removed from pandas in a future version. Use pandas.concat instead.\n",
      "  pg = pg1.append(pg2)\n",
      "\n"
     ]
    }
   ],
   "source": [
    "i = 0\n",
    "CABECALHO = 'ID;NOME;RF;VINCULO;CPF;DATA_NASCIMENTO;PROCESSO_JUDICIAL;PROCESSO_SEI;PERIODO_INICIAL;PERIODO_FINAL;SITUACAO_FUNCIONAL;DESCRICAO;OBS\\n'\n",
    "save_file(BASE_DIR,CABECALHO,\"servidores\",\"csv\")\n",
    "for file in DATA_FILES:\n",
    "    i += 1\n",
    "    CONTEUDO = ler_dados(file)\n",
    "    CABECALHO,TABELA = extrai_cabecalho(CONTEUDO,i,file)\n",
    "    save_file(BASE_DIR,CABECALHO,\"servidores\",\"csv\")\n",
    "    print(i)"
   ]
  },
  {
   "cell_type": "code",
   "execution_count": 401,
   "metadata": {},
   "outputs": [],
   "source": [
    "file_test = f'{DATA_DIR}\\\\{DATA_FILES[0]}'"
   ]
  },
  {
   "cell_type": "code",
   "execution_count": 402,
   "metadata": {},
   "outputs": [],
   "source": [
    "import tabula\n",
    "cpf = '12345678910'\n",
    "id = '1'"
   ]
  },
  {
   "cell_type": "code",
   "execution_count": 403,
   "metadata": {},
   "outputs": [],
   "source": [
    "colunas = ['MÊS', 'Unnamed: 0', 'Unnamed: 1', 'INSAL. %', 'VALOR', '6a PTE','FÉRIAS', 'Q. DIAS', 'B-01', 'V. INSAL.', '6aPTE', 'FÉRIAS.1','A RECEB.']\n",
    "colunas2 = ['MÊS', 'Unnamed: 1', 'INSAL. %', 'VALOR', '6a PTE','FÉRIAS', 'Q. DIAS', 'B-01', 'V. INSAL.', '6aPTE', 'FÉRIAS.1','A RECEB.']"
   ]
  },
  {
   "cell_type": "code",
   "execution_count": 416,
   "metadata": {},
   "outputs": [],
   "source": [
    "pg1,pg2 = tabula.read_pdf_with_template(file_test,template_path=f'{BASE_DIR}\\\\tabula2.json')\n",
    "#pg1['CPF'] = cpf\n",
    "#pg1['ID'] = id\n",
    "#pg2['CPF'] = cpf\n",
    "#pg2['ID'] = id"
   ]
  },
  {
   "cell_type": "code",
   "execution_count": 423,
   "metadata": {},
   "outputs": [
    {
     "data": {
      "text/plain": [
       "26"
      ]
     },
     "execution_count": 423,
     "metadata": {},
     "output_type": "execute_result"
    }
   ],
   "source": [
    "len(pg2)"
   ]
  },
  {
   "cell_type": "code",
   "execution_count": 424,
   "metadata": {},
   "outputs": [
    {
     "name": "stderr",
     "output_type": "stream",
     "text": [
      "C:\\Users\\vinicius.gomes\\AppData\\Local\\Temp\\ipykernel_9740\\1460474564.py:1: FutureWarning: The frame.append method is deprecated and will be removed from pandas in a future version. Use pandas.concat instead.\n",
      "  pg2.append(pg2.columns.values)\n",
      "\n"
     ]
    },
    {
     "ename": "TypeError",
     "evalue": "cannot concatenate object of type '<class 'numpy.ndarray'>'; only Series and DataFrame objs are valid",
     "output_type": "error",
     "traceback": [
      "\u001b[1;31m---------------------------------------------------------------------------\u001b[0m",
      "\u001b[1;31mTypeError\u001b[0m                                 Traceback (most recent call last)",
      "\u001b[1;32mc:\\Projetos\\sfmsp\\sfmsp.ipynb Célula: 22\u001b[0m in \u001b[0;36m<cell line: 1>\u001b[1;34m()\u001b[0m\n\u001b[1;32m----> <a href='vscode-notebook-cell:/c%3A/Projetos/sfmsp/sfmsp.ipynb#ch0000042?line=0'>1</a>\u001b[0m pg2\u001b[39m.\u001b[39;49mappend(pg2\u001b[39m.\u001b[39;49mcolumns\u001b[39m.\u001b[39;49mvalues)\n",
      "File \u001b[1;32mc:\\Projetos\\Envs\\dom\\lib\\site-packages\\pandas\\core\\frame.py:9039\u001b[0m, in \u001b[0;36mDataFrame.append\u001b[1;34m(self, other, ignore_index, verify_integrity, sort)\u001b[0m\n\u001b[0;32m   8936\u001b[0m \u001b[39m\"\"\"\u001b[39;00m\n\u001b[0;32m   8937\u001b[0m \u001b[39mAppend rows of `other` to the end of caller, returning a new object.\u001b[39;00m\n\u001b[0;32m   8938\u001b[0m \n\u001b[1;32m   (...)\u001b[0m\n\u001b[0;32m   9029\u001b[0m \u001b[39m4  4\u001b[39;00m\n\u001b[0;32m   9030\u001b[0m \u001b[39m\"\"\"\u001b[39;00m\n\u001b[0;32m   9031\u001b[0m warnings\u001b[39m.\u001b[39mwarn(\n\u001b[0;32m   9032\u001b[0m     \u001b[39m\"\u001b[39m\u001b[39mThe frame.append method is deprecated \u001b[39m\u001b[39m\"\u001b[39m\n\u001b[0;32m   9033\u001b[0m     \u001b[39m\"\u001b[39m\u001b[39mand will be removed from pandas in a future version. \u001b[39m\u001b[39m\"\u001b[39m\n\u001b[1;32m   (...)\u001b[0m\n\u001b[0;32m   9036\u001b[0m     stacklevel\u001b[39m=\u001b[39mfind_stack_level(),\n\u001b[0;32m   9037\u001b[0m )\n\u001b[1;32m-> 9039\u001b[0m \u001b[39mreturn\u001b[39;00m \u001b[39mself\u001b[39;49m\u001b[39m.\u001b[39;49m_append(other, ignore_index, verify_integrity, sort)\n",
      "File \u001b[1;32mc:\\Projetos\\Envs\\dom\\lib\\site-packages\\pandas\\core\\frame.py:9082\u001b[0m, in \u001b[0;36mDataFrame._append\u001b[1;34m(self, other, ignore_index, verify_integrity, sort)\u001b[0m\n\u001b[0;32m   9079\u001b[0m \u001b[39melse\u001b[39;00m:\n\u001b[0;32m   9080\u001b[0m     to_concat \u001b[39m=\u001b[39m [\u001b[39mself\u001b[39m, other]\n\u001b[1;32m-> 9082\u001b[0m result \u001b[39m=\u001b[39m concat(\n\u001b[0;32m   9083\u001b[0m     to_concat,\n\u001b[0;32m   9084\u001b[0m     ignore_index\u001b[39m=\u001b[39;49mignore_index,\n\u001b[0;32m   9085\u001b[0m     verify_integrity\u001b[39m=\u001b[39;49mverify_integrity,\n\u001b[0;32m   9086\u001b[0m     sort\u001b[39m=\u001b[39;49msort,\n\u001b[0;32m   9087\u001b[0m )\n\u001b[0;32m   9088\u001b[0m \u001b[39mif\u001b[39;00m (\n\u001b[0;32m   9089\u001b[0m     combined_columns \u001b[39mis\u001b[39;00m \u001b[39mnot\u001b[39;00m \u001b[39mNone\u001b[39;00m\n\u001b[0;32m   9090\u001b[0m     \u001b[39mand\u001b[39;00m \u001b[39mnot\u001b[39;00m sort\n\u001b[1;32m   (...)\u001b[0m\n\u001b[0;32m   9095\u001b[0m     \u001b[39m# combined_columns.equals check is necessary for preserving dtype\u001b[39;00m\n\u001b[0;32m   9096\u001b[0m     \u001b[39m#  in test_crosstab_normalize\u001b[39;00m\n\u001b[0;32m   9097\u001b[0m     result \u001b[39m=\u001b[39m result\u001b[39m.\u001b[39mreindex(combined_columns, axis\u001b[39m=\u001b[39m\u001b[39m1\u001b[39m)\n",
      "File \u001b[1;32mc:\\Projetos\\Envs\\dom\\lib\\site-packages\\pandas\\util\\_decorators.py:311\u001b[0m, in \u001b[0;36mdeprecate_nonkeyword_arguments.<locals>.decorate.<locals>.wrapper\u001b[1;34m(*args, **kwargs)\u001b[0m\n\u001b[0;32m    305\u001b[0m \u001b[39mif\u001b[39;00m \u001b[39mlen\u001b[39m(args) \u001b[39m>\u001b[39m num_allow_args:\n\u001b[0;32m    306\u001b[0m     warnings\u001b[39m.\u001b[39mwarn(\n\u001b[0;32m    307\u001b[0m         msg\u001b[39m.\u001b[39mformat(arguments\u001b[39m=\u001b[39marguments),\n\u001b[0;32m    308\u001b[0m         \u001b[39mFutureWarning\u001b[39;00m,\n\u001b[0;32m    309\u001b[0m         stacklevel\u001b[39m=\u001b[39mstacklevel,\n\u001b[0;32m    310\u001b[0m     )\n\u001b[1;32m--> 311\u001b[0m \u001b[39mreturn\u001b[39;00m func(\u001b[39m*\u001b[39margs, \u001b[39m*\u001b[39m\u001b[39m*\u001b[39mkwargs)\n",
      "File \u001b[1;32mc:\\Projetos\\Envs\\dom\\lib\\site-packages\\pandas\\core\\reshape\\concat.py:347\u001b[0m, in \u001b[0;36mconcat\u001b[1;34m(objs, axis, join, ignore_index, keys, levels, names, verify_integrity, sort, copy)\u001b[0m\n\u001b[0;32m    143\u001b[0m \u001b[39m@deprecate_nonkeyword_arguments\u001b[39m(version\u001b[39m=\u001b[39m\u001b[39mNone\u001b[39;00m, allowed_args\u001b[39m=\u001b[39m[\u001b[39m\"\u001b[39m\u001b[39mobjs\u001b[39m\u001b[39m\"\u001b[39m])\n\u001b[0;32m    144\u001b[0m \u001b[39mdef\u001b[39;00m \u001b[39mconcat\u001b[39m(\n\u001b[0;32m    145\u001b[0m     objs: Iterable[NDFrame] \u001b[39m|\u001b[39m Mapping[Hashable, NDFrame],\n\u001b[1;32m   (...)\u001b[0m\n\u001b[0;32m    154\u001b[0m     copy: \u001b[39mbool\u001b[39m \u001b[39m=\u001b[39m \u001b[39mTrue\u001b[39;00m,\n\u001b[0;32m    155\u001b[0m ) \u001b[39m-\u001b[39m\u001b[39m>\u001b[39m DataFrame \u001b[39m|\u001b[39m Series:\n\u001b[0;32m    156\u001b[0m     \u001b[39m\"\"\"\u001b[39;00m\n\u001b[0;32m    157\u001b[0m \u001b[39m    Concatenate pandas objects along a particular axis with optional set logic\u001b[39;00m\n\u001b[0;32m    158\u001b[0m \u001b[39m    along the other axes.\u001b[39;00m\n\u001b[1;32m   (...)\u001b[0m\n\u001b[0;32m    345\u001b[0m \u001b[39m    ValueError: Indexes have overlapping values: ['a']\u001b[39;00m\n\u001b[0;32m    346\u001b[0m \u001b[39m    \"\"\"\u001b[39;00m\n\u001b[1;32m--> 347\u001b[0m     op \u001b[39m=\u001b[39m _Concatenator(\n\u001b[0;32m    348\u001b[0m         objs,\n\u001b[0;32m    349\u001b[0m         axis\u001b[39m=\u001b[39;49maxis,\n\u001b[0;32m    350\u001b[0m         ignore_index\u001b[39m=\u001b[39;49mignore_index,\n\u001b[0;32m    351\u001b[0m         join\u001b[39m=\u001b[39;49mjoin,\n\u001b[0;32m    352\u001b[0m         keys\u001b[39m=\u001b[39;49mkeys,\n\u001b[0;32m    353\u001b[0m         levels\u001b[39m=\u001b[39;49mlevels,\n\u001b[0;32m    354\u001b[0m         names\u001b[39m=\u001b[39;49mnames,\n\u001b[0;32m    355\u001b[0m         verify_integrity\u001b[39m=\u001b[39;49mverify_integrity,\n\u001b[0;32m    356\u001b[0m         copy\u001b[39m=\u001b[39;49mcopy,\n\u001b[0;32m    357\u001b[0m         sort\u001b[39m=\u001b[39;49msort,\n\u001b[0;32m    358\u001b[0m     )\n\u001b[0;32m    360\u001b[0m     \u001b[39mreturn\u001b[39;00m op\u001b[39m.\u001b[39mget_result()\n",
      "File \u001b[1;32mc:\\Projetos\\Envs\\dom\\lib\\site-packages\\pandas\\core\\reshape\\concat.py:437\u001b[0m, in \u001b[0;36m_Concatenator.__init__\u001b[1;34m(self, objs, axis, join, keys, levels, names, ignore_index, verify_integrity, copy, sort)\u001b[0m\n\u001b[0;32m    432\u001b[0m     \u001b[39mif\u001b[39;00m \u001b[39mnot\u001b[39;00m \u001b[39misinstance\u001b[39m(obj, (ABCSeries, ABCDataFrame)):\n\u001b[0;32m    433\u001b[0m         msg \u001b[39m=\u001b[39m (\n\u001b[0;32m    434\u001b[0m             \u001b[39mf\u001b[39m\u001b[39m\"\u001b[39m\u001b[39mcannot concatenate object of type \u001b[39m\u001b[39m'\u001b[39m\u001b[39m{\u001b[39;00m\u001b[39mtype\u001b[39m(obj)\u001b[39m}\u001b[39;00m\u001b[39m'\u001b[39m\u001b[39m; \u001b[39m\u001b[39m\"\u001b[39m\n\u001b[0;32m    435\u001b[0m             \u001b[39m\"\u001b[39m\u001b[39monly Series and DataFrame objs are valid\u001b[39m\u001b[39m\"\u001b[39m\n\u001b[0;32m    436\u001b[0m         )\n\u001b[1;32m--> 437\u001b[0m         \u001b[39mraise\u001b[39;00m \u001b[39mTypeError\u001b[39;00m(msg)\n\u001b[0;32m    439\u001b[0m     ndims\u001b[39m.\u001b[39madd(obj\u001b[39m.\u001b[39mndim)\n\u001b[0;32m    441\u001b[0m \u001b[39m# get the sample\u001b[39;00m\n\u001b[0;32m    442\u001b[0m \u001b[39m# want the highest ndim that we have, and must be non-empty\u001b[39;00m\n\u001b[0;32m    443\u001b[0m \u001b[39m# unless all objs are empty\u001b[39;00m\n",
      "\u001b[1;31mTypeError\u001b[0m: cannot concatenate object of type '<class 'numpy.ndarray'>'; only Series and DataFrame objs are valid"
     ]
    }
   ],
   "source": [
    "pg2.append(pg2.columns))"
   ]
  },
  {
   "cell_type": "code",
   "execution_count": 392,
   "metadata": {},
   "outputs": [
    {
     "data": {
      "text/plain": [
       "Index(['MÊS', 'Unnamed: 0', 'Unnamed: 1', 'INSAL. %', 'VALOR', '6a PTE',\n",
       "       'FÉRIAS', 'Q. DIAS', 'B-01', 'V. INSAL.', '6aPTE', 'FÉRIAS.1',\n",
       "       'A RECEB.'],\n",
       "      dtype='object')"
      ]
     },
     "execution_count": 392,
     "metadata": {},
     "output_type": "execute_result"
    }
   ],
   "source": [
    "pg1.columns"
   ]
  },
  {
   "cell_type": "code",
   "execution_count": 393,
   "metadata": {},
   "outputs": [],
   "source": [
    "pg1.set_index('MÊS', inplace = True)"
   ]
  },
  {
   "cell_type": "code",
   "execution_count": 394,
   "metadata": {},
   "outputs": [
    {
     "data": {
      "text/html": [
       "<div>\n",
       "<style scoped>\n",
       "    .dataframe tbody tr th:only-of-type {\n",
       "        vertical-align: middle;\n",
       "    }\n",
       "\n",
       "    .dataframe tbody tr th {\n",
       "        vertical-align: top;\n",
       "    }\n",
       "\n",
       "    .dataframe thead th {\n",
       "        text-align: right;\n",
       "    }\n",
       "</style>\n",
       "<table border=\"1\" class=\"dataframe\">\n",
       "  <thead>\n",
       "    <tr style=\"text-align: right;\">\n",
       "      <th></th>\n",
       "      <th>Unnamed: 0</th>\n",
       "      <th>Unnamed: 1</th>\n",
       "      <th>INSAL. %</th>\n",
       "      <th>VALOR</th>\n",
       "      <th>6a PTE</th>\n",
       "      <th>FÉRIAS</th>\n",
       "      <th>Q. DIAS</th>\n",
       "      <th>B-01</th>\n",
       "      <th>V. INSAL.</th>\n",
       "      <th>6aPTE</th>\n",
       "      <th>FÉRIAS.1</th>\n",
       "      <th>A RECEB.</th>\n",
       "    </tr>\n",
       "    <tr>\n",
       "      <th>MÊS</th>\n",
       "      <th></th>\n",
       "      <th></th>\n",
       "      <th></th>\n",
       "      <th></th>\n",
       "      <th></th>\n",
       "      <th></th>\n",
       "      <th></th>\n",
       "      <th></th>\n",
       "      <th></th>\n",
       "      <th></th>\n",
       "      <th></th>\n",
       "      <th></th>\n",
       "    </tr>\n",
       "  </thead>\n",
       "  <tbody>\n",
       "    <tr>\n",
       "      <th>MÊS</th>\n",
       "      <td>NaN</td>\n",
       "      <td>NaN</td>\n",
       "      <td>INSAL. %</td>\n",
       "      <td>VALOR</td>\n",
       "      <td>6a PTE</td>\n",
       "      <td>FÉRIAS</td>\n",
       "      <td>Q. DIAS</td>\n",
       "      <td>B-01</td>\n",
       "      <td>V. INSAL.</td>\n",
       "      <td>6aPTE</td>\n",
       "      <td>FÉRIAS</td>\n",
       "      <td>A RECEB.</td>\n",
       "    </tr>\n",
       "    <tr>\n",
       "      <th>mai-12</th>\n",
       "      <td>NaN</td>\n",
       "      <td>0.0</td>\n",
       "      <td>40%</td>\n",
       "      <td>46,54</td>\n",
       "      <td>0,00</td>\n",
       "      <td>0,00</td>\n",
       "      <td>NaN</td>\n",
       "      <td>444,10</td>\n",
       "      <td>177,64</td>\n",
       "      <td>0,00</td>\n",
       "      <td>0,00</td>\n",
       "      <td>131,10</td>\n",
       "    </tr>\n",
       "    <tr>\n",
       "      <th>jun-12</th>\n",
       "      <td>NaN</td>\n",
       "      <td>0.0</td>\n",
       "      <td>40%</td>\n",
       "      <td>46,54</td>\n",
       "      <td>0,00</td>\n",
       "      <td>0,00</td>\n",
       "      <td>NaN</td>\n",
       "      <td>444,10</td>\n",
       "      <td>177,64</td>\n",
       "      <td>0,00</td>\n",
       "      <td>0,00</td>\n",
       "      <td>131,10</td>\n",
       "    </tr>\n",
       "    <tr>\n",
       "      <th>jul-12</th>\n",
       "      <td>NaN</td>\n",
       "      <td>0.0</td>\n",
       "      <td>40%</td>\n",
       "      <td>46,54</td>\n",
       "      <td>0,00</td>\n",
       "      <td>0,00</td>\n",
       "      <td>NaN</td>\n",
       "      <td>444,10</td>\n",
       "      <td>177,64</td>\n",
       "      <td>0,00</td>\n",
       "      <td>0,00</td>\n",
       "      <td>131,10</td>\n",
       "    </tr>\n",
       "    <tr>\n",
       "      <th>ago-12</th>\n",
       "      <td>NaN</td>\n",
       "      <td>0.0</td>\n",
       "      <td>40%</td>\n",
       "      <td>46,54</td>\n",
       "      <td>0,00</td>\n",
       "      <td>0,00</td>\n",
       "      <td>NaN</td>\n",
       "      <td>444,10</td>\n",
       "      <td>177,64</td>\n",
       "      <td>0,00</td>\n",
       "      <td>0,00</td>\n",
       "      <td>131,10</td>\n",
       "    </tr>\n",
       "    <tr>\n",
       "      <th>...</th>\n",
       "      <td>...</td>\n",
       "      <td>...</td>\n",
       "      <td>...</td>\n",
       "      <td>...</td>\n",
       "      <td>...</td>\n",
       "      <td>...</td>\n",
       "      <td>...</td>\n",
       "      <td>...</td>\n",
       "      <td>...</td>\n",
       "      <td>...</td>\n",
       "      <td>...</td>\n",
       "      <td>...</td>\n",
       "    </tr>\n",
       "    <tr>\n",
       "      <th>nov-16</th>\n",
       "      <td>NaN</td>\n",
       "      <td>1.0</td>\n",
       "      <td>40%</td>\n",
       "      <td>47,02</td>\n",
       "      <td>7,84</td>\n",
       "      <td>0,00</td>\n",
       "      <td>NaN</td>\n",
       "      <td>755,15</td>\n",
       "      <td>302,06</td>\n",
       "      <td>50,34</td>\n",
       "      <td>0,00</td>\n",
       "      <td>297,55</td>\n",
       "    </tr>\n",
       "    <tr>\n",
       "      <th>dez-16</th>\n",
       "      <td>NaN</td>\n",
       "      <td>1.0</td>\n",
       "      <td>40%</td>\n",
       "      <td>47,02</td>\n",
       "      <td>7,84</td>\n",
       "      <td>15,67</td>\n",
       "      <td>30</td>\n",
       "      <td>755,15</td>\n",
       "      <td>302,06</td>\n",
       "      <td>50,34</td>\n",
       "      <td>100,69</td>\n",
       "      <td>382,56</td>\n",
       "    </tr>\n",
       "    <tr>\n",
       "      <th>13o sal/16</th>\n",
       "      <td>NaN</td>\n",
       "      <td>1.0</td>\n",
       "      <td>40%</td>\n",
       "      <td>47,02</td>\n",
       "      <td>7,84</td>\n",
       "      <td>0,00</td>\n",
       "      <td>NaN</td>\n",
       "      <td>755,15</td>\n",
       "      <td>302,06</td>\n",
       "      <td>50,34</td>\n",
       "      <td>0,00</td>\n",
       "      <td>297,55</td>\n",
       "    </tr>\n",
       "    <tr>\n",
       "      <th>jan-17</th>\n",
       "      <td>NaN</td>\n",
       "      <td>1.0</td>\n",
       "      <td>40%</td>\n",
       "      <td>47,02</td>\n",
       "      <td>7,84</td>\n",
       "      <td>0,00</td>\n",
       "      <td>NaN</td>\n",
       "      <td>755,15</td>\n",
       "      <td>302,06</td>\n",
       "      <td>50,34</td>\n",
       "      <td>0,00</td>\n",
       "      <td>297,55</td>\n",
       "    </tr>\n",
       "    <tr>\n",
       "      <th>fev-17</th>\n",
       "      <td>NaN</td>\n",
       "      <td>1.0</td>\n",
       "      <td>40%</td>\n",
       "      <td>47,02</td>\n",
       "      <td>7,84</td>\n",
       "      <td>0,00</td>\n",
       "      <td>NaN</td>\n",
       "      <td>755,15</td>\n",
       "      <td>302,06</td>\n",
       "      <td>50,34</td>\n",
       "      <td>0,00</td>\n",
       "      <td>297,55</td>\n",
       "    </tr>\n",
       "  </tbody>\n",
       "</table>\n",
       "<p>64 rows × 12 columns</p>\n",
       "</div>"
      ],
      "text/plain": [
       "            Unnamed: 0  Unnamed: 1  INSAL. %  VALOR  6a PTE  FÉRIAS  Q. DIAS  \\\n",
       "MÊS                                                                            \n",
       "MÊS                NaN         NaN  INSAL. %  VALOR  6a PTE  FÉRIAS  Q. DIAS   \n",
       "mai-12             NaN         0.0       40%  46,54    0,00    0,00      NaN   \n",
       "jun-12             NaN         0.0       40%  46,54    0,00    0,00      NaN   \n",
       "jul-12             NaN         0.0       40%  46,54    0,00    0,00      NaN   \n",
       "ago-12             NaN         0.0       40%  46,54    0,00    0,00      NaN   \n",
       "...                ...         ...       ...    ...     ...     ...      ...   \n",
       "nov-16             NaN         1.0       40%  47,02    7,84    0,00      NaN   \n",
       "dez-16             NaN         1.0       40%  47,02    7,84   15,67       30   \n",
       "13o sal/16         NaN         1.0       40%  47,02    7,84    0,00      NaN   \n",
       "jan-17             NaN         1.0       40%  47,02    7,84    0,00      NaN   \n",
       "fev-17             NaN         1.0       40%  47,02    7,84    0,00      NaN   \n",
       "\n",
       "              B-01  V. INSAL.  6aPTE FÉRIAS.1  A RECEB.  \n",
       "MÊS                                                      \n",
       "MÊS           B-01  V. INSAL.  6aPTE   FÉRIAS  A RECEB.  \n",
       "mai-12      444,10     177,64   0,00     0,00    131,10  \n",
       "jun-12      444,10     177,64   0,00     0,00    131,10  \n",
       "jul-12      444,10     177,64   0,00     0,00    131,10  \n",
       "ago-12      444,10     177,64   0,00     0,00    131,10  \n",
       "...            ...        ...    ...      ...       ...  \n",
       "nov-16      755,15     302,06  50,34     0,00    297,55  \n",
       "dez-16      755,15     302,06  50,34   100,69    382,56  \n",
       "13o sal/16  755,15     302,06  50,34     0,00    297,55  \n",
       "jan-17      755,15     302,06  50,34     0,00    297,55  \n",
       "fev-17      755,15     302,06  50,34     0,00    297,55  \n",
       "\n",
       "[64 rows x 12 columns]"
      ]
     },
     "execution_count": 394,
     "metadata": {},
     "output_type": "execute_result"
    }
   ],
   "source": [
    "pg1"
   ]
  },
  {
   "cell_type": "code",
   "execution_count": 395,
   "metadata": {},
   "outputs": [
    {
     "name": "stdout",
     "output_type": "stream",
     "text": [
      "64\n"
     ]
    },
    {
     "data": {
      "text/plain": [
       "64"
      ]
     },
     "execution_count": 395,
     "metadata": {},
     "output_type": "execute_result"
    }
   ],
   "source": [
    "print(pg1['Unnamed: 0'].isna().count())\n",
    "len(pg1['Unnamed: 0'])"
   ]
  },
  {
   "cell_type": "code",
   "execution_count": 396,
   "metadata": {},
   "outputs": [],
   "source": [
    "del pg1['Unnamed: 0']"
   ]
  },
  {
   "cell_type": "code",
   "execution_count": 397,
   "metadata": {},
   "outputs": [
    {
     "data": {
      "text/plain": [
       "11"
      ]
     },
     "execution_count": 397,
     "metadata": {},
     "output_type": "execute_result"
    }
   ],
   "source": [
    "len(pg1.columns)"
   ]
  },
  {
   "cell_type": "code",
   "execution_count": 400,
   "metadata": {},
   "outputs": [
    {
     "name": "stderr",
     "output_type": "stream",
     "text": [
      "C:\\Users\\vinicius.gomes\\AppData\\Local\\Temp\\ipykernel_9740\\60473067.py:1: FutureWarning: The frame.append method is deprecated and will be removed from pandas in a future version. Use pandas.concat instead.\n",
      "  pg2.append(pg2.columns)\n",
      "\n"
     ]
    },
    {
     "ename": "TypeError",
     "evalue": "cannot concatenate object of type '<class 'pandas.core.indexes.base.Index'>'; only Series and DataFrame objs are valid",
     "output_type": "error",
     "traceback": [
      "\u001b[1;31m---------------------------------------------------------------------------\u001b[0m",
      "\u001b[1;31mTypeError\u001b[0m                                 Traceback (most recent call last)",
      "\u001b[1;32mc:\\Projetos\\sfmsp\\sfmsp.ipynb Célula: 29\u001b[0m in \u001b[0;36m<cell line: 1>\u001b[1;34m()\u001b[0m\n\u001b[1;32m----> <a href='vscode-notebook-cell:/c%3A/Projetos/sfmsp/sfmsp.ipynb#ch0000041?line=0'>1</a>\u001b[0m pg2\u001b[39m.\u001b[39;49mappend(pg2\u001b[39m.\u001b[39;49mcolumns)\n",
      "File \u001b[1;32mc:\\Projetos\\Envs\\dom\\lib\\site-packages\\pandas\\core\\frame.py:9039\u001b[0m, in \u001b[0;36mDataFrame.append\u001b[1;34m(self, other, ignore_index, verify_integrity, sort)\u001b[0m\n\u001b[0;32m   8936\u001b[0m \u001b[39m\"\"\"\u001b[39;00m\n\u001b[0;32m   8937\u001b[0m \u001b[39mAppend rows of `other` to the end of caller, returning a new object.\u001b[39;00m\n\u001b[0;32m   8938\u001b[0m \n\u001b[1;32m   (...)\u001b[0m\n\u001b[0;32m   9029\u001b[0m \u001b[39m4  4\u001b[39;00m\n\u001b[0;32m   9030\u001b[0m \u001b[39m\"\"\"\u001b[39;00m\n\u001b[0;32m   9031\u001b[0m warnings\u001b[39m.\u001b[39mwarn(\n\u001b[0;32m   9032\u001b[0m     \u001b[39m\"\u001b[39m\u001b[39mThe frame.append method is deprecated \u001b[39m\u001b[39m\"\u001b[39m\n\u001b[0;32m   9033\u001b[0m     \u001b[39m\"\u001b[39m\u001b[39mand will be removed from pandas in a future version. \u001b[39m\u001b[39m\"\u001b[39m\n\u001b[1;32m   (...)\u001b[0m\n\u001b[0;32m   9036\u001b[0m     stacklevel\u001b[39m=\u001b[39mfind_stack_level(),\n\u001b[0;32m   9037\u001b[0m )\n\u001b[1;32m-> 9039\u001b[0m \u001b[39mreturn\u001b[39;00m \u001b[39mself\u001b[39;49m\u001b[39m.\u001b[39;49m_append(other, ignore_index, verify_integrity, sort)\n",
      "File \u001b[1;32mc:\\Projetos\\Envs\\dom\\lib\\site-packages\\pandas\\core\\frame.py:9082\u001b[0m, in \u001b[0;36mDataFrame._append\u001b[1;34m(self, other, ignore_index, verify_integrity, sort)\u001b[0m\n\u001b[0;32m   9079\u001b[0m \u001b[39melse\u001b[39;00m:\n\u001b[0;32m   9080\u001b[0m     to_concat \u001b[39m=\u001b[39m [\u001b[39mself\u001b[39m, other]\n\u001b[1;32m-> 9082\u001b[0m result \u001b[39m=\u001b[39m concat(\n\u001b[0;32m   9083\u001b[0m     to_concat,\n\u001b[0;32m   9084\u001b[0m     ignore_index\u001b[39m=\u001b[39;49mignore_index,\n\u001b[0;32m   9085\u001b[0m     verify_integrity\u001b[39m=\u001b[39;49mverify_integrity,\n\u001b[0;32m   9086\u001b[0m     sort\u001b[39m=\u001b[39;49msort,\n\u001b[0;32m   9087\u001b[0m )\n\u001b[0;32m   9088\u001b[0m \u001b[39mif\u001b[39;00m (\n\u001b[0;32m   9089\u001b[0m     combined_columns \u001b[39mis\u001b[39;00m \u001b[39mnot\u001b[39;00m \u001b[39mNone\u001b[39;00m\n\u001b[0;32m   9090\u001b[0m     \u001b[39mand\u001b[39;00m \u001b[39mnot\u001b[39;00m sort\n\u001b[1;32m   (...)\u001b[0m\n\u001b[0;32m   9095\u001b[0m     \u001b[39m# combined_columns.equals check is necessary for preserving dtype\u001b[39;00m\n\u001b[0;32m   9096\u001b[0m     \u001b[39m#  in test_crosstab_normalize\u001b[39;00m\n\u001b[0;32m   9097\u001b[0m     result \u001b[39m=\u001b[39m result\u001b[39m.\u001b[39mreindex(combined_columns, axis\u001b[39m=\u001b[39m\u001b[39m1\u001b[39m)\n",
      "File \u001b[1;32mc:\\Projetos\\Envs\\dom\\lib\\site-packages\\pandas\\util\\_decorators.py:311\u001b[0m, in \u001b[0;36mdeprecate_nonkeyword_arguments.<locals>.decorate.<locals>.wrapper\u001b[1;34m(*args, **kwargs)\u001b[0m\n\u001b[0;32m    305\u001b[0m \u001b[39mif\u001b[39;00m \u001b[39mlen\u001b[39m(args) \u001b[39m>\u001b[39m num_allow_args:\n\u001b[0;32m    306\u001b[0m     warnings\u001b[39m.\u001b[39mwarn(\n\u001b[0;32m    307\u001b[0m         msg\u001b[39m.\u001b[39mformat(arguments\u001b[39m=\u001b[39marguments),\n\u001b[0;32m    308\u001b[0m         \u001b[39mFutureWarning\u001b[39;00m,\n\u001b[0;32m    309\u001b[0m         stacklevel\u001b[39m=\u001b[39mstacklevel,\n\u001b[0;32m    310\u001b[0m     )\n\u001b[1;32m--> 311\u001b[0m \u001b[39mreturn\u001b[39;00m func(\u001b[39m*\u001b[39margs, \u001b[39m*\u001b[39m\u001b[39m*\u001b[39mkwargs)\n",
      "File \u001b[1;32mc:\\Projetos\\Envs\\dom\\lib\\site-packages\\pandas\\core\\reshape\\concat.py:347\u001b[0m, in \u001b[0;36mconcat\u001b[1;34m(objs, axis, join, ignore_index, keys, levels, names, verify_integrity, sort, copy)\u001b[0m\n\u001b[0;32m    143\u001b[0m \u001b[39m@deprecate_nonkeyword_arguments\u001b[39m(version\u001b[39m=\u001b[39m\u001b[39mNone\u001b[39;00m, allowed_args\u001b[39m=\u001b[39m[\u001b[39m\"\u001b[39m\u001b[39mobjs\u001b[39m\u001b[39m\"\u001b[39m])\n\u001b[0;32m    144\u001b[0m \u001b[39mdef\u001b[39;00m \u001b[39mconcat\u001b[39m(\n\u001b[0;32m    145\u001b[0m     objs: Iterable[NDFrame] \u001b[39m|\u001b[39m Mapping[Hashable, NDFrame],\n\u001b[1;32m   (...)\u001b[0m\n\u001b[0;32m    154\u001b[0m     copy: \u001b[39mbool\u001b[39m \u001b[39m=\u001b[39m \u001b[39mTrue\u001b[39;00m,\n\u001b[0;32m    155\u001b[0m ) \u001b[39m-\u001b[39m\u001b[39m>\u001b[39m DataFrame \u001b[39m|\u001b[39m Series:\n\u001b[0;32m    156\u001b[0m     \u001b[39m\"\"\"\u001b[39;00m\n\u001b[0;32m    157\u001b[0m \u001b[39m    Concatenate pandas objects along a particular axis with optional set logic\u001b[39;00m\n\u001b[0;32m    158\u001b[0m \u001b[39m    along the other axes.\u001b[39;00m\n\u001b[1;32m   (...)\u001b[0m\n\u001b[0;32m    345\u001b[0m \u001b[39m    ValueError: Indexes have overlapping values: ['a']\u001b[39;00m\n\u001b[0;32m    346\u001b[0m \u001b[39m    \"\"\"\u001b[39;00m\n\u001b[1;32m--> 347\u001b[0m     op \u001b[39m=\u001b[39m _Concatenator(\n\u001b[0;32m    348\u001b[0m         objs,\n\u001b[0;32m    349\u001b[0m         axis\u001b[39m=\u001b[39;49maxis,\n\u001b[0;32m    350\u001b[0m         ignore_index\u001b[39m=\u001b[39;49mignore_index,\n\u001b[0;32m    351\u001b[0m         join\u001b[39m=\u001b[39;49mjoin,\n\u001b[0;32m    352\u001b[0m         keys\u001b[39m=\u001b[39;49mkeys,\n\u001b[0;32m    353\u001b[0m         levels\u001b[39m=\u001b[39;49mlevels,\n\u001b[0;32m    354\u001b[0m         names\u001b[39m=\u001b[39;49mnames,\n\u001b[0;32m    355\u001b[0m         verify_integrity\u001b[39m=\u001b[39;49mverify_integrity,\n\u001b[0;32m    356\u001b[0m         copy\u001b[39m=\u001b[39;49mcopy,\n\u001b[0;32m    357\u001b[0m         sort\u001b[39m=\u001b[39;49msort,\n\u001b[0;32m    358\u001b[0m     )\n\u001b[0;32m    360\u001b[0m     \u001b[39mreturn\u001b[39;00m op\u001b[39m.\u001b[39mget_result()\n",
      "File \u001b[1;32mc:\\Projetos\\Envs\\dom\\lib\\site-packages\\pandas\\core\\reshape\\concat.py:437\u001b[0m, in \u001b[0;36m_Concatenator.__init__\u001b[1;34m(self, objs, axis, join, keys, levels, names, ignore_index, verify_integrity, copy, sort)\u001b[0m\n\u001b[0;32m    432\u001b[0m     \u001b[39mif\u001b[39;00m \u001b[39mnot\u001b[39;00m \u001b[39misinstance\u001b[39m(obj, (ABCSeries, ABCDataFrame)):\n\u001b[0;32m    433\u001b[0m         msg \u001b[39m=\u001b[39m (\n\u001b[0;32m    434\u001b[0m             \u001b[39mf\u001b[39m\u001b[39m\"\u001b[39m\u001b[39mcannot concatenate object of type \u001b[39m\u001b[39m'\u001b[39m\u001b[39m{\u001b[39;00m\u001b[39mtype\u001b[39m(obj)\u001b[39m}\u001b[39;00m\u001b[39m'\u001b[39m\u001b[39m; \u001b[39m\u001b[39m\"\u001b[39m\n\u001b[0;32m    435\u001b[0m             \u001b[39m\"\u001b[39m\u001b[39monly Series and DataFrame objs are valid\u001b[39m\u001b[39m\"\u001b[39m\n\u001b[0;32m    436\u001b[0m         )\n\u001b[1;32m--> 437\u001b[0m         \u001b[39mraise\u001b[39;00m \u001b[39mTypeError\u001b[39;00m(msg)\n\u001b[0;32m    439\u001b[0m     ndims\u001b[39m.\u001b[39madd(obj\u001b[39m.\u001b[39mndim)\n\u001b[0;32m    441\u001b[0m \u001b[39m# get the sample\u001b[39;00m\n\u001b[0;32m    442\u001b[0m \u001b[39m# want the highest ndim that we have, and must be non-empty\u001b[39;00m\n\u001b[0;32m    443\u001b[0m \u001b[39m# unless all objs are empty\u001b[39;00m\n",
      "\u001b[1;31mTypeError\u001b[0m: cannot concatenate object of type '<class 'pandas.core.indexes.base.Index'>'; only Series and DataFrame objs are valid"
     ]
    }
   ],
   "source": [
    "pg2.append(pg2.columns)"
   ]
  },
  {
   "cell_type": "code",
   "execution_count": 353,
   "metadata": {},
   "outputs": [
    {
     "data": {
      "text/html": [
       "<div>\n",
       "<style scoped>\n",
       "    .dataframe tbody tr th:only-of-type {\n",
       "        vertical-align: middle;\n",
       "    }\n",
       "\n",
       "    .dataframe tbody tr th {\n",
       "        vertical-align: top;\n",
       "    }\n",
       "\n",
       "    .dataframe thead th {\n",
       "        text-align: right;\n",
       "    }\n",
       "</style>\n",
       "<table border=\"1\" class=\"dataframe\">\n",
       "  <thead>\n",
       "    <tr style=\"text-align: right;\">\n",
       "      <th></th>\n",
       "      <th>mar-17</th>\n",
       "      <th>1</th>\n",
       "      <th>40%</th>\n",
       "      <th>7,84</th>\n",
       "      <th>0,00</th>\n",
       "      <th>Unnamed: 0</th>\n",
       "      <th>755,15</th>\n",
       "      <th>302,06</th>\n",
       "      <th>50,34</th>\n",
       "      <th>0,00.1</th>\n",
       "      <th>297,55</th>\n",
       "      <th>Unnamed: 1</th>\n",
       "    </tr>\n",
       "  </thead>\n",
       "  <tbody>\n",
       "    <tr>\n",
       "      <th>0</th>\n",
       "      <td>abr-17</td>\n",
       "      <td>1.0</td>\n",
       "      <td>40%</td>\n",
       "      <td>47,02</td>\n",
       "      <td>7,84</td>\n",
       "      <td>0,00</td>\n",
       "      <td>NaN</td>\n",
       "      <td>755,15</td>\n",
       "      <td>302,06</td>\n",
       "      <td>50,34</td>\n",
       "      <td>0,00</td>\n",
       "      <td>297,55</td>\n",
       "    </tr>\n",
       "    <tr>\n",
       "      <th>1</th>\n",
       "      <td>mai-17</td>\n",
       "      <td>1.0</td>\n",
       "      <td>40%</td>\n",
       "      <td>47,02</td>\n",
       "      <td>7,84</td>\n",
       "      <td>0,00</td>\n",
       "      <td>NaN</td>\n",
       "      <td>755,15</td>\n",
       "      <td>302,06</td>\n",
       "      <td>50,34</td>\n",
       "      <td>0,00</td>\n",
       "      <td>297,55</td>\n",
       "    </tr>\n",
       "    <tr>\n",
       "      <th>2</th>\n",
       "      <td>jun-17</td>\n",
       "      <td>1.0</td>\n",
       "      <td>40%</td>\n",
       "      <td>47,02</td>\n",
       "      <td>7,84</td>\n",
       "      <td>0,00</td>\n",
       "      <td>NaN</td>\n",
       "      <td>755,15</td>\n",
       "      <td>302,06</td>\n",
       "      <td>50,34</td>\n",
       "      <td>0,00</td>\n",
       "      <td>297,55</td>\n",
       "    </tr>\n",
       "    <tr>\n",
       "      <th>3</th>\n",
       "      <td>jul-17</td>\n",
       "      <td>1.0</td>\n",
       "      <td>40%</td>\n",
       "      <td>47,02</td>\n",
       "      <td>7,84</td>\n",
       "      <td>0,00</td>\n",
       "      <td>NaN</td>\n",
       "      <td>755,15</td>\n",
       "      <td>302,06</td>\n",
       "      <td>50,34</td>\n",
       "      <td>0,00</td>\n",
       "      <td>297,55</td>\n",
       "    </tr>\n",
       "    <tr>\n",
       "      <th>4</th>\n",
       "      <td>ago-17</td>\n",
       "      <td>1.0</td>\n",
       "      <td>40%</td>\n",
       "      <td>47,02</td>\n",
       "      <td>7,84</td>\n",
       "      <td>0,00</td>\n",
       "      <td>NaN</td>\n",
       "      <td>755,15</td>\n",
       "      <td>302,06</td>\n",
       "      <td>50,34</td>\n",
       "      <td>0,00</td>\n",
       "      <td>297,55</td>\n",
       "    </tr>\n",
       "  </tbody>\n",
       "</table>\n",
       "</div>"
      ],
      "text/plain": [
       "   mar-17    1  40%   7,84  0,00 Unnamed: 0  755,15  302,06   50,34 0,00.1  \\\n",
       "0  abr-17  1.0  40%  47,02  7,84       0,00     NaN  755,15  302,06  50,34   \n",
       "1  mai-17  1.0  40%  47,02  7,84       0,00     NaN  755,15  302,06  50,34   \n",
       "2  jun-17  1.0  40%  47,02  7,84       0,00     NaN  755,15  302,06  50,34   \n",
       "3  jul-17  1.0  40%  47,02  7,84       0,00     NaN  755,15  302,06  50,34   \n",
       "4  ago-17  1.0  40%  47,02  7,84       0,00     NaN  755,15  302,06  50,34   \n",
       "\n",
       "  297,55 Unnamed: 1  \n",
       "0   0,00     297,55  \n",
       "1   0,00     297,55  \n",
       "2   0,00     297,55  \n",
       "3   0,00     297,55  \n",
       "4   0,00     297,55  "
      ]
     },
     "execution_count": 353,
     "metadata": {},
     "output_type": "execute_result"
    }
   ],
   "source": [
    "pg2.head()"
   ]
  },
  {
   "cell_type": "code",
   "execution_count": 354,
   "metadata": {},
   "outputs": [
    {
     "data": {
      "text/plain": [
       "26"
      ]
     },
     "execution_count": 354,
     "metadata": {},
     "output_type": "execute_result"
    }
   ],
   "source": [
    "len(pg2)"
   ]
  },
  {
   "cell_type": "code",
   "execution_count": 355,
   "metadata": {},
   "outputs": [],
   "source": [
    "pg2.columns = colunas2"
   ]
  },
  {
   "cell_type": "code",
   "execution_count": 356,
   "metadata": {},
   "outputs": [
    {
     "data": {
      "text/plain": [
       "12"
      ]
     },
     "execution_count": 356,
     "metadata": {},
     "output_type": "execute_result"
    }
   ],
   "source": [
    "len(pg2.columns)"
   ]
  },
  {
   "cell_type": "code",
   "execution_count": 357,
   "metadata": {},
   "outputs": [],
   "source": [
    "pg2.set_index('MÊS', inplace = True)"
   ]
  },
  {
   "cell_type": "code",
   "execution_count": 358,
   "metadata": {},
   "outputs": [
    {
     "data": {
      "text/plain": [
       "array([ True,  True,  True,  True,  True,  True,  True,  True,  True,\n",
       "        True,  True])"
      ]
     },
     "execution_count": 358,
     "metadata": {},
     "output_type": "execute_result"
    }
   ],
   "source": [
    "pg2.columns == pg1.columns"
   ]
  },
  {
   "cell_type": "code",
   "execution_count": 359,
   "metadata": {},
   "outputs": [
    {
     "name": "stderr",
     "output_type": "stream",
     "text": [
      "C:\\Users\\vinicius.gomes\\AppData\\Local\\Temp\\ipykernel_9740\\1099412048.py:1: FutureWarning: The frame.append method is deprecated and will be removed from pandas in a future version. Use pandas.concat instead.\n",
      "  pg3 = pg1.append(pg2)\n",
      "\n"
     ]
    }
   ],
   "source": [
    "pg3 = pg1.append(pg2)"
   ]
  },
  {
   "cell_type": "code",
   "execution_count": 368,
   "metadata": {},
   "outputs": [
    {
     "data": {
      "text/html": [
       "<div>\n",
       "<style scoped>\n",
       "    .dataframe tbody tr th:only-of-type {\n",
       "        vertical-align: middle;\n",
       "    }\n",
       "\n",
       "    .dataframe tbody tr th {\n",
       "        vertical-align: top;\n",
       "    }\n",
       "\n",
       "    .dataframe thead th {\n",
       "        text-align: right;\n",
       "    }\n",
       "</style>\n",
       "<table border=\"1\" class=\"dataframe\">\n",
       "  <thead>\n",
       "    <tr style=\"text-align: right;\">\n",
       "      <th></th>\n",
       "      <th>Unnamed: 1</th>\n",
       "      <th>INSAL. %</th>\n",
       "      <th>VALOR</th>\n",
       "      <th>6a PTE</th>\n",
       "      <th>FÉRIAS</th>\n",
       "      <th>Q. DIAS</th>\n",
       "      <th>B-01</th>\n",
       "      <th>V. INSAL.</th>\n",
       "      <th>6aPTE</th>\n",
       "      <th>FÉRIAS.1</th>\n",
       "      <th>A RECEB.</th>\n",
       "    </tr>\n",
       "    <tr>\n",
       "      <th>MÊS</th>\n",
       "      <th></th>\n",
       "      <th></th>\n",
       "      <th></th>\n",
       "      <th></th>\n",
       "      <th></th>\n",
       "      <th></th>\n",
       "      <th></th>\n",
       "      <th></th>\n",
       "      <th></th>\n",
       "      <th></th>\n",
       "      <th></th>\n",
       "    </tr>\n",
       "  </thead>\n",
       "  <tbody>\n",
       "    <tr>\n",
       "      <th>ago-14</th>\n",
       "      <td>0.0</td>\n",
       "      <td>40%</td>\n",
       "      <td>47,01</td>\n",
       "      <td>0,00</td>\n",
       "      <td>0,00</td>\n",
       "      <td>NaN</td>\n",
       "      <td>755,07</td>\n",
       "      <td>302,03</td>\n",
       "      <td>0,00</td>\n",
       "      <td>0,00</td>\n",
       "      <td>255,02</td>\n",
       "    </tr>\n",
       "    <tr>\n",
       "      <th>set-14</th>\n",
       "      <td>0.0</td>\n",
       "      <td>40%</td>\n",
       "      <td>47,01</td>\n",
       "      <td>0,00</td>\n",
       "      <td>0,00</td>\n",
       "      <td>NaN</td>\n",
       "      <td>755,07</td>\n",
       "      <td>302,03</td>\n",
       "      <td>0,00</td>\n",
       "      <td>0,00</td>\n",
       "      <td>255,02</td>\n",
       "    </tr>\n",
       "    <tr>\n",
       "      <th>out-14</th>\n",
       "      <td>0.0</td>\n",
       "      <td>40%</td>\n",
       "      <td>47,01</td>\n",
       "      <td>0,00</td>\n",
       "      <td>0,00</td>\n",
       "      <td>NaN</td>\n",
       "      <td>755,07</td>\n",
       "      <td>302,03</td>\n",
       "      <td>0,00</td>\n",
       "      <td>0,00</td>\n",
       "      <td>255,02</td>\n",
       "    </tr>\n",
       "    <tr>\n",
       "      <th>nov-14</th>\n",
       "      <td>0.0</td>\n",
       "      <td>40%</td>\n",
       "      <td>47,01</td>\n",
       "      <td>0,00</td>\n",
       "      <td>0,00</td>\n",
       "      <td>NaN</td>\n",
       "      <td>755,07</td>\n",
       "      <td>302,03</td>\n",
       "      <td>0,00</td>\n",
       "      <td>0,00</td>\n",
       "      <td>255,02</td>\n",
       "    </tr>\n",
       "    <tr>\n",
       "      <th>dez-14</th>\n",
       "      <td>0.0</td>\n",
       "      <td>40%</td>\n",
       "      <td>47,01</td>\n",
       "      <td>0,00</td>\n",
       "      <td>15,67</td>\n",
       "      <td>30</td>\n",
       "      <td>755,07</td>\n",
       "      <td>302,03</td>\n",
       "      <td>0,00</td>\n",
       "      <td>100,68</td>\n",
       "      <td>340,02</td>\n",
       "    </tr>\n",
       "    <tr>\n",
       "      <th>13o sal/14</th>\n",
       "      <td>0.0</td>\n",
       "      <td>40%</td>\n",
       "      <td>47,01</td>\n",
       "      <td>0,00</td>\n",
       "      <td>0,00</td>\n",
       "      <td>NaN</td>\n",
       "      <td>755,07</td>\n",
       "      <td>302,03</td>\n",
       "      <td>0,00</td>\n",
       "      <td>0,00</td>\n",
       "      <td>255,02</td>\n",
       "    </tr>\n",
       "    <tr>\n",
       "      <th>jan-15</th>\n",
       "      <td>0.0</td>\n",
       "      <td>40%</td>\n",
       "      <td>47,01</td>\n",
       "      <td>0,00</td>\n",
       "      <td>0,00</td>\n",
       "      <td>NaN</td>\n",
       "      <td>755,07</td>\n",
       "      <td>302,03</td>\n",
       "      <td>0,00</td>\n",
       "      <td>0,00</td>\n",
       "      <td>255,02</td>\n",
       "    </tr>\n",
       "    <tr>\n",
       "      <th>fev-15</th>\n",
       "      <td>0.0</td>\n",
       "      <td>40%</td>\n",
       "      <td>47,01</td>\n",
       "      <td>0,00</td>\n",
       "      <td>0,00</td>\n",
       "      <td>NaN</td>\n",
       "      <td>755,07</td>\n",
       "      <td>302,03</td>\n",
       "      <td>0,00</td>\n",
       "      <td>0,00</td>\n",
       "      <td>255,02</td>\n",
       "    </tr>\n",
       "    <tr>\n",
       "      <th>mar-15</th>\n",
       "      <td>1.0</td>\n",
       "      <td>40%</td>\n",
       "      <td>47,01</td>\n",
       "      <td>7,84</td>\n",
       "      <td>0,00</td>\n",
       "      <td>NaN</td>\n",
       "      <td>755,07</td>\n",
       "      <td>302,03</td>\n",
       "      <td>50,34</td>\n",
       "      <td>0,00</td>\n",
       "      <td>297,52</td>\n",
       "    </tr>\n",
       "    <tr>\n",
       "      <th>abr-15</th>\n",
       "      <td>1.0</td>\n",
       "      <td>40%</td>\n",
       "      <td>47,01</td>\n",
       "      <td>7,84</td>\n",
       "      <td>0,00</td>\n",
       "      <td>NaN</td>\n",
       "      <td>755,07</td>\n",
       "      <td>302,03</td>\n",
       "      <td>50,34</td>\n",
       "      <td>0,00</td>\n",
       "      <td>297,52</td>\n",
       "    </tr>\n",
       "    <tr>\n",
       "      <th>mai-15</th>\n",
       "      <td>1.0</td>\n",
       "      <td>40%</td>\n",
       "      <td>47,01</td>\n",
       "      <td>7,84</td>\n",
       "      <td>0,00</td>\n",
       "      <td>NaN</td>\n",
       "      <td>755,15</td>\n",
       "      <td>302,06</td>\n",
       "      <td>50,34</td>\n",
       "      <td>0,00</td>\n",
       "      <td>297,56</td>\n",
       "    </tr>\n",
       "    <tr>\n",
       "      <th>jun-15</th>\n",
       "      <td>1.0</td>\n",
       "      <td>40%</td>\n",
       "      <td>47,01</td>\n",
       "      <td>7,84</td>\n",
       "      <td>0,00</td>\n",
       "      <td>NaN</td>\n",
       "      <td>755,15</td>\n",
       "      <td>302,06</td>\n",
       "      <td>50,34</td>\n",
       "      <td>0,00</td>\n",
       "      <td>297,56</td>\n",
       "    </tr>\n",
       "    <tr>\n",
       "      <th>jul-15</th>\n",
       "      <td>1.0</td>\n",
       "      <td>40%</td>\n",
       "      <td>47,01</td>\n",
       "      <td>7,84</td>\n",
       "      <td>0,00</td>\n",
       "      <td>NaN</td>\n",
       "      <td>755,15</td>\n",
       "      <td>302,06</td>\n",
       "      <td>50,34</td>\n",
       "      <td>0,00</td>\n",
       "      <td>297,56</td>\n",
       "    </tr>\n",
       "    <tr>\n",
       "      <th>ago-15</th>\n",
       "      <td>1.0</td>\n",
       "      <td>40%</td>\n",
       "      <td>47,01</td>\n",
       "      <td>7,84</td>\n",
       "      <td>0,00</td>\n",
       "      <td>NaN</td>\n",
       "      <td>755,15</td>\n",
       "      <td>302,06</td>\n",
       "      <td>50,34</td>\n",
       "      <td>0,00</td>\n",
       "      <td>297,56</td>\n",
       "    </tr>\n",
       "    <tr>\n",
       "      <th>set-15</th>\n",
       "      <td>1.0</td>\n",
       "      <td>40%</td>\n",
       "      <td>47,01</td>\n",
       "      <td>7,84</td>\n",
       "      <td>0,00</td>\n",
       "      <td>NaN</td>\n",
       "      <td>755,15</td>\n",
       "      <td>302,06</td>\n",
       "      <td>50,34</td>\n",
       "      <td>0,00</td>\n",
       "      <td>297,56</td>\n",
       "    </tr>\n",
       "    <tr>\n",
       "      <th>out-15</th>\n",
       "      <td>1.0</td>\n",
       "      <td>40%</td>\n",
       "      <td>47,01</td>\n",
       "      <td>7,84</td>\n",
       "      <td>0,00</td>\n",
       "      <td>NaN</td>\n",
       "      <td>755,15</td>\n",
       "      <td>302,06</td>\n",
       "      <td>50,34</td>\n",
       "      <td>0,00</td>\n",
       "      <td>297,56</td>\n",
       "    </tr>\n",
       "    <tr>\n",
       "      <th>nov-15</th>\n",
       "      <td>1.0</td>\n",
       "      <td>40%</td>\n",
       "      <td>47,01</td>\n",
       "      <td>7,84</td>\n",
       "      <td>0,00</td>\n",
       "      <td>NaN</td>\n",
       "      <td>755,15</td>\n",
       "      <td>302,06</td>\n",
       "      <td>50,34</td>\n",
       "      <td>0,00</td>\n",
       "      <td>297,56</td>\n",
       "    </tr>\n",
       "    <tr>\n",
       "      <th>dez-15</th>\n",
       "      <td>1.0</td>\n",
       "      <td>40%</td>\n",
       "      <td>47,01</td>\n",
       "      <td>7,84</td>\n",
       "      <td>15,67</td>\n",
       "      <td>30</td>\n",
       "      <td>755,15</td>\n",
       "      <td>302,06</td>\n",
       "      <td>50,34</td>\n",
       "      <td>100,69</td>\n",
       "      <td>382,58</td>\n",
       "    </tr>\n",
       "    <tr>\n",
       "      <th>13o sal/15</th>\n",
       "      <td>1.0</td>\n",
       "      <td>40%</td>\n",
       "      <td>47,01</td>\n",
       "      <td>7,84</td>\n",
       "      <td>0,00</td>\n",
       "      <td>NaN</td>\n",
       "      <td>755,15</td>\n",
       "      <td>302,06</td>\n",
       "      <td>50,34</td>\n",
       "      <td>0,00</td>\n",
       "      <td>297,56</td>\n",
       "    </tr>\n",
       "    <tr>\n",
       "      <th>jan-16</th>\n",
       "      <td>1.0</td>\n",
       "      <td>40%</td>\n",
       "      <td>47,01</td>\n",
       "      <td>7,84</td>\n",
       "      <td>0,00</td>\n",
       "      <td>NaN</td>\n",
       "      <td>755,15</td>\n",
       "      <td>302,06</td>\n",
       "      <td>50,34</td>\n",
       "      <td>0,00</td>\n",
       "      <td>297,56</td>\n",
       "    </tr>\n",
       "    <tr>\n",
       "      <th>fev-16</th>\n",
       "      <td>1.0</td>\n",
       "      <td>40%</td>\n",
       "      <td>47,01</td>\n",
       "      <td>7,84</td>\n",
       "      <td>0,00</td>\n",
       "      <td>NaN</td>\n",
       "      <td>755,15</td>\n",
       "      <td>302,06</td>\n",
       "      <td>50,34</td>\n",
       "      <td>0,00</td>\n",
       "      <td>297,56</td>\n",
       "    </tr>\n",
       "    <tr>\n",
       "      <th>mar-16</th>\n",
       "      <td>1.0</td>\n",
       "      <td>40%</td>\n",
       "      <td>47,01</td>\n",
       "      <td>7,84</td>\n",
       "      <td>0,00</td>\n",
       "      <td>NaN</td>\n",
       "      <td>755,15</td>\n",
       "      <td>302,06</td>\n",
       "      <td>50,34</td>\n",
       "      <td>0,00</td>\n",
       "      <td>297,56</td>\n",
       "    </tr>\n",
       "    <tr>\n",
       "      <th>abr-16</th>\n",
       "      <td>1.0</td>\n",
       "      <td>40%</td>\n",
       "      <td>47,02</td>\n",
       "      <td>7,84</td>\n",
       "      <td>0,00</td>\n",
       "      <td>NaN</td>\n",
       "      <td>755,15</td>\n",
       "      <td>302,06</td>\n",
       "      <td>50,34</td>\n",
       "      <td>0,00</td>\n",
       "      <td>297,55</td>\n",
       "    </tr>\n",
       "    <tr>\n",
       "      <th>mai-16</th>\n",
       "      <td>1.0</td>\n",
       "      <td>40%</td>\n",
       "      <td>47,02</td>\n",
       "      <td>7,84</td>\n",
       "      <td>0,00</td>\n",
       "      <td>NaN</td>\n",
       "      <td>755,15</td>\n",
       "      <td>302,06</td>\n",
       "      <td>50,34</td>\n",
       "      <td>0,00</td>\n",
       "      <td>297,55</td>\n",
       "    </tr>\n",
       "    <tr>\n",
       "      <th>jun-16</th>\n",
       "      <td>1.0</td>\n",
       "      <td>40%</td>\n",
       "      <td>47,02</td>\n",
       "      <td>7,84</td>\n",
       "      <td>0,00</td>\n",
       "      <td>NaN</td>\n",
       "      <td>755,15</td>\n",
       "      <td>302,06</td>\n",
       "      <td>50,34</td>\n",
       "      <td>0,00</td>\n",
       "      <td>297,55</td>\n",
       "    </tr>\n",
       "    <tr>\n",
       "      <th>jul-16</th>\n",
       "      <td>1.0</td>\n",
       "      <td>40%</td>\n",
       "      <td>47,02</td>\n",
       "      <td>7,84</td>\n",
       "      <td>0,00</td>\n",
       "      <td>NaN</td>\n",
       "      <td>755,15</td>\n",
       "      <td>302,06</td>\n",
       "      <td>50,34</td>\n",
       "      <td>0,00</td>\n",
       "      <td>297,55</td>\n",
       "    </tr>\n",
       "    <tr>\n",
       "      <th>ago-16</th>\n",
       "      <td>1.0</td>\n",
       "      <td>40%</td>\n",
       "      <td>47,02</td>\n",
       "      <td>7,84</td>\n",
       "      <td>0,00</td>\n",
       "      <td>NaN</td>\n",
       "      <td>755,15</td>\n",
       "      <td>302,06</td>\n",
       "      <td>50,34</td>\n",
       "      <td>0,00</td>\n",
       "      <td>297,55</td>\n",
       "    </tr>\n",
       "    <tr>\n",
       "      <th>set-16</th>\n",
       "      <td>1.0</td>\n",
       "      <td>40%</td>\n",
       "      <td>47,02</td>\n",
       "      <td>7,84</td>\n",
       "      <td>0,00</td>\n",
       "      <td>NaN</td>\n",
       "      <td>755,15</td>\n",
       "      <td>302,06</td>\n",
       "      <td>50,34</td>\n",
       "      <td>0,00</td>\n",
       "      <td>297,55</td>\n",
       "    </tr>\n",
       "    <tr>\n",
       "      <th>out-16</th>\n",
       "      <td>1.0</td>\n",
       "      <td>40%</td>\n",
       "      <td>47,02</td>\n",
       "      <td>7,84</td>\n",
       "      <td>0,00</td>\n",
       "      <td>NaN</td>\n",
       "      <td>755,15</td>\n",
       "      <td>302,06</td>\n",
       "      <td>50,34</td>\n",
       "      <td>0,00</td>\n",
       "      <td>297,55</td>\n",
       "    </tr>\n",
       "    <tr>\n",
       "      <th>nov-16</th>\n",
       "      <td>1.0</td>\n",
       "      <td>40%</td>\n",
       "      <td>47,02</td>\n",
       "      <td>7,84</td>\n",
       "      <td>0,00</td>\n",
       "      <td>NaN</td>\n",
       "      <td>755,15</td>\n",
       "      <td>302,06</td>\n",
       "      <td>50,34</td>\n",
       "      <td>0,00</td>\n",
       "      <td>297,55</td>\n",
       "    </tr>\n",
       "    <tr>\n",
       "      <th>dez-16</th>\n",
       "      <td>1.0</td>\n",
       "      <td>40%</td>\n",
       "      <td>47,02</td>\n",
       "      <td>7,84</td>\n",
       "      <td>15,67</td>\n",
       "      <td>30</td>\n",
       "      <td>755,15</td>\n",
       "      <td>302,06</td>\n",
       "      <td>50,34</td>\n",
       "      <td>100,69</td>\n",
       "      <td>382,56</td>\n",
       "    </tr>\n",
       "    <tr>\n",
       "      <th>13o sal/16</th>\n",
       "      <td>1.0</td>\n",
       "      <td>40%</td>\n",
       "      <td>47,02</td>\n",
       "      <td>7,84</td>\n",
       "      <td>0,00</td>\n",
       "      <td>NaN</td>\n",
       "      <td>755,15</td>\n",
       "      <td>302,06</td>\n",
       "      <td>50,34</td>\n",
       "      <td>0,00</td>\n",
       "      <td>297,55</td>\n",
       "    </tr>\n",
       "    <tr>\n",
       "      <th>jan-17</th>\n",
       "      <td>1.0</td>\n",
       "      <td>40%</td>\n",
       "      <td>47,02</td>\n",
       "      <td>7,84</td>\n",
       "      <td>0,00</td>\n",
       "      <td>NaN</td>\n",
       "      <td>755,15</td>\n",
       "      <td>302,06</td>\n",
       "      <td>50,34</td>\n",
       "      <td>0,00</td>\n",
       "      <td>297,55</td>\n",
       "    </tr>\n",
       "    <tr>\n",
       "      <th>fev-17</th>\n",
       "      <td>1.0</td>\n",
       "      <td>40%</td>\n",
       "      <td>47,02</td>\n",
       "      <td>7,84</td>\n",
       "      <td>0,00</td>\n",
       "      <td>NaN</td>\n",
       "      <td>755,15</td>\n",
       "      <td>302,06</td>\n",
       "      <td>50,34</td>\n",
       "      <td>0,00</td>\n",
       "      <td>297,55</td>\n",
       "    </tr>\n",
       "    <tr>\n",
       "      <th>abr-17</th>\n",
       "      <td>1.0</td>\n",
       "      <td>40%</td>\n",
       "      <td>47,02</td>\n",
       "      <td>7,84</td>\n",
       "      <td>0,00</td>\n",
       "      <td>NaN</td>\n",
       "      <td>755,15</td>\n",
       "      <td>302,06</td>\n",
       "      <td>50,34</td>\n",
       "      <td>0,00</td>\n",
       "      <td>297,55</td>\n",
       "    </tr>\n",
       "    <tr>\n",
       "      <th>mai-17</th>\n",
       "      <td>1.0</td>\n",
       "      <td>40%</td>\n",
       "      <td>47,02</td>\n",
       "      <td>7,84</td>\n",
       "      <td>0,00</td>\n",
       "      <td>NaN</td>\n",
       "      <td>755,15</td>\n",
       "      <td>302,06</td>\n",
       "      <td>50,34</td>\n",
       "      <td>0,00</td>\n",
       "      <td>297,55</td>\n",
       "    </tr>\n",
       "    <tr>\n",
       "      <th>jun-17</th>\n",
       "      <td>1.0</td>\n",
       "      <td>40%</td>\n",
       "      <td>47,02</td>\n",
       "      <td>7,84</td>\n",
       "      <td>0,00</td>\n",
       "      <td>NaN</td>\n",
       "      <td>755,15</td>\n",
       "      <td>302,06</td>\n",
       "      <td>50,34</td>\n",
       "      <td>0,00</td>\n",
       "      <td>297,55</td>\n",
       "    </tr>\n",
       "    <tr>\n",
       "      <th>jul-17</th>\n",
       "      <td>1.0</td>\n",
       "      <td>40%</td>\n",
       "      <td>47,02</td>\n",
       "      <td>7,84</td>\n",
       "      <td>0,00</td>\n",
       "      <td>NaN</td>\n",
       "      <td>755,15</td>\n",
       "      <td>302,06</td>\n",
       "      <td>50,34</td>\n",
       "      <td>0,00</td>\n",
       "      <td>297,55</td>\n",
       "    </tr>\n",
       "    <tr>\n",
       "      <th>ago-17</th>\n",
       "      <td>1.0</td>\n",
       "      <td>40%</td>\n",
       "      <td>47,02</td>\n",
       "      <td>7,84</td>\n",
       "      <td>0,00</td>\n",
       "      <td>NaN</td>\n",
       "      <td>755,15</td>\n",
       "      <td>302,06</td>\n",
       "      <td>50,34</td>\n",
       "      <td>0,00</td>\n",
       "      <td>297,55</td>\n",
       "    </tr>\n",
       "    <tr>\n",
       "      <th>set-17</th>\n",
       "      <td>1.0</td>\n",
       "      <td>40%</td>\n",
       "      <td>47,02</td>\n",
       "      <td>7,84</td>\n",
       "      <td>0,00</td>\n",
       "      <td>NaN</td>\n",
       "      <td>755,15</td>\n",
       "      <td>302,06</td>\n",
       "      <td>50,34</td>\n",
       "      <td>0,00</td>\n",
       "      <td>297,55</td>\n",
       "    </tr>\n",
       "    <tr>\n",
       "      <th>out-17</th>\n",
       "      <td>1.0</td>\n",
       "      <td>40%</td>\n",
       "      <td>47,02</td>\n",
       "      <td>7,84</td>\n",
       "      <td>0,00</td>\n",
       "      <td>NaN</td>\n",
       "      <td>755,15</td>\n",
       "      <td>302,06</td>\n",
       "      <td>50,34</td>\n",
       "      <td>0,00</td>\n",
       "      <td>297,55</td>\n",
       "    </tr>\n",
       "    <tr>\n",
       "      <th>nov-17</th>\n",
       "      <td>1.0</td>\n",
       "      <td>40%</td>\n",
       "      <td>47,02</td>\n",
       "      <td>7,84</td>\n",
       "      <td>0,00</td>\n",
       "      <td>NaN</td>\n",
       "      <td>755,15</td>\n",
       "      <td>302,06</td>\n",
       "      <td>50,34</td>\n",
       "      <td>0,00</td>\n",
       "      <td>297,55</td>\n",
       "    </tr>\n",
       "    <tr>\n",
       "      <th>dez-17</th>\n",
       "      <td>1.0</td>\n",
       "      <td>40%</td>\n",
       "      <td>47,02</td>\n",
       "      <td>7,84</td>\n",
       "      <td>15,67</td>\n",
       "      <td>30.0</td>\n",
       "      <td>755,15</td>\n",
       "      <td>302,06</td>\n",
       "      <td>50,34</td>\n",
       "      <td>100,69</td>\n",
       "      <td>382,56</td>\n",
       "    </tr>\n",
       "    <tr>\n",
       "      <th>13o sal/17</th>\n",
       "      <td>1.0</td>\n",
       "      <td>40%</td>\n",
       "      <td>47,02</td>\n",
       "      <td>7,84</td>\n",
       "      <td>0,00</td>\n",
       "      <td>NaN</td>\n",
       "      <td>755,15</td>\n",
       "      <td>302,06</td>\n",
       "      <td>50,34</td>\n",
       "      <td>0,00</td>\n",
       "      <td>297,55</td>\n",
       "    </tr>\n",
       "    <tr>\n",
       "      <th>jan-18</th>\n",
       "      <td>1.0</td>\n",
       "      <td>40%</td>\n",
       "      <td>47,02</td>\n",
       "      <td>7,84</td>\n",
       "      <td>0,00</td>\n",
       "      <td>NaN</td>\n",
       "      <td>755,15</td>\n",
       "      <td>302,06</td>\n",
       "      <td>50,34</td>\n",
       "      <td>0,00</td>\n",
       "      <td>297,55</td>\n",
       "    </tr>\n",
       "    <tr>\n",
       "      <th>fev-18</th>\n",
       "      <td>1.0</td>\n",
       "      <td>40%</td>\n",
       "      <td>47,02</td>\n",
       "      <td>7,84</td>\n",
       "      <td>0,00</td>\n",
       "      <td>NaN</td>\n",
       "      <td>755,15</td>\n",
       "      <td>302,06</td>\n",
       "      <td>50,34</td>\n",
       "      <td>0,00</td>\n",
       "      <td>297,55</td>\n",
       "    </tr>\n",
       "    <tr>\n",
       "      <th>mar-18</th>\n",
       "      <td>1.0</td>\n",
       "      <td>40%</td>\n",
       "      <td>47,02</td>\n",
       "      <td>7,84</td>\n",
       "      <td>0,00</td>\n",
       "      <td>NaN</td>\n",
       "      <td>755,15</td>\n",
       "      <td>302,06</td>\n",
       "      <td>50,34</td>\n",
       "      <td>0,00</td>\n",
       "      <td>297,55</td>\n",
       "    </tr>\n",
       "    <tr>\n",
       "      <th>abr-18</th>\n",
       "      <td>1.0</td>\n",
       "      <td>40%</td>\n",
       "      <td>47,02</td>\n",
       "      <td>7,84</td>\n",
       "      <td>0,00</td>\n",
       "      <td>NaN</td>\n",
       "      <td>755,15</td>\n",
       "      <td>302,06</td>\n",
       "      <td>50,34</td>\n",
       "      <td>0,00</td>\n",
       "      <td>297,55</td>\n",
       "    </tr>\n",
       "    <tr>\n",
       "      <th>mai-18</th>\n",
       "      <td>1.0</td>\n",
       "      <td>40%</td>\n",
       "      <td>47,02</td>\n",
       "      <td>7,84</td>\n",
       "      <td>0,00</td>\n",
       "      <td>NaN</td>\n",
       "      <td>755,15</td>\n",
       "      <td>302,06</td>\n",
       "      <td>50,34</td>\n",
       "      <td>0,00</td>\n",
       "      <td>297,55</td>\n",
       "    </tr>\n",
       "    <tr>\n",
       "      <th>jun-18</th>\n",
       "      <td>1.0</td>\n",
       "      <td>40%</td>\n",
       "      <td>47,02</td>\n",
       "      <td>7,84</td>\n",
       "      <td>0,00</td>\n",
       "      <td>NaN</td>\n",
       "      <td>755,15</td>\n",
       "      <td>302,06</td>\n",
       "      <td>50,34</td>\n",
       "      <td>0,00</td>\n",
       "      <td>297,55</td>\n",
       "    </tr>\n",
       "    <tr>\n",
       "      <th>jul-18</th>\n",
       "      <td>1.0</td>\n",
       "      <td>40%</td>\n",
       "      <td>47,02</td>\n",
       "      <td>7,84</td>\n",
       "      <td>0,00</td>\n",
       "      <td>NaN</td>\n",
       "      <td>755,15</td>\n",
       "      <td>302,06</td>\n",
       "      <td>50,34</td>\n",
       "      <td>0,00</td>\n",
       "      <td>297,55</td>\n",
       "    </tr>\n",
       "    <tr>\n",
       "      <th>ago-18</th>\n",
       "      <td>1.0</td>\n",
       "      <td>40%</td>\n",
       "      <td>47,02</td>\n",
       "      <td>7,84</td>\n",
       "      <td>0,00</td>\n",
       "      <td>NaN</td>\n",
       "      <td>755,15</td>\n",
       "      <td>302,06</td>\n",
       "      <td>50,34</td>\n",
       "      <td>0,00</td>\n",
       "      <td>297,55</td>\n",
       "    </tr>\n",
       "    <tr>\n",
       "      <th>set-18</th>\n",
       "      <td>1.0</td>\n",
       "      <td>40%</td>\n",
       "      <td>47,02</td>\n",
       "      <td>7,84</td>\n",
       "      <td>0,00</td>\n",
       "      <td>NaN</td>\n",
       "      <td>755,15</td>\n",
       "      <td>302,06</td>\n",
       "      <td>50,34</td>\n",
       "      <td>0,00</td>\n",
       "      <td>297,55</td>\n",
       "    </tr>\n",
       "    <tr>\n",
       "      <th>out-18</th>\n",
       "      <td>1.0</td>\n",
       "      <td>40%</td>\n",
       "      <td>47,02</td>\n",
       "      <td>7,84</td>\n",
       "      <td>0,00</td>\n",
       "      <td>NaN</td>\n",
       "      <td>755,15</td>\n",
       "      <td>302,06</td>\n",
       "      <td>50,34</td>\n",
       "      <td>0,00</td>\n",
       "      <td>297,55</td>\n",
       "    </tr>\n",
       "    <tr>\n",
       "      <th>nov-18</th>\n",
       "      <td>1.0</td>\n",
       "      <td>40%</td>\n",
       "      <td>47,02</td>\n",
       "      <td>7,84</td>\n",
       "      <td>0,00</td>\n",
       "      <td>NaN</td>\n",
       "      <td>755,15</td>\n",
       "      <td>302,06</td>\n",
       "      <td>50,34</td>\n",
       "      <td>0,00</td>\n",
       "      <td>297,55</td>\n",
       "    </tr>\n",
       "    <tr>\n",
       "      <th>dez-18</th>\n",
       "      <td>1.0</td>\n",
       "      <td>40%</td>\n",
       "      <td>47,02</td>\n",
       "      <td>7,84</td>\n",
       "      <td>15,67</td>\n",
       "      <td>30.0</td>\n",
       "      <td>755,15</td>\n",
       "      <td>302,06</td>\n",
       "      <td>50,34</td>\n",
       "      <td>100,69</td>\n",
       "      <td>382,56</td>\n",
       "    </tr>\n",
       "    <tr>\n",
       "      <th>13o sal/18</th>\n",
       "      <td>1.0</td>\n",
       "      <td>40%</td>\n",
       "      <td>47,02</td>\n",
       "      <td>7,84</td>\n",
       "      <td>0,00</td>\n",
       "      <td>NaN</td>\n",
       "      <td>755,15</td>\n",
       "      <td>302,06</td>\n",
       "      <td>50,34</td>\n",
       "      <td>0,00</td>\n",
       "      <td>297,55</td>\n",
       "    </tr>\n",
       "    <tr>\n",
       "      <th>jan-19</th>\n",
       "      <td>1.0</td>\n",
       "      <td>40%</td>\n",
       "      <td>47,02</td>\n",
       "      <td>7,84</td>\n",
       "      <td>0,00</td>\n",
       "      <td>NaN</td>\n",
       "      <td>755,15</td>\n",
       "      <td>302,06</td>\n",
       "      <td>50,34</td>\n",
       "      <td>0,00</td>\n",
       "      <td>297,55</td>\n",
       "    </tr>\n",
       "    <tr>\n",
       "      <th>NaN</th>\n",
       "      <td>NaN</td>\n",
       "      <td>NaN</td>\n",
       "      <td>NaN</td>\n",
       "      <td>NaN</td>\n",
       "      <td>NaN</td>\n",
       "      <td>NaN</td>\n",
       "      <td>NaN</td>\n",
       "      <td>NaN</td>\n",
       "      <td>NaN</td>\n",
       "      <td>NaN</td>\n",
       "      <td>23.553,57</td>\n",
       "    </tr>\n",
       "    <tr>\n",
       "      <th>TOTAL</th>\n",
       "      <td>NaN</td>\n",
       "      <td>NaN</td>\n",
       "      <td>NaN</td>\n",
       "      <td>NaN</td>\n",
       "      <td>NaN</td>\n",
       "      <td>NaN</td>\n",
       "      <td>NaN</td>\n",
       "      <td>NaN</td>\n",
       "      <td>NaN</td>\n",
       "      <td>NaN</td>\n",
       "      <td>23.553,57</td>\n",
       "    </tr>\n",
       "  </tbody>\n",
       "</table>\n",
       "</div>"
      ],
      "text/plain": [
       "            Unnamed: 1 INSAL. %  VALOR 6a PTE FÉRIAS Q. DIAS    B-01  \\\n",
       "MÊS                                                                    \n",
       "ago-14             0.0      40%  47,01   0,00   0,00     NaN  755,07   \n",
       "set-14             0.0      40%  47,01   0,00   0,00     NaN  755,07   \n",
       "out-14             0.0      40%  47,01   0,00   0,00     NaN  755,07   \n",
       "nov-14             0.0      40%  47,01   0,00   0,00     NaN  755,07   \n",
       "dez-14             0.0      40%  47,01   0,00  15,67      30  755,07   \n",
       "13o sal/14         0.0      40%  47,01   0,00   0,00     NaN  755,07   \n",
       "jan-15             0.0      40%  47,01   0,00   0,00     NaN  755,07   \n",
       "fev-15             0.0      40%  47,01   0,00   0,00     NaN  755,07   \n",
       "mar-15             1.0      40%  47,01   7,84   0,00     NaN  755,07   \n",
       "abr-15             1.0      40%  47,01   7,84   0,00     NaN  755,07   \n",
       "mai-15             1.0      40%  47,01   7,84   0,00     NaN  755,15   \n",
       "jun-15             1.0      40%  47,01   7,84   0,00     NaN  755,15   \n",
       "jul-15             1.0      40%  47,01   7,84   0,00     NaN  755,15   \n",
       "ago-15             1.0      40%  47,01   7,84   0,00     NaN  755,15   \n",
       "set-15             1.0      40%  47,01   7,84   0,00     NaN  755,15   \n",
       "out-15             1.0      40%  47,01   7,84   0,00     NaN  755,15   \n",
       "nov-15             1.0      40%  47,01   7,84   0,00     NaN  755,15   \n",
       "dez-15             1.0      40%  47,01   7,84  15,67      30  755,15   \n",
       "13o sal/15         1.0      40%  47,01   7,84   0,00     NaN  755,15   \n",
       "jan-16             1.0      40%  47,01   7,84   0,00     NaN  755,15   \n",
       "fev-16             1.0      40%  47,01   7,84   0,00     NaN  755,15   \n",
       "mar-16             1.0      40%  47,01   7,84   0,00     NaN  755,15   \n",
       "abr-16             1.0      40%  47,02   7,84   0,00     NaN  755,15   \n",
       "mai-16             1.0      40%  47,02   7,84   0,00     NaN  755,15   \n",
       "jun-16             1.0      40%  47,02   7,84   0,00     NaN  755,15   \n",
       "jul-16             1.0      40%  47,02   7,84   0,00     NaN  755,15   \n",
       "ago-16             1.0      40%  47,02   7,84   0,00     NaN  755,15   \n",
       "set-16             1.0      40%  47,02   7,84   0,00     NaN  755,15   \n",
       "out-16             1.0      40%  47,02   7,84   0,00     NaN  755,15   \n",
       "nov-16             1.0      40%  47,02   7,84   0,00     NaN  755,15   \n",
       "dez-16             1.0      40%  47,02   7,84  15,67      30  755,15   \n",
       "13o sal/16         1.0      40%  47,02   7,84   0,00     NaN  755,15   \n",
       "jan-17             1.0      40%  47,02   7,84   0,00     NaN  755,15   \n",
       "fev-17             1.0      40%  47,02   7,84   0,00     NaN  755,15   \n",
       "abr-17             1.0      40%  47,02   7,84   0,00     NaN  755,15   \n",
       "mai-17             1.0      40%  47,02   7,84   0,00     NaN  755,15   \n",
       "jun-17             1.0      40%  47,02   7,84   0,00     NaN  755,15   \n",
       "jul-17             1.0      40%  47,02   7,84   0,00     NaN  755,15   \n",
       "ago-17             1.0      40%  47,02   7,84   0,00     NaN  755,15   \n",
       "set-17             1.0      40%  47,02   7,84   0,00     NaN  755,15   \n",
       "out-17             1.0      40%  47,02   7,84   0,00     NaN  755,15   \n",
       "nov-17             1.0      40%  47,02   7,84   0,00     NaN  755,15   \n",
       "dez-17             1.0      40%  47,02   7,84  15,67    30.0  755,15   \n",
       "13o sal/17         1.0      40%  47,02   7,84   0,00     NaN  755,15   \n",
       "jan-18             1.0      40%  47,02   7,84   0,00     NaN  755,15   \n",
       "fev-18             1.0      40%  47,02   7,84   0,00     NaN  755,15   \n",
       "mar-18             1.0      40%  47,02   7,84   0,00     NaN  755,15   \n",
       "abr-18             1.0      40%  47,02   7,84   0,00     NaN  755,15   \n",
       "mai-18             1.0      40%  47,02   7,84   0,00     NaN  755,15   \n",
       "jun-18             1.0      40%  47,02   7,84   0,00     NaN  755,15   \n",
       "jul-18             1.0      40%  47,02   7,84   0,00     NaN  755,15   \n",
       "ago-18             1.0      40%  47,02   7,84   0,00     NaN  755,15   \n",
       "set-18             1.0      40%  47,02   7,84   0,00     NaN  755,15   \n",
       "out-18             1.0      40%  47,02   7,84   0,00     NaN  755,15   \n",
       "nov-18             1.0      40%  47,02   7,84   0,00     NaN  755,15   \n",
       "dez-18             1.0      40%  47,02   7,84  15,67    30.0  755,15   \n",
       "13o sal/18         1.0      40%  47,02   7,84   0,00     NaN  755,15   \n",
       "jan-19             1.0      40%  47,02   7,84   0,00     NaN  755,15   \n",
       "NaN                NaN      NaN    NaN    NaN    NaN     NaN     NaN   \n",
       "TOTAL              NaN      NaN    NaN    NaN    NaN     NaN     NaN   \n",
       "\n",
       "           V. INSAL.  6aPTE FÉRIAS.1   A RECEB.  \n",
       "MÊS                                              \n",
       "ago-14        302,03   0,00     0,00     255,02  \n",
       "set-14        302,03   0,00     0,00     255,02  \n",
       "out-14        302,03   0,00     0,00     255,02  \n",
       "nov-14        302,03   0,00     0,00     255,02  \n",
       "dez-14        302,03   0,00   100,68     340,02  \n",
       "13o sal/14    302,03   0,00     0,00     255,02  \n",
       "jan-15        302,03   0,00     0,00     255,02  \n",
       "fev-15        302,03   0,00     0,00     255,02  \n",
       "mar-15        302,03  50,34     0,00     297,52  \n",
       "abr-15        302,03  50,34     0,00     297,52  \n",
       "mai-15        302,06  50,34     0,00     297,56  \n",
       "jun-15        302,06  50,34     0,00     297,56  \n",
       "jul-15        302,06  50,34     0,00     297,56  \n",
       "ago-15        302,06  50,34     0,00     297,56  \n",
       "set-15        302,06  50,34     0,00     297,56  \n",
       "out-15        302,06  50,34     0,00     297,56  \n",
       "nov-15        302,06  50,34     0,00     297,56  \n",
       "dez-15        302,06  50,34   100,69     382,58  \n",
       "13o sal/15    302,06  50,34     0,00     297,56  \n",
       "jan-16        302,06  50,34     0,00     297,56  \n",
       "fev-16        302,06  50,34     0,00     297,56  \n",
       "mar-16        302,06  50,34     0,00     297,56  \n",
       "abr-16        302,06  50,34     0,00     297,55  \n",
       "mai-16        302,06  50,34     0,00     297,55  \n",
       "jun-16        302,06  50,34     0,00     297,55  \n",
       "jul-16        302,06  50,34     0,00     297,55  \n",
       "ago-16        302,06  50,34     0,00     297,55  \n",
       "set-16        302,06  50,34     0,00     297,55  \n",
       "out-16        302,06  50,34     0,00     297,55  \n",
       "nov-16        302,06  50,34     0,00     297,55  \n",
       "dez-16        302,06  50,34   100,69     382,56  \n",
       "13o sal/16    302,06  50,34     0,00     297,55  \n",
       "jan-17        302,06  50,34     0,00     297,55  \n",
       "fev-17        302,06  50,34     0,00     297,55  \n",
       "abr-17        302,06  50,34     0,00     297,55  \n",
       "mai-17        302,06  50,34     0,00     297,55  \n",
       "jun-17        302,06  50,34     0,00     297,55  \n",
       "jul-17        302,06  50,34     0,00     297,55  \n",
       "ago-17        302,06  50,34     0,00     297,55  \n",
       "set-17        302,06  50,34     0,00     297,55  \n",
       "out-17        302,06  50,34     0,00     297,55  \n",
       "nov-17        302,06  50,34     0,00     297,55  \n",
       "dez-17        302,06  50,34   100,69     382,56  \n",
       "13o sal/17    302,06  50,34     0,00     297,55  \n",
       "jan-18        302,06  50,34     0,00     297,55  \n",
       "fev-18        302,06  50,34     0,00     297,55  \n",
       "mar-18        302,06  50,34     0,00     297,55  \n",
       "abr-18        302,06  50,34     0,00     297,55  \n",
       "mai-18        302,06  50,34     0,00     297,55  \n",
       "jun-18        302,06  50,34     0,00     297,55  \n",
       "jul-18        302,06  50,34     0,00     297,55  \n",
       "ago-18        302,06  50,34     0,00     297,55  \n",
       "set-18        302,06  50,34     0,00     297,55  \n",
       "out-18        302,06  50,34     0,00     297,55  \n",
       "nov-18        302,06  50,34     0,00     297,55  \n",
       "dez-18        302,06  50,34   100,69     382,56  \n",
       "13o sal/18    302,06  50,34     0,00     297,55  \n",
       "jan-19        302,06  50,34     0,00     297,55  \n",
       "NaN              NaN    NaN      NaN  23.553,57  \n",
       "TOTAL            NaN    NaN      NaN  23.553,57  "
      ]
     },
     "execution_count": 368,
     "metadata": {},
     "output_type": "execute_result"
    }
   ],
   "source": [
    "pg3.tail(60)"
   ]
  },
  {
   "cell_type": "code",
   "execution_count": 327,
   "metadata": {},
   "outputs": [],
   "source": [
    "pg3['CPF'] = cpf\n",
    "pg3['ID'] = id"
   ]
  },
  {
   "cell_type": "code",
   "execution_count": 332,
   "metadata": {},
   "outputs": [
    {
     "data": {
      "text/plain": [
       "Int64Index([ 0,  1,  2,  3,  4,  5,  6,  7,  8,  9, 10, 11, 12, 13, 14, 15, 16,\n",
       "            17, 18, 19, 20, 21, 22, 23, 24, 25, 26, 27, 28, 29, 30, 31, 32, 33,\n",
       "            34, 35, 36, 37, 38, 39, 40, 41, 42, 43, 44, 45, 46, 47, 48, 49, 50,\n",
       "            51, 52, 53, 54, 55, 56, 57, 58, 59, 60, 61, 62, 63,  0,  1,  2,  3,\n",
       "             4,  5,  6,  7,  8,  9, 10, 11, 12, 13, 14, 15, 16, 17, 18, 19, 20,\n",
       "            21, 22, 23, 24, 25],\n",
       "           dtype='int64')"
      ]
     },
     "execution_count": 332,
     "metadata": {},
     "output_type": "execute_result"
    }
   ],
   "source": [
    "pg3.index"
   ]
  },
  {
   "cell_type": "code",
   "execution_count": 370,
   "metadata": {},
   "outputs": [],
   "source": [
    "def extrai_tabela(file,cpf,id):\n",
    "    pg1,pg2 = tabula.read_pdf_with_template(f'{DATA_DIR}\\\\{file}',template_path=f'{BASE_DIR}\\\\tabula2.json')\n",
    "    if pg1['Unnamed: 0'].isna().count() == len(pg1['Unnamed: 0']) and len(pg1.columns) == 13:\n",
    "        del pg1['Unnamed: 0']\n",
    "    pg1.set_index('MÊS', inplace = True)\n",
    "    pg2.set_index('MÊS', inplace = True)\n",
    "    pg = pg1.append(pg2)\n",
    "    pg['CPF'] = cpf\n",
    "    pg['ID'] = id\n",
    "    return pg"
   ]
  },
  {
   "cell_type": "code",
   "execution_count": null,
   "metadata": {},
   "outputs": [],
   "source": []
  }
 ],
 "metadata": {
  "kernelspec": {
   "display_name": "Python 3.10.2 ('dom')",
   "language": "python",
   "name": "python3"
  },
  "language_info": {
   "codemirror_mode": {
    "name": "ipython",
    "version": 3
   },
   "file_extension": ".py",
   "mimetype": "text/x-python",
   "name": "python",
   "nbconvert_exporter": "python",
   "pygments_lexer": "ipython3",
   "version": "3.10.2"
  },
  "orig_nbformat": 4,
  "vscode": {
   "interpreter": {
    "hash": "31998cb917190a853c3fd1ae24bdc9afc831ff1caa3d83c63b3cf1ba0cc5525e"
   }
  }
 },
 "nbformat": 4,
 "nbformat_minor": 2
}
