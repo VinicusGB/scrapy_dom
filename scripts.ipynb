{
 "cells": [
  {
   "cell_type": "markdown",
   "metadata": {},
   "source": [
    "# Script para ler o Diário Oficial do Município de São Paulo"
   ]
  },
  {
   "cell_type": "markdown",
   "metadata": {},
   "source": [
    "## Script BASE"
   ]
  },
  {
   "cell_type": "markdown",
   "metadata": {},
   "source": [
    "### Importando as bibliotecas"
   ]
  },
  {
   "cell_type": "code",
   "execution_count": 1,
   "metadata": {},
   "outputs": [],
   "source": [
    "from datetime import date, datetime, timedelta\n",
    "from PyPDF2 import PdfFileReader, PdfFileMerger\n",
    "from collections import OrderedDict\n",
    "import os\n",
    "import fitz as fz\n",
    "import tabula\n",
    "import scripts"
   ]
  },
  {
   "cell_type": "markdown",
   "metadata": {},
   "source": [
    "### Obter data atual"
   ]
  },
  {
   "cell_type": "code",
   "execution_count": 2,
   "metadata": {},
   "outputs": [],
   "source": [
    "def get_date_today():\n",
    "    '''Obtém a data atual e retorna uma string: (YYYY-mm-dd)'''\n",
    "    dt_now = date.today()\n",
    "    if dt_now.weekday() == 0:\n",
    "            dt_now = dt_now + timedelta(-2)\n",
    "            dt_now = dt_now.strftime(\"%Y-%m-%d\")\n",
    "    else:\n",
    "            dt_now = dt_now.strftime(\"%Y-%m-%d\")\n",
    "    \n",
    "    return dt_now\n",
    "\n",
    "dt_now = get_date_today()"
   ]
  },
  {
   "cell_type": "markdown",
   "metadata": {},
   "source": [
    "### Criando o diretório SAVE_DIR"
   ]
  },
  {
   "cell_type": "code",
   "execution_count": 3,
   "metadata": {},
   "outputs": [
    {
     "name": "stdout",
     "output_type": "stream",
     "text": [
      "### MAKEDIRS CONCLUÍDO - Verifique a pasta: c:\\Projetos\\scrapy_dom\\outputs_files\\2022-06-07\n"
     ]
    }
   ],
   "source": [
    "BASE_DIR = os.getcwd()\n",
    "os.chdir(BASE_DIR)\n",
    "try:\n",
    "    os.makedirs(f'{BASE_DIR}\\\\outputs_files\\\\{dt_now}')\n",
    "    print(f'### MAKEDIRS CONCLUÍDO - Verifique a pasta: {BASE_DIR}\\\\outputs_files\\\\{dt_now}')\n",
    "except:\n",
    "    print(f'### MAKEDIRS PASTA EXISTENTE - Verifique a pasta: {BASE_DIR}\\\\outputs_files\\\\{dt_now}')\n",
    "    pass"
   ]
  },
  {
   "cell_type": "markdown",
   "metadata": {},
   "source": [
    "### Obter diretórios"
   ]
  },
  {
   "cell_type": "code",
   "execution_count": 4,
   "metadata": {},
   "outputs": [
    {
     "name": "stdout",
     "output_type": "stream",
     "text": [
      "###   INFO:  DIRS   ###\n",
      "  BASE_DIR:  c:\\Projetos\\scrapy_dom\n",
      "  DATA_DIR:  c:\\Projetos\\scrapy_dom\\querido-diario\\data_collection\\data\\3550308\\2022-06-07\n",
      "  SAVE_DIR:  c:\\Projetos\\scrapy_dom\\outputs_files\\2022-06-07\n",
      "DATA_FILES:  ['00c6a607b9d9844ec95886b6f267267d848c51b9.pdf', '031489688866ed8f179e1b3c710bf80ff32453b2.pdf', '06eab3545a586a457833f300db4ce3e9be8ea1d5.pdf', '073d6652cf644eb30ce22b3da61284fcae151557.pdf', '090406c758b218f2f5145b5f3bbeb5dfdaac0ea9.pdf', '0a70f7e4445c515e3f755191ec6e082f9ffa7d7d.pdf', '0e2fbe39202fd56db325e12a754e23e26a449cea.pdf', '0e5449fff82183e837072b32493a9a255233c545.pdf', '0ea0ce5acd20e765a4d82bd24ae441dad9ef614c.pdf', '0fa8a67e4ad5ecb5cad4dc147e8aa290d5b92c65.pdf', '10e7bf249b1aee27700d62ef9fb315d07151422c.pdf', '134822c290b2446e443acec63f5222b1ecb58575.pdf', '15dd3e150cc53a254d7686b896777d2ebd385756.pdf', '18b5f61fd6f5349c588f399ea3a0c33b08cce48c.pdf', '1bc1936e873dd4c912f989d808d9e044c40e22b5.pdf', '1f21c01678a7d2729af976aeacddbad0cc4ca350.pdf', '1f22557487170a4091462901fa0fcf8654ab3dd9.pdf', '22d08f68c9290bba2beef5a82c20b1c609b3fe6e.pdf', '23cf7b8fed25f2688ec575f9ed4fb64c406d0961.pdf', '23e162f2a132680e56003eeeb7cbf3b2cfa916cc.pdf', '27427dac095412e40a75ea7add16f2d802a7da1b.pdf', '2859d2b2c94708ed8405f3bf3d592830b988d356.pdf', '2955b396ce478e72b70804b059496773a21b619a.pdf', '2ece73ab6e29241c42748f6a55e8a621693e2e2f.pdf', '2f7883d10af3f6936944dcdf0b569905864f8027.pdf', '321fc3bb7080201255bbb3972d472400cd35c587.pdf', '334903820f959f51e57dcc1d23c174af4ba45659.pdf', '3762ab44855ac16b9fd19ae9f2d1d703025d54e2.pdf', '3839cb4d7bb9f1da3e1c6a68b99cd13368bb28b3.pdf', '38626fee05f6bbf8a2da9fe12a12df013403987e.pdf', '38ce5040f92c86f0165b72b04b49268baaecfb5b.pdf', '392ed8624dad17732e186fbd7b1a43cd0c870eed.pdf', '3959cef813724e1342254925be2da4f1ef9f031f.pdf', '3a381cb6346708cc9adf26ad6e442b5e35542f8a.pdf', '3ead429fc5900ffbdf28f13612dbe06df97b0155.pdf', '41f3705489be64bade598c1ccc50f1357f642d9c.pdf', '42040c2f103079dfcda8e699d01935fcfeb4eabe.pdf', '43ea76eeec71f917a4efa00c66ad83cd368cc312.pdf', '4551ede65d72de21a3d4e4ca093eedb796822fff.pdf', '46f7343960c09571ad0a99f7940a30e50544417c.pdf', '4c163d1b1f58ec4362285ca84de776d27adf1863.pdf', '4c5f98e087fcb3ac1b0772620944a5aa667ca122.pdf', '4c9d609aae4ccba5be1e11425acfc98c8cd181db.pdf', '4e1783e8fd7d6933360b3bf17d32b7356618295a.pdf', '5294e90f896b1ebb44511745310182ea1f340629.pdf', '52e0781cce47b30e8634edc7a174e56d38aa3e52.pdf', '5839e63f86dc5a2e6ddadc134778267b50139459.pdf', '5922b1060fedf8df0cc2f6aadaf2e06941c405dd.pdf', '5b6b74439de06db0c622199e88d02a5841dab925.pdf', '6115f7c13bb80f06e6a5c5b8094bd858e00f8d07.pdf', '66e2696c384a120528fbb9722d836dcfc71121a2.pdf', '67608d01331796754bae6839d21c9c15c4ce379f.pdf', '68f56f9e190862fe8a387e5987d46bb7aedae653.pdf', '6c2128af4f7d14510ee20a76ce6bbfaf51d8861d.pdf', '6cef652df3dee82749ee91fb5cd90b64f6e264f7.pdf', '6e358701e7e2aceb5f84c154cd98238385c1111e.pdf', '6ee46630327556183abf750c16bd407d1aa7cb30.pdf', '6f194de9378c1b3be41649cb06f985aff5b38b1d.pdf', '717857a74ce4fc5332409f99ef88b783c60bbd75.pdf', '72d9a858f93da5700630930e9b6599bb103b2958.pdf', '74a58c0913023bf31d2507ab361464f4033d317c.pdf', '774468b5c4e55192fec800c798934908b91d16f3.pdf', '78e53536d2d69ccb04cde3e31a155924323d8a3d.pdf', '79a55ba0d2060d87424c6ebf9d939a56ddbc98c1.pdf', '7b713bd46c23bbbe6f81d8bd36c01ddd9928e489.pdf', '7bd207c214d73a362a3914631fa19e3cb0eb365d.pdf', '7fd8d5b4467fa4c0ae35ea681745f57e234a48ac.pdf', '8367c74ea5cf133762fc6a1d744bcc57bfc023a6.pdf', '848356531aecd49d8a0a6c841618a3d667648a75.pdf', '866fb9f9e66811c20e8b75b207b334eca8b8c1e6.pdf', '86a53702434d7757ee601b627a3d9bea4de601a1.pdf', '87d3d1cc6972a73acf032afcb3d6c03f5c9f4252.pdf', '8a72d2b26e9fa52dc7d12e1cf155438a2fa23232.pdf', '8b670933d0a4f41859da4b674c1c3d809f21d711.pdf', '8e3a7aaaeddf491731d6016d79e00702a22acbda.pdf', '8f52e209628b14ad3f30a17e600ba44851d585d2.pdf', '9105a0379a9ccbd1c946905a701c5e62f9ed2458.pdf', '923716246dbd98cedf2f38a6c67cc0f030c7b34b.pdf', '926bf00032df078f107d980d1cf7d39e84d019a7.pdf', '975458b70ea1f1ec214eff65549abf45e94cf7d7.pdf', '9981223d96cae08dc0c0827ec27a1313c834f3f4.pdf', '9a5a3dd36d7b10b3402ea3c6b03c7765c3a2aa0a.pdf', '9fc6bfd69a8db495a5cffe8aa262300689f0dd26.pdf', 'a1fb937a7721e6e7025f17abdaa1109aa598d128.pdf', 'a4a5154dbd72ac3bc6d628e9f0c5f5f578398e13.pdf', 'a5c79087e05ced51f683af0a0ed40e80106607eb.pdf', 'a8a7dcfa27606cd6bbf028f181a8988d52617ced.pdf', 'a9cc02bdd1987bb4c215915585b3aa838eedbe6c.pdf', 'ad4d4e8f42fa91bcd23fd0683cd73ad972822c99.pdf', 'af6579bd05583b834fc561a18f8b638252b48ef8.pdf', 'b16384d9055fcbe46bb6b790aa084c2d287ded35.pdf', 'b1f251387320023a986bfdeb829e4895e70b77eb.pdf', 'b3012c3aa5441e3dd0751aa20684ee45478ab3ea.pdf', 'ba3cf3d65ef4c32d156d9a0509dd6e14da493b54.pdf', 'bbe3f3edd62adb73d49c43fa41e15a1fe6cbed77.pdf', 'bdbe0ae7dc43c70e17c43ccc4398ebee4faa6818.pdf', 'be3637c6b83b1d819b31a227caf9969eb15d16cd.pdf', 'beced097c3dca961ac12b75bff341857d69f1dee.pdf', 'bfa016dd204a52eb53bf748aa275eb5a32bc7631.pdf', 'c191c5e2842da87f74d179c24ec865b12bf6320c.pdf', 'c3a091329a55478470aebdea21988d54a9f0e534.pdf', 'c6a3260a4bd0c28563a3458674b4d7a52500fa7e.pdf', 'c93a89e5a27bf4ff108e3f582b9dcec984d9ea79.pdf', 'cd80280d4a7a12d5bd361683708a84d0e8cc3aaa.pdf', 'ce5cdf4a5720b6babf97b13ce7c1056d5dbcc969.pdf', 'd0723db6916c04a71a5346009fce0237990d0377.pdf', 'd0981c56e77c55a31ec038445703bbbf17bcf2dd.pdf', 'd128151438fa72b8e683a7412c024934966d6665.pdf', 'd4d4c014cdcd7923904769c53b6f8fffe3a95d27.pdf', 'd62c18ce32d9531eb0645025d618b8d54c2de594.pdf', 'd6c153f21a1142549ca86cda5ab43ab252ec23c9.pdf', 'd74b0767a3d07812dcaf41f3f03eeda0fc777f09.pdf', 'da9e5293c437e120d871c1dd66029c5d60ea0b64.pdf', 'dac7455f38910b023078582d89b1a47e81b82d16.pdf', 'db2feb87d7f54fe210a3fd477cf1651b5a5c764d.pdf', 'e284b6daf5e6c7d4ef394346583d95b9287f4c9e.pdf', 'e2c730746ca93ff00ab6d86a42c55a61d9a42391.pdf', 'e5bbcaa86ec8e7246744bee93716294fd1f8f0dd.pdf', 'e8bf88dd81ef91e6826ee9b370b1b4f2e8fa8205.pdf', 'e8c30b2225910f549dbd8cc178b1eade3e9b7653.pdf', 'e8e9daa1126c8f3d842f75d0aea494766d812222.pdf', 'eb702001e97646ad9895d846e1e2229ca14aaa20.pdf', 'edd008c9bd6d1be81f5ef34557fb4b98234dc4f8.pdf', 'ef1490295aef7c3d7be808c1ea8bd1900d52ec88.pdf', 'f059df3119cfe493777a86f5eedf8a00d80cbc56.pdf', 'f10bd44943bccf0c400129bff9bc0bb16859ee9c.pdf', 'f21ce35453493d5512ebfd518591e86f5c96d0a1.pdf', 'f58323aca664a2df3e2b5dfc0f68c232c41b4943.pdf', 'f68cbbe511bb5fd56488648544eb3a5fccc9bad6.pdf', 'f6ed983c215f8b6566b9cc077bfa458bbdf7f094.pdf', 'f77f4a5f3683da120268b1bfcfc49c087520086f.pdf', 'fff91bfb7b26dc41f7eaa037c5662e4163673a25.pdf']\n"
     ]
    }
   ],
   "source": [
    "def get_directories():\n",
    "        '''Obtém  os diretórios de trabalho.\n",
    "                return BASE_DIR,DATA_DIR,SAVE_DIR,DATA_FILE,DATA_FILES\n",
    "        '''\n",
    "        dt_now = get_date_today()\n",
    "        BASE_DIR = os.getcwd()\n",
    "        os.chdir(BASE_DIR)\n",
    "        try:\n",
    "                os.makedirs(f'{BASE_DIR}\\\\outputs_files\\\\{dt_now}')\n",
    "        except:\n",
    "                pass\n",
    "\n",
    "        DATA_DIR = f'{BASE_DIR}\\\\querido-diario\\\\data_collection\\\\data\\\\3550308\\\\{str(dt_now)}'\n",
    "        SAVE_DIR = f'{BASE_DIR}\\\\outputs_files\\\\{dt_now}'\n",
    "        # DATA_FILE = SAVE_DIR + '\\\\' + [f for f in os.listdir(SAVE_DIR) if f.endswith(\"tsv\")][0]\n",
    "        DATA_FILES = os.listdir(DATA_DIR)\n",
    "        DATA_FILES.sort()\n",
    "        \n",
    "        print(f'###   INFO:  DIRS   ###')\n",
    "        print(f'  BASE_DIR:  {BASE_DIR}')\n",
    "        print(f'  DATA_DIR:  {DATA_DIR}')\n",
    "        print(f'  SAVE_DIR:  {SAVE_DIR}')\n",
    "        #print(f' DATA_FILE:  {DATA_FILE}')\n",
    "        print(f'DATA_FILES:  {DATA_FILES}')\n",
    "        \n",
    "        return BASE_DIR,DATA_DIR,SAVE_DIR,DATA_FILES\n",
    "\n",
    "BASE_DIR,DATA_DIR,SAVE_DIR,DATA_FILES = get_directories()"
   ]
  },
  {
   "cell_type": "markdown",
   "metadata": {},
   "source": [
    "### Obtendo Informações do DOM"
   ]
  },
  {
   "cell_type": "code",
   "execution_count": 5,
   "metadata": {},
   "outputs": [
    {
     "name": "stdout",
     "output_type": "stream",
     "text": [
      "###   INFO:  DIRS   ###\n",
      "  BASE_DIR:  c:\\Projetos\\scrapy_dom\n",
      "  DATA_DIR:  c:\\Projetos\\scrapy_dom\\querido-diario\\data_collection\\data\\3550308\\2022-06-07\n",
      "  SAVE_DIR:  c:\\Projetos\\scrapy_dom\\outputs_files\\2022-06-07\n",
      "DATA_FILES:  ['00c6a607b9d9844ec95886b6f267267d848c51b9.pdf', '031489688866ed8f179e1b3c710bf80ff32453b2.pdf', '06eab3545a586a457833f300db4ce3e9be8ea1d5.pdf', '073d6652cf644eb30ce22b3da61284fcae151557.pdf', '090406c758b218f2f5145b5f3bbeb5dfdaac0ea9.pdf', '0a70f7e4445c515e3f755191ec6e082f9ffa7d7d.pdf', '0e2fbe39202fd56db325e12a754e23e26a449cea.pdf', '0e5449fff82183e837072b32493a9a255233c545.pdf', '0ea0ce5acd20e765a4d82bd24ae441dad9ef614c.pdf', '0fa8a67e4ad5ecb5cad4dc147e8aa290d5b92c65.pdf', '10e7bf249b1aee27700d62ef9fb315d07151422c.pdf', '134822c290b2446e443acec63f5222b1ecb58575.pdf', '15dd3e150cc53a254d7686b896777d2ebd385756.pdf', '18b5f61fd6f5349c588f399ea3a0c33b08cce48c.pdf', '1bc1936e873dd4c912f989d808d9e044c40e22b5.pdf', '1f21c01678a7d2729af976aeacddbad0cc4ca350.pdf', '1f22557487170a4091462901fa0fcf8654ab3dd9.pdf', '22d08f68c9290bba2beef5a82c20b1c609b3fe6e.pdf', '23cf7b8fed25f2688ec575f9ed4fb64c406d0961.pdf', '23e162f2a132680e56003eeeb7cbf3b2cfa916cc.pdf', '27427dac095412e40a75ea7add16f2d802a7da1b.pdf', '2859d2b2c94708ed8405f3bf3d592830b988d356.pdf', '2955b396ce478e72b70804b059496773a21b619a.pdf', '2ece73ab6e29241c42748f6a55e8a621693e2e2f.pdf', '2f7883d10af3f6936944dcdf0b569905864f8027.pdf', '321fc3bb7080201255bbb3972d472400cd35c587.pdf', '334903820f959f51e57dcc1d23c174af4ba45659.pdf', '3762ab44855ac16b9fd19ae9f2d1d703025d54e2.pdf', '3839cb4d7bb9f1da3e1c6a68b99cd13368bb28b3.pdf', '38626fee05f6bbf8a2da9fe12a12df013403987e.pdf', '38ce5040f92c86f0165b72b04b49268baaecfb5b.pdf', '392ed8624dad17732e186fbd7b1a43cd0c870eed.pdf', '3959cef813724e1342254925be2da4f1ef9f031f.pdf', '3a381cb6346708cc9adf26ad6e442b5e35542f8a.pdf', '3ead429fc5900ffbdf28f13612dbe06df97b0155.pdf', '41f3705489be64bade598c1ccc50f1357f642d9c.pdf', '42040c2f103079dfcda8e699d01935fcfeb4eabe.pdf', '43ea76eeec71f917a4efa00c66ad83cd368cc312.pdf', '4551ede65d72de21a3d4e4ca093eedb796822fff.pdf', '46f7343960c09571ad0a99f7940a30e50544417c.pdf', '4c163d1b1f58ec4362285ca84de776d27adf1863.pdf', '4c5f98e087fcb3ac1b0772620944a5aa667ca122.pdf', '4c9d609aae4ccba5be1e11425acfc98c8cd181db.pdf', '4e1783e8fd7d6933360b3bf17d32b7356618295a.pdf', '5294e90f896b1ebb44511745310182ea1f340629.pdf', '52e0781cce47b30e8634edc7a174e56d38aa3e52.pdf', '5839e63f86dc5a2e6ddadc134778267b50139459.pdf', '5922b1060fedf8df0cc2f6aadaf2e06941c405dd.pdf', '5b6b74439de06db0c622199e88d02a5841dab925.pdf', '6115f7c13bb80f06e6a5c5b8094bd858e00f8d07.pdf', '66e2696c384a120528fbb9722d836dcfc71121a2.pdf', '67608d01331796754bae6839d21c9c15c4ce379f.pdf', '68f56f9e190862fe8a387e5987d46bb7aedae653.pdf', '6c2128af4f7d14510ee20a76ce6bbfaf51d8861d.pdf', '6cef652df3dee82749ee91fb5cd90b64f6e264f7.pdf', '6e358701e7e2aceb5f84c154cd98238385c1111e.pdf', '6ee46630327556183abf750c16bd407d1aa7cb30.pdf', '6f194de9378c1b3be41649cb06f985aff5b38b1d.pdf', '717857a74ce4fc5332409f99ef88b783c60bbd75.pdf', '72d9a858f93da5700630930e9b6599bb103b2958.pdf', '74a58c0913023bf31d2507ab361464f4033d317c.pdf', '774468b5c4e55192fec800c798934908b91d16f3.pdf', '78e53536d2d69ccb04cde3e31a155924323d8a3d.pdf', '79a55ba0d2060d87424c6ebf9d939a56ddbc98c1.pdf', '7b713bd46c23bbbe6f81d8bd36c01ddd9928e489.pdf', '7bd207c214d73a362a3914631fa19e3cb0eb365d.pdf', '7fd8d5b4467fa4c0ae35ea681745f57e234a48ac.pdf', '8367c74ea5cf133762fc6a1d744bcc57bfc023a6.pdf', '848356531aecd49d8a0a6c841618a3d667648a75.pdf', '866fb9f9e66811c20e8b75b207b334eca8b8c1e6.pdf', '86a53702434d7757ee601b627a3d9bea4de601a1.pdf', '87d3d1cc6972a73acf032afcb3d6c03f5c9f4252.pdf', '8a72d2b26e9fa52dc7d12e1cf155438a2fa23232.pdf', '8b670933d0a4f41859da4b674c1c3d809f21d711.pdf', '8e3a7aaaeddf491731d6016d79e00702a22acbda.pdf', '8f52e209628b14ad3f30a17e600ba44851d585d2.pdf', '9105a0379a9ccbd1c946905a701c5e62f9ed2458.pdf', '923716246dbd98cedf2f38a6c67cc0f030c7b34b.pdf', '926bf00032df078f107d980d1cf7d39e84d019a7.pdf', '975458b70ea1f1ec214eff65549abf45e94cf7d7.pdf', '9981223d96cae08dc0c0827ec27a1313c834f3f4.pdf', '9a5a3dd36d7b10b3402ea3c6b03c7765c3a2aa0a.pdf', '9fc6bfd69a8db495a5cffe8aa262300689f0dd26.pdf', 'a1fb937a7721e6e7025f17abdaa1109aa598d128.pdf', 'a4a5154dbd72ac3bc6d628e9f0c5f5f578398e13.pdf', 'a5c79087e05ced51f683af0a0ed40e80106607eb.pdf', 'a8a7dcfa27606cd6bbf028f181a8988d52617ced.pdf', 'a9cc02bdd1987bb4c215915585b3aa838eedbe6c.pdf', 'ad4d4e8f42fa91bcd23fd0683cd73ad972822c99.pdf', 'af6579bd05583b834fc561a18f8b638252b48ef8.pdf', 'b16384d9055fcbe46bb6b790aa084c2d287ded35.pdf', 'b1f251387320023a986bfdeb829e4895e70b77eb.pdf', 'b3012c3aa5441e3dd0751aa20684ee45478ab3ea.pdf', 'ba3cf3d65ef4c32d156d9a0509dd6e14da493b54.pdf', 'bbe3f3edd62adb73d49c43fa41e15a1fe6cbed77.pdf', 'bdbe0ae7dc43c70e17c43ccc4398ebee4faa6818.pdf', 'be3637c6b83b1d819b31a227caf9969eb15d16cd.pdf', 'beced097c3dca961ac12b75bff341857d69f1dee.pdf', 'bfa016dd204a52eb53bf748aa275eb5a32bc7631.pdf', 'c191c5e2842da87f74d179c24ec865b12bf6320c.pdf', 'c3a091329a55478470aebdea21988d54a9f0e534.pdf', 'c6a3260a4bd0c28563a3458674b4d7a52500fa7e.pdf', 'c93a89e5a27bf4ff108e3f582b9dcec984d9ea79.pdf', 'cd80280d4a7a12d5bd361683708a84d0e8cc3aaa.pdf', 'ce5cdf4a5720b6babf97b13ce7c1056d5dbcc969.pdf', 'd0723db6916c04a71a5346009fce0237990d0377.pdf', 'd0981c56e77c55a31ec038445703bbbf17bcf2dd.pdf', 'd128151438fa72b8e683a7412c024934966d6665.pdf', 'd4d4c014cdcd7923904769c53b6f8fffe3a95d27.pdf', 'd62c18ce32d9531eb0645025d618b8d54c2de594.pdf', 'd6c153f21a1142549ca86cda5ab43ab252ec23c9.pdf', 'd74b0767a3d07812dcaf41f3f03eeda0fc777f09.pdf', 'da9e5293c437e120d871c1dd66029c5d60ea0b64.pdf', 'dac7455f38910b023078582d89b1a47e81b82d16.pdf', 'db2feb87d7f54fe210a3fd477cf1651b5a5c764d.pdf', 'e284b6daf5e6c7d4ef394346583d95b9287f4c9e.pdf', 'e2c730746ca93ff00ab6d86a42c55a61d9a42391.pdf', 'e5bbcaa86ec8e7246744bee93716294fd1f8f0dd.pdf', 'e8bf88dd81ef91e6826ee9b370b1b4f2e8fa8205.pdf', 'e8c30b2225910f549dbd8cc178b1eade3e9b7653.pdf', 'e8e9daa1126c8f3d842f75d0aea494766d812222.pdf', 'eb702001e97646ad9895d846e1e2229ca14aaa20.pdf', 'edd008c9bd6d1be81f5ef34557fb4b98234dc4f8.pdf', 'ef1490295aef7c3d7be808c1ea8bd1900d52ec88.pdf', 'f059df3119cfe493777a86f5eedf8a00d80cbc56.pdf', 'f10bd44943bccf0c400129bff9bc0bb16859ee9c.pdf', 'f21ce35453493d5512ebfd518591e86f5c96d0a1.pdf', 'f58323aca664a2df3e2b5dfc0f68c232c41b4943.pdf', 'f68cbbe511bb5fd56488648544eb3a5fccc9bad6.pdf', 'f6ed983c215f8b6566b9cc077bfa458bbdf7f094.pdf', 'f77f4a5f3683da120268b1bfcfc49c087520086f.pdf', 'fff91bfb7b26dc41f7eaa037c5662e4163673a25.pdf']\n",
      "### INFO: DOM-SP ###\n",
      "DATA: 2022-06-07\n",
      "PAGS: 132\n",
      "HEAD: São Paulo, 67 (106)\n",
      " DOM: DOM_SP-67_106_132_2022-06-07\n"
     ]
    }
   ],
   "source": [
    "def get_info_dom():\n",
    "        '''Obtém as informações do DOM.\n",
    "                return YEAR_DOM,EDITION_DOM,PAGS_DOM,HEAD_DOM        \n",
    "        '''\n",
    "        dt_now = get_date_today()\n",
    "        BASE_DIR,DATA_DIR,SAVE_DIR,DATA_FILES = get_directories()\n",
    "        YEAR_DOM = date.today().year - 1955\n",
    "        HEAD_DOM ='São Paulo, ' + str(YEAR_DOM) + ' ('\n",
    "\n",
    "        with fz.open(DATA_DIR +'\\\\'+ DATA_FILES[3]) as file:\n",
    "                search_edition = ''\n",
    "                for page in file:\n",
    "                        search_edition += page.get_text()\n",
    "\n",
    "        search_edition = search_edition[search_edition.find(HEAD_DOM):]\n",
    "        EDITION_DOM = search_edition[search_edition.find('(')+1:search_edition.find(')')]\n",
    "        HEAD_DOM ='São Paulo, ' + str(YEAR_DOM) + ' (' + EDITION_DOM + ')'\n",
    "        PAGS_DOM = str(len(DATA_FILES))\n",
    "        DOM = f'DOM_SP-{str(YEAR_DOM)}_{str(EDITION_DOM)}_{PAGS_DOM}_{str(dt_now)}'\n",
    "\n",
    "        print('### INFO: DOM-SP ###')\n",
    "        print(f'DATA: {dt_now}')\n",
    "        print(f'PAGS: {PAGS_DOM}')\n",
    "        print(f'HEAD: {HEAD_DOM}')\n",
    "        print(f' DOM: {DOM}')\n",
    "        \n",
    "        return YEAR_DOM,EDITION_DOM,PAGS_DOM,HEAD_DOM,DOM\n",
    "\n",
    "YEAR_DOM,EDITION_DOM,PAGS_DOM,HEAD_DOM,DOM = get_info_dom()"
   ]
  },
  {
   "cell_type": "markdown",
   "metadata": {},
   "source": [
    "### Renomeando arquivos"
   ]
  },
  {
   "cell_type": "code",
   "execution_count": 6,
   "metadata": {},
   "outputs": [
    {
     "name": "stdout",
     "output_type": "stream",
     "text": [
      "Obtendo conteúdo de: 00c6a607b9d9844ec95886b6f267267d848c51b9.pdf\n",
      "Obtendo conteúdo de: 031489688866ed8f179e1b3c710bf80ff32453b2.pdf\n",
      "Obtendo conteúdo de: 06eab3545a586a457833f300db4ce3e9be8ea1d5.pdf\n",
      "Obtendo conteúdo de: 073d6652cf644eb30ce22b3da61284fcae151557.pdf\n",
      "Obtendo conteúdo de: 090406c758b218f2f5145b5f3bbeb5dfdaac0ea9.pdf\n",
      "Obtendo conteúdo de: 0a70f7e4445c515e3f755191ec6e082f9ffa7d7d.pdf\n",
      "Obtendo conteúdo de: 0e2fbe39202fd56db325e12a754e23e26a449cea.pdf\n",
      "Obtendo conteúdo de: 0e5449fff82183e837072b32493a9a255233c545.pdf\n",
      "Obtendo conteúdo de: 0ea0ce5acd20e765a4d82bd24ae441dad9ef614c.pdf\n",
      "Obtendo conteúdo de: 0fa8a67e4ad5ecb5cad4dc147e8aa290d5b92c65.pdf\n",
      "Obtendo conteúdo de: 10e7bf249b1aee27700d62ef9fb315d07151422c.pdf\n",
      "Obtendo conteúdo de: 134822c290b2446e443acec63f5222b1ecb58575.pdf\n",
      "Obtendo conteúdo de: 15dd3e150cc53a254d7686b896777d2ebd385756.pdf\n",
      "Obtendo conteúdo de: 18b5f61fd6f5349c588f399ea3a0c33b08cce48c.pdf\n",
      "Obtendo conteúdo de: 1bc1936e873dd4c912f989d808d9e044c40e22b5.pdf\n",
      "Obtendo conteúdo de: 1f21c01678a7d2729af976aeacddbad0cc4ca350.pdf\n",
      "Obtendo conteúdo de: 1f22557487170a4091462901fa0fcf8654ab3dd9.pdf\n",
      "Obtendo conteúdo de: 22d08f68c9290bba2beef5a82c20b1c609b3fe6e.pdf\n",
      "Obtendo conteúdo de: 23cf7b8fed25f2688ec575f9ed4fb64c406d0961.pdf\n",
      "Obtendo conteúdo de: 23e162f2a132680e56003eeeb7cbf3b2cfa916cc.pdf\n",
      "Obtendo conteúdo de: 27427dac095412e40a75ea7add16f2d802a7da1b.pdf\n",
      "Obtendo conteúdo de: 2859d2b2c94708ed8405f3bf3d592830b988d356.pdf\n",
      "Obtendo conteúdo de: 2955b396ce478e72b70804b059496773a21b619a.pdf\n",
      "Obtendo conteúdo de: 2ece73ab6e29241c42748f6a55e8a621693e2e2f.pdf\n",
      "Obtendo conteúdo de: 2f7883d10af3f6936944dcdf0b569905864f8027.pdf\n",
      "Obtendo conteúdo de: 321fc3bb7080201255bbb3972d472400cd35c587.pdf\n",
      "Obtendo conteúdo de: 334903820f959f51e57dcc1d23c174af4ba45659.pdf\n",
      "Obtendo conteúdo de: 3762ab44855ac16b9fd19ae9f2d1d703025d54e2.pdf\n",
      "Obtendo conteúdo de: 3839cb4d7bb9f1da3e1c6a68b99cd13368bb28b3.pdf\n",
      "Obtendo conteúdo de: 38626fee05f6bbf8a2da9fe12a12df013403987e.pdf\n",
      "Obtendo conteúdo de: 38ce5040f92c86f0165b72b04b49268baaecfb5b.pdf\n",
      "Obtendo conteúdo de: 392ed8624dad17732e186fbd7b1a43cd0c870eed.pdf\n",
      "Obtendo conteúdo de: 3959cef813724e1342254925be2da4f1ef9f031f.pdf\n",
      "Obtendo conteúdo de: 3a381cb6346708cc9adf26ad6e442b5e35542f8a.pdf\n",
      "Obtendo conteúdo de: 3ead429fc5900ffbdf28f13612dbe06df97b0155.pdf\n",
      "Obtendo conteúdo de: 41f3705489be64bade598c1ccc50f1357f642d9c.pdf\n",
      "Obtendo conteúdo de: 42040c2f103079dfcda8e699d01935fcfeb4eabe.pdf\n",
      "Obtendo conteúdo de: 43ea76eeec71f917a4efa00c66ad83cd368cc312.pdf\n",
      "Obtendo conteúdo de: 4551ede65d72de21a3d4e4ca093eedb796822fff.pdf\n",
      "Obtendo conteúdo de: 46f7343960c09571ad0a99f7940a30e50544417c.pdf\n",
      "Obtendo conteúdo de: 4c163d1b1f58ec4362285ca84de776d27adf1863.pdf\n",
      "Obtendo conteúdo de: 4c5f98e087fcb3ac1b0772620944a5aa667ca122.pdf\n",
      "Obtendo conteúdo de: 4c9d609aae4ccba5be1e11425acfc98c8cd181db.pdf\n",
      "Obtendo conteúdo de: 4e1783e8fd7d6933360b3bf17d32b7356618295a.pdf\n",
      "Obtendo conteúdo de: 5294e90f896b1ebb44511745310182ea1f340629.pdf\n",
      "Obtendo conteúdo de: 52e0781cce47b30e8634edc7a174e56d38aa3e52.pdf\n",
      "Obtendo conteúdo de: 5839e63f86dc5a2e6ddadc134778267b50139459.pdf\n",
      "Obtendo conteúdo de: 5922b1060fedf8df0cc2f6aadaf2e06941c405dd.pdf\n",
      "Obtendo conteúdo de: 5b6b74439de06db0c622199e88d02a5841dab925.pdf\n",
      "Obtendo conteúdo de: 6115f7c13bb80f06e6a5c5b8094bd858e00f8d07.pdf\n",
      "Obtendo conteúdo de: 66e2696c384a120528fbb9722d836dcfc71121a2.pdf\n",
      "Obtendo conteúdo de: 67608d01331796754bae6839d21c9c15c4ce379f.pdf\n",
      "Obtendo conteúdo de: 68f56f9e190862fe8a387e5987d46bb7aedae653.pdf\n",
      "Obtendo conteúdo de: 6c2128af4f7d14510ee20a76ce6bbfaf51d8861d.pdf\n",
      "Obtendo conteúdo de: 6cef652df3dee82749ee91fb5cd90b64f6e264f7.pdf\n",
      "Obtendo conteúdo de: 6e358701e7e2aceb5f84c154cd98238385c1111e.pdf\n",
      "Obtendo conteúdo de: 6ee46630327556183abf750c16bd407d1aa7cb30.pdf\n",
      "Obtendo conteúdo de: 6f194de9378c1b3be41649cb06f985aff5b38b1d.pdf\n",
      "Obtendo conteúdo de: 717857a74ce4fc5332409f99ef88b783c60bbd75.pdf\n",
      "Obtendo conteúdo de: 72d9a858f93da5700630930e9b6599bb103b2958.pdf\n",
      "Obtendo conteúdo de: 74a58c0913023bf31d2507ab361464f4033d317c.pdf\n",
      "Obtendo conteúdo de: 774468b5c4e55192fec800c798934908b91d16f3.pdf\n",
      "Obtendo conteúdo de: 78e53536d2d69ccb04cde3e31a155924323d8a3d.pdf\n",
      "Obtendo conteúdo de: 79a55ba0d2060d87424c6ebf9d939a56ddbc98c1.pdf\n",
      "Obtendo conteúdo de: 7b713bd46c23bbbe6f81d8bd36c01ddd9928e489.pdf\n",
      "Obtendo conteúdo de: 7bd207c214d73a362a3914631fa19e3cb0eb365d.pdf\n",
      "Obtendo conteúdo de: 7fd8d5b4467fa4c0ae35ea681745f57e234a48ac.pdf\n",
      "Obtendo conteúdo de: 8367c74ea5cf133762fc6a1d744bcc57bfc023a6.pdf\n",
      "Obtendo conteúdo de: 848356531aecd49d8a0a6c841618a3d667648a75.pdf\n",
      "Obtendo conteúdo de: 866fb9f9e66811c20e8b75b207b334eca8b8c1e6.pdf\n",
      "Obtendo conteúdo de: 86a53702434d7757ee601b627a3d9bea4de601a1.pdf\n",
      "Obtendo conteúdo de: 87d3d1cc6972a73acf032afcb3d6c03f5c9f4252.pdf\n",
      "Obtendo conteúdo de: 8a72d2b26e9fa52dc7d12e1cf155438a2fa23232.pdf\n",
      "Obtendo conteúdo de: 8b670933d0a4f41859da4b674c1c3d809f21d711.pdf\n",
      "Obtendo conteúdo de: 8e3a7aaaeddf491731d6016d79e00702a22acbda.pdf\n",
      "Obtendo conteúdo de: 8f52e209628b14ad3f30a17e600ba44851d585d2.pdf\n",
      "Obtendo conteúdo de: 9105a0379a9ccbd1c946905a701c5e62f9ed2458.pdf\n",
      "Obtendo conteúdo de: 923716246dbd98cedf2f38a6c67cc0f030c7b34b.pdf\n",
      "Obtendo conteúdo de: 926bf00032df078f107d980d1cf7d39e84d019a7.pdf\n",
      "Obtendo conteúdo de: 975458b70ea1f1ec214eff65549abf45e94cf7d7.pdf\n",
      "Obtendo conteúdo de: 9981223d96cae08dc0c0827ec27a1313c834f3f4.pdf\n",
      "Obtendo conteúdo de: 9a5a3dd36d7b10b3402ea3c6b03c7765c3a2aa0a.pdf\n",
      "Obtendo conteúdo de: 9fc6bfd69a8db495a5cffe8aa262300689f0dd26.pdf\n",
      "Obtendo conteúdo de: a1fb937a7721e6e7025f17abdaa1109aa598d128.pdf\n",
      "Obtendo conteúdo de: a4a5154dbd72ac3bc6d628e9f0c5f5f578398e13.pdf\n",
      "Obtendo conteúdo de: a5c79087e05ced51f683af0a0ed40e80106607eb.pdf\n",
      "Obtendo conteúdo de: a8a7dcfa27606cd6bbf028f181a8988d52617ced.pdf\n",
      "Obtendo conteúdo de: a9cc02bdd1987bb4c215915585b3aa838eedbe6c.pdf\n",
      "Obtendo conteúdo de: ad4d4e8f42fa91bcd23fd0683cd73ad972822c99.pdf\n",
      "Obtendo conteúdo de: af6579bd05583b834fc561a18f8b638252b48ef8.pdf\n",
      "Obtendo conteúdo de: b16384d9055fcbe46bb6b790aa084c2d287ded35.pdf\n",
      "Obtendo conteúdo de: b1f251387320023a986bfdeb829e4895e70b77eb.pdf\n",
      "Obtendo conteúdo de: b3012c3aa5441e3dd0751aa20684ee45478ab3ea.pdf\n",
      "Obtendo conteúdo de: ba3cf3d65ef4c32d156d9a0509dd6e14da493b54.pdf\n",
      "Obtendo conteúdo de: bbe3f3edd62adb73d49c43fa41e15a1fe6cbed77.pdf\n",
      "Obtendo conteúdo de: bdbe0ae7dc43c70e17c43ccc4398ebee4faa6818.pdf\n",
      "Obtendo conteúdo de: be3637c6b83b1d819b31a227caf9969eb15d16cd.pdf\n",
      "Obtendo conteúdo de: beced097c3dca961ac12b75bff341857d69f1dee.pdf\n",
      "Obtendo conteúdo de: bfa016dd204a52eb53bf748aa275eb5a32bc7631.pdf\n",
      "Obtendo conteúdo de: c191c5e2842da87f74d179c24ec865b12bf6320c.pdf\n",
      "Obtendo conteúdo de: c3a091329a55478470aebdea21988d54a9f0e534.pdf\n",
      "Obtendo conteúdo de: c6a3260a4bd0c28563a3458674b4d7a52500fa7e.pdf\n",
      "Obtendo conteúdo de: c93a89e5a27bf4ff108e3f582b9dcec984d9ea79.pdf\n",
      "Obtendo conteúdo de: cd80280d4a7a12d5bd361683708a84d0e8cc3aaa.pdf\n",
      "Obtendo conteúdo de: ce5cdf4a5720b6babf97b13ce7c1056d5dbcc969.pdf\n",
      "Obtendo conteúdo de: d0723db6916c04a71a5346009fce0237990d0377.pdf\n",
      "Obtendo conteúdo de: d0981c56e77c55a31ec038445703bbbf17bcf2dd.pdf\n",
      "Obtendo conteúdo de: d128151438fa72b8e683a7412c024934966d6665.pdf\n",
      "Obtendo conteúdo de: d4d4c014cdcd7923904769c53b6f8fffe3a95d27.pdf\n",
      "Obtendo conteúdo de: d62c18ce32d9531eb0645025d618b8d54c2de594.pdf\n",
      "Obtendo conteúdo de: d6c153f21a1142549ca86cda5ab43ab252ec23c9.pdf\n",
      "Obtendo conteúdo de: d74b0767a3d07812dcaf41f3f03eeda0fc777f09.pdf\n",
      "Obtendo conteúdo de: da9e5293c437e120d871c1dd66029c5d60ea0b64.pdf\n",
      "Obtendo conteúdo de: dac7455f38910b023078582d89b1a47e81b82d16.pdf\n",
      "Obtendo conteúdo de: db2feb87d7f54fe210a3fd477cf1651b5a5c764d.pdf\n",
      "Obtendo conteúdo de: e284b6daf5e6c7d4ef394346583d95b9287f4c9e.pdf\n",
      "Obtendo conteúdo de: e2c730746ca93ff00ab6d86a42c55a61d9a42391.pdf\n",
      "Obtendo conteúdo de: e5bbcaa86ec8e7246744bee93716294fd1f8f0dd.pdf\n",
      "Obtendo conteúdo de: e8bf88dd81ef91e6826ee9b370b1b4f2e8fa8205.pdf\n",
      "Obtendo conteúdo de: e8c30b2225910f549dbd8cc178b1eade3e9b7653.pdf\n",
      "Obtendo conteúdo de: e8e9daa1126c8f3d842f75d0aea494766d812222.pdf\n",
      "Obtendo conteúdo de: eb702001e97646ad9895d846e1e2229ca14aaa20.pdf\n",
      "Obtendo conteúdo de: edd008c9bd6d1be81f5ef34557fb4b98234dc4f8.pdf\n",
      "Obtendo conteúdo de: ef1490295aef7c3d7be808c1ea8bd1900d52ec88.pdf\n",
      "Obtendo conteúdo de: f059df3119cfe493777a86f5eedf8a00d80cbc56.pdf\n",
      "Obtendo conteúdo de: f10bd44943bccf0c400129bff9bc0bb16859ee9c.pdf\n",
      "Obtendo conteúdo de: f21ce35453493d5512ebfd518591e86f5c96d0a1.pdf\n",
      "Obtendo conteúdo de: f58323aca664a2df3e2b5dfc0f68c232c41b4943.pdf\n",
      "Obtendo conteúdo de: f68cbbe511bb5fd56488648544eb3a5fccc9bad6.pdf\n",
      "Obtendo conteúdo de: f6ed983c215f8b6566b9cc077bfa458bbdf7f094.pdf\n",
      "Obtendo conteúdo de: f77f4a5f3683da120268b1bfcfc49c087520086f.pdf\n",
      "Obtendo conteúdo de: fff91bfb7b26dc41f7eaa037c5662e4163673a25.pdf\n",
      "### RENAME CONCLUÍDO - Verifique a pasta: c:\\Projetos\\scrapy_dom\\querido-diario\\data_collection\\data\\3550308\\2022-06-07 ###\n"
     ]
    }
   ],
   "source": [
    "contexts = ''\n",
    "for file_name in DATA_FILES:\n",
    "        print('Obtendo conteúdo de: ' + file_name)\n",
    "        with fz.open(DATA_DIR +'\\\\'+ file_name) as file:\n",
    "                context = \"\"\n",
    "                for page in file:\n",
    "                        context += '<pag>\\n'+ page.get_text() + '</pag>\\n'\n",
    "                \n",
    "                odd_page = \"São Paulo, \" + str(YEAR_DOM) + \" (\" + str(EDITION_DOM) + \") – \"\n",
    "                even_page = \" – São Paulo, \" + str(YEAR_DOM) + \" (\" + str(EDITION_DOM) + \")\"\n",
    "\n",
    "                if  context.find(odd_page) != -1:\n",
    "                        num_page = context[context.find(odd_page)+21:context.find('\\n',context.find(odd_page))]\n",
    "                elif context.find(even_page) != -1:\n",
    "                        num_page = context[context.find('\\n',context.find(even_page)-5)+1:context.find(even_page)]\n",
    "                elif context.find(\"D.O.C.; \" + HEAD_DOM) != -1:\n",
    "                        num_page = str(len(DATA_FILES))\n",
    "                elif context.find(\"Ano \"+ str(YEAR_DOM)) != -1:\n",
    "                        num_page = '1'\n",
    "                else:\n",
    "                        num_page = ''\n",
    "\n",
    "        contexts += context\n",
    "        os.rename(f'{DATA_DIR}//{file_name}',f'{DATA_DIR}\\\\pg_{(num_page.strip()).zfill(3)}-{file_name}')\n",
    "\n",
    "DATA_FILES = os.listdir(DATA_DIR)\n",
    "DATA_FILES.sort()\n",
    "print(f'### RENAME CONCLUÍDO - Verifique a pasta: {DATA_DIR} ###')"
   ]
  },
  {
   "cell_type": "markdown",
   "metadata": {},
   "source": [
    "### Juntando os arquivos"
   ]
  },
  {
   "cell_type": "code",
   "execution_count": 7,
   "metadata": {},
   "outputs": [
    {
     "name": "stdout",
     "output_type": "stream",
     "text": [
      "Merge de: pg_001-79a55ba0d2060d87424c6ebf9d939a56ddbc98c1.pdf\n",
      "Merge de: pg_002-c93a89e5a27bf4ff108e3f582b9dcec984d9ea79.pdf\n",
      "Merge de: pg_003-2955b396ce478e72b70804b059496773a21b619a.pdf\n",
      "Merge de: pg_004-6c2128af4f7d14510ee20a76ce6bbfaf51d8861d.pdf\n",
      "Merge de: pg_005-3a381cb6346708cc9adf26ad6e442b5e35542f8a.pdf\n",
      "Merge de: pg_006-38ce5040f92c86f0165b72b04b49268baaecfb5b.pdf\n",
      "Merge de: pg_007-1f21c01678a7d2729af976aeacddbad0cc4ca350.pdf\n",
      "Merge de: pg_008-4c5f98e087fcb3ac1b0772620944a5aa667ca122.pdf\n",
      "Merge de: pg_009-d128151438fa72b8e683a7412c024934966d6665.pdf\n",
      "Merge de: pg_010-e8e9daa1126c8f3d842f75d0aea494766d812222.pdf\n",
      "Merge de: pg_011-073d6652cf644eb30ce22b3da61284fcae151557.pdf\n",
      "Merge de: pg_012-2ece73ab6e29241c42748f6a55e8a621693e2e2f.pdf\n",
      "Merge de: pg_013-0e5449fff82183e837072b32493a9a255233c545.pdf\n",
      "Merge de: pg_014-b3012c3aa5441e3dd0751aa20684ee45478ab3ea.pdf\n",
      "Merge de: pg_015-f68cbbe511bb5fd56488648544eb3a5fccc9bad6.pdf\n",
      "Merge de: pg_016-e2c730746ca93ff00ab6d86a42c55a61d9a42391.pdf\n",
      "Merge de: pg_017-866fb9f9e66811c20e8b75b207b334eca8b8c1e6.pdf\n",
      "Merge de: pg_018-6e358701e7e2aceb5f84c154cd98238385c1111e.pdf\n",
      "Merge de: pg_019-dac7455f38910b023078582d89b1a47e81b82d16.pdf\n",
      "Merge de: pg_020-23e162f2a132680e56003eeeb7cbf3b2cfa916cc.pdf\n",
      "Merge de: pg_021-38626fee05f6bbf8a2da9fe12a12df013403987e.pdf\n",
      "Merge de: pg_022-86a53702434d7757ee601b627a3d9bea4de601a1.pdf\n",
      "Merge de: pg_023-b16384d9055fcbe46bb6b790aa084c2d287ded35.pdf\n",
      "Merge de: pg_024-41f3705489be64bade598c1ccc50f1357f642d9c.pdf\n",
      "Merge de: pg_025-7bd207c214d73a362a3914631fa19e3cb0eb365d.pdf\n",
      "Merge de: pg_026-d62c18ce32d9531eb0645025d618b8d54c2de594.pdf\n",
      "Merge de: pg_027-bbe3f3edd62adb73d49c43fa41e15a1fe6cbed77.pdf\n",
      "Merge de: pg_028-edd008c9bd6d1be81f5ef34557fb4b98234dc4f8.pdf\n",
      "Merge de: pg_029-18b5f61fd6f5349c588f399ea3a0c33b08cce48c.pdf\n",
      "Merge de: pg_030-bfa016dd204a52eb53bf748aa275eb5a32bc7631.pdf\n",
      "Merge de: pg_031-ba3cf3d65ef4c32d156d9a0509dd6e14da493b54.pdf\n",
      "Merge de: pg_032-fff91bfb7b26dc41f7eaa037c5662e4163673a25.pdf\n",
      "Merge de: pg_033-78e53536d2d69ccb04cde3e31a155924323d8a3d.pdf\n",
      "Merge de: pg_034-eb702001e97646ad9895d846e1e2229ca14aaa20.pdf\n",
      "Merge de: pg_035-c6a3260a4bd0c28563a3458674b4d7a52500fa7e.pdf\n",
      "Merge de: pg_036-af6579bd05583b834fc561a18f8b638252b48ef8.pdf\n",
      "Merge de: pg_037-f77f4a5f3683da120268b1bfcfc49c087520086f.pdf\n",
      "Merge de: pg_038-e284b6daf5e6c7d4ef394346583d95b9287f4c9e.pdf\n",
      "Merge de: pg_039-1f22557487170a4091462901fa0fcf8654ab3dd9.pdf\n",
      "Merge de: pg_040-0ea0ce5acd20e765a4d82bd24ae441dad9ef614c.pdf\n",
      "Merge de: pg_041-8367c74ea5cf133762fc6a1d744bcc57bfc023a6.pdf\n",
      "Merge de: pg_042-334903820f959f51e57dcc1d23c174af4ba45659.pdf\n",
      "Merge de: pg_043-c191c5e2842da87f74d179c24ec865b12bf6320c.pdf\n",
      "Merge de: pg_044-975458b70ea1f1ec214eff65549abf45e94cf7d7.pdf\n",
      "Merge de: pg_045-3959cef813724e1342254925be2da4f1ef9f031f.pdf\n",
      "Merge de: pg_046-10e7bf249b1aee27700d62ef9fb315d07151422c.pdf\n",
      "Merge de: pg_047-f58323aca664a2df3e2b5dfc0f68c232c41b4943.pdf\n",
      "Merge de: pg_048-134822c290b2446e443acec63f5222b1ecb58575.pdf\n",
      "Merge de: pg_049-6115f7c13bb80f06e6a5c5b8094bd858e00f8d07.pdf\n",
      "Merge de: pg_050-f059df3119cfe493777a86f5eedf8a00d80cbc56.pdf\n",
      "Merge de: pg_051-923716246dbd98cedf2f38a6c67cc0f030c7b34b.pdf\n",
      "Merge de: pg_052-74a58c0913023bf31d2507ab361464f4033d317c.pdf\n",
      "Merge de: pg_053-f10bd44943bccf0c400129bff9bc0bb16859ee9c.pdf\n",
      "Merge de: pg_054-00c6a607b9d9844ec95886b6f267267d848c51b9.pdf\n",
      "Merge de: pg_055-d4d4c014cdcd7923904769c53b6f8fffe3a95d27.pdf\n",
      "Merge de: pg_056-da9e5293c437e120d871c1dd66029c5d60ea0b64.pdf\n",
      "Merge de: pg_057-43ea76eeec71f917a4efa00c66ad83cd368cc312.pdf\n",
      "Merge de: pg_058-72d9a858f93da5700630930e9b6599bb103b2958.pdf\n",
      "Merge de: pg_059-774468b5c4e55192fec800c798934908b91d16f3.pdf\n",
      "Merge de: pg_060-ad4d4e8f42fa91bcd23fd0683cd73ad972822c99.pdf\n",
      "Merge de: pg_061-e5bbcaa86ec8e7246744bee93716294fd1f8f0dd.pdf\n",
      "Merge de: pg_062-f6ed983c215f8b6566b9cc077bfa458bbdf7f094.pdf\n",
      "Merge de: pg_063-9fc6bfd69a8db495a5cffe8aa262300689f0dd26.pdf\n",
      "Merge de: pg_064-46f7343960c09571ad0a99f7940a30e50544417c.pdf\n",
      "Merge de: pg_065-15dd3e150cc53a254d7686b896777d2ebd385756.pdf\n",
      "Merge de: pg_066-cd80280d4a7a12d5bd361683708a84d0e8cc3aaa.pdf\n",
      "Merge de: pg_067-8f52e209628b14ad3f30a17e600ba44851d585d2.pdf\n",
      "Merge de: pg_068-4c9d609aae4ccba5be1e11425acfc98c8cd181db.pdf\n",
      "Merge de: pg_069-67608d01331796754bae6839d21c9c15c4ce379f.pdf\n",
      "Merge de: pg_070-0a70f7e4445c515e3f755191ec6e082f9ffa7d7d.pdf\n",
      "Merge de: pg_071-5294e90f896b1ebb44511745310182ea1f340629.pdf\n",
      "Merge de: pg_072-8e3a7aaaeddf491731d6016d79e00702a22acbda.pdf\n",
      "Merge de: pg_073-a9cc02bdd1987bb4c215915585b3aa838eedbe6c.pdf\n",
      "Merge de: pg_074-4c163d1b1f58ec4362285ca84de776d27adf1863.pdf\n",
      "Merge de: pg_075-87d3d1cc6972a73acf032afcb3d6c03f5c9f4252.pdf\n",
      "Merge de: pg_076-9981223d96cae08dc0c0827ec27a1313c834f3f4.pdf\n",
      "Merge de: pg_077-d6c153f21a1142549ca86cda5ab43ab252ec23c9.pdf\n",
      "Merge de: pg_078-6f194de9378c1b3be41649cb06f985aff5b38b1d.pdf\n",
      "Merge de: pg_079-7b713bd46c23bbbe6f81d8bd36c01ddd9928e489.pdf\n",
      "Merge de: pg_080-0fa8a67e4ad5ecb5cad4dc147e8aa290d5b92c65.pdf\n",
      "Merge de: pg_081-8a72d2b26e9fa52dc7d12e1cf155438a2fa23232.pdf\n",
      "Merge de: pg_082-52e0781cce47b30e8634edc7a174e56d38aa3e52.pdf\n",
      "Merge de: pg_083-ef1490295aef7c3d7be808c1ea8bd1900d52ec88.pdf\n",
      "Merge de: pg_084-bdbe0ae7dc43c70e17c43ccc4398ebee4faa6818.pdf\n",
      "Merge de: pg_085-b1f251387320023a986bfdeb829e4895e70b77eb.pdf\n",
      "Merge de: pg_086-27427dac095412e40a75ea7add16f2d802a7da1b.pdf\n",
      "Merge de: pg_087-42040c2f103079dfcda8e699d01935fcfeb4eabe.pdf\n",
      "Merge de: pg_088-c3a091329a55478470aebdea21988d54a9f0e534.pdf\n",
      "Merge de: pg_089-beced097c3dca961ac12b75bff341857d69f1dee.pdf\n",
      "Merge de: pg_090-848356531aecd49d8a0a6c841618a3d667648a75.pdf\n",
      "Merge de: pg_091-9a5a3dd36d7b10b3402ea3c6b03c7765c3a2aa0a.pdf\n",
      "Merge de: pg_092-2f7883d10af3f6936944dcdf0b569905864f8027.pdf\n",
      "Merge de: pg_093-5922b1060fedf8df0cc2f6aadaf2e06941c405dd.pdf\n",
      "Merge de: pg_094-3ead429fc5900ffbdf28f13612dbe06df97b0155.pdf\n",
      "Merge de: pg_095-22d08f68c9290bba2beef5a82c20b1c609b3fe6e.pdf\n",
      "Merge de: pg_096-be3637c6b83b1d819b31a227caf9969eb15d16cd.pdf\n",
      "Merge de: pg_097-d74b0767a3d07812dcaf41f3f03eeda0fc777f09.pdf\n",
      "Merge de: pg_098-321fc3bb7080201255bbb3972d472400cd35c587.pdf\n",
      "Merge de: pg_099-a1fb937a7721e6e7025f17abdaa1109aa598d128.pdf\n",
      "Merge de: pg_100-090406c758b218f2f5145b5f3bbeb5dfdaac0ea9.pdf\n",
      "Merge de: pg_101-d0723db6916c04a71a5346009fce0237990d0377.pdf\n",
      "Merge de: pg_102-06eab3545a586a457833f300db4ce3e9be8ea1d5.pdf\n",
      "Merge de: pg_103-6cef652df3dee82749ee91fb5cd90b64f6e264f7.pdf\n",
      "Merge de: pg_104-5b6b74439de06db0c622199e88d02a5841dab925.pdf\n",
      "Merge de: pg_105-f21ce35453493d5512ebfd518591e86f5c96d0a1.pdf\n",
      "Merge de: pg_106-68f56f9e190862fe8a387e5987d46bb7aedae653.pdf\n",
      "Merge de: pg_107-ce5cdf4a5720b6babf97b13ce7c1056d5dbcc969.pdf\n",
      "Merge de: pg_108-717857a74ce4fc5332409f99ef88b783c60bbd75.pdf\n",
      "Merge de: pg_109-66e2696c384a120528fbb9722d836dcfc71121a2.pdf\n",
      "Merge de: pg_110-6ee46630327556183abf750c16bd407d1aa7cb30.pdf\n",
      "Merge de: pg_111-4e1783e8fd7d6933360b3bf17d32b7356618295a.pdf\n",
      "Merge de: pg_112-926bf00032df078f107d980d1cf7d39e84d019a7.pdf\n",
      "Merge de: pg_113-9105a0379a9ccbd1c946905a701c5e62f9ed2458.pdf\n",
      "Merge de: pg_114-e8bf88dd81ef91e6826ee9b370b1b4f2e8fa8205.pdf\n",
      "Merge de: pg_115-2859d2b2c94708ed8405f3bf3d592830b988d356.pdf\n",
      "Merge de: pg_116-d0981c56e77c55a31ec038445703bbbf17bcf2dd.pdf\n",
      "Merge de: pg_117-3762ab44855ac16b9fd19ae9f2d1d703025d54e2.pdf\n",
      "Merge de: pg_118-5839e63f86dc5a2e6ddadc134778267b50139459.pdf\n",
      "Merge de: pg_119-a4a5154dbd72ac3bc6d628e9f0c5f5f578398e13.pdf\n",
      "Merge de: pg_120-0e2fbe39202fd56db325e12a754e23e26a449cea.pdf\n",
      "Merge de: pg_121-031489688866ed8f179e1b3c710bf80ff32453b2.pdf\n",
      "Merge de: pg_122-e8c30b2225910f549dbd8cc178b1eade3e9b7653.pdf\n",
      "Merge de: pg_123-23cf7b8fed25f2688ec575f9ed4fb64c406d0961.pdf\n",
      "Merge de: pg_124-db2feb87d7f54fe210a3fd477cf1651b5a5c764d.pdf\n",
      "Merge de: pg_125-a5c79087e05ced51f683af0a0ed40e80106607eb.pdf\n",
      "Merge de: pg_126-a8a7dcfa27606cd6bbf028f181a8988d52617ced.pdf\n",
      "Merge de: pg_127-3839cb4d7bb9f1da3e1c6a68b99cd13368bb28b3.pdf\n",
      "Merge de: pg_128-4551ede65d72de21a3d4e4ca093eedb796822fff.pdf\n",
      "Merge de: pg_129-7fd8d5b4467fa4c0ae35ea681745f57e234a48ac.pdf\n",
      "Merge de: pg_130-1bc1936e873dd4c912f989d808d9e044c40e22b5.pdf\n",
      "Merge de: pg_131-392ed8624dad17732e186fbd7b1a43cd0c870eed.pdf\n",
      "Merge de: pg_132-8b670933d0a4f41859da4b674c1c3d809f21d711.pdf\n",
      "### MERGE CONCLUÍDO - Verifique a pasta: c:\\Projetos\\scrapy_dom\\outputs_files\\2022-06-07 ###\n"
     ]
    }
   ],
   "source": [
    "pdf_files = [f for f in os.listdir(DATA_DIR) if f.endswith(\"pdf\")]\n",
    "merger = PdfFileMerger()\n",
    "\n",
    "for filename in pdf_files:\n",
    "    print(f'Merge de: {filename}')\n",
    "    merger.append(PdfFileReader(os.path.join(DATA_DIR, filename), \"rb\"))\n",
    "\n",
    "merger.write(SAVE_DIR + \"\\\\DOM_SP-\"+ str(YEAR_DOM) + \"_\" + str(EDITION_DOM) + \"_\" + str(len(DATA_FILES)) + \"_\" + str(dt_now)+\".pdf\")\n",
    "print(f'### MERGE CONCLUÍDO - Verifique a pasta: {SAVE_DIR} ###')"
   ]
  },
  {
   "cell_type": "markdown",
   "metadata": {},
   "source": [
    "### Convertendo para TSV FINAL"
   ]
  },
  {
   "cell_type": "code",
   "execution_count": 11,
   "metadata": {},
   "outputs": [
    {
     "ename": "SyntaxError",
     "evalue": "positional argument follows keyword argument (227286918.py, line 4)",
     "output_type": "error",
     "traceback": [
      "\u001b[1;36m  Input \u001b[1;32mIn [11]\u001b[1;36m\u001b[0m\n\u001b[1;33m    tabula.convert_into_by_batch(SAVE_DIR,output_format=\"tsv\",area=area_text,pages=\"all\",{'encoding':'latin'})\u001b[0m\n\u001b[1;37m                                                                                                             ^\u001b[0m\n\u001b[1;31mSyntaxError\u001b[0m\u001b[1;31m:\u001b[0m positional argument follows keyword argument\n"
     ]
    }
   ],
   "source": [
    "print('Convertendo arquivo para TSV')\n",
    "area_text = [[42.849,28.172,1209.134,215.329],[42.849,216.314,1210.119,393.621],[42.849,395.591,1210.119,574.868],[42.849,576.838,1207.164,760.055]]\n",
    "#tabula.convert_into_by_batch(SAVE_DIR,output_format=\"tsv\",area=area_text,pages=\"all\")\n",
    "tabula.convert_into_by_batch(SAVE_DIR,output_format=\"tsv\",area=area_text,pages=\"all\")\n",
    "print(f'### CONVERT CONCLUÍDO - Verifique a pasta: {SAVE_DIR} ###')"
   ]
  },
  {
   "cell_type": "code",
   "execution_count": 12,
   "metadata": {},
   "outputs": [
    {
     "name": "stdout",
     "output_type": "stream",
     "text": [
      "###   INFO:  DIRS   ###\n",
      "  BASE_DIR:  c:\\Projetos\\scrapy_dom\n",
      "  DATA_DIR:  c:\\Projetos\\scrapy_dom\\querido-diario\\data_collection\\data\\3550308\\2022-06-07\n",
      "  SAVE_DIR:  c:\\Projetos\\scrapy_dom\\outputs_files\\2022-06-07\n",
      " DATA_FILE:  c:\\Projetos\\scrapy_dom\\outputs_files\\2022-06-07\\DOM_SP-67_106_132_2022-06-07.tsv\n",
      "DATA_FILES:  ['pg_001-79a55ba0d2060d87424c6ebf9d939a56ddbc98c1.pdf', 'pg_002-c93a89e5a27bf4ff108e3f582b9dcec984d9ea79.pdf', 'pg_003-2955b396ce478e72b70804b059496773a21b619a.pdf', 'pg_004-6c2128af4f7d14510ee20a76ce6bbfaf51d8861d.pdf', 'pg_005-3a381cb6346708cc9adf26ad6e442b5e35542f8a.pdf', 'pg_006-38ce5040f92c86f0165b72b04b49268baaecfb5b.pdf', 'pg_007-1f21c01678a7d2729af976aeacddbad0cc4ca350.pdf', 'pg_008-4c5f98e087fcb3ac1b0772620944a5aa667ca122.pdf', 'pg_009-d128151438fa72b8e683a7412c024934966d6665.pdf', 'pg_010-e8e9daa1126c8f3d842f75d0aea494766d812222.pdf', 'pg_011-073d6652cf644eb30ce22b3da61284fcae151557.pdf', 'pg_012-2ece73ab6e29241c42748f6a55e8a621693e2e2f.pdf', 'pg_013-0e5449fff82183e837072b32493a9a255233c545.pdf', 'pg_014-b3012c3aa5441e3dd0751aa20684ee45478ab3ea.pdf', 'pg_015-f68cbbe511bb5fd56488648544eb3a5fccc9bad6.pdf', 'pg_016-e2c730746ca93ff00ab6d86a42c55a61d9a42391.pdf', 'pg_017-866fb9f9e66811c20e8b75b207b334eca8b8c1e6.pdf', 'pg_018-6e358701e7e2aceb5f84c154cd98238385c1111e.pdf', 'pg_019-dac7455f38910b023078582d89b1a47e81b82d16.pdf', 'pg_020-23e162f2a132680e56003eeeb7cbf3b2cfa916cc.pdf', 'pg_021-38626fee05f6bbf8a2da9fe12a12df013403987e.pdf', 'pg_022-86a53702434d7757ee601b627a3d9bea4de601a1.pdf', 'pg_023-b16384d9055fcbe46bb6b790aa084c2d287ded35.pdf', 'pg_024-41f3705489be64bade598c1ccc50f1357f642d9c.pdf', 'pg_025-7bd207c214d73a362a3914631fa19e3cb0eb365d.pdf', 'pg_026-d62c18ce32d9531eb0645025d618b8d54c2de594.pdf', 'pg_027-bbe3f3edd62adb73d49c43fa41e15a1fe6cbed77.pdf', 'pg_028-edd008c9bd6d1be81f5ef34557fb4b98234dc4f8.pdf', 'pg_029-18b5f61fd6f5349c588f399ea3a0c33b08cce48c.pdf', 'pg_030-bfa016dd204a52eb53bf748aa275eb5a32bc7631.pdf', 'pg_031-ba3cf3d65ef4c32d156d9a0509dd6e14da493b54.pdf', 'pg_032-fff91bfb7b26dc41f7eaa037c5662e4163673a25.pdf', 'pg_033-78e53536d2d69ccb04cde3e31a155924323d8a3d.pdf', 'pg_034-eb702001e97646ad9895d846e1e2229ca14aaa20.pdf', 'pg_035-c6a3260a4bd0c28563a3458674b4d7a52500fa7e.pdf', 'pg_036-af6579bd05583b834fc561a18f8b638252b48ef8.pdf', 'pg_037-f77f4a5f3683da120268b1bfcfc49c087520086f.pdf', 'pg_038-e284b6daf5e6c7d4ef394346583d95b9287f4c9e.pdf', 'pg_039-1f22557487170a4091462901fa0fcf8654ab3dd9.pdf', 'pg_040-0ea0ce5acd20e765a4d82bd24ae441dad9ef614c.pdf', 'pg_041-8367c74ea5cf133762fc6a1d744bcc57bfc023a6.pdf', 'pg_042-334903820f959f51e57dcc1d23c174af4ba45659.pdf', 'pg_043-c191c5e2842da87f74d179c24ec865b12bf6320c.pdf', 'pg_044-975458b70ea1f1ec214eff65549abf45e94cf7d7.pdf', 'pg_045-3959cef813724e1342254925be2da4f1ef9f031f.pdf', 'pg_046-10e7bf249b1aee27700d62ef9fb315d07151422c.pdf', 'pg_047-f58323aca664a2df3e2b5dfc0f68c232c41b4943.pdf', 'pg_048-134822c290b2446e443acec63f5222b1ecb58575.pdf', 'pg_049-6115f7c13bb80f06e6a5c5b8094bd858e00f8d07.pdf', 'pg_050-f059df3119cfe493777a86f5eedf8a00d80cbc56.pdf', 'pg_051-923716246dbd98cedf2f38a6c67cc0f030c7b34b.pdf', 'pg_052-74a58c0913023bf31d2507ab361464f4033d317c.pdf', 'pg_053-f10bd44943bccf0c400129bff9bc0bb16859ee9c.pdf', 'pg_054-00c6a607b9d9844ec95886b6f267267d848c51b9.pdf', 'pg_055-d4d4c014cdcd7923904769c53b6f8fffe3a95d27.pdf', 'pg_056-da9e5293c437e120d871c1dd66029c5d60ea0b64.pdf', 'pg_057-43ea76eeec71f917a4efa00c66ad83cd368cc312.pdf', 'pg_058-72d9a858f93da5700630930e9b6599bb103b2958.pdf', 'pg_059-774468b5c4e55192fec800c798934908b91d16f3.pdf', 'pg_060-ad4d4e8f42fa91bcd23fd0683cd73ad972822c99.pdf', 'pg_061-e5bbcaa86ec8e7246744bee93716294fd1f8f0dd.pdf', 'pg_062-f6ed983c215f8b6566b9cc077bfa458bbdf7f094.pdf', 'pg_063-9fc6bfd69a8db495a5cffe8aa262300689f0dd26.pdf', 'pg_064-46f7343960c09571ad0a99f7940a30e50544417c.pdf', 'pg_065-15dd3e150cc53a254d7686b896777d2ebd385756.pdf', 'pg_066-cd80280d4a7a12d5bd361683708a84d0e8cc3aaa.pdf', 'pg_067-8f52e209628b14ad3f30a17e600ba44851d585d2.pdf', 'pg_068-4c9d609aae4ccba5be1e11425acfc98c8cd181db.pdf', 'pg_069-67608d01331796754bae6839d21c9c15c4ce379f.pdf', 'pg_070-0a70f7e4445c515e3f755191ec6e082f9ffa7d7d.pdf', 'pg_071-5294e90f896b1ebb44511745310182ea1f340629.pdf', 'pg_072-8e3a7aaaeddf491731d6016d79e00702a22acbda.pdf', 'pg_073-a9cc02bdd1987bb4c215915585b3aa838eedbe6c.pdf', 'pg_074-4c163d1b1f58ec4362285ca84de776d27adf1863.pdf', 'pg_075-87d3d1cc6972a73acf032afcb3d6c03f5c9f4252.pdf', 'pg_076-9981223d96cae08dc0c0827ec27a1313c834f3f4.pdf', 'pg_077-d6c153f21a1142549ca86cda5ab43ab252ec23c9.pdf', 'pg_078-6f194de9378c1b3be41649cb06f985aff5b38b1d.pdf', 'pg_079-7b713bd46c23bbbe6f81d8bd36c01ddd9928e489.pdf', 'pg_080-0fa8a67e4ad5ecb5cad4dc147e8aa290d5b92c65.pdf', 'pg_081-8a72d2b26e9fa52dc7d12e1cf155438a2fa23232.pdf', 'pg_082-52e0781cce47b30e8634edc7a174e56d38aa3e52.pdf', 'pg_083-ef1490295aef7c3d7be808c1ea8bd1900d52ec88.pdf', 'pg_084-bdbe0ae7dc43c70e17c43ccc4398ebee4faa6818.pdf', 'pg_085-b1f251387320023a986bfdeb829e4895e70b77eb.pdf', 'pg_086-27427dac095412e40a75ea7add16f2d802a7da1b.pdf', 'pg_087-42040c2f103079dfcda8e699d01935fcfeb4eabe.pdf', 'pg_088-c3a091329a55478470aebdea21988d54a9f0e534.pdf', 'pg_089-beced097c3dca961ac12b75bff341857d69f1dee.pdf', 'pg_090-848356531aecd49d8a0a6c841618a3d667648a75.pdf', 'pg_091-9a5a3dd36d7b10b3402ea3c6b03c7765c3a2aa0a.pdf', 'pg_092-2f7883d10af3f6936944dcdf0b569905864f8027.pdf', 'pg_093-5922b1060fedf8df0cc2f6aadaf2e06941c405dd.pdf', 'pg_094-3ead429fc5900ffbdf28f13612dbe06df97b0155.pdf', 'pg_095-22d08f68c9290bba2beef5a82c20b1c609b3fe6e.pdf', 'pg_096-be3637c6b83b1d819b31a227caf9969eb15d16cd.pdf', 'pg_097-d74b0767a3d07812dcaf41f3f03eeda0fc777f09.pdf', 'pg_098-321fc3bb7080201255bbb3972d472400cd35c587.pdf', 'pg_099-a1fb937a7721e6e7025f17abdaa1109aa598d128.pdf', 'pg_100-090406c758b218f2f5145b5f3bbeb5dfdaac0ea9.pdf', 'pg_101-d0723db6916c04a71a5346009fce0237990d0377.pdf', 'pg_102-06eab3545a586a457833f300db4ce3e9be8ea1d5.pdf', 'pg_103-6cef652df3dee82749ee91fb5cd90b64f6e264f7.pdf', 'pg_104-5b6b74439de06db0c622199e88d02a5841dab925.pdf', 'pg_105-f21ce35453493d5512ebfd518591e86f5c96d0a1.pdf', 'pg_106-68f56f9e190862fe8a387e5987d46bb7aedae653.pdf', 'pg_107-ce5cdf4a5720b6babf97b13ce7c1056d5dbcc969.pdf', 'pg_108-717857a74ce4fc5332409f99ef88b783c60bbd75.pdf', 'pg_109-66e2696c384a120528fbb9722d836dcfc71121a2.pdf', 'pg_110-6ee46630327556183abf750c16bd407d1aa7cb30.pdf', 'pg_111-4e1783e8fd7d6933360b3bf17d32b7356618295a.pdf', 'pg_112-926bf00032df078f107d980d1cf7d39e84d019a7.pdf', 'pg_113-9105a0379a9ccbd1c946905a701c5e62f9ed2458.pdf', 'pg_114-e8bf88dd81ef91e6826ee9b370b1b4f2e8fa8205.pdf', 'pg_115-2859d2b2c94708ed8405f3bf3d592830b988d356.pdf', 'pg_116-d0981c56e77c55a31ec038445703bbbf17bcf2dd.pdf', 'pg_117-3762ab44855ac16b9fd19ae9f2d1d703025d54e2.pdf', 'pg_118-5839e63f86dc5a2e6ddadc134778267b50139459.pdf', 'pg_119-a4a5154dbd72ac3bc6d628e9f0c5f5f578398e13.pdf', 'pg_120-0e2fbe39202fd56db325e12a754e23e26a449cea.pdf', 'pg_121-031489688866ed8f179e1b3c710bf80ff32453b2.pdf', 'pg_122-e8c30b2225910f549dbd8cc178b1eade3e9b7653.pdf', 'pg_123-23cf7b8fed25f2688ec575f9ed4fb64c406d0961.pdf', 'pg_124-db2feb87d7f54fe210a3fd477cf1651b5a5c764d.pdf', 'pg_125-a5c79087e05ced51f683af0a0ed40e80106607eb.pdf', 'pg_126-a8a7dcfa27606cd6bbf028f181a8988d52617ced.pdf', 'pg_127-3839cb4d7bb9f1da3e1c6a68b99cd13368bb28b3.pdf', 'pg_128-4551ede65d72de21a3d4e4ca093eedb796822fff.pdf', 'pg_129-7fd8d5b4467fa4c0ae35ea681745f57e234a48ac.pdf', 'pg_130-1bc1936e873dd4c912f989d808d9e044c40e22b5.pdf', 'pg_131-392ed8624dad17732e186fbd7b1a43cd0c870eed.pdf', 'pg_132-8b670933d0a4f41859da4b674c1c3d809f21d711.pdf']\n"
     ]
    }
   ],
   "source": [
    "def get_directories():\n",
    "        '''Obtém  os diretórios de trabalho.\n",
    "                return BASE_DIR,DATA_DIR,SAVE_DIR,DATA_FILE,DATA_FILES\n",
    "        '''\n",
    "        dt_now = get_date_today()\n",
    "        BASE_DIR = os.getcwd()\n",
    "        os.chdir(BASE_DIR)\n",
    "        try:\n",
    "                os.makedirs(f'{BASE_DIR}\\\\outputs_files\\\\{dt_now}')\n",
    "        except:\n",
    "                pass\n",
    "\n",
    "        DATA_DIR = f'{BASE_DIR}\\\\querido-diario\\\\data_collection\\\\data\\\\3550308\\\\{str(dt_now)}'\n",
    "        SAVE_DIR = f'{BASE_DIR}\\\\outputs_files\\\\{dt_now}'\n",
    "        DATA_FILE = SAVE_DIR + '\\\\' + [f for f in os.listdir(SAVE_DIR) if f.endswith(\"tsv\")][0]\n",
    "        DATA_FILES = os.listdir(DATA_DIR)\n",
    "        DATA_FILES.sort()\n",
    "        \n",
    "        print(f'###   INFO:  DIRS   ###')\n",
    "        print(f'  BASE_DIR:  {BASE_DIR}')\n",
    "        print(f'  DATA_DIR:  {DATA_DIR}')\n",
    "        print(f'  SAVE_DIR:  {SAVE_DIR}')\n",
    "        print(f' DATA_FILE:  {DATA_FILE}')\n",
    "        print(f'DATA_FILES:  {DATA_FILES}')\n",
    "        \n",
    "        return BASE_DIR,DATA_DIR,SAVE_DIR,DATA_FILE,DATA_FILES\n",
    "\n",
    "BASE_DIR,DATA_DIR,SAVE_DIR,DATA_FILE,DATA_FILES = get_directories()"
   ]
  },
  {
   "cell_type": "markdown",
   "metadata": {},
   "source": [
    "### Salva arquivo final"
   ]
  },
  {
   "cell_type": "code",
   "execution_count": 41,
   "metadata": {},
   "outputs": [],
   "source": [
    "def save_file(SAVE_DIR,CONTEXT,NAME_FILE,FORMAT='txt'):\n",
    "        '''\n",
    "                Cria um arquivo com o conteúdo e salva na pasta.\n",
    "                        SAVE_DIR  : Diretório para salvar o conteúdo\n",
    "                        CONTEXT   : Conteúdo a ser salvo\n",
    "                        NAME_FILE : Nome do arquivo para ser salvo\n",
    "                        FORMAT    : Formato do arquivo final\n",
    "        '''\n",
    "\n",
    "        with open(f\"{SAVE_DIR}\\\\{NAME_FILE}.{FORMAT}\",\"w\",encoding='utf8') as output_file:\n",
    "                output_file.write(CONTEXT)\n",
    "        \n",
    "        return f\"{SAVE_DIR}\\\\{NAME_FILE}.{FORMAT}\""
   ]
  },
  {
   "cell_type": "code",
   "execution_count": 42,
   "metadata": {},
   "outputs": [],
   "source": [
    "def add_file(SAVE_DIR,CONTEXT,NAME_FILE,FORMAT='txt'):\n",
    "        '''\n",
    "                Cria um arquivo com o conteúdo e salva na pasta.\n",
    "                        SAVE_DIR  : Diretório para salvar o conteúdo\n",
    "                        CONTEXT   : Conteúdo a ser salvo\n",
    "                        NAME_FILE : Nome do arquivo para ser salvo\n",
    "                        FORMAT    : Formato do arquivo final\n",
    "        '''\n",
    "\n",
    "        with open(f\"{SAVE_DIR}\\\\{NAME_FILE}.{FORMAT}\",\"a\",encoding='utf8') as output_file:\n",
    "                output_file.write(CONTEXT)\n",
    "        \n",
    "        return f\"{SAVE_DIR}\\\\{NAME_FILE}.{FORMAT}\""
   ]
  },
  {
   "cell_type": "markdown",
   "metadata": {},
   "source": [
    "### Definindo Diretórios"
   ]
  },
  {
   "cell_type": "markdown",
   "metadata": {},
   "source": [
    "### Obtem contéudo do arquivo TSV"
   ]
  },
  {
   "cell_type": "code",
   "execution_count": 44,
   "metadata": {},
   "outputs": [],
   "source": [
    "with open(DATA_FILE,'r') as file:\n",
    "    conteudo = file.read()"
   ]
  },
  {
   "cell_type": "markdown",
   "metadata": {},
   "source": [
    "## Scripts de Listagens"
   ]
  },
  {
   "cell_type": "markdown",
   "metadata": {},
   "source": [
    "### Seção SERVIDORES"
   ]
  },
  {
   "cell_type": "code",
   "execution_count": 51,
   "metadata": {},
   "outputs": [],
   "source": [
    "conteudo_alterado = conteudo"
   ]
  },
  {
   "cell_type": "markdown",
   "metadata": {},
   "source": [
    "#### Limpeza dos dados"
   ]
  },
  {
   "cell_type": "code",
   "execution_count": 60,
   "metadata": {},
   "outputs": [],
   "source": [
    "def limpa_tabulacao(conteudo_alterado):\n",
    "    print('### LIMPA TABULAÇÃO ###')\n",
    "    print(f'Qtd de linhas antes: {len(conteudo_alterado)}')\n",
    "    conteudo_alterado = conteudo_alterado.replace('\\t',' ')\n",
    "    conteudo_alterado = conteudo_alterado.replace('\"\"','')\n",
    "    conteudo_alterado = conteudo_alterado.replace(' \\n','\\n')\n",
    "    conteudo_alterado = conteudo_alterado.replace('\\n ','\\n')\n",
    "    conteudo_alterado = conteudo_alterado.replace('    ',' ')\n",
    "    conteudo_alterado = conteudo_alterado.replace('   ',' ')\n",
    "    conteudo_alterado = conteudo_alterado.replace('  ',' ')\n",
    "    conteudo_alterado = conteudo_alterado.replace('-\\n','')\n",
    "    conteudo_alterado = conteudo_alterado.replace(',\\n',', ')\n",
    "    conteudo_alterado = conteudo_alterado.replace(', \\n',', ')\n",
    "    conteudo_alterado = conteudo_alterado.replace('/\\n','/')\n",
    "    conteudo_alterado = conteudo_alterado.upper()\n",
    "    print(f'Qtd de linhas depois: {len(conteudo_alterado)}')\n",
    "    return conteudo_alterado"
   ]
  },
  {
   "cell_type": "code",
   "execution_count": 61,
   "metadata": {},
   "outputs": [],
   "source": [
    "def normaliza_cabecalho(conteudo_alterado):\n",
    "    print('### NORMALIZA CABEÇALHO ###')\n",
    "    print(f'Qtd de linhas antes: {len(conteudo_alterado)}')\n",
    "    conteudo_alterado = conteudo_alterado.replace('E.H.','EH')\n",
    "    conteudo_alterado = conteudo_alterado.replace('REG. FUNC.','RF')\n",
    "    conteudo_alterado = conteudo_alterado.replace('REG.FUNC.','RF')\n",
    "    conteudo_alterado = conteudo_alterado.replace('R.F.','RF')\n",
    "    conteudo_alterado = conteudo_alterado.replace('E.H.','EH')\n",
    "    conteudo_alterado = conteudo_alterado.replace(' VINC.','VINCULO')\n",
    "    conteudo_alterado = conteudo_alterado.replace('DURAÇÃO','DURACAO')\n",
    "    conteudo_alterado = conteudo_alterado.replace('A PARTIR DE','A_PARTIR_DE')\n",
    "    conteudo_alterado = conteudo_alterado.replace('A PARTIR','A_PARTIR_DE')\n",
    "    conteudo_alterado = conteudo_alterado.replace(' ART.','ARTIGO')\n",
    "    conteudo_alterado = conteudo_alterado.replace('PERÍODO','PERIODO')\n",
    "    conteudo_alterado = conteudo_alterado.replace(' VÍNC.',' VINCULO')\n",
    "    conteudo_alterado = conteudo_alterado.replace(' QTE DE DIAS ',' DIAS ')\n",
    "    conteudo_alterado = conteudo_alterado.replace('RF. ','RF ')\n",
    "    conteudo_alterado = conteudo_alterado.replace('RF NOME DIAS A PARTIR DE ARTIGO','RF NOME DIAS A_PARTIR_DE ARTIGO')\n",
    "    conteudo_alterado = conteudo_alterado.replace('RF NOME A PARTIR DE','RF NOME A_PARTIR_DE')\n",
    "    conteudo_alterado = conteudo_alterado.replace('RF NOME DUR A PARTIR DE','RF NOME DURACAO A_PARTIR_DE')\n",
    "    conteudo_alterado = conteudo_alterado.replace('RF SERVIDOR CONTROLE NO','RF NOME CONTROLE_NO')\n",
    "    conteudo_alterado = conteudo_alterado.replace('RF NOME CONTROLE NO','RF NOME CONTROLE_NO')\n",
    "    conteudo_alterado = conteudo_alterado.replace('RF/V NOME DIAS/EXERCÍCIO A PARTIR DE','RF/VINCULO NOME DIAS A_PARTIR_DE')\n",
    "    conteudo_alterado = conteudo_alterado.replace('RF/VINCULO NOME DIAS A_PARTIR_DE','RF/VINCULO NOME DIAS A_PARTIR_DE')\n",
    "    conteudo_alterado = conteudo_alterado.replace('RF/VINC NOME NÍVEL CAT. SÍMBOLO A PARTIR DE','RF/VINCULO NOME NIVEL_CAT SIMBOLO A_PARTIR_DE')\n",
    "    conteudo_alterado = conteudo_alterado.replace('RF NOME CARGO','RF NOME CARGO')\n",
    "    conteudo_alterado = conteudo_alterado.replace('RF V NOME EH A PARTIR DE MOTIVO','RF VINCULO NOME EH A_PARTIR_DE MOTIVO')\n",
    "    conteudo_alterado = conteudo_alterado.replace('RF VINCULO NOME CARGO A PARTIR DE','RF VINCULO NOME CARGO A_PARTIR_DE')\n",
    "    conteudo_alterado = conteudo_alterado.replace('NOME RF DATA HORARIO','NOME RF DATA_HORARIO')\n",
    "    conteudo_alterado = conteudo_alterado.replace('NOME RF DATAHORARIO','NOME RF DATA_HORARIO')\n",
    "    conteudo_alterado = conteudo_alterado.replace('REGISTRO VINC. NOME NIIVEL CAT.','RF VINCULO NOME NIIVEL CAT')\n",
    "    conteudo_alterado = conteudo_alterado.replace('REGISTRO VINC. NOME NIIVEL CAT. SIM','RF VINCULO NOME NIVEL CAT SIM')\n",
    "    conteudo_alterado = conteudo_alterado.replace('RF VINC NOME NIIVEL CAT','RF VINCULO NOME NIVEL CAT')\n",
    "    conteudo_alterado = conteudo_alterado.replace('REG. FUNC. NOME CARGO REGIME EXP. AC. NO','RF NOME CARGO REGIME EXP_AC_NO')\n",
    "    conteudo_alterado = conteudo_alterado.replace('EH RF NOME DURAÇÃO A PARTIR ART','EH RF NOME DURACAO A_PARTIR_DE ARTIGO')\n",
    "    conteudo_alterado = conteudo_alterado.replace('REG.FUNC. NOME DE PARA','RF NOME DE PARA')\n",
    "    conteudo_alterado = conteudo_alterado.replace('RF NOME NOTA INDIVIDUAL NOTA INSTITUCIONAL NOTA FINAL','RF NOME NOTA_INDIVIDUAL NOTA_INSTITUCIONAL NOTA_FINAL')\n",
    "    conteudo_alterado = conteudo_alterado.replace('RF NOME DURAÇÃO À PARTIR DE','RF NOME DURACAO A_PARTIR_DE')\n",
    "    conteudo_alterado = conteudo_alterado.replace('RF NOME PERCENTUAL BASE DE CÁLCULO DATA','RF NOME PERCENTUAL BASE_DE_CALCULO DATA')\n",
    "    conteudo_alterado = conteudo_alterado.replace('REGISTRO NOME CARGO EXERCÍCIO QUAN- A PARTIR DE FUNCIONAL TIDADE','RF NOME CARGO EXERCICIO QUANTIDADE A_PARTIR_DE')\n",
    "    conteudo_alterado = conteudo_alterado.replace('RF VINCULO NOME: PERÍODO DE :','RF VINCULO NOME PERIODO_DE')\n",
    "    conteudo_alterado = conteudo_alterado.replace('RF/V NOME CARGO N°DIAS','RF/VINCULO NOME CARGO DIAS')\n",
    "    conteudo_alterado = conteudo_alterado.replace('NOME RF A PARTIR DE','NOME RF A_PARTIR_DE')\n",
    "    conteudo_alterado = conteudo_alterado.replace('RF/V NOME A PARTIR DE','RF/VINCULO NOME A_PARTIR_DE')\n",
    "    conteudo_alterado = conteudo_alterado.replace('RF: NOME: PROCESSO: E.H.:','RF NOME PROCESSO EH')\n",
    "    conteudo_alterado = conteudo_alterado.replace('EH RF/V NOME DIAS A PARTIR DE','EH RF/VINCULO NOME DIAS A_PARTIR_DE')\n",
    "    conteudo_alterado = conteudo_alterado.replace('RF NOME E.H. A PARTIR','RF NOME E.H. A_PARTIR')\n",
    "    conteudo_alterado = conteudo_alterado.replace('RF/V NOME DIAS A PARTIR DE','RF/VINCULO NOME DIAS A_PARTIR_DE')\n",
    "    conteudo_alterado = conteudo_alterado.replace('RF VINCULO NOME: PERIODO DE :','RF VINCULO NOME PERIODO')\n",
    "    conteudo_alterado = conteudo_alterado.replace('RF NOME CONTROLE_NO ','RF NOME CONTROLE_NO\\n')\n",
    "    conteudo_alterado = conteudo_alterado.replace('RF VINCULO NOME CARGO A_PARTIR_DE ','RF VINCULO NOME CARGO A_PARTIR_DE\\n')\n",
    "    conteudo_alterado = conteudo_alterado.replace('RF/VINCULO NOME DIAS A_PARTIR_DE','RF/VINCULO NOME DIAS A_PARTIR_DE\\n')\n",
    "    conteudo_alterado = conteudo_alterado.replace('RF NOME CARGO REGIME EXP_AC_NO ','RF NOME CARGO REGIME EXP_AC_NO\\n')\n",
    "    conteudo_alterado = conteudo_alterado.replace('RF NOME DE PARA ','RF NOME DE PARA\\n')\n",
    "    conteudo_alterado = conteudo_alterado.replace('RF NOME NOTA_INDIVIDUAL NOTA_INSTITUCIONAL NOTA_FINAL ','RF NOME NOTA_INDIVIDUAL NOTA_INSTITUCIONAL NOTA_FINAL\\n')\n",
    "    conteudo_alterado = conteudo_alterado.replace('RF NOME DURACAO A_PARTIR_DE ','RF NOME DURACAO A_PARTIR_DE\\n')\n",
    "    conteudo_alterado = conteudo_alterado.replace('RF NOME PERCENTUAL BASE_DE_CALCULO DATA ','RF NOME PERCENTUAL BASE_DE_CALCULO DATA\\n')\n",
    "    conteudo_alterado = conteudo_alterado.replace('REGISTRO NOME CARGO EXERCÍCIO QUAN- A PARTIR DE FUNCIONAL TIDADE','RF NOME CARGO EXERCICIO QUANTIDADE A_PARTIR_DE')\n",
    "    conteudo_alterado = conteudo_alterado.replace('NOME RF A_PARTIR_DE ','NOME RF A_PARTIR_DE\\n')\n",
    "    conteudo_alterado = conteudo_alterado.replace('RF/V NOME A_PARTIR_DE ','RF/V NOME A_PARTIR_DE\\n')\n",
    "    conteudo_alterado = conteudo_alterado.replace('RF NOME A_PARTIR_DE ','RF NOME A_PARTIR_DE')\n",
    "    conteudo_alterado = conteudo_alterado.replace('REGISTRO NOME CARGO EXERCÍCIO QUANTIDADE A_PARTIR_DE FUNCIONAL','RF NOME CARGO EXERCICIO QUANTIDADE A_PARTIR_DE')\n",
    "    print(f'Qtd de linhas depois: {len(conteudo_alterado)}')\n",
    "    return conteudo_alterado"
   ]
  },
  {
   "cell_type": "code",
   "execution_count": 62,
   "metadata": {},
   "outputs": [],
   "source": [
    "def limpa_conjuncao_preposicao(conteudo_alterado):\n",
    "    print('### LIMPA CONJUNÇÃO E PREPOSIÇÃO ###')\n",
    "    print(f'Qtd de linhas antes: {len(conteudo_alterado)}')\n",
    "    conteudo_alterado = conteudo_alterado.replace(' AO\\n',' AO ')\n",
    "    conteudo_alterado = conteudo_alterado.replace('\\nAO ',' AO ')\n",
    "    conteudo_alterado = conteudo_alterado.replace(' AOS\\n',' AOS ')\n",
    "    conteudo_alterado = conteudo_alterado.replace('\\nAOS ',' AOS ')\n",
    "    conteudo_alterado = conteudo_alterado.replace(' SÃO\\n',' SÃO ')\n",
    "    conteudo_alterado = conteudo_alterado.replace(' À\\n',' À ')\n",
    "    conteudo_alterado = conteudo_alterado.replace('\\nÀ ',' À ')\n",
    "    conteudo_alterado = conteudo_alterado.replace(' ÀS\\n',' ÀS ')\n",
    "    conteudo_alterado = conteudo_alterado.replace('\\nÀS ',' ÀS ')\n",
    "    conteudo_alterado = conteudo_alterado.replace(' AS\\n',' AS ')\n",
    "    conteudo_alterado = conteudo_alterado.replace('\\nAS ',' AS ')\n",
    "    conteudo_alterado = conteudo_alterado.replace(' E\\n',' E ')\n",
    "    conteudo_alterado = conteudo_alterado.replace(' O\\n',' O ')\n",
    "    conteudo_alterado = conteudo_alterado.replace(' OS\\n',' OS ')\n",
    "    conteudo_alterado = conteudo_alterado.replace('\\nOS ',' OS ')\n",
    "    conteudo_alterado = conteudo_alterado.replace(' DA\\n',' DA ')\n",
    "    conteudo_alterado = conteudo_alterado.replace('\\nDA ',' DA ')\n",
    "    conteudo_alterado = conteudo_alterado.replace(' DAS\\n',' DAS ')\n",
    "    conteudo_alterado = conteudo_alterado.replace('\\nDAS ',' DAS ')\n",
    "    conteudo_alterado = conteudo_alterado.replace(' DA(S)\\n',' DA(S) ')\n",
    "    conteudo_alterado = conteudo_alterado.replace('\\nDA(S) ',' DA(S) ')\n",
    "    conteudo_alterado = conteudo_alterado.replace(' DE\\n',' DE ')\n",
    "    conteudo_alterado = conteudo_alterado.replace('\\nDE ',' DE ')\n",
    "    conteudo_alterado = conteudo_alterado.replace(' DO\\n',' DO ')\n",
    "    conteudo_alterado = conteudo_alterado.replace('\\nDO ',' DO ')\n",
    "    conteudo_alterado = conteudo_alterado.replace(' DOS\\n',' DOS ')\n",
    "    conteudo_alterado = conteudo_alterado.replace('\\nDOS ',' DOS ')\n",
    "    conteudo_alterado = conteudo_alterado.replace(' DO(S)\\n',' DO(S) ')\n",
    "    conteudo_alterado = conteudo_alterado.replace('\\nDO(S) ',' DO(S) ')\n",
    "    conteudo_alterado = conteudo_alterado.replace(' COM\\n',' COM ')\n",
    "    conteudo_alterado = conteudo_alterado.replace('\\nCOM ',' COM ')\n",
    "    conteudo_alterado = conteudo_alterado.replace(' EM\\n',' EM ')\n",
    "    conteudo_alterado = conteudo_alterado.replace('\\nEM ',' EM ')\n",
    "    conteudo_alterado = conteudo_alterado.replace(' PARA\\n',' PARA ')\n",
    "    conteudo_alterado = conteudo_alterado.replace('\\nPARA ',' PARA ')\n",
    "    conteudo_alterado = conteudo_alterado.replace(' P/ ',' PARA ')\n",
    "    conteudo_alterado = conteudo_alterado.replace(' POR\\n',' POR ')\n",
    "    conteudo_alterado = conteudo_alterado.replace(' NA\\n',' NA ')\n",
    "    conteudo_alterado = conteudo_alterado.replace(' NAS\\n',' NAS ')\n",
    "    conteudo_alterado = conteudo_alterado.replace('\\nNAS ',' NAS ')\n",
    "    conteudo_alterado = conteudo_alterado.replace(' NO\\n',' NO ')\n",
    "    conteudo_alterado = conteudo_alterado.replace(' NOS\\n',' NOS ')\n",
    "    conteudo_alterado = conteudo_alterado.replace('\\nNOS ',' NOS ')\n",
    "    print(f'Qtd de linhas depois: {len(conteudo_alterado)}')\n",
    "    return conteudo_alterado"
   ]
  },
  {
   "cell_type": "code",
   "execution_count": 65,
   "metadata": {},
   "outputs": [
    {
     "name": "stdout",
     "output_type": "stream",
     "text": [
      "### LIMPA TABULAÇÃO ###\n",
      "Qtd de linhas antes: 2804697\n",
      "Qtd de linhas depois: 2804697\n",
      "### LIMPA CONJUNÇÃO E PREPOSIÇÃO ###\n",
      "Qtd de linhas antes: 2804697\n",
      "Qtd de linhas depois: 2804697\n",
      "### LIMPA TABULAÇÃO ###\n",
      "Qtd de linhas antes: 2804697\n",
      "Qtd de linhas depois: 2804697\n",
      "### NORMALIZA CABEÇALHO ###\n",
      "Qtd de linhas antes: 2804697\n",
      "Qtd de linhas depois: 2804697\n",
      "### LIMPA TABULAÇÃO ###\n",
      "Qtd de linhas antes: 2804697\n",
      "Qtd de linhas depois: 2804697\n",
      "### LIMPA CONJUNÇÃO E PREPOSIÇÃO ###\n",
      "Qtd de linhas antes: 2804697\n",
      "Qtd de linhas depois: 2804697\n",
      "### LIMPA TABULAÇÃO ###\n",
      "Qtd de linhas antes: 2804697\n",
      "Qtd de linhas depois: 2804697\n"
     ]
    }
   ],
   "source": [
    "conteudo_alterado = limpa_tabulacao(conteudo_alterado)\n",
    "conteudo_alterado = limpa_conjuncao_preposicao(conteudo_alterado)\n",
    "conteudo_alterado = limpa_tabulacao(conteudo_alterado)\n",
    "conteudo_alterado = normaliza_cabecalho(conteudo_alterado)\n",
    "conteudo_alterado = limpa_tabulacao(conteudo_alterado)\n",
    "conteudo_alterado = limpa_conjuncao_preposicao(conteudo_alterado)\n",
    "conteudo_alterado = limpa_tabulacao(conteudo_alterado)"
   ]
  },
  {
   "cell_type": "code",
   "execution_count": 66,
   "metadata": {},
   "outputs": [
    {
     "name": "stdout",
     "output_type": "stream",
     "text": [
      "Qtd de linhas antes: 2804697\n",
      "Qtd de linhas depois: 2804697\n"
     ]
    }
   ],
   "source": [
    "print(f'Qtd de linhas antes: {len(conteudo_alterado)}')\n",
    "conteudo_alterado = conteudo_alterado.replace('FUNDAÇÃO PAULISTANA DE EDUCAÇÃO\\nTECNOLOGIA E CULTURA','FUNDAÇÃO PAULISTANA DE EDUCAÇÃO TECNOLOGIA E CULTURA')\n",
    "conteudo_alterado = conteudo_alterado.replace('HOSPITAL DO SERVIDOR\\nPÚBLICO MUNICIPAL','HOSPITAL DO SERVIDOR PÚBLICO MUNICIPAL')\n",
    "conteudo_alterado = conteudo_alterado.replace('SECRETARIA MUNICIPAL DE ASSIST E DESENV\\nSOCIAL','SECRETARIA MUNICIPAL DE ASSIST E DESENV SOCIAL')\n",
    "conteudo_alterado = conteudo_alterado.replace('SECRETARIA MUNICIPAL DE INFRAESTRUTURA\\nURBANA E OB','SECRETARIA MUNICIPAL DE INFRAESTRUTURA URBANA E OB')\n",
    "conteudo_alterado = conteudo_alterado.replace('SECRETARIA MUNICIPAL DE SEGURANCA\\nURBANA','SECRETARIA MUNICIPAL DE SEGURANCA URBANA')\n",
    "conteudo_alterado = conteudo_alterado.replace('SECRETARIA MUNICIPAL DO VERDE E DO MEIO\\nAMBIENTE','SECRETARIA MUNICIPAL DO VERDE E DO MEIO AMBIENTE')\n",
    "conteudo_alterado = conteudo_alterado.replace('COORDENADORIA DE ADMINISTRAÇÃO\\nE FINANÇAS','COORDENADORIA DE ADMINISTRAÇÃO E FINANÇAS')\n",
    "conteudo_alterado = conteudo_alterado.replace('LICENÇAS MÉDICAS CONCEDIDAS/NEGADAS\\nEM GRAU DE RECURSO','LICENÇAS MÉDICAS CONCEDIDAS/NEGADAS EM GRAU DE RECURSO')\n",
    "conteudo_alterado = conteudo_alterado.replace('RELAÇÃO DE LICENÇAS MÉDICAS NEGADAS\\nNOS TERMOS DA LEI 8989/79','RELAÇÃO DE LICENÇAS MÉDICAS NEGADAS NOS TERMOS DA LEI 8989/79')\n",
    "conteudo_alterado = conteudo_alterado.replace('RELAÇÃO DE FALTAS DOS CONVOCADOS\\nPARA AVALIAÇÃO DE ESPECIALISTA','RELAÇÃO DE FALTAS DOS CONVOCADOS PARA AVALIAÇÃO DE ESPECIALISTA')\n",
    "conteudo_alterado = conteudo_alterado.replace('RELAÇÃO DE FALTAS DOS CONVOCADOS\\nPARA JUNTA MÉDICA PARA FINS DE PENSÃO\\nPOR MORTE','RELAÇÃO DE FALTAS DOS CONVOCADOS PARA JUNTA MÉDICA PARA FINS DE PENSÃO POR MORTE')\n",
    "conteudo_alterado = conteudo_alterado.replace('RELAÇÃO DE ALTA DE AT/DT RETIFICADA EM\\nFUNÇÃO DE:','RELAÇÃO DE ALTA DE AT/DT RETIFICADA EM FUNÇÃO DE:')\n",
    "conteudo_alterado = conteudo_alterado.replace('RELAÇÃO DE SERVIDORES SUBMETIDOS À\\nAVALIAÇÃO DE ESPECIALISTA\\nCOM CAPACIDADE LABORATIVA PARA A SUA\\nFUNÇÃO ORIGINAL','RELAÇÃO DE SERVIDORES SUBMETIDOS À AVALIAÇÃO DE ESPECIALISTA COM CAPACIDADE LABORATIVA PARA A SUA FUNÇÃO ORIGINAL')\n",
    "conteudo_alterado = conteudo_alterado.replace('RELAÇÃO DE CONCESSÃO DE NEXO DE ACIDENTE DO TRABALHO\\nDEFERIDO','RELAÇÃO DE CONCESSÃO DE NEXO DE ACIDENTE DO TRABALHO DEFERIDO')\n",
    "conteudo_alterado = conteudo_alterado.replace('LICENÇAS MÉDICAS DE CURTA DURAÇÃO\\nDOC ','LICENÇAS MÉDICAS DE CURTA DURAÇÃO DOC ')\n",
    "conteudo_alterado = conteudo_alterado.replace('ACI-\\nDENTE','ACIDENTE')\n",
    "conteudo_alterado = conteudo_alterado.replace('CANCELA-\\nDAS','CANCELADAS')\n",
    "conteudo_alterado = conteudo_alterado.replace('RETIFICA-\\nDAS','RETIFICADAS')\n",
    "conteudo_alterado = conteudo_alterado.replace('RECO-\\nMENDAÇÃO','RECOMENDAÇÃO')\n",
    "conteudo_alterado = conteudo_alterado.replace('RECOMENDAÇÃO\\nD','RECOMENDAÇÃO D')\n",
    "conteudo_alterado = conteudo_alterado.replace('LICENÇAS MÉDICAS\\nFACE','LICENÇAS MÉDICAS FACE')\n",
    "conteudo_alterado = conteudo_alterado.replace('LICENÇAS MÉDICAS PARA SERVIDORES SOB REGIME GERAL DA\\nPREVIDÊNCIA SOCIAL\\nCONCEDIDA DE ACORDO COM O DETERMINADO NA PORTARIA NO\\n','LICENÇAS MÉDICAS PARA SERVIDORES SOB REGIME GERAL DA PREVIDÊNCIA SOCIAL CONCEDIDA DE ACORDO COM O DETERMINADO NA PORTARIA NO ')\n",
    "conteudo_alterado = conteudo_alterado.replace('LICENÇA\\nMÉDICA','LICENÇA MÉDICA')\n",
    "conteudo_alterado = conteudo_alterado.replace('DECRETO NO\\n','DECRETO NO')\n",
    "conteudo_alterado = conteudo_alterado.replace('PUBLICADO\\nNO','PUBLICADO NO')\n",
    "conteudo_alterado = conteudo_alterado.replace('\\nCONCEDIDA',' CONCEDIDA')\n",
    "conteudo_alterado = conteudo_alterado.replace('\\nCONCEDIDAS ',' CONCEDIDAS ')\n",
    "conteudo_alterado = conteudo_alterado.replace(' RETIFICA- DAS ',' RETIFICADAS ')\n",
    "conteudo_alterado = conteudo_alterado.replace('PORTARIA\\n','PORTARIA ')\n",
    "conteudo_alterado = conteudo_alterado.replace(' TRABALHO\\nINDEFERIDO',' TRABALHO INDEFERIDO')\n",
    "conteudo_alterado = conteudo_alterado.replace(' DOC\\nSEI ',' DOC SEI ')\n",
    "conteudo_alterado = conteudo_alterado.replace(' DA LEI\\n',' DA LEI ')\n",
    "conteudo_alterado = conteudo_alterado.replace(' NOMES DOS SERVIDORES ','\\nNOMES DOS SERVIDORES ')\n",
    "conteudo_alterado = conteudo_alterado.replace(' RELAÇÃO DOS','\\nRELAÇÃO DOS')\n",
    "conteudo_alterado = conteudo_alterado.replace('RELAÇÃO DOS ESTAGIÁRIOS CONTRATADOS E DESLIGADOS,','RELAÇÃO DOS ESTAGIÁRIOS CONTRATADOS E DESLIGADOS\\n')\n",
    "print(f'Qtd de linhas depois: {len(conteudo_alterado)}')\n"
   ]
  },
  {
   "cell_type": "code",
   "execution_count": 67,
   "metadata": {},
   "outputs": [
    {
     "name": "stdout",
     "output_type": "stream",
     "text": [
      "SERVIRODRES: 795213 / CONCURSOS: 1085595\n"
     ]
    }
   ],
   "source": [
    "# Localiza o início das seções SERVIDORES e CONCURSOS\n",
    "sc_servidores = conteudo_alterado.find('\\nSERVIDORES\\n')\n",
    "sc_concursos = conteudo_alterado.find('\\nCONCURSOS\\n')\n",
    "print(f\"SERVIRODRES: {sc_servidores} / CONCURSOS: {sc_concursos}\")\n",
    "conteudo_servidores = conteudo_alterado[sc_servidores:sc_concursos]\n",
    "#conteudo_servidores = conteudo"
   ]
  },
  {
   "cell_type": "code",
   "execution_count": 68,
   "metadata": {},
   "outputs": [
    {
     "data": {
      "text/plain": [
       "'c:\\\\Projetos\\\\scrapy_dom\\\\outputs_files\\\\2022-06-07\\\\00-SECAO_SERVIDORES.txt'"
      ]
     },
     "execution_count": 68,
     "metadata": {},
     "output_type": "execute_result"
    }
   ],
   "source": [
    "#print(conteudo_servidores)\n",
    "save_file(SAVE_DIR,conteudo_servidores,'00-SECAO_SERVIDORES')"
   ]
  },
  {
   "cell_type": "code",
   "execution_count": 69,
   "metadata": {},
   "outputs": [],
   "source": [
    "#print(conteudo_servidores)"
   ]
  },
  {
   "cell_type": "markdown",
   "metadata": {},
   "source": [
    "### Relação de Licença Médica"
   ]
  },
  {
   "cell_type": "markdown",
   "metadata": {},
   "source": [
    "#### CONTEÚDO PRINCIPAL"
   ]
  },
  {
   "cell_type": "code",
   "execution_count": 70,
   "metadata": {},
   "outputs": [],
   "source": [
    "conteudo_licenca_medica = conteudo_servidores"
   ]
  },
  {
   "cell_type": "code",
   "execution_count": 32,
   "metadata": {},
   "outputs": [],
   "source": [
    "licencas_mapeadas = [\n",
    "    'RELAÇÃO DE ALTAS DO ACIDENTE DO TRABALHO E DA DOENÇA DO TRABALHO',\n",
    "    'RELAÇÃO DE CONCESSÃO DE NEXO DE ACIDENTE DO TRABALHO DEFERIDO',\n",
    "    'RELAÇÃO DE CONCESSÃO DE NEXO DE ACIDENTE DO TRABALHO DEFERIDO EM GRAU DE RECURSO',\n",
    "    'RELAÇÃO DE CONCESSÃO DE NEXO DE ACIDENTE DO TRABALHO INDEFERIDO',\n",
    "    'RELAÇÃO DE FALTA DO SERVIDOR À PERÍCIA',\n",
    "    'RELAÇÃO DE FALTA DO SERVIDOR À PERÍCIA',\n",
    "    'RELAÇÃO DE FALTAS DOS CONVOCADOS PARA AVALIAÇÃO DE ESPECIALISTA',\n",
    "    'RELAÇÃO DE FALTAS DOS CONVOCADOS P/ AVALIAÇÃO DE ISENÇÃO DE IMPOSTO DE RENDA',\n",
    "    'RELAÇÃO DE FALTAS DOS CONVOCADOS PARA JUNTA MÉDICA PARA FINS DE PENSÃO POR MORTE',\n",
    "    'RELAÇÃO DE LICENÇAS MÉDICAS NEGADAS NOS TERMOS DA LEI 8989/79',\n",
    "    'RELAÇÃO DE LICENÇAS MÉDICAS NOS TERMOS DA LEI 8989/79',\n",
    "    'RELAÇÃO DE SERVIDORES SUBMETIDOS À AVALIAÇÃO DE CAPACIDADE LABORATIVA COM CAPACIDADE LABORATIVA PARA A SUA FUNÇÃO',\n",
    "    'ENGLOBAMENTO DE LICENÇAS MÉDICAS FACE PORTARIA 11/84',\n",
    "    'LICENÇAS MÉDICAS CONCEDIDAS/NEGADAS EM GRAU DE RECURSO',\n",
    "]"
   ]
  },
  {
   "cell_type": "code",
   "execution_count": 38,
   "metadata": {},
   "outputs": [
    {
     "name": "stdout",
     "output_type": "stream",
     "text": [
      "\n",
      "Total de listas: 39\n",
      "ID;LISTAGEM;INICIO;MAPEADA;QTD\n",
      "1;RELAÇÃO DE ADICIONAIS POR TEMPO DE SERVIÇO NOS TERMOS DO ARTIGO 112, DA LEI 8989/79;28;False;6\n",
      "2;RELAÇÃO DE ADICIONAIS POR TEMPO DE SERVIÇO NOS TERMOS DO ARTIGO 112, DA LEI 8989/79;34;False;267\n",
      "3;RELAÇÃO DE SERVIDORES CONVOCADOS PARA AVALIAÇÃO MÉDICA DE ACIDENTE DE TRABALHO;295;False;293\n",
      "4;RELAÇÃO DE SERVIDORES CONVOCADOS PARA AVALIAÇÃO COM MÉDICO PERITO ESPECIALISTA;321;False;303\n",
      "5;RELAÇÃO DE SERVIDORES CONVOCADOS PARA AVALIAÇÃO COM MÉDICO PERITO ESPECIALISTA;331;False;319\n",
      "6;RELAÇÃO DE SERVIDORES CONVOCADOS PARA PERÍCIA DE LICENÇA MÉDICA PRÓPRIO SERVIDOR - LONGA DURACAO;347;False;435\n",
      "7;RELAÇÃO DE LICENÇA MÉDICA;463;False;438\n",
      "8;RELAÇÃO DE LICENÇAS MÉDICAS NOS TERMOS DA LEI 8989/79;466;True;1292\n",
      "9;LICENÇAS MÉDICAS CONCEDIDAS/NEGADAS EM GRAU DE RECURSO;1320;True;1298\n",
      "10;RELAÇÃO DE LICENÇAS MÉDICAS NEGADAS NOS TERMOS DA LEI 8989/79;1326;True;1335\n",
      "11;RELAÇÃO DE SERVIDORES QUE TIVERAM PERÍCIAS MÉDICAS REAGENDADAS.;1363;False;1399\n",
      "12;MENTO DE PERÍCIAS, NECESSIDADE DE APRESENTAÇÃO DE DOCUMENTAÇÃO COMPLEMENTAR E CONCESSÃO OU NÃO DE LICENÇAS MÉDICAS;1427;False;1408\n",
      "13;RELAÇÃO DE FALTA DO SERVIDOR À PERÍCIA;1436;True;1418\n",
      "14;RELAÇÃO DE FALTAS DOS CONVOCADOS;1446;False;1425\n",
      "15;RELAÇÃO DE SERVIDORES SUBMETIDOS À AVALIAÇÃO DE ESPECIALISTA COM CAPACIDADE LABORATIVA PARA A SUA FUNÇÃO;1453;False;1434\n",
      "16;RELAÇÃO DE SERVIDORES SUBMETIDOS À AVALIAÇÃO DE CAPACIDADE LABORATIVA;1462;False;1446\n",
      "17;RELAÇÃO DE FALTAS CANCELADAS;1474;False;1448\n",
      "18;RELAÇÃO DE LICENÇAS MÉDICAS RETIFICADAS EM FUNÇÃO DE:;1476;False;1458\n",
      "19;ENGLOBAMENTO DE LICENÇAS MÉDICAS FACE PORTARIA 11/84;1486;True;1496\n",
      "20;RELAÇÃO DE ALTAS DO ACIDENTE DO TRABALHO E DA DOENÇA DO TRABALHO;1524;True;1514\n",
      "21;RELAÇÃO DE ALTAS DO ACIDENTE DO TRABALHO E DA DOENÇA DO TRABALHO FACE:;1542;False;1518\n",
      "22;RELAÇÃO DE CONCESSÃO DE NEXO DE ACIDENTE DO TRABALHO DEFERIDO EM GRAU DE RECURSO;1546;True;1521\n",
      "23;RELAÇÃO DE CONCESSÃO DE NEXO DE ACIDENTE DO TRABALHO INDEFERIDO;1549;True;1561\n",
      "24;RELAÇÃO DE CIPAS – COMISSÕES INTERNAS DE PREVENÇÃO DE ACIDENTES CADASTRADAS;1589;False;3034\n",
      "25;LICENÇA NOJO CONCEDIDA NOS TERMOS DA LEI N° 8.989 DE 29/10/1979, ARTIGO 64.;3062;False;3191\n",
      "26;LICENÇAS MÉDICAS DE CURTA DURACAO - DO SERVIDOR –;3219;False;3262\n",
      "27;A PUBLICAÇÃO DO DOC DE 25/05/2022, PÁGINA 37, REFERENTE A LICENÇA NOJO – DO SERVIDORRICARDO N. DOS SANTOS RF : 7440201/1;3290;False;3266\n",
      "28;LICENÇAS MÉDICAS DE CURTA DURACAO CONCEDIDAS NOS TERMOS DA LEI 8989/79, ARTIGO 138, INCISO I;3294;False;3271\n",
      "29;LICENÇAS MÉDICAS DE CURTA DURACAO CONCEDIDAS NOS TERMOS DA LEI 8989/79, ARTIGO 138, INCISO I;3299;False;3276\n",
      "30;LICENÇAS MÉDICAS DE CURTA DURACAO CONCEDIDAS NOS TERMOS DA LEI 8989/79, ARTIGO 138, INCISO I;3304;False;3305\n",
      "31;LICENÇA NOJO;3333;False;3311\n",
      "32;LICENÇAS MÉDICAS DE CURTA DURACAO CONCEDIDAS NOS TERMOS DA LEI 8989/79, ARTIGO 138, INCISO I;3339;False;3472\n",
      "33;LICENÇA NOJO;3500;False;3594\n",
      "34;LICENÇA NOJO;3622;False;3844\n",
      "35;FÉRIAS DEFERIDAS;3872;False;3847\n",
      "36;LICENÇAS MÉDICAS DE CURTA DURACAO CONCEDIDAS NOS TERMOS DA LEI 8989/79,ART. 138, MODIFICADA;3875;False;3909\n",
      "37;LICENÇA NOJO;3937;False;3942\n",
      "38;RELAÇÃO DOS ESTAGIÁRIOS CONTRAT;3970;False;4697\n",
      "39;FÉRIAS DEFERIDAS;4725;False;4710\n",
      "40;LICENÇA NOJO CONCEDIDA NOS TERMOS LEI 8989/79;;4738;False;4732\n",
      "41;FÉRIAS DEFERIDAS;4760;False;4841\n",
      "42;RELAÇÃO DE ADICIONAIS POR TEMPO DE SERVIÇO NOS TERMOS DO ARTIGO 112, DA LEI 8989/79;4869;False;\n"
     ]
    }
   ],
   "source": [
    "rl_lm =  conteudo_licenca_medica.split('\\n')\n",
    "licencas = OrderedDict({})\n",
    "str_listagens = 'ID;LISTAGEM;INICIO;MAPEADA;QTD\\n'\n",
    "linha = 0\n",
    "lin_anterior = 0\n",
    "id = 0\n",
    "listas = []\n",
    "\n",
    "for line in rl_lm:\n",
    "    mapeada = line in licencas_mapeadas\n",
    "    if ('LICENÇAS MÉDICAS' in line or 'LICENÇA NOJO' in line) and not 'SEÇÃO DE LICENÇAS MÉDICAS' in line:\n",
    "        id += 1\n",
    "        licencas.update({\n",
    "            line : linha\n",
    "        })\n",
    "        listas.append(linha)\n",
    "        if id == 1:\n",
    "            str_listagens += f'{id};{line};{linha};{mapeada};'\n",
    "            lin_anterior = linha\n",
    "        if id > 1:\n",
    "            qtd = linha - lin_anterior\n",
    "            str_listagens += f'{qtd}\\n{id};{line};{linha};{mapeada};'\n",
    "            lin_anterior = lin_anterior\n",
    "        #print(line)\n",
    "    elif ('RELAÇÃO DE' in line or 'RELAÇÃO DOS' in line) or 'RELAÇÃO DE LICENÇA MÉDICA' in line:\n",
    "        id += 1\n",
    "        licencas.update({\n",
    "            line : linha\n",
    "        })\n",
    "        listas.append(linha)\n",
    "        if id == 1:\n",
    "            str_listagens += f'{id};{line};{linha};{mapeada};'\n",
    "            lin_anterior = linha\n",
    "        if id > 1:\n",
    "            qtd = linha - lin_anterior\n",
    "            str_listagens += f'{qtd}\\n{id};{line};{linha};{mapeada};'\n",
    "            lin_anterior = lin_anterior\n",
    "        #print(line)\n",
    "    elif 'SERVIDORES COM ' in line or 'NOMES DOS SERVIDORES' in line:\n",
    "        id += 1\n",
    "        licencas.update({\n",
    "            line : linha\n",
    "        })\n",
    "        if id == 1:\n",
    "            str_listagens += f'{id};{line};{linha};{mapeada};'\n",
    "            lin_anterior = linha\n",
    "        if id > 1:\n",
    "            qtd = linha - lin_anterior\n",
    "            str_listagens += f'{qtd}\\n{id};{line};{linha};{mapeada};'\n",
    "            lin_anterior = lin_anterior\n",
    "        #print(line)\n",
    "    elif 'HORÁRIO AMAMENTAÇÃO – DEFERIDO' in line or 'FÉRIAS DEFERIDAS' in line:\n",
    "        id += 1\n",
    "        licencas.update({\n",
    "            line : linha\n",
    "        })\n",
    "        if id == 1:\n",
    "            str_listagens += f'{id};{line};{linha};{mapeada};'\n",
    "            lin_anterior = linha\n",
    "        if id > 1:\n",
    "            qtd = linha - lin_anterior\n",
    "            str_listagens += f'{qtd}\\n{id};{line};{linha};{mapeada};'\n",
    "            lin_anterior = lin_anterior\n",
    "        #print(line)\n",
    "\n",
    "    #if 'RF' in line or 'REG. FUN.' in line or 'REG.FUN.' in line:\n",
    "        #print(line)\n",
    "    linha += 1\n",
    "\n",
    "#print(licencas)\n",
    "#print(OrderedDict(licencas))\n",
    "#print(listas)\n",
    "print(f'\\nTotal de listas: {len(listas)}')\n",
    "print(str_listagens)"
   ]
  },
  {
   "cell_type": "code",
   "execution_count": 608,
   "metadata": {},
   "outputs": [
    {
     "data": {
      "text/plain": [
       "'c:\\\\Projetos\\\\scrapy_dom\\\\outputs_files\\\\2022-06-04\\\\00-LISTAGENS_DOM.csv'"
      ]
     },
     "execution_count": 608,
     "metadata": {},
     "output_type": "execute_result"
    }
   ],
   "source": [
    "id = 0\n",
    "str_licencas = 'ID;LISTAGEM;INICIO;MAPEADA;QTD\\n'\n",
    "\n",
    "for relacao, linha in licencas.items():\n",
    "    id += 1\n",
    "    mapeada = relacao in licencas_mapeadas\n",
    "    if id == 1:\n",
    "        str_licencas += f'{id};{relacao};{linha};{mapeada};'\n",
    "        lin_anterior = linha\n",
    "    if id > 1:\n",
    "        qtd = linha - lin_anterior\n",
    "        str_licencas += f'{qtd}\\n{id};{relacao};{linha};{mapeada};'\n",
    "        lin_anterior = lin_anterior\n",
    "\n",
    "#print(str_licencas)\n",
    "save_file(SAVE_DIR,str_licencas,'00-LISTAGENS_DOM','csv')"
   ]
  },
  {
   "cell_type": "markdown",
   "metadata": {},
   "source": [
    "#### RELAÇÃO DE LICENÇAS MÉDICAS NOS TERMOS DA LEI 8989/79"
   ]
  },
  {
   "cell_type": "code",
   "execution_count": 609,
   "metadata": {},
   "outputs": [
    {
     "data": {
      "text/plain": [
       "['RELAÇÃO DE LICENÇAS MÉDICAS NOS TERMOS DA LEI 8989/79',\n",
       " 'SECRETARIA DE GOVERNO MUNICIPAL',\n",
       " 'RF NOME DIAS A_PARTIR_DE ARTIGO',\n",
       " '5477409/5 MILTON DA SILVA JUNIOR 010 21/02/2022 143',\n",
       " 'SECRETARIA MUNICIPAL DA SAUDE',\n",
       " 'RF NOME DIAS A_PARTIR_DE ARTIGO',\n",
       " '5123143/4 TEREZINHA TOME LINGUITTE 059 03/09/2021 143',\n",
       " '5364078/5 MEIRI ELIANA DE ARAUJO SILVA 005 02/02/2022 143',\n",
       " '5487544/5 EDSON WAGNER FERRAZ 001 26/11/2021 143',\n",
       " '5583730/1 DORIVAL DE PAULA 004 30/11/2021 143',\n",
       " '5636116/2 REINALDO ALVES GUNDIM 004 11/04/2022 143',\n",
       " '5845688/2 MONICA CRISTINA SOUZA SOARES 005 26/01/2022 143',\n",
       " '6045405/1 APARECIDO ALVES 060 26/04/2022 143',\n",
       " '6120806/3 MARINICE AUGOSTINHO BARBOSA 030 18/05/2022 143',\n",
       " '6141242/3 SILVANA FAZZANI 005 19/10/2021 143',\n",
       " '6184219/6 MARCELO BARBOSA FRANCA 090 28/04/2022 143',\n",
       " '6184219/7 MARCELO BARBOSA FRANCA 090 28/04/2022 143',\n",
       " '6190901/4 FRANCISCO DA SILVA ANTONIO 090 18/04/2022 143',\n",
       " '6371981/1 CESAR NUNES PORFIRIO 004 28/01/2022 143',\n",
       " '6371981/1 CESAR NUNES PORFIRIO 007 01/02/2022 143',\n",
       " '6378129/1 ANA LUCIA DA SILVA MORAES 016 27/04/2022 143',\n",
       " '6618731/2 PAULO CESAR COSTA 090 17/05/2022 143',\n",
       " '6635385/3 MARCIA PIRES DA FONSECA 005 01/02/2022 143',\n",
       " '6901514/2 NERDINA DA SILVA 001 10/11/2021 143',\n",
       " '7010745/3 BARBARA ALMEIDA DE QUEIROZ 006 01/02/2022 143',\n",
       " '7053258/2 REGINA MASSAKO NAKAYAMA 010 01/02/2022 143',\n",
       " '7062435/2 RUTH VOLPATO LOPES 007 01/02/2022 143',\n",
       " '7067411/3 SONIA MARIA GABRIEL 090 18/04/2022 143',\n",
       " '7172605/1 FABIOLA MOTA DE FREITAS 003 28/10/2021 143',\n",
       " '7188781/1 DILMA CAMPIOTO 007 04/02/2022 143',\n",
       " '7191090/3 ISABEL CRISTINA DE ALMEIDA CARREIRO 013 10/04/2022 146',\n",
       " '7204736/1 JONAS FRANCISCO COSTA 002 02/02/2022 143',\n",
       " '7206518/1 VANIA LUCIA SIERVI MANSO 010 01/02/2022 143',\n",
       " '7206518/2 VANIA LUCIA SIERVI MANSO 010 01/02/2022 143',\n",
       " '7253869/1 CRISTINA MARIA DE JESUS PEREIRA GOMES GITTI 007 28/11/2021 143',\n",
       " '7292210/1 GIANE SANT ANA ALVES OLIVEIRA 003 14/03/2022 146',\n",
       " '7328354/3 DENIS SILVIO BRANCO DA FONSECA 001 25/11/2021 143',\n",
       " '7349955/1 MARIA DE FATIMA LIMA 020 17/05/2022 143',\n",
       " '7353774/1 JOSE ELOY DA SILVA 090 10/04/2022 143',\n",
       " '7361882/1 ROSIMERI DOURADO DOS SANTOS SILVA 007 02/02/2022 143',\n",
       " '7398352/1 ELIANE PONTES 009 01/01/2022 143',\n",
       " '7455283/1 ANDRESA KOMATSU NITTO 001 01/02/2022 143',\n",
       " '7461364/1 JESSIE ANA MOREIRA DA SILVA 004 04/02/2022 143',\n",
       " '7464622/1 SILVANA DE FATIMA RIBEIRO LIMA DO VALLE 004 27/01/2022 143',\n",
       " '7464622/2 SILVANA DE FATIMA RIBEIRO LIMA DO VALLE 004 27/01/2022 143',\n",
       " '7505906/1 JOSIANE SIMPLICIO DE ALMEIDA 007 03/02/2022 143',\n",
       " '7574223/3 ANTONIO ROBERTO BARBOSA PAGANELLI 020 21/04/2022 143',\n",
       " '7576421/3 IVONETE DE SOUZA GONZAGA MARQUES 014 02/06/2022 143',\n",
       " '7580240/3 LEA DOS SANTOS PAMPLONAS 007 15/12/2021 143',\n",
       " '7581653/3 VINICIUS AUGUSTO DA SILVA 001 17/01/2022 143',\n",
       " '7581661/3 ELIZETE DA CUNHA 010 26/10/2021 146',\n",
       " '7582293/3 KARINA PINHEIRO BARBOSA 004 01/02/2022 143',\n",
       " '7592833/2 JOEL FERREIRA TELES 002 27/12/2021 143',\n",
       " '7755015/1 NICELIA ALMEIDA DOS SANTOS 010 01/02/2022 143',\n",
       " '7755015/2 NICELIA ALMEIDA DOS SANTOS 010 01/02/2022 143',\n",
       " '7774290/4 RICARDO NEVES MARTINELLI 004 23/04/2022 143',\n",
       " '7786697/1 PAULINA APARECIDA DE ABREU REIS 004 01/02/2022 146',\n",
       " '7834250/1 PAULO JOSE DOS SANTOS SOUSA 003 30/12/2021 143',\n",
       " '7836091/1 SUZANA BORGES DE CASTRO 005 01/02/2022 143',\n",
       " '7836121/1 JULIANA BRAGAGNOLI FRADE MOURINO 005 04/02/2022 143',\n",
       " '7836171/1 CARLOS ANTONIO DA ROCHA 007 02/02/2022 143',\n",
       " '7852193/1 CRISTIANE VERA DA SILVA 002 27/11/2021 143',\n",
       " '7853661/1 PAULA BORTOLAI MARTINS ARAUJO 014 18/04/2022 143',\n",
       " '7878699/1 BRUNA DE FREITAS CARDOSO SOARES 005 31/01/2022 146',\n",
       " '7886900/1 FLAVIO ROGERIO DE SALES SILVA 003 25/04/2022 143',\n",
       " '7892985/1 JUSSARA LAZARINI MARTINS 009 02/02/2022 143',\n",
       " '7910592/1 VERONICA BARROS CASTELHANO 060 13/05/2022 143',\n",
       " '7969490/1 WILMA HONORIO DOS SANTOS 006 29/04/2022 143',\n",
       " '7971281/1 LEANDRO BUENO NADER DAS CHAGAS 010 12/11/2021 143',\n",
       " '7976097/1 JULIANA COELHO DE MOURA DIAS 007 08/04/2022 146',\n",
       " '7980795/1 LARISSA PORTO SANTOS 007 03/02/2022 143',\n",
       " '8019240/1 RODRIGO DIAS DA SILVA 011 20/10/2021 143',\n",
       " '8058083/1 DEUSEDETO FRANCISCO DOS SANTOS 017 18/05/2022 160',\n",
       " '8066957/1 EUNICE MARIA APARECIDA GONCALVES 030 15/05/2022 143',\n",
       " '8112436/1 LYDIA FABRICIO DE CAMPOS 002 25/11/2021 143',\n",
       " '8184283/1 CARLOS EDUARDO DA SILVA CARNEIRO 007 31/01/2022 143',\n",
       " '8187967/1 NADIA AFIF FRANCIS WASSEF 005 20/10/2021 143',\n",
       " '8187967/4 NADIA AFIF FRANCIS WASSEF 005 20/10/2021 143',\n",
       " '8202524/1 ALEXANDRE FRAIGE 005 31/01/2022 143',\n",
       " '8223360/1 RODRIGO DE MELO ORLANDO 030 16/05/2022 143',\n",
       " '8235511/3 KELLY MARGARETH SANTOS DA CUNHA 005 29/11/2021 143',\n",
       " '8290113/2 ALESSANDRA TERESA RAMOS SANTOS VILA NOVA 010 29/01/2022 143',\n",
       " '8291071/2 ALCIONE MARIA GONCALVES 014 24/11/2021 143',\n",
       " '8291934/2 ADRIANA CRISTINA ALVES 004 25/11/2021 143',\n",
       " '8294119/2 ANA PAULA GONCALVES DE OLIVEIRA 007 03/11/2021 143',\n",
       " '8295239/2 ANA CRISTINA DE SOUZA NOGUEIRA 015 02/02/2022 143',\n",
       " '8296189/2 CELIA REGINA FERREIRA SILVA 004 01/02/2022 143',\n",
       " '8296561/2 CARLOS EDUARDO VERDIANO 010 26/04/2022 143',\n",
       " '8296642/2 CARLOS ROBERTO DA SILVA 007 01/02/2022 143',\n",
       " '8296944/2 CAROLINE SOUZA ANTUNES 007 27/04/2022 146',\n",
       " '8299277/2 CRISTIANE LOPES BONFIM 002 26/11/2021 143',\n",
       " '8302529/2 CRISTIANA APARECIDA DA ROCHA 001 27/11/2021 143',\n",
       " '8303045/2 EDINA SANTANA DE OLIVEIRA 002 31/10/2021 143',\n",
       " '8307199/2 ELIANA FERREIRA DA SILVA MACIEL 005 01/02/2022 143',\n",
       " '8311013/2 FRANCISCO VALNEIR FRAZAO 005 31/01/2022 143',\n",
       " '8311251/2 GABRIEL CHIAPPETTA SANTANA 060 30/03/2022 143',\n",
       " '8312231/2 GICELIA RIBEIRO DOS SANTOS 005 03/11/2021 143',\n",
       " '8318409/2 JOAO JOSE DE SOUSA RODRIGUES 001 05/12/2021 143',\n",
       " '8318930/2 JULIANA ALZIRA PALACIO 003 28/01/2022 143',\n",
       " '8319081/2 JOELMA APARECIDA DE OLIVEIRA 003 25/11/2021 143',\n",
       " '8319120/2 JOELMA MARIA DOS SANTOS 001 29/11/2021 143',\n",
       " '8319286/2 JOHN ANDERSON LUIZ SILVA MARTINS 010 29/01/2022 143',\n",
       " '8319669/3 JURANDIR MARCELINO DAS PAZES 004 02/01/2022 143',\n",
       " '8321205/2 JOSE ROBERTO DO NASCIMENTO 001 28/11/2021 143',\n",
       " '8325987/2 MARCIA REJANE DE PAIVA 060 21/04/2022 143',\n",
       " '8334978/2 MARIA REGINA IZIDORO 001 29/10/2021 143',\n",
       " '8335338/2 MARTA RIBEIRO 090 21/09/2021 143',\n",
       " '8336466/2 PAULA DOS SANTOS CORREIA 003 27/04/2022 146',\n",
       " '8338329/3 OSWALDO MARCONDES DOS SANTOS FILHO 025 15/05/2022 143',\n",
       " '8338329/4 OSWALDO MARCONDES DOS SANTOS FILHO 025 15/05/2022 143',\n",
       " '8344281/2 SAULO DI TARSO BATISTA ROCHA LEAO 022 16/05/2022 143',\n",
       " '8344311/2 SEILA DE JESUS SILVA 030 26/04/2022 143',\n",
       " '8345678/2 RUTE PEREIRA DOS ANJOS SILVA 005 28/11/2021 143',\n",
       " '8555389/2 PRISCILA DEL GRECCO 014 07/04/2022 146',\n",
       " '8556521/2 MICHELE DE SOUZA SARDEIRO DOS SANTOS 001 30/12/2021 143',\n",
       " 'SECRETARIA MUNICIPAL DAS SUBPREFEITURAS',\n",
       " 'RF NOME DIAS A_PARTIR_DE ARTIGO',\n",
       " '8276439/1 LURDES CELESTINO DA SILVA COSTA 005 24/01/2022 143',\n",
       " 'SECRETARIA MUNICIPAL DE ASSIST E DESENV SOCIAL',\n",
       " 'RF NOME DIAS A_PARTIR_DE ARTIGO',\n",
       " '8235511/1 KELLY MARGARETH SANTOS DA CUNHA 005 29/11/2021 143',\n",
       " '8509816/1 SIDNEY REZENDE AZEVEDO 006 02/02/2022 143',\n",
       " 'SECRETARIA MUNICIPAL DE CULTURA',\n",
       " 'RF NOME DIAS A_PARTIR_DE ARTIGO',\n",
       " '5257328/3 ARLINDO QUIRINO SILVA 060 07/04/2022 143',\n",
       " '6715109/1 ALFREDO BARRETO DE SOUZA 090 26/04/2022 143',\n",
       " 'SECRETARIA MUNICIPAL DE DIREITOS HUMANOS E CIDADAN',\n",
       " 'RF NOME DIAS A_PARTIR_DE ARTIGO',\n",
       " '7819641/1 MARISA DE OLIVEIRA CONDE 060 08/04/2022 143',\n",
       " 'SECRETARIA MUNICIPAL DE EDUCACAO',\n",
       " 'RF NOME DIAS A_PARTIR_DE ARTIGO',\n",
       " '1354418/2 ESMERIA LUCIA MELO RIBEIRO 010 04/05/2022 143',\n",
       " '1354418/4 ESMERIA LUCIA MELO RIBEIRO 010 04/05/2022 143',\n",
       " '5506158/6 FATIMA APARECIDA DE JESUS TEIXEIRA RIZZO 088 03/06/2022 160',\n",
       " '5509131/5 DIRCE MARIA MOREIRA BATISTA DE SOUZA 005 01/02/2022 143',\n",
       " '5526221/4 MARIA SOLANGE DE SOUZA LIMA 030 19/05/2022 143',\n",
       " '5551781/3 OSCAR PAULO GUARANY 090 18/04/2022 143',\n",
       " '5551781/4 OSCAR PAULO GUARANY 090 18/04/2022 143',\n",
       " '5556147/2 MARILIA ALMEIDA DE MELLO VARANI 090 26/04/2022 143',\n",
       " '5896924/2 CLAUDETE DOS SANTOS OLIVEIRA 085 28/04/2022 160',\n",
       " '6012108/2 ANNA KARINA PARAGUASSU FICK 021 11/04/2022 143',\n",
       " '6068901/2 NEIDE APARECIDA NEVES 090 22/04/2022 143',\n",
       " '6075827/1 NILVA MENDES 004 14/02/2022 143',\n",
       " '6107303/3 GISLAINE TIMOTEO DE MAMEDE 005 25/04/2022 143',\n",
       " '6219047/2 NILSON DA COSTA MEDEIROS 090 19/05/2022 143',\n",
       " '6219047/3 NILSON DA COSTA MEDEIROS 090 19/05/2022 143',\n",
       " '6307949/3 VALDENI DA SILVA 010 06/10/2021 143',\n",
       " '6338976/2 SUZANA CRISTINA CAVALCANTI 022 18/05/2022 143',\n",
       " '6338976/3 SUZANA CRISTINA CAVALCANTI 022 18/05/2022 143',\n",
       " '6390862/2 SUELY FERREIRA DO NASCIMENTO 090 05/04/2022 143',\n",
       " '6452345/1 GERALDO CONCEICAO BISPO 090 04/05/2022 143',\n",
       " '6561641/4 MARISA PIMENTA PEREIRA 060 04/04/2022 143',\n",
       " '6669310/3 MONICA BRANDAO DE MOURA TAVARES 006 02/02/2022 143',\n",
       " '6681808/2 DEBORA CHRISTINE WALDECK CUNHA RAZUK 041 03/06/2022 160',\n",
       " '6691595/2 ANA PAULA NOTAROBERTO CUSTODIO 030 16/05/2022 143',\n",
       " '6693822/3 BENEDITO CARLOS RODRIGUES 090 02/04/2022 143',\n",
       " '6743391/1 SIMONE ATUATE ROA PEREIRA 030 04/04/2022 143',\n",
       " '6752667/1 ROSA MARIA FERREIRA DA CUNHA 030 27/04/2022 143',\n",
       " '6757499/1 ROSANGELA DO CARMO SOUZA NUNES 017 18/05/2022 160',\n",
       " '6764410/1 RENATA MONACO FERRARI 007 17/04/2022 146',\n",
       " '6769543/1 EDEILDA ANGELICA MACARIO PEREIRA 005 03/02/2022 143',\n",
       " '6792499/1 DENISE DIAS FOLCO 089 03/06/2022 160',\n",
       " '6801439/1 DINAURA APARECIDA MARQUESI JACOMINO 007 31/01/2022 143',\n",
       " '6803351/1 BARBARA APARECIDA INACIO DE SANTANA 060 12/04/2022 143',\n",
       " '6803351/2 BARBARA APARECIDA INACIO DE SANTANA 060 12/04/2022 143',\n",
       " '6813895/1 VANIA SANTOS 015 01/02/2022 143',\n",
       " '6816525/2 ADRIANA SANTOS MARIANO 003 29/11/2021 143',\n",
       " '6817491/1 LUCILENA BALDO CUSTODIO 011 01/02/2022 143',\n",
       " '6824013/2 MILENE DE FATIMA ALVES BASTOS CAMARGO 008 13/12/2021 143',\n",
       " '6825869/1 ELIANA APARECIDA DE OLIVEIRA 030 16/05/2022 143',\n",
       " '6909931/1 EDNALVA DO NASCIMENTO 030 22/06/2021 143',\n",
       " '6916732/2 ANA LUCIA SANTOS 033 18/09/2021 143',\n",
       " '6918948/1 CIBELE DE TOLEDO FERREIRA 090 13/04/2022 143',\n",
       " '6918948/2 CIBELE DE TOLEDO FERREIRA 090 13/04/2022 143',\n",
       " '6928137/2 KEYLA CRISTINA TEODORO 009 04/02/2022 143',\n",
       " '6928986/2 WILSON ANTONIO DA SILVA 090 04/04/2022 143',\n",
       " '6941125/1 VALDINEIA ROSA DE JESUS MAIA 030 26/04/2022 143',\n",
       " '6941125/1 VALDINEIA ROSA DE JESUS MAIA 060 27/05/2022 143',\n",
       " '6942148/2 MARIA IRANI FARIAS SOUSA 019 16/05/2022 143',\n",
       " '6948383/2 MEYRE APARECIDA APOLONI BARROSO 026 17/09/2021 143',\n",
       " '6948588/1 JORGE LUIZ VERISSIMO 090 04/04/2022 143',\n",
       " '6950931/1 GLAUCIA OLIANI CHAVES LEAO 060 02/02/2022 143',\n",
       " '6952089/1 FLAVIA MACEDO MENDES 002 03/11/2021 143',\n",
       " '6952089/2 FLAVIA MACEDO MENDES 002 03/11/2021 143',\n",
       " '6956181/1 JOSE CARLOS MARTINS DIAS 090 03/06/2022 143',\n",
       " '6986421/1 LEONIDAS MARIANO 013 26/04/2022 143',\n",
       " '7006781/1 ELAINE CRISTINA DE ABREU 003 28/11/2021 146',\n",
       " '7006781/2 ELAINE CRISTINA DE ABREU 003 28/11/2021 146',\n",
       " '7077548/3 ELOISA DOS SANTOS MARTINS 001 29/10/2021 143',\n",
       " '7105584/2 NANCY INES SERPELONI ARANHA 016 19/05/2022 160',\n",
       " '7109709/2 RENATA RAQUEL DE ALMEIDA TELES DE SANTANA 090 08/04/2022 143',\n",
       " '7109709/3 RENATA RAQUEL DE ALMEIDA TELES DE SANTANA 090 08/04/2022 143',\n",
       " '7114133/2 AMARILDA GONCALVES FERREIRA 009 02/05/2022 143',\n",
       " '7130368/1 RUBIA HELENA DE JESUS 003 20/10/2021 143',\n",
       " '7137681/2 KATIA CRISTINA RAMOS DE AZEVEDO 001 14/06/2020 143',\n",
       " '7140959/1 SALETE MUNHOZ DE MORAES 008 20/01/2022 143',\n",
       " '7162791/2 MARIA ZITA JESUS DO NASCIMENTO 089 03/06/2022 160',\n",
       " '7187297/1 SONIA REGINA SANTOS AMARAL 005 01/02/2022 143',\n",
       " '7212747/1 MARISTELA LUCIA TOSETTI VIEIRA 005 31/01/2022 143',\n",
       " '7223111/1 EDILAINE SIC VIEIRA PEREIRA 015 01/11/2021 143',\n",
       " '7227400/1 RENATO DOMINGUES 004 08/02/2022 143',\n",
       " '7238592/1 DAMARIS PICCA 066 06/04/2022 143',\n",
       " '7240856/2 MARIA ROSA RAMOS FALCI 003 07/03/2022 146',\n",
       " '7249446/1 DEBORA APARECIDA RODRIGUES BUENO ALMEIDA 030 25/04/2022 143',\n",
       " '7250738/2 ELAINE APARECIDA SOUTO ANTUNES 004 23/11/2021 143',\n",
       " '7258763/2 NUBIA MARIA GOMES ESTEVES 060 19/04/2022 143',\n",
       " '7277563/3 ARLETE APARECIDA RIBEIRO DE SOUZA 007 01/11/2021 143',\n",
       " '7279710/1 JANAINA ALVARENGA GOMES VELOSO 007 11/02/2022 146',\n",
       " '7290870/1 ELIZABETE ACACIO SANTOS BASTOS 030 04/04/2022 143',\n",
       " '7290870/2 ELIZABETE ACACIO SANTOS BASTOS 030 04/04/2022 143',\n",
       " '7299290/1 LEONILDA PACINI 005 29/11/2021 143',\n",
       " '7303203/1 SUELI GONCALVES LINS 005 20/12/2021 143',\n",
       " '7306695/1 HELIDE DUTRA DE MORAES 001 21/12/2021 143',\n",
       " '7330413/1 ROSANGELA CASTRO DA SILVA 004 01/02/2022 143',\n",
       " '7335717/1 LEILA BATISTA XAVIER 004 30/11/2021 143',\n",
       " '7358024/1 ELIANA REGINA BEZERRA DE SANTANA 010 28/04/2022 143',\n",
       " '7396899/2 LUIZA APARECIDA MORENO SANCHEZ 045 18/04/2022 143',\n",
       " '7402678/2 PRISCILLA DOS SANTOS SILVA 030 17/05/2022 143',\n",
       " '7402678/3 PRISCILLA DOS SANTOS SILVA 030 17/05/2022 143',\n",
       " '7423691/3 FELICIO NAIA FERREIRA JUNIOR 090 15/05/2022 143',\n",
       " '7440146/1 SIMONE PEREIRA BAPTISTA CHERRY 031 03/05/2022 143',\n",
       " '7441274/1 ALESSANDRA ALENCAR ALBUQUERQUE 015 25/04/2022 146',\n",
       " '7456140/1 MARCO CEZAR AGNELLO 060 20/04/2022 143',\n",
       " '7468962/1 LUCIENE DE BARROS SILVA 007 14/04/2022 146',\n",
       " '7473966/1 ROBERTA RIBEIRO SABINO 021 25/04/2022 143',\n",
       " '7473966/2 ROBERTA RIBEIRO SABINO 021 25/04/2022 143',\n",
       " '7480083/1 CARLA GONCALVES SOARES 005 01/02/2022 146',\n",
       " '7489056/1 NADIA MELZER BARIVIERA 004 01/02/2022 146',\n",
       " '7493185/1 JAQUELENE DE FATIMA ARAUJO DE OLIVEIRA 006 01/02/2022 143',\n",
       " '7494947/1 MILUCI PIROLLI DE OLIVEIRA 008 15/04/2022 146',\n",
       " '7508409/1 SOLANGE RAMOS FERREIRA 018 18/10/2021 143',\n",
       " '7512171/1 REGIANE BENTO RAMOS NASCIMENTO 010 27/11/2021 143',\n",
       " '7512171/2 REGIANE BENTO RAMOS NASCIMENTO 010 27/11/2021 143',\n",
       " '7515006/1 MARIA NILDA DE ALMEIDA OLIVEIRA 045 16/05/2022 143',\n",
       " '7515006/2 MARIA NILDA DE ALMEIDA OLIVEIRA 045 16/05/2022 143',\n",
       " '7543221/1 MARIA APARECIDA RESENDE 090 11/04/2022 143',\n",
       " '7543221/2 MARIA APARECIDA RESENDE 090 11/04/2022 143',\n",
       " '7547889/2 CHRISTINA POLIANA CASTRO 030 03/06/2022 143',\n",
       " '7555661/1 DANIELE APARECIDA RAMOS DE SOUSA 003 03/11/2021 143',\n",
       " '7555661/2 DANIELE APARECIDA RAMOS DE SOUSA 003 03/11/2021 143',\n",
       " '7556187/1 JANE RAMOS DE LIMA FARIA 045 16/05/2022 143',\n",
       " '7579802/2 ANGELA APARECIDA THALASSA SILVA 060 16/05/2022 143',\n",
       " '7708807/1 LEONARDO SOARES E RODRIGUES DE OLIVEIRA 006 31/01/2022 143',\n",
       " '7712596/1 RENATA GARGI BERGAMIN 015 29/11/2021 143',\n",
       " '7713011/1 MARINA GONCALVES DOS SANTOS 001 02/05/2022 146',\n",
       " '7713011/2 MARINA GONCALVES DOS SANTOS 001 02/05/2022 146',\n",
       " '7715676/1 RAQUEL DE OLIVEIRA CAVALCANTI 005 30/05/2022 160',\n",
       " '7722818/1 ROSEMEIRE COELHO DE ALMEIDA 090 02/04/2022 143',\n",
       " '7732996/1 LUCENY SOUZA GOMES 007 26/11/2021 146',\n",
       " '7744595/1 LEANDRO DE ASSIS LEME 007 02/02/2022 143',\n",
       " '7751389/1 CLAYTON GOMES DE ALMEIDA 003 02/02/2022 146',\n",
       " '7756542/1 SONIA MARIA CARNEIRO SOUZA 005 31/01/2022 143',\n",
       " '7761457/2 LEONILDA APARECIDA GONCALVES 084 20/05/2022 160',\n",
       " '7771631/1 DJALMA ANDRADE SOBRAL 010 30/10/2021 143',\n",
       " '7785925/1 FABIANA MACARIO LIMA 015 02/02/2022 143',\n",
       " '7794908/1 KARIN ROBERTA ASTOLPHO 002 29/11/2021 143',\n",
       " '7796722/1 PATRICIA TRINDADE CAMARGO JANNY VANZETO 038 27/04/2022 160',\n",
       " '7796722/2 PATRICIA TRINDADE CAMARGO JANNY VANZETO 038 27/04/2022 160',\n",
       " '7801726/1 LUCIANA PALAZZIN MINGORANCE 001 12/04/2022 146',\n",
       " '7818831/1 KELLY CRISTINA ZARPELON DE SOUZA 001 07/02/2022 146',\n",
       " '7821212/1 VITALIA RODRIGUES SHIMABUKURO 014 22/04/2022 143',\n",
       " '7822529/2 CARLA FERNANDA BARRETO 001 03/11/2021 143',\n",
       " '7822529/3 CARLA FERNANDA BARRETO 001 03/11/2021 143',\n",
       " '7827075/1 ANA LUCIA DE SOUZA 020 16/05/2022 143',\n",
       " '7830076/3 MOISES NASCIMENTO DE SOUZA 030 18/04/2022 143',\n",
       " '7834373/1 MARIA LUCIA MINOTO DA SILVA 066 01/08/2021 143',\n",
       " '7906234/1 LEILA HAMILTON SANTOS 006 03/02/2022 143',\n",
       " '7911220/1 GISELE RODRIGUES DE SOUZA 002 04/11/2021 143',\n",
       " '7921039/1 BIANCA APARECIDA DINIZ CORTEZ 054 11/04/2022 143',\n",
       " '7927118/1 SIRLENE CRISTINA ANDRADE MENEGHIN 090 01/04/2022 143',\n",
       " '7932651/1 ABEL BRUDER DOS SANTOS 050 13/04/2022 143',\n",
       " '7933878/1 ELDER DE LIMA MAGALHAES 008 03/02/2022 143',\n",
       " '7935561/3 CLAUDIA BONAMINI 008 08/04/2022 146',\n",
       " '7937989/1 MARIA LUIZA SANTOS LOPES 030 19/04/2022 143',\n",
       " '7945086/1 ALESSANDRA REGINA NOVAIS 010 22/09/2021 143',\n",
       " '7954379/1 FERNANDA LARISSA FERNANDES 023 17/05/2022 143',\n",
       " '7955588/1 ERIKA OLIVEIRA DE SANTE 060 17/05/2022 143',\n",
       " '7968523/2 ANGELA PEREIRA DOS PRAZERES 030 25/04/2022 143',\n",
       " '7973683/2 LUCIANA LIMA DE GODOY ANDRADE 030 16/05/2022 143',\n",
       " '7983051/1 NATHALIA COSTA BARROS LEONHARDT 006 21/10/2021 146',\n",
       " '7983051/2 NATHALIA COSTA BARROS LEONHARDT 006 21/10/2021 146',\n",
       " '7992203/1 MARIA IVAMAR RODRIGUES GHIDINI 090 17/04/2022 143',\n",
       " '7992203/2 MARIA IVAMAR RODRIGUES GHIDINI 090 17/04/2022 143',\n",
       " '7994176/2 NATALIA MOURA DOS ANJOS ALMEIDA 007 27/04/2022 146',\n",
       " '7995938/1 MARCIA CECILIA ADRIANA DA SILVA MARTINS 010 08/04/2022 146',\n",
       " '8000620/1 KATTI DE CARVALHO FONTAINHAS 008 02/05/2022 146',\n",
       " '8015350/1 MAGALI IOVINE 016 19/05/2022 160',\n",
       " '8015350/2 MAGALI IOVINE 016 19/05/2022 160',\n",
       " '8017018/1 DENISE CARVALHO STANGER PERELLA 030 18/05/2022 143',\n",
       " '8021236/1 MARCOS ALEXANDRE LOUZADA 030 16/05/2022 143',\n",
       " '8024634/1 SILVIA DE OLIVEIRA FLORES 090 28/04/2022 143',\n",
       " '8038007/1 ANDREZA EUFRALZINA ALVES ROCHA DA SILVA 013 14/10/2021 143',\n",
       " '8038414/1 KERLEY ALESSANDRA INACIO EUSTAQUIO 062 03/04/2022 143',\n",
       " '8038678/2 ISABEL GRANZOTTO LLAGOSTERA 114 04/04/2022 160',\n",
       " '8042420/1 BARBARA BRUNA PEREIRA PINTO SEKINE 035 19/05/2022 143',\n",
       " '8044732/1 VANIA ELOIZA ZAPATA PIGOSSO MAJER 074 18/04/2022 143',\n",
       " '8055742/1 ELAINE SOBRINHO ROCHA 007 11/04/2022 143',\n",
       " '8057826/1 JANAINA MELO DE LIMA 005 01/02/2022 146',\n",
       " '8087393/1 PALOMA DAMIANA ROSA CRUZ 010 02/02/2022 143',\n",
       " '8089191/1 ROGERIO LOPES LEITAO 001 29/11/2021 143',\n",
       " '8089191/2 ROGERIO LOPES LEITAO 001 29/11/2021 143',\n",
       " '8100551/1 MARISTONHA ALVES DE SOUZA SILVA 077 03/06/2022 160',\n",
       " '8121508/1 MARTA HARAMUR CERQUEIRA FIGUEIREDO 008 08/04/2022 146',\n",
       " '8122903/1 MARCIA HENRIQUE FRANCISQUINI 021 09/04/2022 143',\n",
       " '8126542/1 REGIANE LOPES DE OLIVEIRA 011 01/02/2022 143',\n",
       " '8138338/1 AMANDA DELA ROSA PASSAIA 005 04/11/2021 143',\n",
       " '8138338/2 AMANDA DELA ROSA PASSAIA 005 04/11/2021 143',\n",
       " '8147752/3 JOSEFA FERNANDES DA ROCHA SILVA 045 28/04/2022 146',\n",
       " '8160503/1 THAIS BARENO CALO ALVES 060 04/04/2022 143',\n",
       " '8161356/1 LEDA MARIA DIAS DE SOUZA 002 03/02/2022 146',\n",
       " '8163413/1 MARCIA REGINA RICARDO FERREIRA 007 02/05/2022 146',\n",
       " '8173656/1 JOSIMARA PIMENTEL 001 26/11/2021 143',\n",
       " '8189668/1 LILIAN NUNES PEREIRA GHIOTTO 016 23/05/2022 143',\n",
       " '8193177/2 ALINE GUIMARAES PIMENTA DE ARAUJO 011 24/04/2022 146',\n",
       " '8196443/1 TATIANA CRISTINA GOMES MALACHIAS 015 20/05/2022 143',\n",
       " '8201013/1 NATALIA SOUZA LIMA MINIGUITI 007 29/10/2021 143',\n",
       " '8202834/1 JESSICA FERREIRA HENRIQUE 001 29/10/2021 143',\n",
       " '8208034/1 RENATA EMILIA SILVA SOUZA 004 14/12/2021 143',\n",
       " '8212660/1 JESSICA LEMOS ESTEVAO 003 11/04/2022 146',\n",
       " '8224609/1 CARLA DA LUZ NEVES 010 26/04/2022 143',\n",
       " '8224757/1 JOSE GUILHERME ZAGO DE SOUZA 003 18/04/2022 146',\n",
       " '8228558/1 LUCIANE HONORATO PEREIRA 030 18/04/2022 143',\n",
       " '8244669/1 JOCELI GOMES SILVA 002 28/11/2021 146',\n",
       " '8260168/1 VINICIUS HENRIQUE DA SILVA 005 18/10/2021 143',\n",
       " '8261962/1 IVNA KEREN FERREIRA SANTANA 001 20/12/2021 146',\n",
       " '8268801/1 PRISCILLA PAULA OPUSCULO FARIA 001 26/11/2021 143',\n",
       " '8279101/1 RAFAEL MARQUES DA SILVA 007 29/11/2021 143',\n",
       " '8281505/1 MARCELA DOS ANJOS ANDRE 011 16/11/2021 143',\n",
       " '8281505/1 MARCELA DOS ANJOS ANDRE 010 22/09/2021 143',\n",
       " '8281505/1 MARCELA DOS ANJOS ANDRE 012 24/01/2022 143',\n",
       " '8363854/1 DAGMARA DA SILVA NASCIMENTO 014 03/11/2021 143',\n",
       " '8364753/1 ADRIANA DA SILVA FIDELIS 005 26/11/2021 143',\n",
       " '8367558/1 JESSICA REGINA LEME RIBEIRO PIRES 001 22/11/2021 146',\n",
       " '8368082/1 JULIANA YURI MATSUO CARVALHO 011 10/04/2022 146',\n",
       " '8368147/1 JESSICA CILENE MACHADO DE LORENZI 005 29/11/2021 146',\n",
       " '8368643/1 SOLANGE DE FREITAS SILVA 032 17/05/2022 143',\n",
       " '8382956/1 KARIN CRISTINA GUEDES SOARES 010 04/02/2022 146',\n",
       " '8393826/1 SANDRA REGIANE SALVADOR DE CARVALHO 016 19/05/2022 160',\n",
       " '8393826/3 SANDRA REGIANE SALVADOR DE CARVALHO 016 19/05/2022 160',\n",
       " '8399972/1 KARINA BARROS MARIA COSTELINI 090 28/03/2022 143',\n",
       " '8413606/1 JOYCE ABRANTES AMORIM 001 01/02/2022 146',\n",
       " '8418632/1 ALNEIDE NOVATO COSTA 006 01/05/2022 146',\n",
       " '8420777/1 CAMILA SOFIA CESARINO SANTANDER 015 03/11/2021 146',\n",
       " '8421722/1 SONIA MARIA BIBIANO 039 19/05/2022 143',\n",
       " '8424195/1 SIMONE LONTRA MARQUES 007 17/04/2022 146',\n",
       " '8431469/1 VIVIANE COSTA LOURENCO 060 27/04/2022 143',\n",
       " '8447471/1 ELAINE SANTOS DO NASCIMENTO 022 13/05/2022 160',\n",
       " '8454353/1 RITA DE CASSIA MARTINS DA SILVA 010 29/11/2021 143',\n",
       " '8462372/1 PALOMA FERREIRA DA ROCHA 004 26/04/2022 146',\n",
       " '8467536/1 DANIELLE RAMOS ROSA 003 03/11/2021 143',\n",
       " '8484597/1 ELOIZA SCHLEMMER RODRIGUES 015 29/09/2021 143',\n",
       " '8484597/2 ELOIZA SCHLEMMER RODRIGUES 015 29/09/2021 143',\n",
       " '8486166/1 JESSICA APARECIDA DE LIMA MONTEIRO 090 27/04/2022 143',\n",
       " '8496650/1 RUBIA KELLY DE SOUZA 030 17/09/2021 143',\n",
       " '8545391/1 LUCLEIDE RODRIGUES CLEMENTE LIMA 030 18/05/2022 143',\n",
       " '8572844/1 SOLANGE MARTA DOS SANTOS MELO 008 26/03/2022 146',\n",
       " '8592055/1 RUTE LIMA SANTOS OLIVEIRA 002 22/12/2021 146',\n",
       " '8793786/1 JAQUELINE REIS DA SILVA 010 12/04/2022 146',\n",
       " '8797323/1 MARIANA BEZERRA DE MELO 030 01/04/2022 143',\n",
       " '8797374/1 RENATA DE OLIVEIRA DIAS DE SOUZA 003 01/02/2022 143',\n",
       " '8816395/2 SIMONE DELATORRE 005 01/02/2022 143',\n",
       " '8825823/2 CAROLINA CASTANHEDA MOURA 006 02/02/2022 143',\n",
       " '8826676/2 MARISTELA DOS ANJOS ANDRE 003 29/11/2021 143',\n",
       " '8829217/2 JOYCE ALBUQUERQUE SIMAO 002 25/11/2021 143',\n",
       " '8859515/1 JOYCE CARDOSO DA SILVA 003 29/11/2021 146',\n",
       " '8862648/1 MICHELE SANTOS MARINHO 010 29/01/2022 146',\n",
       " '8863954/1 VANDERLEI VICENTE DE SOUSA JUNIOR 001 21/12/2021 143',\n",
       " '8864420/1 NATHALYE ABRAHAO CAULADA 002 23/11/2021 146',\n",
       " '8865477/1 FELIPE RUIZ PEIXOTO 030 03/06/2022 143',\n",
       " '8867852/1 PAULA MEDEIROS MARTINS 063 03/06/2022 160',\n",
       " '8877823/1 ELAINE CRISTINA FERREIRA DE CAMPOS ARRUDA 007 04/04/2022 146',\n",
       " '8880891/1 ANDREA APARECIDA GOMES FERREIRA 010 25/11/2021 146',\n",
       " '8920079/1 THAIS GOMES DA SILVA 001 27/04/2022 146',\n",
       " 'SECRETARIA MUNICIPAL DE ESPORTES E LAZER',\n",
       " 'RF NOME DIAS A_PARTIR_DE ARTIGO',\n",
       " '5465834/2 NOEME NASCIMENTO MARTINS 090 14/04/2022 143',\n",
       " '5592615/2 FATIMA CLEONICE CAIRO 033 30/03/2022 143',\n",
       " 'SECRETARIA MUNICIPAL DE SEGURANCA URBANA',\n",
       " 'RF NOME DIAS A_PARTIR_DE ARTIGO',\n",
       " '5848849/2 WALTER LUCIO DOS SANTOS 015 28/01/2022 143',\n",
       " '5867665/2 MARCOS JOSE CARVALHO 013 09/11/2021 143',\n",
       " '5882826/2 ANDRE LUIS PUNTI SANCHEZ 090 09/05/2022 143',\n",
       " '6205241/1 JOSEFA JENY BARBOSA SILVA DE CRISTO 007 04/02/2022 143',\n",
       " '6487050/1 EDISON SOUZA DA SILVA 060 10/04/2022 143',\n",
       " '6532888/1 GERMINIANO MAGALHAES BATISTA 005 30/05/2022 160',\n",
       " '6533990/1 NILSON PONTES DOS SANTOS 014 18/01/2022 143',\n",
       " '6536328/1 WAGNER TAVARES 029 06/05/2022 160',\n",
       " '6584993/1 MARCOS LUIZ MARINHO 067 30/05/2022 160',\n",
       " '6589502/1 WILSON DOS SANTOS BISPO 003 29/12/2021 143',\n",
       " '6744265/1 NADIA CRISTINA NOGUEIRA 060 23/05/2022 143',\n",
       " '6801234/1 CARLOS ALBERTO VASCONCELOS 005 28/11/2021 143',\n",
       " '6806279/1 OSVALDO ANTONIO GONCALVES 003 28/01/2022 143',\n",
       " '6846271/1 RONALDO BARBOSA 005 27/11/2021 143',\n",
       " '6856764/1 MARIA APARECIDA DO NASCIMENTO 014 01/02/2022 143',\n",
       " '6960154/2 ANDIARA DE MARILAK RIBEIRO PEREIRA DA SILVA 090 12/04/2022 143',\n",
       " '6983855/1 LAURA APARECIDA HONORATO 003 30/11/2021 143',\n",
       " '6985432/1 FABIANA AZEVEDO MIRANDA 070 18/04/2022 143',\n",
       " '7097824/1 PAULO CESAR RIOS DE OLIVEIRA 005 21/10/2021 143',\n",
       " '7324278/1 ANTONIO CARLOS PIQUERA 030 17/05/2022 143',\n",
       " '7334303/1 ADEMIR RAIMUNDO FERREIRA 010 03/01/2022 143',\n",
       " '7376448/1 ALEXANDRE FIORAVANTE 088 30/05/2022 160',\n",
       " '7410557/1 SANDRO ALVES DE BARROS 090 12/04/2022 143',\n",
       " '7552866/2 RICARDO FIRMINO QUIRINO 007 30/01/2022 143',\n",
       " '7721234/1 ANA CLAUDIA SANTANA ARAUJO DA SILVA 064 30/05/2022 160',\n",
       " '8154520/1 GILSON HERCULANO DOS SANTOS 003 31/01/2022 143',\n",
       " '8156115/1 LUIS NELSON DA SILVA SALGADO 010 20/10/2021 143',\n",
       " '8427232/1 IRANDIMES GONCALVES RAMOS 090 28/04/2022 160',\n",
       " 'SECRETARIA MUNICIPAL DE URBANISMO E LICENCIAMENTO',\n",
       " 'RF NOME DIAS A_PARTIR_DE ARTIGO',\n",
       " '7267169/2 PEDRO KIYOSHI CAMARGO NAKAMURA 090 06/04/2022 143',\n",
       " 'SUBPREFEITURA PENHA',\n",
       " 'RF NOME DIAS A_PARTIR_DE ARTIGO',\n",
       " '6081355/2 MESSIAS BATISTA 030 18/05/2022 143',\n",
       " 'SUBPREFEITURA SAO MIGUEL PAULISTA',\n",
       " 'RF NOME DIAS A_PARTIR_DE ARTIGO',\n",
       " '5441366/2 WALDIR SBRANA RODRIGUES 021 05/04/2022 143',\n",
       " 'CAMARA MUNICIPAL DE SAO PAULO',\n",
       " 'RF NOME DIAS A_PARTIR_DE ARTIGO',\n",
       " '7899815/1 JOSE GUIMAR COCCO JUNIOR 007 01/02/2022 143',\n",
       " 'HOSP SERV PUBLICO MUNICIPAL',\n",
       " 'RF NOME DIAS A_PARTIR_DE ARTIGO',\n",
       " '6597815/2 CLAUDIA REGINA DINIZ ABREU 005 29/01/2022 143',\n",
       " '6618782/2 ROMILCE BARZOCCHINI 084 03/06/2022 160',\n",
       " '8377065/1 VANESSA APARECIDA DOS REIS 010 23/08/2021 143',\n",
       " '8377413/1 CRISTIANE APARECIDA DE CASTRO SILVA 005 31/01/2022 143',\n",
       " '8378576/1 ELIANE PIRES 001 01/02/2022 143',\n",
       " '8378967/1 TALITA ELIDE BOTECCHIA BARROS LOBO 003 23/04/2022 146',\n",
       " '8412987/1 CLAUDIO ALEGRE 001 26/01/2022 143',\n",
       " '8490503/1 DENISE MATSUZAKI HIGA 090 25/05/2022 160',\n",
       " '8503869/1 PATRICIA ALESSANDRA DE SOUZA RODRIGUES 003 18/10/2021 143',\n",
       " '8775354/1 FABIANA MASCARENHAS SOUZA LIMA VICTOR 003 27/01/2022 143']"
      ]
     },
     "execution_count": 609,
     "metadata": {},
     "output_type": "execute_result"
    }
   ],
   "source": [
    "RELACAO = 'RELAÇÃO DE LICENÇAS MÉDICAS NOS TERMOS DA LEI 8989/79'\n",
    "\n",
    "if RELACAO in licencas:\n",
    "    list_items = rl_lm[licencas[RELACAO]:listas[listas.index(licencas[RELACAO])+1]]\n",
    "else:\n",
    "    list_items = []\n",
    "list_items"
   ]
  },
  {
   "cell_type": "code",
   "execution_count": 610,
   "metadata": {},
   "outputs": [],
   "source": [
    "'''Listagem: RELAÇÃO DE LICENÇAS MÉDICAS NOS TERMOS DA LEI 8989/79\n",
    "    COLUNAS:\n",
    "        1. RF           : numeric(7) s_item[0][0]\n",
    "        2. VINC         : numeric(1) s_item[0][1]\n",
    "        3. NOME         : str()      s_item[2:-3]\n",
    "        4. DIAS         : numeric()  s_item[-3]\n",
    "        5. A_PARTIR_DE  : date()     s_item[-2]\n",
    "        6. ARTIGO       : str()      s_item[-1]\n",
    "'''\n",
    "\n",
    "i = 0\n",
    "SECRETARIA = ''\n",
    "VALIDA_LINHA = ''\n",
    "str_list_items = 'RF;VINC;NOME;DIAS;A_PARTIR_DE;ARTIGO;SECRETARIA;LISTA;DOM\\n'\n",
    "\n",
    "for item in list_items:\n",
    "    s_item = item.strip().split(' ')\n",
    "    #print(f'analise: {s_item}')\n",
    "    if 'RF NOME DIAS A_PARTIR_DE ARTIGO' in item:\n",
    "        SECRETARIA = list_items[i-1]\n",
    "    elif len(s_item) >= 5:\n",
    "        if len(s_item) >= 5 and s_item[0][-1].isnumeric() and s_item[-3][0].isnumeric() and s_item[-2][0].isnumeric():\n",
    "            rf = s_item[0].split('/')[0]\n",
    "            vinc = s_item[0].split('/')[1]\n",
    "            nome = str(' ').join(s_item[1:-3])\n",
    "            str_list_items += f'{rf};{vinc};{nome};{s_item[-3]};{s_item[-2]};{s_item[-1]};{SECRETARIA};{RELACAO};{DOM}\\n'\n",
    "            #print(str_list_items)\n",
    "    elif len(s_item) >= 2 and s_item[0][-1].isnumeric() and VALIDA_LINHA == False:\n",
    "        linha = s_item\n",
    "        VALIDA_LINHA = True\n",
    "    elif VALIDA_LINHA == True:\n",
    "        linha += f' {item}'\n",
    "        s_item = item.split(' ')\n",
    "        rf = s_item[0].split('/')[0]\n",
    "        vinc = s_item[0].split('/')[1]\n",
    "        nome = str(' ').join(s_item[1:-3])\n",
    "        str_list_items += f'{rf};{vinc};{nome};{s_item[-3]};{s_item[-2]};{s_item[-1]};{SECRETARIA};{RELACAO};{DOM}\\n'\n",
    "        print(str_list_items)\n",
    "        VALIDA_LINHA = False\n",
    "    i += 1\n",
    "    #print(i)"
   ]
  },
  {
   "cell_type": "code",
   "execution_count": 611,
   "metadata": {},
   "outputs": [
    {
     "data": {
      "text/plain": [
       "'c:\\\\Projetos\\\\scrapy_dom\\\\outputs_files\\\\2022-06-04\\\\RELAÇÃO_DE_LICENÇAS_MÉDICAS_NOS_TERMOS_DA_LEI_8989_79.csv'"
      ]
     },
     "execution_count": 611,
     "metadata": {},
     "output_type": "execute_result"
    }
   ],
   "source": [
    "RELACAO = str('_').join(RELACAO.replace('/','_').split(' '))\n",
    "save_file(SAVE_DIR,str_list_items,RELACAO,'csv')"
   ]
  },
  {
   "cell_type": "markdown",
   "metadata": {},
   "source": [
    "#### RELAÇÃO DE LICENÇAS MÉDICAS NEGADAS NOS TERMOS DA LEI 8989/79"
   ]
  },
  {
   "cell_type": "code",
   "execution_count": 28,
   "metadata": {},
   "outputs": [],
   "source": [
    "RELACAO = 'RELAÇÃO DE LICENÇAS MÉDICAS NEGADAS NOS TERMOS DA LEI 8989/79'\n",
    "\n",
    "if RELACAO in licencas:\n",
    "    list_items = rl_lm[licencas[RELACAO]:listas[listas.index(licencas[RELACAO])+1]]\n",
    "else:\n",
    "    list_items = []\n",
    "#list_items\n"
   ]
  },
  {
   "cell_type": "code",
   "execution_count": 29,
   "metadata": {},
   "outputs": [],
   "source": [
    "'''\n",
    "    COLUNAS:\n",
    "        1. RF           : numeric(7) s_item[0][0]\n",
    "        2. VINC         : numeric(1) s_item[0][1]\n",
    "        3. NOME         : str()      s_item[1:-2]\n",
    "        4. DIAS         : null\n",
    "        5. A_PARTIR_DE  : date()     s_item[-2]\n",
    "        6. ARTIGO       : str()      s_item[-1]\n",
    "'''\n",
    "\n",
    "i = 0\n",
    "SECRETARIA = ''\n",
    "VALIDA_LINHA = ''\n",
    "str_list_items = 'RF;VINC;NOME;DIAS;A_PARTIR_DE;ARTIGO;SECRETARIA;LISTA;DOM\\n'\n",
    "\n",
    "for item in list_items:\n",
    "    s_item = item.strip().split(' ')\n",
    "    if 'RF NOME DIAS A_PARTIR_DE ARTIGO' in item:\n",
    "        SECRETARIA = list_items[i-1]\n",
    "    elif len(s_item) >= 5 and s_item[0][-1].isnumeric() and s_item[-2][0].isnumeric():\n",
    "        rf = s_item[0].split('/')[0]\n",
    "        vinc = s_item[0].split('/')[1]\n",
    "        nome = str(' ').join(s_item[1:-2])\n",
    "        str_list_items += f'{rf};{vinc};{nome};;{s_item[-2]};{s_item[-1]};{SECRETARIA};{RELACAO};{DOM}\\n'\n",
    "        #print(str_list_items)\n",
    "    elif s_item[0][-1].isnumeric() and VALIDA_LINHA == False:\n",
    "        linha = s_item\n",
    "        VALIDA_LINHA = True\n",
    "    elif VALIDA_LINHA == True:\n",
    "        linha += f' {item}'\n",
    "        s_item = item.split(' ')\n",
    "        rf = s_item[0].split('/')[0]\n",
    "        vinc = s_item[0].split('/')[1]\n",
    "        nome = str(' ').join(s_item[1:-2])\n",
    "        str_list_items += f'{rf};{vinc};{nome};;{s_item[-2]};{s_item[-1]};{SECRETARIA};{RELACAO};{DOM}\\n'\n",
    "        #print(str_list_items)\n",
    "        VALIDA_LINHA = False\n",
    "    i += 1"
   ]
  },
  {
   "cell_type": "code",
   "execution_count": 30,
   "metadata": {},
   "outputs": [
    {
     "data": {
      "text/plain": [
       "'c:\\\\Projetos\\\\scrapy_dom\\\\outputs_files\\\\2022-06-04\\\\RELAÇÃO_DE_LICENÇAS_MÉDICAS_NEGADAS_NOS_TERMOS_DA_LEI_8989_79.csv'"
      ]
     },
     "execution_count": 30,
     "metadata": {},
     "output_type": "execute_result"
    }
   ],
   "source": [
    "RELACAO = str('_').join(RELACAO.replace('/','_').split(' '))\n",
    "save_file(SAVE_DIR,str_list_items,RELACAO,'csv')"
   ]
  },
  {
   "cell_type": "markdown",
   "metadata": {},
   "source": [
    "#### RELAÇÃO DE FALTAS DOS CONVOCADOS PARA JUNTA MÉDICA PARA FINS DE PENSÃO POR MORTE"
   ]
  },
  {
   "cell_type": "code",
   "execution_count": 31,
   "metadata": {},
   "outputs": [],
   "source": [
    "RELACAO = 'RELAÇÃO DE FALTAS DOS CONVOCADOS PARA JUNTA MÉDICA PARA FINS DE PENSÃO POR MORTE'\n",
    "\n",
    "if RELACAO in licencas:\n",
    "    list_items = rl_lm[licencas[RELACAO]:listas[listas.index(licencas[RELACAO])+1]]\n",
    "else:\n",
    "    list_items = []\n",
    "#list_items"
   ]
  },
  {
   "cell_type": "code",
   "execution_count": 32,
   "metadata": {},
   "outputs": [],
   "source": [
    "'''\n",
    "    COLUNAS:\n",
    "        1. RF           : numeric(7) s_item[0][0]\n",
    "        2. VINC         : numeric(1) s_item[0][1]\n",
    "        3. NOME         : str()      s_item[1:-1]\n",
    "        4. DIAS         : null\n",
    "        5. A_PARTIR_DE  : date()     s_item[-1]\n",
    "        6. ARTIGO       : null\n",
    "'''\n",
    "\n",
    "i = 0\n",
    "SECRETARIA = ''\n",
    "VALIDA_LINHA = ''\n",
    "str_list_items = 'RF;VINC;NOME;DIAS;A_PARTIR_DE;ARTIGO;SECRETARIA;LISTA;DOM\\n'\n",
    "\n",
    "for item in list_items:\n",
    "    s_item = item.strip().split(' ')\n",
    "    if 'RF NOME DIAS A_PARTIR_DE ARTIGO' in item:\n",
    "        SECRETARIA = list_items[i-1]\n",
    "    elif len(s_item) >= 5 and s_item[0][0].isnumeric() and s_item[-1][0].isnumeric():\n",
    "        rf = s_item[0].split('/')[0]\n",
    "        vinc = s_item[0].split('/')[1]\n",
    "        nome = str(' ').join(s_item[1:-1])\n",
    "        str_list_items += f'{rf};{vinc};{nome};;{s_item[-1]};;{SECRETARIA};{RELACAO};{DOM}\\n'\n",
    "        #print(str_list_items)\n",
    "    elif s_item[0][-1].isnumeric() and VALIDA_LINHA == False:\n",
    "        linha = s_item\n",
    "        VALIDA_LINHA = True\n",
    "    elif VALIDA_LINHA == True:\n",
    "        linha += f' {item}'\n",
    "        s_item = item.split(' ')\n",
    "        rf = s_item[0].split('/')[0]\n",
    "        vinc = s_item[0].split('/')[1]\n",
    "        nome = str(' ').join(s_item[1:-1])\n",
    "        str_list_items += f'{rf};{vinc};{nome};;{s_item[-1]};;{SECRETARIA};{RELACAO};{DOM}\\n'\n",
    "        #print(str_list_items)\n",
    "        VALIDA_LINHA = False\n",
    "    i += 1"
   ]
  },
  {
   "cell_type": "code",
   "execution_count": 33,
   "metadata": {},
   "outputs": [
    {
     "data": {
      "text/plain": [
       "'c:\\\\Projetos\\\\scrapy_dom\\\\outputs_files\\\\2022-06-04\\\\RELAÇÃO_DE_FALTAS_DOS_CONVOCADOS_PARA_JUNTA_MÉDICA_PARA_FINS_DE_PENSÃO_POR_MORTE.csv'"
      ]
     },
     "execution_count": 33,
     "metadata": {},
     "output_type": "execute_result"
    }
   ],
   "source": [
    "RELACAO = str('_').join(RELACAO.replace('/','_').split(' '))\n",
    "save_file(SAVE_DIR,str_list_items,RELACAO,'csv')"
   ]
  },
  {
   "cell_type": "markdown",
   "metadata": {},
   "source": [
    "#### RELAÇÃO DE FALTA DO SERVIDOR À PERÍCIA"
   ]
  },
  {
   "cell_type": "code",
   "execution_count": 34,
   "metadata": {},
   "outputs": [],
   "source": [
    "RELACAO = 'RELAÇÃO DE FALTA DO SERVIDOR À PERÍCIA'\n",
    "\n",
    "if RELACAO in licencas:\n",
    "    list_items = rl_lm[licencas[RELACAO]:listas[listas.index(licencas[RELACAO])+1]]\n",
    "else:\n",
    "    list_items = []\n",
    "#list_items"
   ]
  },
  {
   "cell_type": "code",
   "execution_count": 35,
   "metadata": {},
   "outputs": [],
   "source": [
    "i = 0\n",
    "SECRETARIA = ''\n",
    "str_list_items = 'RF;NOME;DIAS;A_PARTIR_DE;ARTIGO;SECRETARIA;LISTA;DOM\\n'\n",
    "\n",
    "for item in list_items:\n",
    "    s_item = item.strip().split(' ')\n",
    "    if 'RF NOME DIAS A_PARTIR_DE ARTIGO' in item:\n",
    "        SECRETARIA = list_items[i-1]\n",
    "    elif len(s_item) >= 4 and s_item[0][0].isnumeric():\n",
    "        if s_item[-3].isnumeric():\n",
    "            nome = str(' ').join(s_item[1:-3])\n",
    "            str_list_items += f'{s_item[0]};{nome};{s_item[-3]};{s_item[-2]};{s_item[-1]};{SECRETARIA};{RELACAO}/{DOM}\\n'\n",
    "            #print(str_list_items)\n",
    "        else:\n",
    "            nome = str(' ').join(s_item[1:-2])\n",
    "            str_list_items += f'{s_item[0]};{nome};;{s_item[-2]};{s_item[-1]};{SECRETARIA};{RELACAO};{DOM}\\n'\n",
    "            #print(str_list_items)\n",
    "    i += 1"
   ]
  },
  {
   "cell_type": "code",
   "execution_count": 36,
   "metadata": {},
   "outputs": [
    {
     "data": {
      "text/plain": [
       "'c:\\\\Projetos\\\\scrapy_dom\\\\outputs_files\\\\2022-06-04\\\\RELAÇÃO_DE_FALTA_DO_SERVIDOR_À_PERÍCIA.csv'"
      ]
     },
     "execution_count": 36,
     "metadata": {},
     "output_type": "execute_result"
    }
   ],
   "source": [
    "RELACAO = str('_').join(RELACAO.replace('/','_').split(' '))\n",
    "save_file(SAVE_DIR,str_list_items,RELACAO,'csv')"
   ]
  },
  {
   "cell_type": "markdown",
   "metadata": {},
   "source": [
    "#### LICENÇAS MÉDICAS CONCEDIDAS/NEGADAS EM GRAU DE RECURSO"
   ]
  },
  {
   "cell_type": "code",
   "execution_count": 37,
   "metadata": {},
   "outputs": [
    {
     "data": {
      "text/plain": [
       "['LICENÇAS MÉDICAS CONCEDIDAS/NEGADAS EM GRAU DE RECURSO',\n",
       " 'SECRETARIA MUNICIPAL DA SAUDE',\n",
       " 'RF NOME DIAS A_PARTIR_DE ARTIGO',\n",
       " '5166632/2 LEO ALTARAS 005 16/01/2022 143',\n",
       " '5818125/4 MARTA PEREIRA BORGES 002 07/01/2022 143',\n",
       " '5837413/2 FRANCISCO MARCONIETI NASCIMENTO 001 14/11/2021 143',\n",
       " '7421699/5 WALLACE MARINHO JUNIOR 001 06/08/2021 143',\n",
       " '7596553/3 IRINETTE APARECIDA DE SOUZA PINTO 010 18/10/2021 143',\n",
       " '8302430/3 CICERO ANTONIO CAMPINA DOS SANTOS 014 14/07/2021 143',\n",
       " '8323801/3 LUCIANA DINIZ FREITAS 010 29/12/2021 143',\n",
       " '8356017/1 RAISSA HEROLD MATIAS RICHTER 007 21/01/2022 143',\n",
       " '8378088/1 LEONARDO LUZ DA SILVA 010 07/01/2022 143',\n",
       " '8552258/2 KELLY SIMONE MATOS ANDRADE 001 16/09/2021 146',\n",
       " '8554129/2 LUIZA CRISTINA VAZ DA SILVA 005 11/01/2022 143',\n",
       " '8580596/1 ELAINE DUTRA RAMALHO 005 10/11/2021 146',\n",
       " 'SECRETARIA MUNICIPAL DE EDUCACAO',\n",
       " 'RF NOME DIAS A_PARTIR_DE ARTIGO',\n",
       " '5311233/4 LUCIENE DA ROCHA VIEIRA 009 10/11/2021 143',\n",
       " '5896151/2 MARIA PILAR SAMARTINI DE SOUZA 004 05/10/2021 143',\n",
       " '6819508/1 VITALINA DE LOURDES BARBOZA LEITE SOUZA 001 29/10/2021 143',\n",
       " '6849482/2 SUZANA ANGELICA LOYOLA CAFE 005 16/10/2021 146',\n",
       " '6855067/6 ANGELA MARIA OLIVEIRA SANTOS 001 19/08/2021 143',\n",
       " '6860681/3 FRANCISCA FRANCINEIDE BERNARDO FERREIRA 001 10/12/2021 146',\n",
       " '6940013/2 JOSEFINA ALVES DA SILVA ANTONIAZZI 004 10/01/2022 143',\n",
       " '6957579/2 MARIA DAS DORES ALBUQUERQUE DOS SANTOS 010 25/08/2021 146',\n",
       " '7112998/2 MONICA BEZERRA DE BRITO 015 20/04/2022 143',\n",
       " '7186495/1 RUTE ALVES 001 09/12/2021 143',\n",
       " '7284411/1 MERCI OLIVEIRA IZZO 007 12/01/2022 143',\n",
       " '7359861/2 ANDREIA DE CAMPOS GOMES 015 20/08/2021 146',\n",
       " '7386311/2 KATIA BRANDAO DA SILVA BALBINO 010 19/09/2021 146',\n",
       " '7401019/1 KELLY CRISTINA GRACIANO 014 15/12/2021 143',\n",
       " '7401019/2 KELLY CRISTINA GRACIANO 014 15/12/2021 143',\n",
       " '7461372/2 CLEIDE MARIA AUGUSTO 015 16/11/2021 143',\n",
       " '7532717/2 GISELE FONSECA GALLIANO TALMAS 002 21/12/2021 146',\n",
       " '7544529/1 JULIANA MARTINS PONTES 004 09/11/2021 143',\n",
       " '7544529/2 JULIANA MARTINS PONTES 004 09/11/2021 143',\n",
       " '7727488/1 ELIANE RIBEIRO LIMA 013 05/11/2021 143',\n",
       " '7820437/1 CRISTIANE GIL SERRANO 005 25/10/2021 143',\n",
       " '7867646/2 ISABEL APARECIDA TESSAROTTO 018 05/11/2021 143',\n",
       " '7870671/2 FLAVIA AUGUSTA SILVA COSTA 005 08/11/2021 143',\n",
       " '7911092/1 ANDREIA APARECIDA OLIVEIRA CARRASCO COSTA 001 09/11/2021 146',\n",
       " '7922051/1 ADRIANA SAMPAIO RAMIRO SABADINI 004 09/11/2021 146',\n",
       " '7993501/1 SUSANA CRISTINA DE ARAUJO 008 15/12/2021 146',\n",
       " '8011141/1 RENATA ROBERTA AUGUSTO 014 06/12/2021 143',\n",
       " '8043906/1 CLEONICE APARECIDA VICENTE MOREIRA 003 16/11/2021 143',\n",
       " '8043906/2 CLEONICE APARECIDA VICENTE MOREIRA 003 16/11/2021 143',\n",
       " '8205035/1 THAIS APARECIDA CONCEICAO GUIMARAES 002 04/11/2021 143',\n",
       " '8213968/1 SANDRA MARA FRANCISCO DE OLIVEIRA 001 27/10/2021 143',\n",
       " '8249750/1 RENATA CAVALARI SPERANZA 007 27/10/2021 143',\n",
       " '8249750/2 RENATA CAVALARI SPERANZA 007 27/10/2021 143',\n",
       " '8264074/1 ADRIANA FRANCISCO STEFFEN 007 10/01/2022 146',\n",
       " '8382115/1 BEATRIZ BRANCO MAIA 015 23/10/2021 143',\n",
       " '8394385/1 SUELY HIRATSUKA 005 09/08/2021 143',\n",
       " '8421862/1 RENATA FILOMENA DE CARVALHO BORGES 010 13/10/2021 143',\n",
       " '8430772/1 MARILEI DA SILVA COUTO LIMA 006 16/12/2021 146',\n",
       " '8455244/1 LUCIENE BEZERRA PEREIRA 013 30/09/2021 143',\n",
       " '8507341/1 ROBERTA GEISER 015 13/09/2021 143',\n",
       " '8786267/1 ANA LUCIA HASHIMOTO SERAFIM 007 21/08/2021 143',\n",
       " 'SECRETARIA MUNICIPAL DE SEGURANCA URBANA',\n",
       " 'RF NOME DIAS A_PARTIR_DE ARTIGO',\n",
       " '6985203/1 LUZMIRA ARACY ARCANJO MARTINEZ 004 26/10/2021 146',\n",
       " '8490295/1 KELLY CRISTINA DE MORAES SANTIAGO 010 23/12/2021 143',\n",
       " 'DIVISÃO DE PERÍCIA MÉDICA - COGESS',\n",
       " 'SEÇÃO DE LICENÇAS MÉDICAS']"
      ]
     },
     "execution_count": 37,
     "metadata": {},
     "output_type": "execute_result"
    }
   ],
   "source": [
    "RELACAO = 'LICENÇAS MÉDICAS CONCEDIDAS/NEGADAS EM GRAU DE RECURSO'\n",
    "\n",
    "if RELACAO in licencas:\n",
    "    list_items = rl_lm[licencas[RELACAO]:listas[listas.index(licencas[RELACAO])+1]]\n",
    "else:\n",
    "    list_items = []\n",
    "list_items"
   ]
  },
  {
   "cell_type": "code",
   "execution_count": 38,
   "metadata": {},
   "outputs": [],
   "source": [
    "'''Listagem: LICENÇAS MÉDICAS CONCEDIDAS/NEGADAS EM GRAU DE RECURSO\n",
    "    COLUNAS:\n",
    "        1. RF           : numeric(7) s_item[0][0]\n",
    "        2. VINC         : numeric(1) s_item[0][1]\n",
    "        3. NOME         : str()      s_item[2:-3]\n",
    "        4. DIAS         : numeric()  s_item[-3]\n",
    "        5. A_PARTIR_DE  : date()     s_item[-2]\n",
    "        6. ARTIGO       : str()      s_item[-1]\n",
    "'''\n",
    "\n",
    "i = 0\n",
    "SECRETARIA = ''\n",
    "VALIDA_LINHA = ''\n",
    "str_list_items = 'RF;VINC;NOME;DIAS;A_PARTIR_DE;ARTIGO;SECRETARIA;LISTA;DOM\\n'\n",
    "\n",
    "for item in list_items:\n",
    "    s_item = item.strip().split(' ')\n",
    "    if 'RF NOME DIAS A_PARTIR_DE ARTIGO' in item:\n",
    "        SECRETARIA = list_items[i-1]\n",
    "    elif len(s_item) >= 5 and s_item[0][-1].isnumeric() and s_item[-3][0].isnumeric() and s_item[-2][0].isnumeric():\n",
    "        rf = s_item[0].split('/')[0]\n",
    "        vinc = s_item[0].split('/')[1]\n",
    "        nome = str(' ').join(s_item[1:-3])\n",
    "        str_list_items += f'{rf};{vinc};{nome};{s_item[-3]};{s_item[-2]};{s_item[-1]};{SECRETARIA};{RELACAO};{DOM}\\n'\n",
    "        #print(str_list_items)\n",
    "    elif s_item[0][-1].isnumeric() and VALIDA_LINHA == False:\n",
    "        linha = s_item\n",
    "        VALIDA_LINHA = True\n",
    "    elif VALIDA_LINHA == True:\n",
    "        linha += f' {item}'\n",
    "        s_item = item.split(' ')\n",
    "        rf = s_item[0].split('/')[0]\n",
    "        vinc = s_item[0].split('/')[1]\n",
    "        nome = str(' ').join(s_item[1:-3])\n",
    "        str_list_items += f'{rf};{vinc};{nome};{s_item[-3]};{s_item[-2]};{s_item[-1]};{SECRETARIA};{RELACAO};{DOM}\\n'\n",
    "        #print(str_list_items)\n",
    "        VALIDA_LINHA = False\n",
    "    i += 1"
   ]
  },
  {
   "cell_type": "code",
   "execution_count": 39,
   "metadata": {},
   "outputs": [
    {
     "data": {
      "text/plain": [
       "'c:\\\\Projetos\\\\scrapy_dom\\\\outputs_files\\\\2022-06-04\\\\LICENÇAS_MÉDICAS_CONCEDIDAS_NEGADAS_EM_GRAU_DE_RECURSO.csv'"
      ]
     },
     "execution_count": 39,
     "metadata": {},
     "output_type": "execute_result"
    }
   ],
   "source": [
    "RELACAO = str('_').join(RELACAO.replace('/','_').split(' '))\n",
    "save_file(SAVE_DIR,str_list_items,RELACAO,'csv')"
   ]
  },
  {
   "cell_type": "markdown",
   "metadata": {},
   "source": [
    "#### RELAÇÃO DE FALTAS DOS CONVOCADOS PARA AVALIAÇÃO DE ESPECIALISTA"
   ]
  },
  {
   "cell_type": "code",
   "execution_count": 40,
   "metadata": {},
   "outputs": [
    {
     "data": {
      "text/plain": [
       "[]"
      ]
     },
     "execution_count": 40,
     "metadata": {},
     "output_type": "execute_result"
    }
   ],
   "source": [
    "RELACAO = 'RELAÇÃO DE FALTAS DOS CONVOCADOS PARA AVALIAÇÃO DE ESPECIALISTA'\n",
    "\n",
    "if RELACAO in licencas:\n",
    "    list_items = rl_lm[licencas[RELACAO]:listas[listas.index(licencas[RELACAO])+1]]\n",
    "else:\n",
    "    list_items = []\n",
    "list_items"
   ]
  },
  {
   "cell_type": "code",
   "execution_count": 41,
   "metadata": {},
   "outputs": [],
   "source": [
    "'''\n",
    "    COLUNAS:\n",
    "        1. RF           : numeric(7) s_item[0][0]\n",
    "        2. VINC         : numeric(1) s_item[0][1]\n",
    "        3. NOME         : str()      s_item[1:-1]\n",
    "        4. A_PARTIR_DE  : date()     s_item[-1]\n",
    "'''\n",
    "\n",
    "i = 0\n",
    "SECRETARIA = ''\n",
    "VALIDA_LINHA = ''\n",
    "str_list_items = 'RF;VINC;NOME;DATA;SECRETARIA;LISTA;DOM\\n'\n",
    "\n",
    "for item in list_items:\n",
    "    s_item = item.strip().split(' ')\n",
    "    if 'RF NOME DIAS A_PARTIR_DE ARTIGO' in item:\n",
    "        SECRETARIA = list_items[i-1]\n",
    "    elif len(s_item) >= 4 and s_item[0][0].isnumeric() and s_item[-1][0].isnumeric():\n",
    "        rf = s_item[0].split('/')[0]\n",
    "        vinc = s_item[0].split('/')[1]\n",
    "        nome = str(' ').join(s_item[1:-1])\n",
    "        str_list_items += f'{rf};{vinc};{nome};{s_item[-1]};{SECRETARIA};{RELACAO};{DOM}\\n'\n",
    "        #print(str_list_items)\n",
    "    elif s_item[0][-1].isnumeric() and VALIDA_LINHA == False:\n",
    "        linha = s_item\n",
    "        VALIDA_LINHA = True\n",
    "    elif VALIDA_LINHA == True:\n",
    "        linha += f' {item}'\n",
    "        s_item = item.split(' ')\n",
    "        rf = s_item[0].split('/')[0]\n",
    "        vinc = s_item[0].split('/')[1]\n",
    "        nome = str(' ').join(s_item[1:-1])\n",
    "        str_list_items += f'{rf};{vinc};{nome};{s_item[-1]};{SECRETARIA};{RELACAO};{DOM}\\n'\n",
    "        #print(str_list_items)\n",
    "        VALIDA_LINHA = False\n",
    "    i += 1"
   ]
  },
  {
   "cell_type": "code",
   "execution_count": 42,
   "metadata": {},
   "outputs": [
    {
     "data": {
      "text/plain": [
       "'c:\\\\Projetos\\\\scrapy_dom\\\\outputs_files\\\\2022-06-04\\\\RELAÇÃO_DE_FALTAS_DOS_CONVOCADOS_PARA_AVALIAÇÃO_DE_ESPECIALISTA.csv'"
      ]
     },
     "execution_count": 42,
     "metadata": {},
     "output_type": "execute_result"
    }
   ],
   "source": [
    "RELACAO = str('_').join(RELACAO.replace('/','_').split(' '))\n",
    "save_file(SAVE_DIR,str_list_items,RELACAO,'csv')"
   ]
  },
  {
   "cell_type": "markdown",
   "metadata": {},
   "source": [
    "#### RELAÇÃO DE FALTAS DOS CONVOCADOS P/ AVALIAÇÃO DE ISENÇÃO DE IMPOSTO DE RENDA"
   ]
  },
  {
   "cell_type": "code",
   "execution_count": 43,
   "metadata": {},
   "outputs": [],
   "source": [
    "RELACAO = 'RELAÇÃO DE FALTAS DOS CONVOCADOS P/ AVALIAÇÃO DE ISENÇÃO DE IMPOSTO DE RENDA'\n",
    "\n",
    "if RELACAO in licencas:\n",
    "    list_items = rl_lm[licencas[RELACAO]:listas[listas.index(licencas[RELACAO])+1]]\n",
    "else:\n",
    "    list_items = []\n",
    "#list_items"
   ]
  },
  {
   "cell_type": "code",
   "execution_count": 44,
   "metadata": {},
   "outputs": [],
   "source": [
    "'''\n",
    "    COLUNAS:\n",
    "        1. RF           : numeric(7) s_item[0][0]\n",
    "        2. VINC         : numeric(1) s_item[0][1]\n",
    "        3. NOME         : str()      s_item[1:-1]\n",
    "        4. A_PARTIR_DE  : date()     s_item[-1]\n",
    "'''\n",
    "\n",
    "i = 0\n",
    "SECRETARIA = ''\n",
    "VALIDA_LINHA = ''\n",
    "str_list_items = 'RF;VINC;NOME;A_PARITR_DE;SECRETARIA;LISTA;DOM\\n'\n",
    "\n",
    "for item in list_items:\n",
    "    s_item = item.strip().split(' ')\n",
    "    if 'RF NOME DIAS A_PARTIR_DE ARTIGO' in item:\n",
    "        SECRETARIA = list_items[i-1]\n",
    "    elif len(s_item) >= 4 and s_item[0][0].isnumeric() and s_item[-1][0].isnumeric():\n",
    "        rf = s_item[0].split('/')[0]\n",
    "        vinc = s_item[0].split('/')[1]\n",
    "        nome = str(' ').join(s_item[1:-1])\n",
    "        str_list_items += f'{rf};{vinc};{nome};{s_item[-1]};{SECRETARIA};{RELACAO};{DOM}\\n'\n",
    "        #print(str_list_items)\n",
    "    elif s_item[0][-1].isnumeric() and VALIDA_LINHA == False:\n",
    "        linha = s_item\n",
    "        VALIDA_LINHA = True\n",
    "    elif VALIDA_LINHA == True:\n",
    "        linha += f' {item}'\n",
    "        s_item = item.split(' ')\n",
    "        rf = s_item[0].split('/')[0]\n",
    "        vinc = s_item[0].split('/')[1]\n",
    "        nome = str(' ').join(s_item[1:-1])\n",
    "        str_list_items += f'{rf};{vinc};{nome};{s_item[-1]};{SECRETARIA};{RELACAO};{DOM}\\n'\n",
    "        #print(str_list_items)\n",
    "        VALIDA_LINHA = False\n",
    "    i += 1"
   ]
  },
  {
   "cell_type": "code",
   "execution_count": 45,
   "metadata": {},
   "outputs": [
    {
     "data": {
      "text/plain": [
       "'c:\\\\Projetos\\\\scrapy_dom\\\\outputs_files\\\\2022-06-04\\\\RELAÇÃO_DE_FALTAS_DOS_CONVOCADOS_P__AVALIAÇÃO_DE_ISENÇÃO_DE_IMPOSTO_DE_RENDA.csv'"
      ]
     },
     "execution_count": 45,
     "metadata": {},
     "output_type": "execute_result"
    }
   ],
   "source": [
    "RELACAO = str('_').join(RELACAO.replace('/','_').split(' '))\n",
    "save_file(SAVE_DIR,str_list_items,RELACAO,'csv')"
   ]
  },
  {
   "cell_type": "markdown",
   "metadata": {},
   "source": [
    "#### RELAÇÃO DE FALTA DO SERVIDOR À PERÍCIA"
   ]
  },
  {
   "cell_type": "code",
   "execution_count": 46,
   "metadata": {},
   "outputs": [],
   "source": [
    "RELACAO = 'RELAÇÃO DE FALTA DO SERVIDOR À PERÍCIA'\n",
    "\n",
    "if RELACAO in licencas:\n",
    "    list_items = rl_lm[licencas[RELACAO]:listas[listas.index(licencas[RELACAO])+1]]\n",
    "else:\n",
    "    list_items = []\n",
    "#list_items"
   ]
  },
  {
   "cell_type": "code",
   "execution_count": 47,
   "metadata": {},
   "outputs": [],
   "source": [
    "'''\n",
    "    COLUNAS:\n",
    "        1. RF           : numeric(7) s_item[0][0]\n",
    "        2. VINC         : numeric(1) s_item[0][1]\n",
    "        3. NOME         : str()      s_item[1:-2]\n",
    "        4. A_PARTIR_DE  : date()     s_item[-2]\n",
    "        5. ARTIGO       : str()      s_item[-1]\n",
    "'''\n",
    "    \n",
    "i = 0\n",
    "SECRETARIA = ''\n",
    "VALIDA_LINHA = ''\n",
    "str_list_items = 'RF;VINC;NOME;DIAS;A_PARTIR_DE;ARTIGO;SECRETARIA;LISTA;DOM\\n'\n",
    "\n",
    "for item in list_items:\n",
    "    s_item = item.strip().split(' ')\n",
    "    if 'RF NOME DIAS A_PARTIR_DE ARTIGO' in item:\n",
    "        SECRETARIA = list_items[i-1]\n",
    "    elif len(s_item) >= 5 and s_item[0][0].isnumeric() and s_item[-2][0].isnumeric():\n",
    "        rf = s_item[0].split('/')[0]\n",
    "        vinc = s_item[0].split('/')[1]\n",
    "        nome = str(' ').join(s_item[1:-2])\n",
    "        str_list_items += f'{rf};{vinc};{nome};{s_item[-2]};{s_item[-1]};{SECRETARIA};{RELACAO};{DOM}\\n'\n",
    "        #print(str_list_items)\n",
    "    elif s_item[0][-1].isnumeric() and VALIDA_LINHA == False:\n",
    "        linha = s_item\n",
    "        VALIDA_LINHA = True\n",
    "    elif VALIDA_LINHA == True:\n",
    "        linha += f' {item}'\n",
    "        s_item = item.split(' ')\n",
    "        rf = s_item[0].split('/')[0]\n",
    "        vinc = s_item[0].split('/')[1]\n",
    "        nome = str(' ').join(s_item[1:-2])\n",
    "        str_list_items += f'{rf};{vinc};{nome};{s_item[-2]};{s_item[-1]};{SECRETARIA};{RELACAO};{DOM}\\n'\n",
    "        #print(str_list_items)\n",
    "        VALIDA_LINHA = False\n",
    "    i += 1"
   ]
  },
  {
   "cell_type": "code",
   "execution_count": 48,
   "metadata": {},
   "outputs": [
    {
     "data": {
      "text/plain": [
       "'c:\\\\Projetos\\\\scrapy_dom\\\\outputs_files\\\\2022-06-04\\\\RELAÇÃO_DE_FALTA_DO_SERVIDOR_À_PERÍCIA.csv'"
      ]
     },
     "execution_count": 48,
     "metadata": {},
     "output_type": "execute_result"
    }
   ],
   "source": [
    "RELACAO = str('_').join(RELACAO.replace('/','_').split(' '))\n",
    "save_file(SAVE_DIR,str_list_items,RELACAO,'csv')"
   ]
  },
  {
   "cell_type": "markdown",
   "metadata": {},
   "source": [
    "#### RELAÇÃO DE SERVIDORES SUBMETIDOS À AVALIAÇÃO DE CAPACIDADE LABORATIVA COM CAPACIDADE LABORATIVA PARA A SUA FUNÇÃO"
   ]
  },
  {
   "cell_type": "code",
   "execution_count": 49,
   "metadata": {},
   "outputs": [],
   "source": [
    "RELACAO = 'RELAÇÃO DE SERVIDORES SUBMETIDOS À AVALIAÇÃO DE CAPACIDADE LABORATIVA COM CAPACIDADE LABORATIVA PARA A SUA FUNÇÃO'\n",
    "\n",
    "if RELACAO in licencas:\n",
    "    list_items = rl_lm[licencas[RELACAO]:listas[listas.index(licencas[RELACAO])+1]]\n",
    "else:\n",
    "    list_items = []\n",
    "#list_items"
   ]
  },
  {
   "cell_type": "code",
   "execution_count": 50,
   "metadata": {},
   "outputs": [],
   "source": [
    "'''\n",
    "    COLUNAS:\n",
    "        1. RF           : numeric(7) s_item[0][0]\n",
    "        2. VINC         : numeric(1) s_item[0][1]\n",
    "        3. NOME         : str()      s_item[1:]\n",
    "'''\n",
    "\n",
    "i = 0\n",
    "SECRETARIA = ''\n",
    "VALIDA_LINHA = ''\n",
    "str_list_items = 'RF;VINC;NOME;SECRETARIA;LISTA;DOM\\n'\n",
    "\n",
    "for item in list_items:\n",
    "    s_item = item.strip().split(' ')\n",
    "    if 'RF NOME' in item:\n",
    "        SECRETARIA = list_items[i-1]\n",
    "    elif len(s_item) >= 5 and s_item[0][0].isnumeric():\n",
    "        rf = s_item[0].split('/')[0]\n",
    "        vinc = s_item[0].split('/')[1]\n",
    "        nome = str(' ').join(s_item[1:])\n",
    "        str_list_items += f'{rf};{vinc};{nome};{SECRETARIA};{RELACAO};{DOM}\\n'\n",
    "        #print(str_list_items)\n",
    "    elif s_item[0][-1].isnumeric() and VALIDA_LINHA == False:\n",
    "        linha = s_item\n",
    "        VALIDA_LINHA = True\n",
    "    elif VALIDA_LINHA == True:\n",
    "        linha += f' {item}'\n",
    "        s_item = item.split(' ')\n",
    "        rf = s_item[0].split('/')[0]\n",
    "        vinc = s_item[0].split('/')[1]\n",
    "        nome = str(' ').join(s_item[1:])\n",
    "        str_list_items += f'{rf};{vinc};{nome};{SECRETARIA};{RELACAO};{DOM}\\n'\n",
    "        #print(str_list_items)\n",
    "        VALIDA_LINHA = False\n",
    "    i += 1"
   ]
  },
  {
   "cell_type": "code",
   "execution_count": 51,
   "metadata": {},
   "outputs": [
    {
     "data": {
      "text/plain": [
       "'c:\\\\Projetos\\\\scrapy_dom\\\\outputs_files\\\\2022-06-04\\\\RELAÇÃO_DE_SERVIDORES_SUBMETIDOS_À_AVALIAÇÃO_DE_CAPACIDADE_LABORATIVA_COM_CAPACIDADE_LABORATIVA_PARA_A_SUA_FUNÇÃO.csv'"
      ]
     },
     "execution_count": 51,
     "metadata": {},
     "output_type": "execute_result"
    }
   ],
   "source": [
    "RELACAO = str('_').join(RELACAO.replace('/','_').split(' '))\n",
    "save_file(SAVE_DIR,str_list_items,RELACAO,'csv')"
   ]
  },
  {
   "cell_type": "markdown",
   "metadata": {},
   "source": [
    "#### ENGLOBAMENTO DE LICENÇAS MÉDICAS FACE PORTARIA 11/84"
   ]
  },
  {
   "cell_type": "code",
   "execution_count": 52,
   "metadata": {},
   "outputs": [
    {
     "data": {
      "text/plain": [
       "['ENGLOBAMENTO DE LICENÇAS MÉDICAS FACE PORTARIA 11/84',\n",
       " 'SECRETARIA MUNICIPAL DA SAUDE',\n",
       " 'RF NOME DIAS A_PARTIR_DE ARTIGO',\n",
       " '6045405/1 APARECIDO ALVES 089 27/01/2022 143',\n",
       " '8067856/1 MARCOS ANTONIO ARAUJO 043 24/03/2022 143',\n",
       " '8335338/2 MARTA RIBEIRO 029 23/08/2021 143',\n",
       " '8338329/3 OSWALDO MARCONDES DOS SANTOS FILHO 089 15/02/2022 143',\n",
       " '8338329/4 OSWALDO MARCONDES DOS SANTOS FILHO 089 15/02/2022 143',\n",
       " '8356017/1 RAISSA HEROLD MATIAS RICHTER 004 17/01/2022 143',\n",
       " 'SECRETARIA MUNICIPAL DE EDUCACAO',\n",
       " 'RF NOME DIAS A_PARTIR_DE ARTIGO',\n",
       " '5509131/5 DIRCE MARIA MOREIRA BATISTA DE SOUZA 006 26/01/2022 143',\n",
       " '7109709/2 RENATA RAQUEL DE ALMEIDA TELES DE SANTANA 059 08/02/2022 143',\n",
       " '7109709/3 RENATA RAQUEL DE ALMEIDA TELES DE SANTANA 059 08/02/2022 143',\n",
       " '7199139/1 MARLY APARECIDA MOYA MACHADO 059 11/01/2022 143',\n",
       " '7359225/1 OSANA MARIA DE MATOS 057 28/03/2022 143',\n",
       " '7543221/1 MARIA APARECIDA RESENDE 056 14/02/2022 143',\n",
       " '7543221/2 MARIA APARECIDA RESENDE 056 14/02/2022 143',\n",
       " '8086818/1 CASSIANO SANTOS DE FREITAS 028 26/04/2022 143',\n",
       " '8208034/1 RENATA EMILIA SILVA SOUZA 003 11/12/2021 146',\n",
       " '8265739/1 SERGIO AFONSO FERNANDES FILHO 063 15/03/2022 143',\n",
       " '8364753/1 ADRIANA DA SILVA FIDELIS 002 24/11/2021 143',\n",
       " '8421722/1 SONIA MARIA BIBIANO 059 21/03/2022 143',\n",
       " 'SECRETARIA MUNICIPAL DE SEGURANCA URBANA',\n",
       " 'RF NOME DIAS A_PARTIR_DE ARTIGO',\n",
       " '6205241/1 JOSEFA JENY BARBOSA SILVA DE CRISTO 013 22/01/2022 143',\n",
       " '6856764/1 MARIA APARECIDA DO NASCIMENTO 021 11/01/2022 143',\n",
       " '7324278/1 ANTONIO CARLOS PIQUERA 089 17/02/2022 143',\n",
       " 'HOSP SERV PUBLICO MUNICIPAL',\n",
       " 'RF NOME DIAS A_PARTIR_DE ARTIGO',\n",
       " '8490503/1 DENISE MATSUZAKI HIGA 079 07/03/2022 160',\n",
       " 'ENGLOBAMENTO DE L.M. COM LIC. GESTANTE PÓS-PARTO',\n",
       " 'E/OU ADOÇÃO',\n",
       " 'SECRETARIA MUNICIPAL DA SAUDE',\n",
       " 'RF NOME DIAS A_PARTIR_DE ARTIGO',\n",
       " '8291233/2 ALESSANDRA CRUZ DE MORAES PIRES 065 30/09/2021 143',\n",
       " 'ACIDENTE DO TRABALHO - COGESS',\n",
       " 'DIVISÃO DE PERÍCIA MÉDICA - COGESS',\n",
       " 'NÚCLEO DE ACIDENTES E DOENÇAS DO TRABALHO']"
      ]
     },
     "execution_count": 52,
     "metadata": {},
     "output_type": "execute_result"
    }
   ],
   "source": [
    "RELACAO = 'ENGLOBAMENTO DE LICENÇAS MÉDICAS FACE PORTARIA 11/84'\n",
    "\n",
    "if RELACAO in licencas:\n",
    "    list_items = rl_lm[licencas[RELACAO]:listas[listas.index(licencas[RELACAO])+1]]\n",
    "else:\n",
    "    list_items = []\n",
    "list_items"
   ]
  },
  {
   "cell_type": "code",
   "execution_count": 53,
   "metadata": {},
   "outputs": [],
   "source": [
    "'''\n",
    "    COLUNAS:\n",
    "        1. RF           : numeric(7) s_item[0][0]\n",
    "        2. VINC         : numeric(1) s_item[0][1]\n",
    "        3. NOME         : str()      s_item[1:-3]\n",
    "        4. DIAS         : numeric()  s_item[-3]\n",
    "        5. A_PARTIR_DE  : date()     s_item[-2]\n",
    "        6. ARTIGO       : str()      s_item[-1]\n",
    "'''\n",
    "\n",
    "i = 0\n",
    "SECRETARIA = ''\n",
    "VALIDA_LINHA = ''\n",
    "str_list_items = 'RF;VINC;NOME;DIAS;A_PARTIR_DE;ARTIGO;SECRETARIA;LISTA;DOM\\n'\n",
    "\n",
    "for item in list_items:\n",
    "    s_item = item.strip().split(' ')\n",
    "    if 'RF NOME DIAS A_PARTIR_DE ARTIGO' in item:\n",
    "        SECRETARIA = list_items[i-1]\n",
    "    elif len(s_item) >= 5 and s_item[0][0].isnumeric() and s_item[-3][0].isnumeric() and s_item[-2][0].isnumeric():\n",
    "        rf = s_item[0].split('/')[0]\n",
    "        vinc = s_item[0].split('/')[1]\n",
    "        nome = str(' ').join(s_item[1:-3])\n",
    "        str_list_items += f'{rf};{vinc};{nome};{s_item[-3]};{s_item[-2]};{s_item[-1]};{SECRETARIA};{RELACAO};{DOM}\\n'\n",
    "        #print(str_list_items)\n",
    "    elif s_item[0][-1].isnumeric() and VALIDA_LINHA == False:\n",
    "        linha = s_item\n",
    "        VALIDA_LINHA = True\n",
    "    elif VALIDA_LINHA == True:\n",
    "        linha += f' {item}'\n",
    "        s_item = item.split(' ')\n",
    "        rf = s_item[0].split('/')[0]\n",
    "        vinc = s_item[0].split('/')[1]\n",
    "        nome = str(' ').join(s_item[1:-1])\n",
    "        str_list_items += f'{rf};{vinc};{nome};;{s_item[-1]};;{SECRETARIA};{RELACAO};{DOM}\\n'\n",
    "        #print(str_list_items)\n",
    "        VALIDA_LINHA = False\n",
    "    i += 1"
   ]
  },
  {
   "cell_type": "code",
   "execution_count": 54,
   "metadata": {},
   "outputs": [
    {
     "data": {
      "text/plain": [
       "'c:\\\\Projetos\\\\scrapy_dom\\\\outputs_files\\\\2022-06-04\\\\RELAÇÃO_DE_LICENÇAS_MÉDICAS_RETIFICADAS_EM_FUNÇÃO_DE_ENGLOBAMENTO_DE_LICENÇAS_MÉDICAS_FACE_PORTARIA_11_84.csv'"
      ]
     },
     "execution_count": 54,
     "metadata": {},
     "output_type": "execute_result"
    }
   ],
   "source": [
    "RELACAO = str('_').join(RELACAO.replace('/','_').split(' '))\n",
    "COMPLEMENTO = str('_').join('RELAÇÃO DE LICENÇAS MÉDICAS RETIFICADAS EM FUNÇÃO DE:'.replace(':','_').split(' '))\n",
    "save_file(SAVE_DIR,str_list_items,f'{COMPLEMENTO}{RELACAO}','csv')"
   ]
  },
  {
   "cell_type": "markdown",
   "metadata": {},
   "source": [
    "#### RELAÇÃO DE ALTAS DO ACIDENTE DO TRABALHO E DA DOENÇA DO TRABALHO"
   ]
  },
  {
   "cell_type": "code",
   "execution_count": 55,
   "metadata": {},
   "outputs": [],
   "source": [
    "RELACAO = 'RELAÇÃO DE ALTAS DO ACIDENTE DO TRABALHO E DA DOENÇA DO TRABALHO'\n",
    "\n",
    "if RELACAO in licencas:\n",
    "    list_items = rl_lm[licencas[RELACAO]:listas[listas.index(licencas[RELACAO])+1]]\n",
    "else:\n",
    "    list_items = []\n",
    "#list_items"
   ]
  },
  {
   "cell_type": "code",
   "execution_count": 56,
   "metadata": {},
   "outputs": [],
   "source": [
    "'''\n",
    "    COLUNAS:\n",
    "        1. RF           : numeric(7) s_item[0][0]\n",
    "        2. VINC         : numeric(1) s_item[0][1]\n",
    "        3. NOME         : str()      s_item[1:-1]\n",
    "        4. DIAS         : null\n",
    "        5. A_PARTIR_DE  : date()     s_item[-1]\n",
    "        6. ARTIGO       : null\n",
    "'''\n",
    "\n",
    "i = 0\n",
    "SECRETARIA = ''\n",
    "VALIDA_LINHA = ''\n",
    "str_list_items = 'RF;VINC;NOME;DIAS;A_PARTIR_DE;ARTIGO;SECRETARIA;LISTA;DOM\\n'\n",
    "\n",
    "for item in list_items:\n",
    "    s_item = item.strip().split(' ')\n",
    "    if 'RF NOME A_PARTIR_DE' in item:\n",
    "        SECRETARIA = list_items[i-1]\n",
    "    elif len(s_item) >= 4 and s_item[0][0].isnumeric() and s_item[-1][0].isnumeric():\n",
    "        rf = s_item[0].split('/')[0]\n",
    "        vinc = s_item[0].split('/')[1]\n",
    "        nome = str(' ').join(s_item[1:-1])\n",
    "        str_list_items += f'{rf};{vinc};{nome};;{s_item[-1]};;{SECRETARIA};{RELACAO};{DOM}\\n'\n",
    "        #print(str_list_items)\n",
    "    elif s_item[0][-1].isnumeric() and VALIDA_LINHA == False:\n",
    "        linha = s_item\n",
    "        VALIDA_LINHA = True\n",
    "    elif VALIDA_LINHA == True:\n",
    "        linha += f' {item}'\n",
    "        s_item = item.split(' ')\n",
    "        rf = s_item[0].split('/')[0]\n",
    "        vinc = s_item[0].split('/')[1]\n",
    "        nome = str(' ').join(s_item[1:-1])\n",
    "        str_list_items += f'{rf};{vinc};{nome};;{s_item[-1]};;{SECRETARIA};{RELACAO};{DOM}\\n'\n",
    "        #print(str_list_items)\n",
    "        VALIDA_LINHA = False\n",
    "    i += 1"
   ]
  },
  {
   "cell_type": "code",
   "execution_count": 57,
   "metadata": {},
   "outputs": [
    {
     "data": {
      "text/plain": [
       "'c:\\\\Projetos\\\\scrapy_dom\\\\outputs_files\\\\2022-06-04\\\\RELAÇÃO_DE_LICENÇAS_MÉDICAS_RETIFICADAS_EM_FUNÇÃO_DE_RELAÇÃO_DE_ALTAS_DO_ACIDENTE_DO_TRABALHO_E_DA_DOENÇA_DO_TRABALHO.csv'"
      ]
     },
     "execution_count": 57,
     "metadata": {},
     "output_type": "execute_result"
    }
   ],
   "source": [
    "RELACAO = str('_').join(RELACAO.replace('/','_').split(' '))\n",
    "save_file(SAVE_DIR,str_list_items,f'{COMPLEMENTO}{RELACAO}','csv')"
   ]
  },
  {
   "cell_type": "markdown",
   "metadata": {},
   "source": [
    "#### RELAÇÃO DE ALTAS DO ACIDENTE DO TRABALHO E DA DOENÇA DO TRABALHO :"
   ]
  },
  {
   "cell_type": "code",
   "execution_count": 58,
   "metadata": {},
   "outputs": [
    {
     "data": {
      "text/plain": [
       "[]"
      ]
     },
     "execution_count": 58,
     "metadata": {},
     "output_type": "execute_result"
    }
   ],
   "source": [
    "RELACAO = 'RELAÇÃO DE ALTAS DO ACIDENTE DO TRABALHO E DA DOENÇA DO TRABALHO :'\n",
    "\n",
    "if RELACAO in licencas:\n",
    "    list_items = rl_lm[licencas[RELACAO]:listas[listas.index(licencas[RELACAO])+1]]\n",
    "else:\n",
    "    list_items = []\n",
    "list_items"
   ]
  },
  {
   "cell_type": "code",
   "execution_count": 59,
   "metadata": {},
   "outputs": [],
   "source": [
    "'''\n",
    "    COLUNAS:\n",
    "        1. RF           : numeric(7) s_item[0][0]\n",
    "        2. VINC         : numeric(1) s_item[0][1]\n",
    "        3. NOME         : str()      s_item[1:-1]\n",
    "        4. DIAS         : null\n",
    "        5. A_PARTIR_DE  : date()     s_item[-1]\n",
    "        6. ARTIGO       : null\n",
    "'''\n",
    "LISTAS = [\n",
    "            'APÓS TRANSFORMAÇÃO DO ARTIGO DA LICENÇA MÉDICA',\n",
    "        ]\n",
    "\n",
    "i = 0\n",
    "SECRETARIA = ''\n",
    "VALIDA_LINHA = ''\n",
    "str_list_items = 'RF;VINC;NOME;DIAS;A_PARTIR_DE;ARTIGO;SECRETARIA;LISTA;DOM\\n'\n",
    "\n",
    "for item in list_items:\n",
    "    s_item = item.strip().split(' ')\n",
    "    if item in LISTAS:\n",
    "            RELACAO2 = f'{RELACAO} {item}'\n",
    "    if 'RF NOME A_PARTIR_DE' in item:\n",
    "        SECRETARIA = list_items[i-1]\n",
    "    elif len(s_item) >= 4 and s_item[0][0].isnumeric() and s_item[-1][0].isnumeric():\n",
    "        rf = s_item[0].split('/')[0]\n",
    "        vinc = s_item[0].split('/')[1]\n",
    "        nome = str(' ').join(s_item[1:-1])\n",
    "        str_list_items += f'{rf};{vinc};{nome};;{s_item[-1]};;{SECRETARIA};{RELACAO};{DOM}\\n'\n",
    "        #print(str_list_items)\n",
    "    elif s_item[0][-1].isnumeric() and VALIDA_LINHA == False:\n",
    "        linha = s_item\n",
    "        VALIDA_LINHA = True\n",
    "    elif VALIDA_LINHA == True:\n",
    "        linha += f' {item}'\n",
    "        s_item = item.split(' ')\n",
    "        rf = s_item[0].split('/')[0]\n",
    "        vinc = s_item[0].split('/')[1]\n",
    "        nome = str(' ').join(s_item[1:-1])\n",
    "        str_list_items += f'{rf};{vinc};{nome};;{s_item[-1]};;{SECRETARIA};{RELACAO};{DOM}\\n'\n",
    "        #print(str_list_items)\n",
    "        VALIDA_LINHA = False\n",
    "    i += 1"
   ]
  },
  {
   "cell_type": "code",
   "execution_count": 60,
   "metadata": {},
   "outputs": [
    {
     "data": {
      "text/plain": [
       "'c:\\\\Projetos\\\\scrapy_dom\\\\outputs_files\\\\2022-06-04\\\\RELAÇÃO_DE_LICENÇAS_MÉDICAS_RETIFICADAS_EM_FUNÇÃO_DE_RELAÇÃO_DE_ALTAS_DO_ACIDENTE_DO_TRABALHO_E_DA_DOENÇA_DO_TRABALHO__.csv'"
      ]
     },
     "execution_count": 60,
     "metadata": {},
     "output_type": "execute_result"
    }
   ],
   "source": [
    "RELACAO = str('_').join(RELACAO.replace('/','_').replace(':','_').split(' '))\n",
    "save_file(SAVE_DIR,str_list_items,f'{COMPLEMENTO}{RELACAO}','csv')"
   ]
  },
  {
   "cell_type": "markdown",
   "metadata": {},
   "source": [
    "#### RELAÇÃO DE CONCESSÃO DE NEXO DE ACIDENTE DO TRABALHO DEFERIDO"
   ]
  },
  {
   "cell_type": "code",
   "execution_count": 61,
   "metadata": {},
   "outputs": [
    {
     "data": {
      "text/plain": [
       "['RELAÇÃO DE CONCESSÃO DE NEXO DE ACIDENTE DO TRABALHO DEFERIDO',\n",
       " 'SECRETARIA MUNICIPAL DA SAUDE',\n",
       " 'RF NOME A_PARTIR_DE',\n",
       " '8327181/2 MARA LUIZA ROCHA PAIXAO DIOGO 11/04/2022',\n",
       " 'SECRETARIA MUNICIPAL DE EDUCACAO',\n",
       " 'RF NOME A_PARTIR_DE',\n",
       " '7767218/1 BRUNA APARECIDA FREIRE SANTOS 13/04/2022']"
      ]
     },
     "execution_count": 61,
     "metadata": {},
     "output_type": "execute_result"
    }
   ],
   "source": [
    "RELACAO = 'RELAÇÃO DE CONCESSÃO DE NEXO DE ACIDENTE DO TRABALHO DEFERIDO'\n",
    "\n",
    "if RELACAO in licencas:\n",
    "    list_items = rl_lm[licencas[RELACAO]:listas[listas.index(licencas[RELACAO])+1]]\n",
    "else:\n",
    "    list_items = []\n",
    "list_items"
   ]
  },
  {
   "cell_type": "code",
   "execution_count": 62,
   "metadata": {},
   "outputs": [],
   "source": [
    "'''\n",
    "    COLUNAS:\n",
    "        1. RF           : numeric(7) s_item[0][0]\n",
    "        2. VINC         : numeric(1) s_item[0][1]\n",
    "        3. NOME         : str()      s_item[1:-1]\n",
    "        4. DIAS         : null\n",
    "        5. A_PARTIR_DE  : date()     s_item[-1]\n",
    "        6. ARTIGO       : null\n",
    "'''\n",
    "\n",
    "i = 0\n",
    "SECRETARIA = ''\n",
    "VALIDA_LINHA = ''\n",
    "str_list_items = 'RF;VINC;NOME;DIAS;A_PARTIR_DE;ARTIGO;SECRETARIA;LISTA;DOM\\n'\n",
    "\n",
    "for item in list_items:\n",
    "    s_item = item.strip().split(' ')\n",
    "    if 'RF NOME DIAS A_PARTIR_DE ARTIGO' in item:\n",
    "        SECRETARIA = list_items[i-1]\n",
    "    elif len(s_item) >= 5 and s_item[0][0].isnumeric() and s_item[-1][0].isnumeric():\n",
    "        rf = s_item[0].split('/')[0]\n",
    "        vinc = s_item[0].split('/')[1]\n",
    "        nome = str(' ').join(s_item[1:-1])\n",
    "        str_list_items += f'{rf};{vinc};{nome};;{s_item[-1]};;{SECRETARIA};{RELACAO};{DOM}\\n'\n",
    "        #print(str_list_items)\n",
    "    elif s_item[0][-1].isnumeric() and VALIDA_LINHA == False:\n",
    "        linha = s_item\n",
    "        VALIDA_LINHA = True\n",
    "    elif VALIDA_LINHA == True:\n",
    "        linha += f' {item}'\n",
    "        s_item = item.split(' ')\n",
    "        rf = s_item[0].split('/')[0]\n",
    "        vinc = s_item[0].split('/')[1]\n",
    "        nome = str(' ').join(s_item[1:-1])\n",
    "        str_list_items += f'{rf};{vinc};{nome};;{s_item[-1]};;{SECRETARIA};{RELACAO};{DOM}\\n'\n",
    "        #print(str_list_items)\n",
    "        VALIDA_LINHA = False\n",
    "    i += 1"
   ]
  },
  {
   "cell_type": "code",
   "execution_count": 63,
   "metadata": {},
   "outputs": [
    {
     "data": {
      "text/plain": [
       "'c:\\\\Projetos\\\\scrapy_dom\\\\outputs_files\\\\2022-06-04\\\\RELAÇÃO_DE_LICENÇAS_MÉDICAS_RETIFICADAS_EM_FUNÇÃO_DE_RELAÇÃO_DE_CONCESSÃO_DE_NEXO_DE_ACIDENTE_DO_TRABALHO_DEFERIDO.csv'"
      ]
     },
     "execution_count": 63,
     "metadata": {},
     "output_type": "execute_result"
    }
   ],
   "source": [
    "RELACAO = str('_').join(RELACAO.replace('/','_').split(' '))\n",
    "save_file(SAVE_DIR,str_list_items,f'{COMPLEMENTO}{RELACAO}','csv')"
   ]
  },
  {
   "cell_type": "markdown",
   "metadata": {},
   "source": [
    "#### RELAÇÃO DE CONCESSÃO DE NEXO DE ACIDENTE DO TRABALHO DEFERIDO EM GRAU DE RECURSO"
   ]
  },
  {
   "cell_type": "code",
   "execution_count": 64,
   "metadata": {},
   "outputs": [
    {
     "data": {
      "text/plain": [
       "['RELAÇÃO DE CONCESSÃO DE NEXO DE ACIDENTE DO TRABALHO DEFERIDO EM GRAU DE RECURSO',\n",
       " 'SECRETARIA MUNICIPAL DE EDUCACAO',\n",
       " 'RF NOME A_PARTIR_DE',\n",
       " '8229651/1 ROSANGELA ALVES DA SILVA 13/04/2022']"
      ]
     },
     "execution_count": 64,
     "metadata": {},
     "output_type": "execute_result"
    }
   ],
   "source": [
    "RELACAO = 'RELAÇÃO DE CONCESSÃO DE NEXO DE ACIDENTE DO TRABALHO DEFERIDO EM GRAU DE RECURSO'\n",
    "\n",
    "if RELACAO in licencas:\n",
    "    list_items = rl_lm[licencas[RELACAO]:listas[listas.index(licencas[RELACAO])+1]]\n",
    "else:\n",
    "    list_items = []\n",
    "list_items"
   ]
  },
  {
   "cell_type": "code",
   "execution_count": 65,
   "metadata": {},
   "outputs": [],
   "source": [
    "'''\n",
    "    COLUNAS:\n",
    "        1. RF           : numeric(7) s_item[0][0]\n",
    "        2. VINC         : numeric(1) s_item[0][1]\n",
    "        3. NOME         : str()      s_item[1:-1]\n",
    "        4. DIAS         : null\n",
    "        5. A_PARTIR_DE  : date()     s_item[-1]\n",
    "        6. ARTIGO       : null\n",
    "'''\n",
    "\n",
    "i = 0\n",
    "SECRETARIA = ''\n",
    "VALIDA_LINHA = ''\n",
    "str_list_items = 'RF;VINC;NOME;DIAS;A_PARTIR_DE;ARTIGO;SECRETARIA;LISTA;DOM\\n'\n",
    "\n",
    "for item in list_items:\n",
    "    s_item = item.strip().split(' ')\n",
    "    if 'RF NOME A_PARTIR_DE' in item:\n",
    "        SECRETARIA = list_items[i-1]\n",
    "    elif len(s_item) >= 4 and s_item[0][0].isnumeric() and s_item[-1][0].isnumeric():\n",
    "        rf = s_item[0].split('/')[0]\n",
    "        vinc = s_item[0].split('/')[1]\n",
    "        nome = str(' ').join(s_item[1:-1])\n",
    "        str_list_items += f'{rf};{vinc};{nome};;{s_item[-1]};;{SECRETARIA};{RELACAO};{DOM}\\n'\n",
    "        #print(str_list_items)\n",
    "    elif s_item[0][-1].isnumeric() and VALIDA_LINHA == False:\n",
    "        linha = s_item\n",
    "        VALIDA_LINHA = True\n",
    "    elif VALIDA_LINHA == True:\n",
    "        linha += f' {item}'\n",
    "        s_item = item.split(' ')\n",
    "        rf = s_item[0].split('/')[0]\n",
    "        vinc = s_item[0].split('/')[1]\n",
    "        nome = str(' ').join(s_item[1:-1])\n",
    "        str_list_items += f'{rf};{vinc};{nome};;{s_item[-1]};;{SECRETARIA};{RELACAO};{DOM}\\n'\n",
    "        #print(str_list_items)\n",
    "        VALIDA_LINHA = False\n",
    "    i += 1"
   ]
  },
  {
   "cell_type": "code",
   "execution_count": 66,
   "metadata": {},
   "outputs": [
    {
     "data": {
      "text/plain": [
       "'c:\\\\Projetos\\\\scrapy_dom\\\\outputs_files\\\\2022-06-04\\\\RELAÇÃO_DE_LICENÇAS_MÉDICAS_RETIFICADAS_EM_FUNÇÃO_DE_RELAÇÃO_DE_CONCESSÃO_DE_NEXO_DE_ACIDENTE_DO_TRABALHO_DEFERIDO_EM_GRAU_DE_RECURSO.csv'"
      ]
     },
     "execution_count": 66,
     "metadata": {},
     "output_type": "execute_result"
    }
   ],
   "source": [
    "RELACAO = str('_').join(RELACAO.replace('/','_').split(' '))\n",
    "save_file(SAVE_DIR,str_list_items,f'{COMPLEMENTO}{RELACAO}','csv')"
   ]
  },
  {
   "cell_type": "markdown",
   "metadata": {},
   "source": [
    "#### RELAÇÃO DE CONCESSÃO DE NEXO DE ACIDENTE DO TRABALHO INDEFERIDO"
   ]
  },
  {
   "cell_type": "code",
   "execution_count": 67,
   "metadata": {},
   "outputs": [
    {
     "data": {
      "text/plain": [
       "['RELAÇÃO DE CONCESSÃO DE NEXO DE ACIDENTE DO TRABALHO INDEFERIDO',\n",
       " 'SECRETARIA MUNICIPAL DA SAUDE',\n",
       " 'RF NOME A_PARTIR_DE',\n",
       " '8551278/2 VANESSA DOS SANTOS DA SILVA 18/04/2022',\n",
       " 'SECRETARIA MUNICIPAL DE EDUCACAO',\n",
       " 'RF NOME A_PARTIR_DE',\n",
       " '6942148/2 MARIA IRANI FARIAS SOUSA 16/05/2022',\n",
       " '7754213/2 CARLA ROBERTA LINS 18/04/2022',\n",
       " '7957921/1 ANA PAULA AMARAL DE SOUSA 18/04/2022',\n",
       " '8196443/1 TATIANA CRISTINA GOMES MALACHIAS 19/05/2022',\n",
       " '8214841/1 LUCILENE BATISTA MARIANO DE OLIVEIRA 14/04/2022',\n",
       " 'SECRETARIA MUNICIPAL DE SEGURANCA URBANA',\n",
       " 'RF NOME A_PARTIR_DE',\n",
       " '7888538/1 ROSANGELA MARIA CARVALHO DE BARROS 15/10/2021']"
      ]
     },
     "execution_count": 67,
     "metadata": {},
     "output_type": "execute_result"
    }
   ],
   "source": [
    "RELACAO = 'RELAÇÃO DE CONCESSÃO DE NEXO DE ACIDENTE DO TRABALHO INDEFERIDO'\n",
    "\n",
    "if RELACAO in licencas:\n",
    "    list_items = rl_lm[licencas[RELACAO]:listas[listas.index(licencas[RELACAO])+1]]\n",
    "    #print(licencas[RELACAO])\n",
    "    #print(listas[listas.index(licencas[RELACAO])+1])\n",
    "else:\n",
    "    list_items = []\n",
    "list_items"
   ]
  },
  {
   "cell_type": "code",
   "execution_count": 68,
   "metadata": {},
   "outputs": [
    {
     "name": "stdout",
     "output_type": "stream",
     "text": [
      "RELAÇÃO DE CONCESSÃO DE NEXO DE ACIDENTE DO TRABALHO INDEFERIDO\n",
      "1\n",
      "SECRETARIA MUNICIPAL DA SAUDE\n",
      "2\n",
      "RF NOME A_PARTIR_DE\n",
      "3\n",
      "8551278/2 VANESSA DOS SANTOS DA SILVA 18/04/2022\n",
      "4\n",
      "SECRETARIA MUNICIPAL DE EDUCACAO\n",
      "5\n",
      "RF NOME A_PARTIR_DE\n",
      "6\n",
      "6942148/2 MARIA IRANI FARIAS SOUSA 16/05/2022\n",
      "7\n",
      "7754213/2 CARLA ROBERTA LINS 18/04/2022\n",
      "8\n",
      "7957921/1 ANA PAULA AMARAL DE SOUSA 18/04/2022\n",
      "9\n",
      "8196443/1 TATIANA CRISTINA GOMES MALACHIAS 19/05/2022\n",
      "10\n",
      "8214841/1 LUCILENE BATISTA MARIANO DE OLIVEIRA 14/04/2022\n",
      "11\n",
      "SECRETARIA MUNICIPAL DE SEGURANCA URBANA\n",
      "12\n",
      "RF NOME A_PARTIR_DE\n",
      "13\n",
      "7888538/1 ROSANGELA MARIA CARVALHO DE BARROS 15/10/2021\n",
      "14\n"
     ]
    }
   ],
   "source": [
    "'''\n",
    "    COLUNAS:\n",
    "        1. RF           : numeric(7) s_item[0][0]\n",
    "        2. VINC         : numeric(1) s_item[0][1]\n",
    "        3. NOME         : str()      s_item[1:-1]\n",
    "        4. DIAS         : null\n",
    "        5. A_PARTIR_DE  : date()     s_item[-1]\n",
    "        6. ARTIGO       : null\n",
    "'''\n",
    "\n",
    "i = 0\n",
    "SECRETARIA = ''\n",
    "VALIDA_LINHA = ''\n",
    "str_list_items = 'RF;VINC;NOME;DIAS;A_PARTIR_DE;ARTIGO;SECRETARIA;LISTA;DOM\\n'\n",
    "\n",
    "for item in list_items:\n",
    "    print(item)\n",
    "    s_item = item.strip().split(' ')\n",
    "    if 'RF NOME A_PARTIR_DE' in item:\n",
    "        SECRETARIA = list_items[i-1]\n",
    "    elif len(s_item) >= 4 and s_item[0][0].isnumeric() and s_item[-1][0].isnumeric():\n",
    "        rf = s_item[0].split('/')[0]\n",
    "        vinc = s_item[0].split('/')[1]\n",
    "        nome = str(' ').join(s_item[1:-1])\n",
    "        str_list_items += f'{rf};{vinc};{nome};;{s_item[-1]};;{SECRETARIA};{RELACAO};{DOM}\\n'\n",
    "        #print(str_list_items)\n",
    "    elif s_item[0][-1].isnumeric() and VALIDA_LINHA == False:\n",
    "        linha = s_item\n",
    "        VALIDA_LINHA = True\n",
    "    elif VALIDA_LINHA == True:\n",
    "        linha += f' {item}'\n",
    "        s_item = item.split(' ')\n",
    "        rf = s_item[0].split('/')[0]\n",
    "        vinc = s_item[0].split('/')[1]\n",
    "        nome = str(' ').join(s_item[1:-1])\n",
    "        str_list_items += f'{rf};{vinc};{nome};;{s_item[-1]};;{SECRETARIA};{RELACAO};{DOM}\\n'\n",
    "        #print(str_list_items)\n",
    "        VALIDA_LINHA = False\n",
    "    i += 1\n",
    "    print(i)"
   ]
  },
  {
   "cell_type": "code",
   "execution_count": 69,
   "metadata": {},
   "outputs": [
    {
     "data": {
      "text/plain": [
       "'c:\\\\Projetos\\\\scrapy_dom\\\\outputs_files\\\\2022-06-04\\\\RELAÇÃO_DE_LICENÇAS_MÉDICAS_RETIFICADAS_EM_FUNÇÃO_DE_RELAÇÃO_DE_CONCESSÃO_DE_NEXO_DE_ACIDENTE_DO_TRABALHO_INDEFERIDO.csv'"
      ]
     },
     "execution_count": 69,
     "metadata": {},
     "output_type": "execute_result"
    }
   ],
   "source": [
    "RELACAO = str('_').join(RELACAO.replace('/','_').split(' '))\n",
    "save_file(SAVE_DIR,str_list_items,f'{COMPLEMENTO}{RELACAO}','csv')"
   ]
  },
  {
   "cell_type": "code",
   "execution_count": null,
   "metadata": {},
   "outputs": [],
   "source": []
  },
  {
   "cell_type": "code",
   "execution_count": null,
   "metadata": {},
   "outputs": [],
   "source": []
  }
 ],
 "metadata": {
  "interpreter": {
   "hash": "31998cb917190a853c3fd1ae24bdc9afc831ff1caa3d83c63b3cf1ba0cc5525e"
  },
  "kernelspec": {
   "display_name": "Python 3.10.2 ('dom')",
   "language": "python",
   "name": "python3"
  },
  "language_info": {
   "codemirror_mode": {
    "name": "ipython",
    "version": 3
   },
   "file_extension": ".py",
   "mimetype": "text/x-python",
   "name": "python",
   "nbconvert_exporter": "python",
   "pygments_lexer": "ipython3",
   "version": "3.10.2"
  },
  "orig_nbformat": 4
 },
 "nbformat": 4,
 "nbformat_minor": 2
}
