{
 "cells": [
  {
   "cell_type": "markdown",
   "metadata": {},
   "source": [
    "# Script para ler o Diário Oficial do Município de São Paulo"
   ]
  },
  {
   "cell_type": "markdown",
   "metadata": {},
   "source": [
    "## Script BASE"
   ]
  },
  {
   "cell_type": "markdown",
   "metadata": {},
   "source": [
    "### Importando as bibliotecas"
   ]
  },
  {
   "cell_type": "code",
   "execution_count": null,
   "metadata": {},
   "outputs": [],
   "source": [
    "from datetime import date, datetime, timedelta\n",
    "from PyPDF2 import PdfFileReader, PdfFileMerger\n",
    "from collections import OrderedDict\n",
    "import os\n",
    "import fitz as fz\n",
    "import tabula\n",
    "import scripts"
   ]
  },
  {
   "cell_type": "markdown",
   "metadata": {},
   "source": [
    "### Obter data atual"
   ]
  },
  {
   "cell_type": "code",
   "execution_count": null,
   "metadata": {},
   "outputs": [],
   "source": [
    "def get_date_today():\n",
    "    '''Obtém a data atual e retorna uma string: (YYYY-mm-dd)'''\n",
    "    dt_now = date.today()\n",
    "    if dt_now.weekday() == 0:\n",
    "            dt_now = dt_now + timedelta(-2)\n",
    "            dt_now = dt_now.strftime(\"%Y-%m-%d\")\n",
    "    else:\n",
    "            dt_now = dt_now.strftime(\"%Y-%m-%d\")\n",
    "    \n",
    "    return dt_now\n",
    "\n",
    "dt_now = get_date_today()"
   ]
  },
  {
   "cell_type": "markdown",
   "metadata": {},
   "source": [
    "### Criando o diretório SAVE_DIR"
   ]
  },
  {
   "cell_type": "code",
   "execution_count": null,
   "metadata": {},
   "outputs": [],
   "source": [
    "BASE_DIR = os.getcwd()\n",
    "os.chdir(BASE_DIR)\n",
    "try:\n",
    "    os.makedirs(f'{BASE_DIR}\\\\outputs_files\\\\{dt_now}')\n",
    "    print(f'### MAKEDIRS CONCLUÍDO - Verifique a pasta: {BASE_DIR}\\\\outputs_files\\\\{dt_now}')\n",
    "except:\n",
    "    print(f'### MAKEDIRS PASTA EXISTENTE - Verifique a pasta: {BASE_DIR}\\\\outputs_files\\\\{dt_now}')\n",
    "    pass"
   ]
  },
  {
   "cell_type": "markdown",
   "metadata": {},
   "source": [
    "### Obter diretórios"
   ]
  },
  {
   "cell_type": "code",
   "execution_count": null,
   "metadata": {},
   "outputs": [],
   "source": [
    "def get_directories():\n",
    "        '''Obtém  os diretórios de trabalho.\n",
    "                return BASE_DIR,DATA_DIR,SAVE_DIR,DATA_FILE,DATA_FILES\n",
    "        '''\n",
    "        dt_now = get_date_today()\n",
    "        BASE_DIR = os.getcwd()\n",
    "        os.chdir(BASE_DIR)\n",
    "        try:\n",
    "                os.makedirs(f'{BASE_DIR}\\\\outputs_files\\\\{dt_now}')\n",
    "        except:\n",
    "                pass\n",
    "\n",
    "        DATA_DIR = f'{BASE_DIR}\\\\querido-diario\\\\data_collection\\\\data\\\\3550308\\\\{str(dt_now)}'\n",
    "        SAVE_DIR = f'{BASE_DIR}\\\\outputs_files\\\\{dt_now}'\n",
    "        # DATA_FILE = SAVE_DIR + '\\\\' + [f for f in os.listdir(SAVE_DIR) if f.endswith(\"tsv\")][0]\n",
    "        DATA_FILES = os.listdir(DATA_DIR)\n",
    "        DATA_FILES.sort()\n",
    "        \n",
    "        print(f'###   INFO:  DIRS   ###')\n",
    "        print(f'  BASE_DIR:  {BASE_DIR}')\n",
    "        print(f'  DATA_DIR:  {DATA_DIR}')\n",
    "        print(f'  SAVE_DIR:  {SAVE_DIR}')\n",
    "        #print(f' DATA_FILE:  {DATA_FILE}')\n",
    "        print(f'DATA_FILES:  {DATA_FILES}')\n",
    "        \n",
    "        return BASE_DIR,DATA_DIR,SAVE_DIR,DATA_FILES\n",
    "\n",
    "BASE_DIR,DATA_DIR,SAVE_DIR,DATA_FILES = get_directories()"
   ]
  },
  {
   "cell_type": "markdown",
   "metadata": {},
   "source": [
    "### Obtendo Informações do DOM"
   ]
  },
  {
   "cell_type": "code",
   "execution_count": null,
   "metadata": {},
   "outputs": [],
   "source": [
    "def get_info_dom():\n",
    "        '''Obtém as informações do DOM.\n",
    "                return YEAR_DOM,EDITION_DOM,PAGS_DOM,HEAD_DOM        \n",
    "        '''\n",
    "        dt_now = get_date_today()\n",
    "        BASE_DIR,DATA_DIR,SAVE_DIR,DATA_FILES = get_directories()\n",
    "        YEAR_DOM = date.today().year - 1955\n",
    "        HEAD_DOM ='São Paulo, ' + str(YEAR_DOM) + ' ('\n",
    "\n",
    "        with fz.open(DATA_DIR +'\\\\'+ DATA_FILES[3]) as file:\n",
    "                search_edition = ''\n",
    "                for page in file:\n",
    "                        search_edition += page.get_text()\n",
    "\n",
    "        search_edition = search_edition[search_edition.find(HEAD_DOM):]\n",
    "        EDITION_DOM = search_edition[search_edition.find('(')+1:search_edition.find(')')]\n",
    "        HEAD_DOM ='São Paulo, ' + str(YEAR_DOM) + ' (' + EDITION_DOM + ')'\n",
    "        PAGS_DOM = str(len(DATA_FILES))\n",
    "        DOM = f'DOM_SP-{str(YEAR_DOM)}_{str(EDITION_DOM)}_{PAGS_DOM}_{str(dt_now)}'\n",
    "\n",
    "        print('### INFO: DOM-SP ###')\n",
    "        print(f'DATA: {dt_now}')\n",
    "        print(f'PAGS: {PAGS_DOM}')\n",
    "        print(f'HEAD: {HEAD_DOM}')\n",
    "        print(f' DOM: {DOM}')\n",
    "        \n",
    "        return YEAR_DOM,EDITION_DOM,PAGS_DOM,HEAD_DOM,DOM\n",
    "\n",
    "YEAR_DOM,EDITION_DOM,PAGS_DOM,HEAD_DOM,DOM = get_info_dom()"
   ]
  },
  {
   "cell_type": "markdown",
   "metadata": {},
   "source": [
    "### Renomeando arquivos"
   ]
  },
  {
   "cell_type": "code",
   "execution_count": null,
   "metadata": {},
   "outputs": [],
   "source": [
    "contexts = ''\n",
    "for file_name in DATA_FILES:\n",
    "        print('Obtendo conteúdo de: ' + file_name)\n",
    "        with fz.open(DATA_DIR +'\\\\'+ file_name) as file:\n",
    "                context = \"\"\n",
    "                for page in file:\n",
    "                        context += '<pag>\\n'+ page.get_text() + '</pag>\\n'\n",
    "                \n",
    "                odd_page = \"São Paulo, \" + str(YEAR_DOM) + \" (\" + str(EDITION_DOM) + \") – \"\n",
    "                even_page = \" – São Paulo, \" + str(YEAR_DOM) + \" (\" + str(EDITION_DOM) + \")\"\n",
    "\n",
    "                if  context.find(odd_page) != -1:\n",
    "                        num_page = context[context.find(odd_page)+21:context.find('\\n',context.find(odd_page))]\n",
    "                elif context.find(even_page) != -1:\n",
    "                        num_page = context[context.find('\\n',context.find(even_page)-5)+1:context.find(even_page)]\n",
    "                elif context.find(\"D.O.C.; \" + HEAD_DOM) != -1:\n",
    "                        num_page = str(len(DATA_FILES))\n",
    "                elif context.find(\"Ano \"+ str(YEAR_DOM)) != -1:\n",
    "                        num_page = '1'\n",
    "                else:\n",
    "                        num_page = ''\n",
    "\n",
    "        contexts += context\n",
    "        os.rename(f'{DATA_DIR}//{file_name}',f'{DATA_DIR}\\\\pg_{(num_page.strip()).zfill(3)}-{file_name}')\n",
    "\n",
    "DATA_FILES = os.listdir(DATA_DIR)\n",
    "DATA_FILES.sort()\n",
    "print(f'### RENAME CONCLUÍDO - Verifique a pasta: {DATA_DIR} ###')"
   ]
  },
  {
   "cell_type": "markdown",
   "metadata": {},
   "source": [
    "### Juntando os arquivos"
   ]
  },
  {
   "cell_type": "code",
   "execution_count": null,
   "metadata": {},
   "outputs": [],
   "source": [
    "pdf_files = [f for f in os.listdir(DATA_DIR) if f.endswith(\"pdf\")]\n",
    "merger = PdfFileMerger()\n",
    "\n",
    "for filename in pdf_files:\n",
    "    print(f'Merge de: {filename}')\n",
    "    merger.append(PdfFileReader(os.path.join(DATA_DIR, filename), \"rb\"))\n",
    "\n",
    "merger.write(SAVE_DIR + \"\\\\DOM_SP-\"+ str(YEAR_DOM) + \"_\" + str(EDITION_DOM) + \"_\" + str(len(DATA_FILES)) + \"_\" + str(dt_now)+\".pdf\")\n",
    "print(f'### MERGE CONCLUÍDO - Verifique a pasta: {SAVE_DIR} ###')"
   ]
  },
  {
   "cell_type": "markdown",
   "metadata": {},
   "source": [
    "### Convertendo para TSV FINAL"
   ]
  },
  {
   "cell_type": "code",
   "execution_count": null,
   "metadata": {},
   "outputs": [],
   "source": [
    "print('Convertendo arquivo para TSV')\n",
    "area_text = [[42.849,28.172,1209.134,215.329],[42.849,216.314,1210.119,393.621],[42.849,395.591,1210.119,574.868],[42.849,576.838,1207.164,760.055]]\n",
    "#tabula.convert_into_by_batch(SAVE_DIR,output_format=\"tsv\",area=area_text,pages=\"all\")\n",
    "tabula.convert_into_by_batch(SAVE_DIR,output_format=\"tsv\",area=area_text,pages=\"all\")\n",
    "print(f'### CONVERT CONCLUÍDO - Verifique a pasta: {SAVE_DIR} ###')"
   ]
  },
  {
   "cell_type": "code",
   "execution_count": null,
   "metadata": {},
   "outputs": [],
   "source": [
    "def get_directories():\n",
    "        '''Obtém  os diretórios de trabalho.\n",
    "                return BASE_DIR,DATA_DIR,SAVE_DIR,DATA_FILE,DATA_FILES\n",
    "        '''\n",
    "        dt_now = get_date_today()\n",
    "        BASE_DIR = os.getcwd()\n",
    "        os.chdir(BASE_DIR)\n",
    "        try:\n",
    "                os.makedirs(f'{BASE_DIR}\\\\outputs_files\\\\{dt_now}')\n",
    "        except:\n",
    "                pass\n",
    "\n",
    "        DATA_DIR = f'{BASE_DIR}\\\\querido-diario\\\\data_collection\\\\data\\\\3550308\\\\{str(dt_now)}'\n",
    "        SAVE_DIR = f'{BASE_DIR}\\\\outputs_files\\\\{dt_now}'\n",
    "        DATA_FILE = SAVE_DIR + '\\\\' + [f for f in os.listdir(SAVE_DIR) if f.endswith(\"tsv\")][0]\n",
    "        DATA_FILES = os.listdir(DATA_DIR)\n",
    "        DATA_FILES.sort()\n",
    "        \n",
    "        print(f'###   INFO:  DIRS   ###')\n",
    "        print(f'  BASE_DIR:  {BASE_DIR}')\n",
    "        print(f'  DATA_DIR:  {DATA_DIR}')\n",
    "        print(f'  SAVE_DIR:  {SAVE_DIR}')\n",
    "        print(f' DATA_FILE:  {DATA_FILE}')\n",
    "        print(f'DATA_FILES:  {DATA_FILES}')\n",
    "        \n",
    "        return BASE_DIR,DATA_DIR,SAVE_DIR,DATA_FILE,DATA_FILES\n",
    "\n",
    "BASE_DIR,DATA_DIR,SAVE_DIR,DATA_FILE,DATA_FILES = get_directories()"
   ]
  },
  {
   "cell_type": "markdown",
   "metadata": {},
   "source": [
    "### Salva arquivo final"
   ]
  },
  {
   "cell_type": "code",
   "execution_count": null,
   "metadata": {},
   "outputs": [],
   "source": [
    "def save_file(SAVE_DIR,CONTEXT,NAME_FILE,FORMAT='txt'):\n",
    "        '''\n",
    "                Cria um arquivo com o conteúdo e salva na pasta.\n",
    "                        SAVE_DIR  : Diretório para salvar o conteúdo\n",
    "                        CONTEXT   : Conteúdo a ser salvo\n",
    "                        NAME_FILE : Nome do arquivo para ser salvo\n",
    "                        FORMAT    : Formato do arquivo final\n",
    "        '''\n",
    "\n",
    "        with open(f\"{SAVE_DIR}\\\\{NAME_FILE}.{FORMAT}\",\"w\",encoding='utf8') as output_file:\n",
    "                output_file.write(CONTEXT)\n",
    "        \n",
    "        return f\"{SAVE_DIR}\\\\{NAME_FILE}.{FORMAT}\""
   ]
  },
  {
   "cell_type": "code",
   "execution_count": null,
   "metadata": {},
   "outputs": [],
   "source": [
    "def add_file(SAVE_DIR,CONTEXT,NAME_FILE,FORMAT='txt'):\n",
    "        '''\n",
    "                Cria um arquivo com o conteúdo e salva na pasta.\n",
    "                        SAVE_DIR  : Diretório para salvar o conteúdo\n",
    "                        CONTEXT   : Conteúdo a ser salvo\n",
    "                        NAME_FILE : Nome do arquivo para ser salvo\n",
    "                        FORMAT    : Formato do arquivo final\n",
    "        '''\n",
    "\n",
    "        with open(f\"{SAVE_DIR}\\\\{NAME_FILE}.{FORMAT}\",\"a\",encoding='utf8') as output_file:\n",
    "                output_file.write(CONTEXT)\n",
    "        \n",
    "        return f\"{SAVE_DIR}\\\\{NAME_FILE}.{FORMAT}\""
   ]
  },
  {
   "cell_type": "markdown",
   "metadata": {},
   "source": [
    "### Definindo Diretórios"
   ]
  },
  {
   "cell_type": "markdown",
   "metadata": {},
   "source": [
    "### Obtem contéudo do arquivo TSV"
   ]
  },
  {
   "cell_type": "code",
   "execution_count": null,
   "metadata": {},
   "outputs": [],
   "source": [
    "with open(DATA_FILE,'r') as file:\n",
    "    conteudo = file.read()"
   ]
  },
  {
   "cell_type": "markdown",
   "metadata": {},
   "source": [
    "## Scripts de Listagens"
   ]
  },
  {
   "cell_type": "markdown",
   "metadata": {},
   "source": [
    "### Seção SERVIDORES"
   ]
  },
  {
   "cell_type": "code",
   "execution_count": null,
   "metadata": {},
   "outputs": [],
   "source": [
    "conteudo_alterado = conteudo"
   ]
  },
  {
   "cell_type": "markdown",
   "metadata": {},
   "source": [
    "#### Limpeza dos dados"
   ]
  },
  {
   "cell_type": "code",
   "execution_count": null,
   "metadata": {},
   "outputs": [],
   "source": [
    "def limpa_tabulacao(conteudo_alterado):\n",
    "    print('### LIMPA TABULAÇÃO ###')\n",
    "    print(f'Qtd de linhas antes: {len(conteudo_alterado)}')\n",
    "    conteudo_alterado = conteudo_alterado.replace('\\t',' ')\n",
    "    conteudo_alterado = conteudo_alterado.replace('\"\"','')\n",
    "    conteudo_alterado = conteudo_alterado.replace(' \\n','\\n')\n",
    "    conteudo_alterado = conteudo_alterado.replace('\\n ','\\n')\n",
    "    conteudo_alterado = conteudo_alterado.replace('    ',' ')\n",
    "    conteudo_alterado = conteudo_alterado.replace('   ',' ')\n",
    "    conteudo_alterado = conteudo_alterado.replace('  ',' ')\n",
    "    conteudo_alterado = conteudo_alterado.replace('-\\n','')\n",
    "    conteudo_alterado = conteudo_alterado.replace(',\\n',', ')\n",
    "    conteudo_alterado = conteudo_alterado.replace(', \\n',', ')\n",
    "    conteudo_alterado = conteudo_alterado.replace('/\\n','/')\n",
    "    conteudo_alterado = conteudo_alterado.upper()\n",
    "    print(f'Qtd de linhas depois: {len(conteudo_alterado)}')\n",
    "    return conteudo_alterado"
   ]
  },
  {
   "cell_type": "code",
   "execution_count": null,
   "metadata": {},
   "outputs": [],
   "source": [
    "def normaliza_cabecalho(conteudo_alterado):\n",
    "    print('### NORMALIZA CABEÇALHO ###')\n",
    "    print(f'Qtd de linhas antes: {len(conteudo_alterado)}')\n",
    "    conteudo_alterado = conteudo_alterado.replace('E.H.','EH')\n",
    "    conteudo_alterado = conteudo_alterado.replace('REG. FUNC.','RF')\n",
    "    conteudo_alterado = conteudo_alterado.replace('REG.FUNC.','RF')\n",
    "    conteudo_alterado = conteudo_alterado.replace('R.F.','RF')\n",
    "    conteudo_alterado = conteudo_alterado.replace('E.H.','EH')\n",
    "    conteudo_alterado = conteudo_alterado.replace(' VINC.','VINCULO')\n",
    "    conteudo_alterado = conteudo_alterado.replace('DURAÇÃO','DURACAO')\n",
    "    conteudo_alterado = conteudo_alterado.replace('A PARTIR DE','A_PARTIR_DE')\n",
    "    conteudo_alterado = conteudo_alterado.replace('A PARTIR','A_PARTIR_DE')\n",
    "    conteudo_alterado = conteudo_alterado.replace(' ART.','ARTIGO')\n",
    "    conteudo_alterado = conteudo_alterado.replace('PERÍODO','PERIODO')\n",
    "    conteudo_alterado = conteudo_alterado.replace(' VÍNC.',' VINCULO')\n",
    "    conteudo_alterado = conteudo_alterado.replace(' QTE DE DIAS ',' DIAS ')\n",
    "    conteudo_alterado = conteudo_alterado.replace('RF. ','RF ')\n",
    "    conteudo_alterado = conteudo_alterado.replace('RF NOME DIAS A PARTIR DE ARTIGO','RF NOME DIAS A_PARTIR_DE ARTIGO')\n",
    "    conteudo_alterado = conteudo_alterado.replace('RF NOME A PARTIR DE','RF NOME A_PARTIR_DE')\n",
    "    conteudo_alterado = conteudo_alterado.replace('RF NOME DUR A PARTIR DE','RF NOME DURACAO A_PARTIR_DE')\n",
    "    conteudo_alterado = conteudo_alterado.replace('RF SERVIDOR CONTROLE NO','RF NOME CONTROLE_NO')\n",
    "    conteudo_alterado = conteudo_alterado.replace('RF NOME CONTROLE NO','RF NOME CONTROLE_NO')\n",
    "    conteudo_alterado = conteudo_alterado.replace('RF/V NOME DIAS/EXERCÍCIO A PARTIR DE','RF/VINCULO NOME DIAS A_PARTIR_DE')\n",
    "    conteudo_alterado = conteudo_alterado.replace('RF/VINCULO NOME DIAS A_PARTIR_DE','RF/VINCULO NOME DIAS A_PARTIR_DE')\n",
    "    conteudo_alterado = conteudo_alterado.replace('RF/VINC NOME NÍVEL CAT. SÍMBOLO A PARTIR DE','RF/VINCULO NOME NIVEL_CAT SIMBOLO A_PARTIR_DE')\n",
    "    conteudo_alterado = conteudo_alterado.replace('RF NOME CARGO','RF NOME CARGO')\n",
    "    conteudo_alterado = conteudo_alterado.replace('RF V NOME EH A PARTIR DE MOTIVO','RF VINCULO NOME EH A_PARTIR_DE MOTIVO')\n",
    "    conteudo_alterado = conteudo_alterado.replace('RF VINCULO NOME CARGO A PARTIR DE','RF VINCULO NOME CARGO A_PARTIR_DE')\n",
    "    conteudo_alterado = conteudo_alterado.replace('NOME RF DATA HORARIO','NOME RF DATA_HORARIO')\n",
    "    conteudo_alterado = conteudo_alterado.replace('NOME RF DATAHORARIO','NOME RF DATA_HORARIO')\n",
    "    conteudo_alterado = conteudo_alterado.replace('REGISTRO VINC. NOME NIIVEL CAT.','RF VINCULO NOME NIIVEL CAT')\n",
    "    conteudo_alterado = conteudo_alterado.replace('REGISTRO VINC. NOME NIIVEL CAT. SIM','RF VINCULO NOME NIVEL CAT SIM')\n",
    "    conteudo_alterado = conteudo_alterado.replace('RF VINC NOME NIIVEL CAT','RF VINCULO NOME NIVEL CAT')\n",
    "    conteudo_alterado = conteudo_alterado.replace('REG. FUNC. NOME CARGO REGIME EXP. AC. NO','RF NOME CARGO REGIME EXP_AC_NO')\n",
    "    conteudo_alterado = conteudo_alterado.replace('EH RF NOME DURAÇÃO A PARTIR ART','EH RF NOME DURACAO A_PARTIR_DE ARTIGO')\n",
    "    conteudo_alterado = conteudo_alterado.replace('REG.FUNC. NOME DE PARA','RF NOME DE PARA')\n",
    "    conteudo_alterado = conteudo_alterado.replace('RF NOME NOTA INDIVIDUAL NOTA INSTITUCIONAL NOTA FINAL','RF NOME NOTA_INDIVIDUAL NOTA_INSTITUCIONAL NOTA_FINAL')\n",
    "    conteudo_alterado = conteudo_alterado.replace('RF NOME DURAÇÃO À PARTIR DE','RF NOME DURACAO A_PARTIR_DE')\n",
    "    conteudo_alterado = conteudo_alterado.replace('RF NOME PERCENTUAL BASE DE CÁLCULO DATA','RF NOME PERCENTUAL BASE_DE_CALCULO DATA')\n",
    "    conteudo_alterado = conteudo_alterado.replace('REGISTRO NOME CARGO EXERCÍCIO QUAN- A PARTIR DE FUNCIONAL TIDADE','RF NOME CARGO EXERCICIO QUANTIDADE A_PARTIR_DE')\n",
    "    conteudo_alterado = conteudo_alterado.replace('RF VINCULO NOME: PERÍODO DE :','RF VINCULO NOME PERIODO_DE')\n",
    "    conteudo_alterado = conteudo_alterado.replace('RF/V NOME CARGO N°DIAS','RF/VINCULO NOME CARGO DIAS')\n",
    "    conteudo_alterado = conteudo_alterado.replace('NOME RF A PARTIR DE','NOME RF A_PARTIR_DE')\n",
    "    conteudo_alterado = conteudo_alterado.replace('RF/V NOME A PARTIR DE','RF/VINCULO NOME A_PARTIR_DE')\n",
    "    conteudo_alterado = conteudo_alterado.replace('RF: NOME: PROCESSO: E.H.:','RF NOME PROCESSO EH')\n",
    "    conteudo_alterado = conteudo_alterado.replace('EH RF/V NOME DIAS A PARTIR DE','EH RF/VINCULO NOME DIAS A_PARTIR_DE')\n",
    "    conteudo_alterado = conteudo_alterado.replace('RF NOME E.H. A PARTIR','RF NOME E.H. A_PARTIR')\n",
    "    conteudo_alterado = conteudo_alterado.replace('RF/V NOME DIAS A PARTIR DE','RF/VINCULO NOME DIAS A_PARTIR_DE')\n",
    "    conteudo_alterado = conteudo_alterado.replace('RF VINCULO NOME: PERIODO DE :','RF VINCULO NOME PERIODO')\n",
    "    conteudo_alterado = conteudo_alterado.replace('RF NOME CONTROLE_NO ','RF NOME CONTROLE_NO\\n')\n",
    "    conteudo_alterado = conteudo_alterado.replace('RF VINCULO NOME CARGO A_PARTIR_DE ','RF VINCULO NOME CARGO A_PARTIR_DE\\n')\n",
    "    conteudo_alterado = conteudo_alterado.replace('RF/VINCULO NOME DIAS A_PARTIR_DE','RF/VINCULO NOME DIAS A_PARTIR_DE\\n')\n",
    "    conteudo_alterado = conteudo_alterado.replace('RF NOME CARGO REGIME EXP_AC_NO ','RF NOME CARGO REGIME EXP_AC_NO\\n')\n",
    "    conteudo_alterado = conteudo_alterado.replace('RF NOME DE PARA ','RF NOME DE PARA\\n')\n",
    "    conteudo_alterado = conteudo_alterado.replace('RF NOME NOTA_INDIVIDUAL NOTA_INSTITUCIONAL NOTA_FINAL ','RF NOME NOTA_INDIVIDUAL NOTA_INSTITUCIONAL NOTA_FINAL\\n')\n",
    "    conteudo_alterado = conteudo_alterado.replace('RF NOME DURACAO A_PARTIR_DE ','RF NOME DURACAO A_PARTIR_DE\\n')\n",
    "    conteudo_alterado = conteudo_alterado.replace('RF NOME PERCENTUAL BASE_DE_CALCULO DATA ','RF NOME PERCENTUAL BASE_DE_CALCULO DATA\\n')\n",
    "    conteudo_alterado = conteudo_alterado.replace('REGISTRO NOME CARGO EXERCÍCIO QUAN- A PARTIR DE FUNCIONAL TIDADE','RF NOME CARGO EXERCICIO QUANTIDADE A_PARTIR_DE')\n",
    "    conteudo_alterado = conteudo_alterado.replace('NOME RF A_PARTIR_DE ','NOME RF A_PARTIR_DE\\n')\n",
    "    conteudo_alterado = conteudo_alterado.replace('RF/V NOME A_PARTIR_DE ','RF/V NOME A_PARTIR_DE\\n')\n",
    "    conteudo_alterado = conteudo_alterado.replace('RF NOME A_PARTIR_DE ','RF NOME A_PARTIR_DE')\n",
    "    conteudo_alterado = conteudo_alterado.replace('REGISTRO NOME CARGO EXERCÍCIO QUANTIDADE A_PARTIR_DE FUNCIONAL','RF NOME CARGO EXERCICIO QUANTIDADE A_PARTIR_DE')\n",
    "    print(f'Qtd de linhas depois: {len(conteudo_alterado)}')\n",
    "    return conteudo_alterado"
   ]
  },
  {
   "cell_type": "code",
   "execution_count": null,
   "metadata": {},
   "outputs": [],
   "source": [
    "def limpa_conjuncao_preposicao(conteudo_alterado):\n",
    "    print('### LIMPA CONJUNÇÃO E PREPOSIÇÃO ###')\n",
    "    print(f'Qtd de linhas antes: {len(conteudo_alterado)}')\n",
    "    conteudo_alterado = conteudo_alterado.replace(' AO\\n',' AO ')\n",
    "    conteudo_alterado = conteudo_alterado.replace('\\nAO ',' AO ')\n",
    "    conteudo_alterado = conteudo_alterado.replace(' AOS\\n',' AOS ')\n",
    "    conteudo_alterado = conteudo_alterado.replace('\\nAOS ',' AOS ')\n",
    "    conteudo_alterado = conteudo_alterado.replace(' SÃO\\n',' SÃO ')\n",
    "    conteudo_alterado = conteudo_alterado.replace(' À\\n',' À ')\n",
    "    conteudo_alterado = conteudo_alterado.replace('\\nÀ ',' À ')\n",
    "    conteudo_alterado = conteudo_alterado.replace(' ÀS\\n',' ÀS ')\n",
    "    conteudo_alterado = conteudo_alterado.replace('\\nÀS ',' ÀS ')\n",
    "    conteudo_alterado = conteudo_alterado.replace(' AS\\n',' AS ')\n",
    "    conteudo_alterado = conteudo_alterado.replace('\\nAS ',' AS ')\n",
    "    conteudo_alterado = conteudo_alterado.replace(' E\\n',' E ')\n",
    "    conteudo_alterado = conteudo_alterado.replace(' O\\n',' O ')\n",
    "    conteudo_alterado = conteudo_alterado.replace(' OS\\n',' OS ')\n",
    "    conteudo_alterado = conteudo_alterado.replace('\\nOS ',' OS ')\n",
    "    conteudo_alterado = conteudo_alterado.replace(' DA\\n',' DA ')\n",
    "    conteudo_alterado = conteudo_alterado.replace('\\nDA ',' DA ')\n",
    "    conteudo_alterado = conteudo_alterado.replace(' DAS\\n',' DAS ')\n",
    "    conteudo_alterado = conteudo_alterado.replace('\\nDAS ',' DAS ')\n",
    "    conteudo_alterado = conteudo_alterado.replace(' DA(S)\\n',' DA(S) ')\n",
    "    conteudo_alterado = conteudo_alterado.replace('\\nDA(S) ',' DA(S) ')\n",
    "    conteudo_alterado = conteudo_alterado.replace(' DE\\n',' DE ')\n",
    "    conteudo_alterado = conteudo_alterado.replace('\\nDE ',' DE ')\n",
    "    conteudo_alterado = conteudo_alterado.replace(' DO\\n',' DO ')\n",
    "    conteudo_alterado = conteudo_alterado.replace('\\nDO ',' DO ')\n",
    "    conteudo_alterado = conteudo_alterado.replace(' DOS\\n',' DOS ')\n",
    "    conteudo_alterado = conteudo_alterado.replace('\\nDOS ',' DOS ')\n",
    "    conteudo_alterado = conteudo_alterado.replace(' DO(S)\\n',' DO(S) ')\n",
    "    conteudo_alterado = conteudo_alterado.replace('\\nDO(S) ',' DO(S) ')\n",
    "    conteudo_alterado = conteudo_alterado.replace(' COM\\n',' COM ')\n",
    "    conteudo_alterado = conteudo_alterado.replace('\\nCOM ',' COM ')\n",
    "    conteudo_alterado = conteudo_alterado.replace(' EM\\n',' EM ')\n",
    "    conteudo_alterado = conteudo_alterado.replace('\\nEM ',' EM ')\n",
    "    conteudo_alterado = conteudo_alterado.replace(' PARA\\n',' PARA ')\n",
    "    conteudo_alterado = conteudo_alterado.replace('\\nPARA ',' PARA ')\n",
    "    conteudo_alterado = conteudo_alterado.replace(' P/ ',' PARA ')\n",
    "    conteudo_alterado = conteudo_alterado.replace(' POR\\n',' POR ')\n",
    "    conteudo_alterado = conteudo_alterado.replace(' NA\\n',' NA ')\n",
    "    conteudo_alterado = conteudo_alterado.replace(' NAS\\n',' NAS ')\n",
    "    conteudo_alterado = conteudo_alterado.replace('\\nNAS ',' NAS ')\n",
    "    conteudo_alterado = conteudo_alterado.replace(' NO\\n',' NO ')\n",
    "    conteudo_alterado = conteudo_alterado.replace(' NOS\\n',' NOS ')\n",
    "    conteudo_alterado = conteudo_alterado.replace('\\nNOS ',' NOS ')\n",
    "    print(f'Qtd de linhas depois: {len(conteudo_alterado)}')\n",
    "    return conteudo_alterado"
   ]
  },
  {
   "cell_type": "code",
   "execution_count": null,
   "metadata": {},
   "outputs": [],
   "source": [
    "conteudo_alterado = limpa_tabulacao(conteudo_alterado)\n",
    "conteudo_alterado = limpa_conjuncao_preposicao(conteudo_alterado)\n",
    "conteudo_alterado = limpa_tabulacao(conteudo_alterado)\n",
    "conteudo_alterado = normaliza_cabecalho(conteudo_alterado)\n",
    "conteudo_alterado = limpa_tabulacao(conteudo_alterado)\n",
    "conteudo_alterado = limpa_conjuncao_preposicao(conteudo_alterado)\n",
    "conteudo_alterado = limpa_tabulacao(conteudo_alterado)"
   ]
  },
  {
   "cell_type": "code",
   "execution_count": null,
   "metadata": {},
   "outputs": [],
   "source": [
    "print(f'Qtd de linhas antes: {len(conteudo_alterado)}')\n",
    "conteudo_alterado = conteudo_alterado.replace('FUNDAÇÃO PAULISTANA DE EDUCAÇÃO\\nTECNOLOGIA E CULTURA','FUNDAÇÃO PAULISTANA DE EDUCAÇÃO TECNOLOGIA E CULTURA')\n",
    "conteudo_alterado = conteudo_alterado.replace('HOSPITAL DO SERVIDOR\\nPÚBLICO MUNICIPAL','HOSPITAL DO SERVIDOR PÚBLICO MUNICIPAL')\n",
    "conteudo_alterado = conteudo_alterado.replace('SECRETARIA MUNICIPAL DE ASSIST E DESENV\\nSOCIAL','SECRETARIA MUNICIPAL DE ASSIST E DESENV SOCIAL')\n",
    "conteudo_alterado = conteudo_alterado.replace('SECRETARIA MUNICIPAL DE INFRAESTRUTURA\\nURBANA E OB','SECRETARIA MUNICIPAL DE INFRAESTRUTURA URBANA E OB')\n",
    "conteudo_alterado = conteudo_alterado.replace('SECRETARIA MUNICIPAL DE SEGURANCA\\nURBANA','SECRETARIA MUNICIPAL DE SEGURANCA URBANA')\n",
    "conteudo_alterado = conteudo_alterado.replace('SECRETARIA MUNICIPAL DO VERDE E DO MEIO\\nAMBIENTE','SECRETARIA MUNICIPAL DO VERDE E DO MEIO AMBIENTE')\n",
    "conteudo_alterado = conteudo_alterado.replace('COORDENADORIA DE ADMINISTRAÇÃO\\nE FINANÇAS','COORDENADORIA DE ADMINISTRAÇÃO E FINANÇAS')\n",
    "conteudo_alterado = conteudo_alterado.replace('LICENÇAS MÉDICAS CONCEDIDAS/NEGADAS\\nEM GRAU DE RECURSO','LICENÇAS MÉDICAS CONCEDIDAS/NEGADAS EM GRAU DE RECURSO')\n",
    "conteudo_alterado = conteudo_alterado.replace('RELAÇÃO DE LICENÇAS MÉDICAS NEGADAS\\nNOS TERMOS DA LEI 8989/79','RELAÇÃO DE LICENÇAS MÉDICAS NEGADAS NOS TERMOS DA LEI 8989/79')\n",
    "conteudo_alterado = conteudo_alterado.replace('RELAÇÃO DE FALTAS DOS CONVOCADOS\\nPARA AVALIAÇÃO DE ESPECIALISTA','RELAÇÃO DE FALTAS DOS CONVOCADOS PARA AVALIAÇÃO DE ESPECIALISTA')\n",
    "conteudo_alterado = conteudo_alterado.replace('RELAÇÃO DE FALTAS DOS CONVOCADOS\\nPARA JUNTA MÉDICA PARA FINS DE PENSÃO\\nPOR MORTE','RELAÇÃO DE FALTAS DOS CONVOCADOS PARA JUNTA MÉDICA PARA FINS DE PENSÃO POR MORTE')\n",
    "conteudo_alterado = conteudo_alterado.replace('RELAÇÃO DE ALTA DE AT/DT RETIFICADA EM\\nFUNÇÃO DE:','RELAÇÃO DE ALTA DE AT/DT RETIFICADA EM FUNÇÃO DE:')\n",
    "conteudo_alterado = conteudo_alterado.replace('RELAÇÃO DE SERVIDORES SUBMETIDOS À\\nAVALIAÇÃO DE ESPECIALISTA\\nCOM CAPACIDADE LABORATIVA PARA A SUA\\nFUNÇÃO ORIGINAL','RELAÇÃO DE SERVIDORES SUBMETIDOS À AVALIAÇÃO DE ESPECIALISTA COM CAPACIDADE LABORATIVA PARA A SUA FUNÇÃO ORIGINAL')\n",
    "conteudo_alterado = conteudo_alterado.replace('RELAÇÃO DE CONCESSÃO DE NEXO DE ACIDENTE DO TRABALHO\\nDEFERIDO','RELAÇÃO DE CONCESSÃO DE NEXO DE ACIDENTE DO TRABALHO DEFERIDO')\n",
    "conteudo_alterado = conteudo_alterado.replace('LICENÇAS MÉDICAS DE CURTA DURAÇÃO\\nDOC ','LICENÇAS MÉDICAS DE CURTA DURAÇÃO DOC ')\n",
    "conteudo_alterado = conteudo_alterado.replace('ACI-\\nDENTE','ACIDENTE')\n",
    "conteudo_alterado = conteudo_alterado.replace('CANCELA-\\nDAS','CANCELADAS')\n",
    "conteudo_alterado = conteudo_alterado.replace('RETIFICA-\\nDAS','RETIFICADAS')\n",
    "conteudo_alterado = conteudo_alterado.replace('RECO-\\nMENDAÇÃO','RECOMENDAÇÃO')\n",
    "conteudo_alterado = conteudo_alterado.replace('RECOMENDAÇÃO\\nD','RECOMENDAÇÃO D')\n",
    "conteudo_alterado = conteudo_alterado.replace('LICENÇAS MÉDICAS\\nFACE','LICENÇAS MÉDICAS FACE')\n",
    "conteudo_alterado = conteudo_alterado.replace('LICENÇAS MÉDICAS PARA SERVIDORES SOB REGIME GERAL DA\\nPREVIDÊNCIA SOCIAL\\nCONCEDIDA DE ACORDO COM O DETERMINADO NA PORTARIA NO\\n','LICENÇAS MÉDICAS PARA SERVIDORES SOB REGIME GERAL DA PREVIDÊNCIA SOCIAL CONCEDIDA DE ACORDO COM O DETERMINADO NA PORTARIA NO ')\n",
    "conteudo_alterado = conteudo_alterado.replace('LICENÇA\\nMÉDICA','LICENÇA MÉDICA')\n",
    "conteudo_alterado = conteudo_alterado.replace('DECRETO NO\\n','DECRETO NO')\n",
    "conteudo_alterado = conteudo_alterado.replace('PUBLICADO\\nNO','PUBLICADO NO')\n",
    "conteudo_alterado = conteudo_alterado.replace('\\nCONCEDIDA',' CONCEDIDA')\n",
    "conteudo_alterado = conteudo_alterado.replace('\\nCONCEDIDAS ',' CONCEDIDAS ')\n",
    "conteudo_alterado = conteudo_alterado.replace(' RETIFICA- DAS ',' RETIFICADAS ')\n",
    "conteudo_alterado = conteudo_alterado.replace('PORTARIA\\n','PORTARIA ')\n",
    "conteudo_alterado = conteudo_alterado.replace(' TRABALHO\\nINDEFERIDO',' TRABALHO INDEFERIDO')\n",
    "conteudo_alterado = conteudo_alterado.replace(' DOC\\nSEI ',' DOC SEI ')\n",
    "conteudo_alterado = conteudo_alterado.replace(' DA LEI\\n',' DA LEI ')\n",
    "conteudo_alterado = conteudo_alterado.replace(' NOMES DOS SERVIDORES ','\\nNOMES DOS SERVIDORES ')\n",
    "conteudo_alterado = conteudo_alterado.replace(' RELAÇÃO DOS','\\nRELAÇÃO DOS')\n",
    "conteudo_alterado = conteudo_alterado.replace('RELAÇÃO DOS ESTAGIÁRIOS CONTRATADOS E DESLIGADOS,','RELAÇÃO DOS ESTAGIÁRIOS CONTRATADOS E DESLIGADOS\\n')\n",
    "print(f'Qtd de linhas depois: {len(conteudo_alterado)}')\n"
   ]
  },
  {
   "cell_type": "code",
   "execution_count": null,
   "metadata": {},
   "outputs": [],
   "source": [
    "# Localiza o início das seções SERVIDORES e CONCURSOS\n",
    "sc_servidores = conteudo_alterado.find('\\nSERVIDORES\\n')\n",
    "sc_concursos = conteudo_alterado.find('\\nCONCURSOS\\n')\n",
    "print(f\"SERVIRODRES: {sc_servidores} / CONCURSOS: {sc_concursos}\")\n",
    "conteudo_servidores = conteudo_alterado[sc_servidores:sc_concursos]\n",
    "#conteudo_servidores = conteudo"
   ]
  },
  {
   "cell_type": "code",
   "execution_count": null,
   "metadata": {},
   "outputs": [],
   "source": [
    "#print(conteudo_servidores)\n",
    "save_file(SAVE_DIR,conteudo_servidores,'00-SECAO_SERVIDORES')"
   ]
  },
  {
   "cell_type": "code",
   "execution_count": null,
   "metadata": {},
   "outputs": [],
   "source": [
    "#print(conteudo_servidores)"
   ]
  },
  {
   "cell_type": "markdown",
   "metadata": {},
   "source": [
    "### Relação de Licença Médica"
   ]
  },
  {
   "cell_type": "markdown",
   "metadata": {},
   "source": [
    "#### CONTEÚDO PRINCIPAL"
   ]
  },
  {
   "cell_type": "code",
   "execution_count": null,
   "metadata": {},
   "outputs": [],
   "source": [
    "conteudo_licenca_medica = conteudo_servidores"
   ]
  },
  {
   "cell_type": "code",
   "execution_count": null,
   "metadata": {},
   "outputs": [],
   "source": [
    "licencas_mapeadas = [\n",
    "    'RELAÇÃO DE ALTAS DO ACIDENTE DO TRABALHO E DA DOENÇA DO TRABALHO',\n",
    "    'RELAÇÃO DE CONCESSÃO DE NEXO DE ACIDENTE DO TRABALHO DEFERIDO',\n",
    "    'RELAÇÃO DE CONCESSÃO DE NEXO DE ACIDENTE DO TRABALHO DEFERIDO EM GRAU DE RECURSO',\n",
    "    'RELAÇÃO DE CONCESSÃO DE NEXO DE ACIDENTE DO TRABALHO INDEFERIDO',\n",
    "    'RELAÇÃO DE FALTA DO SERVIDOR À PERÍCIA',\n",
    "    'RELAÇÃO DE FALTA DO SERVIDOR À PERÍCIA',\n",
    "    'RELAÇÃO DE FALTAS DOS CONVOCADOS PARA AVALIAÇÃO DE ESPECIALISTA',\n",
    "    'RELAÇÃO DE FALTAS DOS CONVOCADOS P/ AVALIAÇÃO DE ISENÇÃO DE IMPOSTO DE RENDA',\n",
    "    'RELAÇÃO DE FALTAS DOS CONVOCADOS PARA JUNTA MÉDICA PARA FINS DE PENSÃO POR MORTE',\n",
    "    'RELAÇÃO DE LICENÇAS MÉDICAS NEGADAS NOS TERMOS DA LEI 8989/79',\n",
    "    'RELAÇÃO DE LICENÇAS MÉDICAS NOS TERMOS DA LEI 8989/79',\n",
    "    'RELAÇÃO DE SERVIDORES SUBMETIDOS À AVALIAÇÃO DE CAPACIDADE LABORATIVA COM CAPACIDADE LABORATIVA PARA A SUA FUNÇÃO',\n",
    "    'ENGLOBAMENTO DE LICENÇAS MÉDICAS FACE PORTARIA 11/84',\n",
    "    'LICENÇAS MÉDICAS CONCEDIDAS/NEGADAS EM GRAU DE RECURSO',\n",
    "]"
   ]
  },
  {
   "cell_type": "code",
   "execution_count": null,
   "metadata": {},
   "outputs": [],
   "source": [
    "rl_lm =  conteudo_licenca_medica.split('\\n')\n",
    "licencas = OrderedDict({})\n",
    "str_listagens = 'ID;LISTAGEM;INICIO;MAPEADA;QTD\\n'\n",
    "linha = 0\n",
    "lin_anterior = 0\n",
    "id = 0\n",
    "listas = []\n",
    "\n",
    "for line in rl_lm:\n",
    "    mapeada = line in licencas_mapeadas\n",
    "    if ('LICENÇAS MÉDICAS' in line or 'LICENÇA NOJO' in line) and not 'SEÇÃO DE LICENÇAS MÉDICAS' in line:\n",
    "        id += 1\n",
    "        licencas.update({\n",
    "            line : linha\n",
    "        })\n",
    "        listas.append(linha)\n",
    "        if id == 1:\n",
    "            str_listagens += f'{id};{line};{linha};{mapeada};'\n",
    "            lin_anterior = linha\n",
    "        if id > 1:\n",
    "            qtd = linha - lin_anterior\n",
    "            str_listagens += f'{qtd}\\n{id};{line};{linha};{mapeada};'\n",
    "            lin_anterior = lin_anterior\n",
    "        #print(line)\n",
    "    elif ('RELAÇÃO DE' in line or 'RELAÇÃO DOS' in line) or 'RELAÇÃO DE LICENÇA MÉDICA' in line:\n",
    "        id += 1\n",
    "        licencas.update({\n",
    "            line : linha\n",
    "        })\n",
    "        listas.append(linha)\n",
    "        if id == 1:\n",
    "            str_listagens += f'{id};{line};{linha};{mapeada};'\n",
    "            lin_anterior = linha\n",
    "        if id > 1:\n",
    "            qtd = linha - lin_anterior\n",
    "            str_listagens += f'{qtd}\\n{id};{line};{linha};{mapeada};'\n",
    "            lin_anterior = lin_anterior\n",
    "        #print(line)\n",
    "    elif 'SERVIDORES COM ' in line or 'NOMES DOS SERVIDORES' in line:\n",
    "        id += 1\n",
    "        licencas.update({\n",
    "            line : linha\n",
    "        })\n",
    "        if id == 1:\n",
    "            str_listagens += f'{id};{line};{linha};{mapeada};'\n",
    "            lin_anterior = linha\n",
    "        if id > 1:\n",
    "            qtd = linha - lin_anterior\n",
    "            str_listagens += f'{qtd}\\n{id};{line};{linha};{mapeada};'\n",
    "            lin_anterior = lin_anterior\n",
    "        #print(line)\n",
    "    elif 'HORÁRIO AMAMENTAÇÃO – DEFERIDO' in line or 'FÉRIAS DEFERIDAS' in line:\n",
    "        id += 1\n",
    "        licencas.update({\n",
    "            line : linha\n",
    "        })\n",
    "        if id == 1:\n",
    "            str_listagens += f'{id};{line};{linha};{mapeada};'\n",
    "            lin_anterior = linha\n",
    "        if id > 1:\n",
    "            qtd = linha - lin_anterior\n",
    "            str_listagens += f'{qtd}\\n{id};{line};{linha};{mapeada};'\n",
    "            lin_anterior = lin_anterior\n",
    "        #print(line)\n",
    "\n",
    "    #if 'RF' in line or 'REG. FUN.' in line or 'REG.FUN.' in line:\n",
    "        #print(line)\n",
    "    linha += 1\n",
    "\n",
    "#print(licencas)\n",
    "#print(OrderedDict(licencas))\n",
    "#print(listas)\n",
    "print(f'\\nTotal de listas: {len(listas)}')\n",
    "print(str_listagens)"
   ]
  },
  {
   "cell_type": "code",
   "execution_count": null,
   "metadata": {},
   "outputs": [],
   "source": [
    "id = 0\n",
    "str_licencas = 'ID;LISTAGEM;INICIO;MAPEADA;QTD\\n'\n",
    "\n",
    "for relacao, linha in licencas.items():\n",
    "    id += 1\n",
    "    mapeada = relacao in licencas_mapeadas\n",
    "    if id == 1:\n",
    "        str_licencas += f'{id};{relacao};{linha};{mapeada};'\n",
    "        lin_anterior = linha\n",
    "    if id > 1:\n",
    "        qtd = linha - lin_anterior\n",
    "        str_licencas += f'{qtd}\\n{id};{relacao};{linha};{mapeada};'\n",
    "        lin_anterior = lin_anterior\n",
    "\n",
    "#print(str_licencas)\n",
    "save_file(SAVE_DIR,str_licencas,'00-LISTAGENS_DOM','csv')"
   ]
  },
  {
   "cell_type": "markdown",
   "metadata": {},
   "source": [
    "#### RELAÇÃO DE LICENÇAS MÉDICAS NOS TERMOS DA LEI 8989/79"
   ]
  },
  {
   "cell_type": "code",
   "execution_count": null,
   "metadata": {},
   "outputs": [],
   "source": [
    "RELACAO = 'RELAÇÃO DE LICENÇAS MÉDICAS NOS TERMOS DA LEI 8989/79'\n",
    "\n",
    "if RELACAO in licencas:\n",
    "    list_items = rl_lm[licencas[RELACAO]:listas[listas.index(licencas[RELACAO])+1]]\n",
    "else:\n",
    "    list_items = []\n",
    "list_items"
   ]
  },
  {
   "cell_type": "code",
   "execution_count": null,
   "metadata": {},
   "outputs": [],
   "source": [
    "'''Listagem: RELAÇÃO DE LICENÇAS MÉDICAS NOS TERMOS DA LEI 8989/79\n",
    "    COLUNAS:\n",
    "        1. RF           : numeric(7) s_item[0][0]\n",
    "        2. VINC         : numeric(1) s_item[0][1]\n",
    "        3. NOME         : str()      s_item[2:-3]\n",
    "        4. DIAS         : numeric()  s_item[-3]\n",
    "        5. A_PARTIR_DE  : date()     s_item[-2]\n",
    "        6. ARTIGO       : str()      s_item[-1]\n",
    "'''\n",
    "\n",
    "i = 0\n",
    "SECRETARIA = ''\n",
    "VALIDA_LINHA = ''\n",
    "str_list_items = 'RF;VINC;NOME;DIAS;A_PARTIR_DE;ARTIGO;SECRETARIA;LISTA;DOM\\n'\n",
    "\n",
    "for item in list_items:\n",
    "    s_item = item.strip().split(' ')\n",
    "    #print(f'analise: {s_item}')\n",
    "    if 'RF NOME DIAS A_PARTIR_DE ARTIGO' in item:\n",
    "        SECRETARIA = list_items[i-1]\n",
    "    elif len(s_item) >= 5:\n",
    "        if len(s_item) >= 5 and s_item[0][-1].isnumeric() and s_item[-3][0].isnumeric() and s_item[-2][0].isnumeric():\n",
    "            rf = s_item[0].split('/')[0]\n",
    "            vinc = s_item[0].split('/')[1]\n",
    "            nome = str(' ').join(s_item[1:-3])\n",
    "            str_list_items += f'{rf};{vinc};{nome};{s_item[-3]};{s_item[-2]};{s_item[-1]};{SECRETARIA};{RELACAO};{DOM}\\n'\n",
    "            #print(str_list_items)\n",
    "    elif len(s_item) >= 2 and s_item[0][-1].isnumeric() and VALIDA_LINHA == False:\n",
    "        linha = s_item\n",
    "        VALIDA_LINHA = True\n",
    "    elif VALIDA_LINHA == True:\n",
    "        linha += f' {item}'\n",
    "        s_item = item.split(' ')\n",
    "        rf = s_item[0].split('/')[0]\n",
    "        vinc = s_item[0].split('/')[1]\n",
    "        nome = str(' ').join(s_item[1:-3])\n",
    "        str_list_items += f'{rf};{vinc};{nome};{s_item[-3]};{s_item[-2]};{s_item[-1]};{SECRETARIA};{RELACAO};{DOM}\\n'\n",
    "        print(str_list_items)\n",
    "        VALIDA_LINHA = False\n",
    "    i += 1\n",
    "    #print(i)"
   ]
  },
  {
   "cell_type": "code",
   "execution_count": null,
   "metadata": {},
   "outputs": [],
   "source": [
    "RELACAO = str('_').join(RELACAO.replace('/','_').split(' '))\n",
    "save_file(SAVE_DIR,str_list_items,RELACAO,'csv')"
   ]
  },
  {
   "cell_type": "markdown",
   "metadata": {},
   "source": [
    "#### RELAÇÃO DE LICENÇAS MÉDICAS NEGADAS NOS TERMOS DA LEI 8989/79"
   ]
  },
  {
   "cell_type": "code",
   "execution_count": null,
   "metadata": {},
   "outputs": [],
   "source": [
    "RELACAO = 'RELAÇÃO DE LICENÇAS MÉDICAS NEGADAS NOS TERMOS DA LEI 8989/79'\n",
    "\n",
    "if RELACAO in licencas:\n",
    "    list_items = rl_lm[licencas[RELACAO]:listas[listas.index(licencas[RELACAO])+1]]\n",
    "else:\n",
    "    list_items = []\n",
    "#list_items\n"
   ]
  },
  {
   "cell_type": "code",
   "execution_count": null,
   "metadata": {},
   "outputs": [],
   "source": [
    "'''\n",
    "    COLUNAS:\n",
    "        1. RF           : numeric(7) s_item[0][0]\n",
    "        2. VINC         : numeric(1) s_item[0][1]\n",
    "        3. NOME         : str()      s_item[1:-2]\n",
    "        4. DIAS         : null\n",
    "        5. A_PARTIR_DE  : date()     s_item[-2]\n",
    "        6. ARTIGO       : str()      s_item[-1]\n",
    "'''\n",
    "\n",
    "i = 0\n",
    "SECRETARIA = ''\n",
    "VALIDA_LINHA = ''\n",
    "str_list_items = 'RF;VINC;NOME;DIAS;A_PARTIR_DE;ARTIGO;SECRETARIA;LISTA;DOM\\n'\n",
    "\n",
    "for item in list_items:\n",
    "    s_item = item.strip().split(' ')\n",
    "    if 'RF NOME DIAS A_PARTIR_DE ARTIGO' in item:\n",
    "        SECRETARIA = list_items[i-1]\n",
    "    elif len(s_item) >= 5 and s_item[0][-1].isnumeric() and s_item[-2][0].isnumeric():\n",
    "        rf = s_item[0].split('/')[0]\n",
    "        vinc = s_item[0].split('/')[1]\n",
    "        nome = str(' ').join(s_item[1:-2])\n",
    "        str_list_items += f'{rf};{vinc};{nome};;{s_item[-2]};{s_item[-1]};{SECRETARIA};{RELACAO};{DOM}\\n'\n",
    "        #print(str_list_items)\n",
    "    elif s_item[0][-1].isnumeric() and VALIDA_LINHA == False:\n",
    "        linha = s_item\n",
    "        VALIDA_LINHA = True\n",
    "    elif VALIDA_LINHA == True:\n",
    "        linha += f' {item}'\n",
    "        s_item = item.split(' ')\n",
    "        rf = s_item[0].split('/')[0]\n",
    "        vinc = s_item[0].split('/')[1]\n",
    "        nome = str(' ').join(s_item[1:-2])\n",
    "        str_list_items += f'{rf};{vinc};{nome};;{s_item[-2]};{s_item[-1]};{SECRETARIA};{RELACAO};{DOM}\\n'\n",
    "        #print(str_list_items)\n",
    "        VALIDA_LINHA = False\n",
    "    i += 1"
   ]
  },
  {
   "cell_type": "code",
   "execution_count": null,
   "metadata": {},
   "outputs": [],
   "source": [
    "RELACAO = str('_').join(RELACAO.replace('/','_').split(' '))\n",
    "save_file(SAVE_DIR,str_list_items,RELACAO,'csv')"
   ]
  },
  {
   "cell_type": "markdown",
   "metadata": {},
   "source": [
    "#### RELAÇÃO DE FALTAS DOS CONVOCADOS PARA JUNTA MÉDICA PARA FINS DE PENSÃO POR MORTE"
   ]
  },
  {
   "cell_type": "code",
   "execution_count": null,
   "metadata": {},
   "outputs": [],
   "source": [
    "RELACAO = 'RELAÇÃO DE FALTAS DOS CONVOCADOS PARA JUNTA MÉDICA PARA FINS DE PENSÃO POR MORTE'\n",
    "\n",
    "if RELACAO in licencas:\n",
    "    list_items = rl_lm[licencas[RELACAO]:listas[listas.index(licencas[RELACAO])+1]]\n",
    "else:\n",
    "    list_items = []\n",
    "#list_items"
   ]
  },
  {
   "cell_type": "code",
   "execution_count": null,
   "metadata": {},
   "outputs": [],
   "source": [
    "'''\n",
    "    COLUNAS:\n",
    "        1. RF           : numeric(7) s_item[0][0]\n",
    "        2. VINC         : numeric(1) s_item[0][1]\n",
    "        3. NOME         : str()      s_item[1:-1]\n",
    "        4. DIAS         : null\n",
    "        5. A_PARTIR_DE  : date()     s_item[-1]\n",
    "        6. ARTIGO       : null\n",
    "'''\n",
    "\n",
    "i = 0\n",
    "SECRETARIA = ''\n",
    "VALIDA_LINHA = ''\n",
    "str_list_items = 'RF;VINC;NOME;DIAS;A_PARTIR_DE;ARTIGO;SECRETARIA;LISTA;DOM\\n'\n",
    "\n",
    "for item in list_items:\n",
    "    s_item = item.strip().split(' ')\n",
    "    if 'RF NOME DIAS A_PARTIR_DE ARTIGO' in item:\n",
    "        SECRETARIA = list_items[i-1]\n",
    "    elif len(s_item) >= 5 and s_item[0][0].isnumeric() and s_item[-1][0].isnumeric():\n",
    "        rf = s_item[0].split('/')[0]\n",
    "        vinc = s_item[0].split('/')[1]\n",
    "        nome = str(' ').join(s_item[1:-1])\n",
    "        str_list_items += f'{rf};{vinc};{nome};;{s_item[-1]};;{SECRETARIA};{RELACAO};{DOM}\\n'\n",
    "        #print(str_list_items)\n",
    "    elif s_item[0][-1].isnumeric() and VALIDA_LINHA == False:\n",
    "        linha = s_item\n",
    "        VALIDA_LINHA = True\n",
    "    elif VALIDA_LINHA == True:\n",
    "        linha += f' {item}'\n",
    "        s_item = item.split(' ')\n",
    "        rf = s_item[0].split('/')[0]\n",
    "        vinc = s_item[0].split('/')[1]\n",
    "        nome = str(' ').join(s_item[1:-1])\n",
    "        str_list_items += f'{rf};{vinc};{nome};;{s_item[-1]};;{SECRETARIA};{RELACAO};{DOM}\\n'\n",
    "        #print(str_list_items)\n",
    "        VALIDA_LINHA = False\n",
    "    i += 1"
   ]
  },
  {
   "cell_type": "code",
   "execution_count": null,
   "metadata": {},
   "outputs": [],
   "source": [
    "RELACAO = str('_').join(RELACAO.replace('/','_').split(' '))\n",
    "save_file(SAVE_DIR,str_list_items,RELACAO,'csv')"
   ]
  },
  {
   "cell_type": "markdown",
   "metadata": {},
   "source": [
    "#### RELAÇÃO DE FALTA DO SERVIDOR À PERÍCIA"
   ]
  },
  {
   "cell_type": "code",
   "execution_count": null,
   "metadata": {},
   "outputs": [],
   "source": [
    "RELACAO = 'RELAÇÃO DE FALTA DO SERVIDOR À PERÍCIA'\n",
    "\n",
    "if RELACAO in licencas:\n",
    "    list_items = rl_lm[licencas[RELACAO]:listas[listas.index(licencas[RELACAO])+1]]\n",
    "else:\n",
    "    list_items = []\n",
    "#list_items"
   ]
  },
  {
   "cell_type": "code",
   "execution_count": null,
   "metadata": {},
   "outputs": [],
   "source": [
    "i = 0\n",
    "SECRETARIA = ''\n",
    "str_list_items = 'RF;NOME;DIAS;A_PARTIR_DE;ARTIGO;SECRETARIA;LISTA;DOM\\n'\n",
    "\n",
    "for item in list_items:\n",
    "    s_item = item.strip().split(' ')\n",
    "    if 'RF NOME DIAS A_PARTIR_DE ARTIGO' in item:\n",
    "        SECRETARIA = list_items[i-1]\n",
    "    elif len(s_item) >= 4 and s_item[0][0].isnumeric():\n",
    "        if s_item[-3].isnumeric():\n",
    "            nome = str(' ').join(s_item[1:-3])\n",
    "            str_list_items += f'{s_item[0]};{nome};{s_item[-3]};{s_item[-2]};{s_item[-1]};{SECRETARIA};{RELACAO}/{DOM}\\n'\n",
    "            #print(str_list_items)\n",
    "        else:\n",
    "            nome = str(' ').join(s_item[1:-2])\n",
    "            str_list_items += f'{s_item[0]};{nome};;{s_item[-2]};{s_item[-1]};{SECRETARIA};{RELACAO};{DOM}\\n'\n",
    "            #print(str_list_items)\n",
    "    i += 1"
   ]
  },
  {
   "cell_type": "code",
   "execution_count": null,
   "metadata": {},
   "outputs": [],
   "source": [
    "RELACAO = str('_').join(RELACAO.replace('/','_').split(' '))\n",
    "save_file(SAVE_DIR,str_list_items,RELACAO,'csv')"
   ]
  },
  {
   "cell_type": "markdown",
   "metadata": {},
   "source": [
    "#### LICENÇAS MÉDICAS CONCEDIDAS/NEGADAS EM GRAU DE RECURSO"
   ]
  },
  {
   "cell_type": "code",
   "execution_count": null,
   "metadata": {},
   "outputs": [],
   "source": [
    "RELACAO = 'LICENÇAS MÉDICAS CONCEDIDAS/NEGADAS EM GRAU DE RECURSO'\n",
    "\n",
    "if RELACAO in licencas:\n",
    "    list_items = rl_lm[licencas[RELACAO]:listas[listas.index(licencas[RELACAO])+1]]\n",
    "else:\n",
    "    list_items = []\n",
    "list_items"
   ]
  },
  {
   "cell_type": "code",
   "execution_count": null,
   "metadata": {},
   "outputs": [],
   "source": [
    "'''Listagem: LICENÇAS MÉDICAS CONCEDIDAS/NEGADAS EM GRAU DE RECURSO\n",
    "    COLUNAS:\n",
    "        1. RF           : numeric(7) s_item[0][0]\n",
    "        2. VINC         : numeric(1) s_item[0][1]\n",
    "        3. NOME         : str()      s_item[2:-3]\n",
    "        4. DIAS         : numeric()  s_item[-3]\n",
    "        5. A_PARTIR_DE  : date()     s_item[-2]\n",
    "        6. ARTIGO       : str()      s_item[-1]\n",
    "'''\n",
    "\n",
    "i = 0\n",
    "SECRETARIA = ''\n",
    "VALIDA_LINHA = ''\n",
    "str_list_items = 'RF;VINC;NOME;DIAS;A_PARTIR_DE;ARTIGO;SECRETARIA;LISTA;DOM\\n'\n",
    "\n",
    "for item in list_items:\n",
    "    s_item = item.strip().split(' ')\n",
    "    if 'RF NOME DIAS A_PARTIR_DE ARTIGO' in item:\n",
    "        SECRETARIA = list_items[i-1]\n",
    "    elif len(s_item) >= 5 and s_item[0][-1].isnumeric() and s_item[-3][0].isnumeric() and s_item[-2][0].isnumeric():\n",
    "        rf = s_item[0].split('/')[0]\n",
    "        vinc = s_item[0].split('/')[1]\n",
    "        nome = str(' ').join(s_item[1:-3])\n",
    "        str_list_items += f'{rf};{vinc};{nome};{s_item[-3]};{s_item[-2]};{s_item[-1]};{SECRETARIA};{RELACAO};{DOM}\\n'\n",
    "        #print(str_list_items)\n",
    "    elif s_item[0][-1].isnumeric() and VALIDA_LINHA == False:\n",
    "        linha = s_item\n",
    "        VALIDA_LINHA = True\n",
    "    elif VALIDA_LINHA == True:\n",
    "        linha += f' {item}'\n",
    "        s_item = item.split(' ')\n",
    "        rf = s_item[0].split('/')[0]\n",
    "        vinc = s_item[0].split('/')[1]\n",
    "        nome = str(' ').join(s_item[1:-3])\n",
    "        str_list_items += f'{rf};{vinc};{nome};{s_item[-3]};{s_item[-2]};{s_item[-1]};{SECRETARIA};{RELACAO};{DOM}\\n'\n",
    "        #print(str_list_items)\n",
    "        VALIDA_LINHA = False\n",
    "    i += 1"
   ]
  },
  {
   "cell_type": "code",
   "execution_count": null,
   "metadata": {},
   "outputs": [],
   "source": [
    "RELACAO = str('_').join(RELACAO.replace('/','_').split(' '))\n",
    "save_file(SAVE_DIR,str_list_items,RELACAO,'csv')"
   ]
  },
  {
   "cell_type": "markdown",
   "metadata": {},
   "source": [
    "#### RELAÇÃO DE FALTAS DOS CONVOCADOS PARA AVALIAÇÃO DE ESPECIALISTA"
   ]
  },
  {
   "cell_type": "code",
   "execution_count": null,
   "metadata": {},
   "outputs": [],
   "source": [
    "RELACAO = 'RELAÇÃO DE FALTAS DOS CONVOCADOS PARA AVALIAÇÃO DE ESPECIALISTA'\n",
    "\n",
    "if RELACAO in licencas:\n",
    "    list_items = rl_lm[licencas[RELACAO]:listas[listas.index(licencas[RELACAO])+1]]\n",
    "else:\n",
    "    list_items = []\n",
    "list_items"
   ]
  },
  {
   "cell_type": "code",
   "execution_count": null,
   "metadata": {},
   "outputs": [],
   "source": [
    "'''\n",
    "    COLUNAS:\n",
    "        1. RF           : numeric(7) s_item[0][0]\n",
    "        2. VINC         : numeric(1) s_item[0][1]\n",
    "        3. NOME         : str()      s_item[1:-1]\n",
    "        4. A_PARTIR_DE  : date()     s_item[-1]\n",
    "'''\n",
    "\n",
    "i = 0\n",
    "SECRETARIA = ''\n",
    "VALIDA_LINHA = ''\n",
    "str_list_items = 'RF;VINC;NOME;DATA;SECRETARIA;LISTA;DOM\\n'\n",
    "\n",
    "for item in list_items:\n",
    "    s_item = item.strip().split(' ')\n",
    "    if 'RF NOME DIAS A_PARTIR_DE ARTIGO' in item:\n",
    "        SECRETARIA = list_items[i-1]\n",
    "    elif len(s_item) >= 4 and s_item[0][0].isnumeric() and s_item[-1][0].isnumeric():\n",
    "        rf = s_item[0].split('/')[0]\n",
    "        vinc = s_item[0].split('/')[1]\n",
    "        nome = str(' ').join(s_item[1:-1])\n",
    "        str_list_items += f'{rf};{vinc};{nome};{s_item[-1]};{SECRETARIA};{RELACAO};{DOM}\\n'\n",
    "        #print(str_list_items)\n",
    "    elif s_item[0][-1].isnumeric() and VALIDA_LINHA == False:\n",
    "        linha = s_item\n",
    "        VALIDA_LINHA = True\n",
    "    elif VALIDA_LINHA == True:\n",
    "        linha += f' {item}'\n",
    "        s_item = item.split(' ')\n",
    "        rf = s_item[0].split('/')[0]\n",
    "        vinc = s_item[0].split('/')[1]\n",
    "        nome = str(' ').join(s_item[1:-1])\n",
    "        str_list_items += f'{rf};{vinc};{nome};{s_item[-1]};{SECRETARIA};{RELACAO};{DOM}\\n'\n",
    "        #print(str_list_items)\n",
    "        VALIDA_LINHA = False\n",
    "    i += 1"
   ]
  },
  {
   "cell_type": "code",
   "execution_count": null,
   "metadata": {},
   "outputs": [],
   "source": [
    "RELACAO = str('_').join(RELACAO.replace('/','_').split(' '))\n",
    "save_file(SAVE_DIR,str_list_items,RELACAO,'csv')"
   ]
  },
  {
   "cell_type": "markdown",
   "metadata": {},
   "source": [
    "#### RELAÇÃO DE FALTAS DOS CONVOCADOS P/ AVALIAÇÃO DE ISENÇÃO DE IMPOSTO DE RENDA"
   ]
  },
  {
   "cell_type": "code",
   "execution_count": null,
   "metadata": {},
   "outputs": [],
   "source": [
    "RELACAO = 'RELAÇÃO DE FALTAS DOS CONVOCADOS P/ AVALIAÇÃO DE ISENÇÃO DE IMPOSTO DE RENDA'\n",
    "\n",
    "if RELACAO in licencas:\n",
    "    list_items = rl_lm[licencas[RELACAO]:listas[listas.index(licencas[RELACAO])+1]]\n",
    "else:\n",
    "    list_items = []\n",
    "#list_items"
   ]
  },
  {
   "cell_type": "code",
   "execution_count": null,
   "metadata": {},
   "outputs": [],
   "source": [
    "'''\n",
    "    COLUNAS:\n",
    "        1. RF           : numeric(7) s_item[0][0]\n",
    "        2. VINC         : numeric(1) s_item[0][1]\n",
    "        3. NOME         : str()      s_item[1:-1]\n",
    "        4. A_PARTIR_DE  : date()     s_item[-1]\n",
    "'''\n",
    "\n",
    "i = 0\n",
    "SECRETARIA = ''\n",
    "VALIDA_LINHA = ''\n",
    "str_list_items = 'RF;VINC;NOME;A_PARITR_DE;SECRETARIA;LISTA;DOM\\n'\n",
    "\n",
    "for item in list_items:\n",
    "    s_item = item.strip().split(' ')\n",
    "    if 'RF NOME DIAS A_PARTIR_DE ARTIGO' in item:\n",
    "        SECRETARIA = list_items[i-1]\n",
    "    elif len(s_item) >= 4 and s_item[0][0].isnumeric() and s_item[-1][0].isnumeric():\n",
    "        rf = s_item[0].split('/')[0]\n",
    "        vinc = s_item[0].split('/')[1]\n",
    "        nome = str(' ').join(s_item[1:-1])\n",
    "        str_list_items += f'{rf};{vinc};{nome};{s_item[-1]};{SECRETARIA};{RELACAO};{DOM}\\n'\n",
    "        #print(str_list_items)\n",
    "    elif s_item[0][-1].isnumeric() and VALIDA_LINHA == False:\n",
    "        linha = s_item\n",
    "        VALIDA_LINHA = True\n",
    "    elif VALIDA_LINHA == True:\n",
    "        linha += f' {item}'\n",
    "        s_item = item.split(' ')\n",
    "        rf = s_item[0].split('/')[0]\n",
    "        vinc = s_item[0].split('/')[1]\n",
    "        nome = str(' ').join(s_item[1:-1])\n",
    "        str_list_items += f'{rf};{vinc};{nome};{s_item[-1]};{SECRETARIA};{RELACAO};{DOM}\\n'\n",
    "        #print(str_list_items)\n",
    "        VALIDA_LINHA = False\n",
    "    i += 1"
   ]
  },
  {
   "cell_type": "code",
   "execution_count": null,
   "metadata": {},
   "outputs": [],
   "source": [
    "RELACAO = str('_').join(RELACAO.replace('/','_').split(' '))\n",
    "save_file(SAVE_DIR,str_list_items,RELACAO,'csv')"
   ]
  },
  {
   "cell_type": "markdown",
   "metadata": {},
   "source": [
    "#### RELAÇÃO DE FALTA DO SERVIDOR À PERÍCIA"
   ]
  },
  {
   "cell_type": "code",
   "execution_count": null,
   "metadata": {},
   "outputs": [],
   "source": [
    "RELACAO = 'RELAÇÃO DE FALTA DO SERVIDOR À PERÍCIA'\n",
    "\n",
    "if RELACAO in licencas:\n",
    "    list_items = rl_lm[licencas[RELACAO]:listas[listas.index(licencas[RELACAO])+1]]\n",
    "else:\n",
    "    list_items = []\n",
    "#list_items"
   ]
  },
  {
   "cell_type": "code",
   "execution_count": null,
   "metadata": {},
   "outputs": [],
   "source": [
    "'''\n",
    "    COLUNAS:\n",
    "        1. RF           : numeric(7) s_item[0][0]\n",
    "        2. VINC         : numeric(1) s_item[0][1]\n",
    "        3. NOME         : str()      s_item[1:-2]\n",
    "        4. A_PARTIR_DE  : date()     s_item[-2]\n",
    "        5. ARTIGO       : str()      s_item[-1]\n",
    "'''\n",
    "    \n",
    "i = 0\n",
    "SECRETARIA = ''\n",
    "VALIDA_LINHA = ''\n",
    "str_list_items = 'RF;VINC;NOME;DIAS;A_PARTIR_DE;ARTIGO;SECRETARIA;LISTA;DOM\\n'\n",
    "\n",
    "for item in list_items:\n",
    "    s_item = item.strip().split(' ')\n",
    "    if 'RF NOME DIAS A_PARTIR_DE ARTIGO' in item:\n",
    "        SECRETARIA = list_items[i-1]\n",
    "    elif len(s_item) >= 5 and s_item[0][0].isnumeric() and s_item[-2][0].isnumeric():\n",
    "        rf = s_item[0].split('/')[0]\n",
    "        vinc = s_item[0].split('/')[1]\n",
    "        nome = str(' ').join(s_item[1:-2])\n",
    "        str_list_items += f'{rf};{vinc};{nome};{s_item[-2]};{s_item[-1]};{SECRETARIA};{RELACAO};{DOM}\\n'\n",
    "        #print(str_list_items)\n",
    "    elif s_item[0][-1].isnumeric() and VALIDA_LINHA == False:\n",
    "        linha = s_item\n",
    "        VALIDA_LINHA = True\n",
    "    elif VALIDA_LINHA == True:\n",
    "        linha += f' {item}'\n",
    "        s_item = item.split(' ')\n",
    "        rf = s_item[0].split('/')[0]\n",
    "        vinc = s_item[0].split('/')[1]\n",
    "        nome = str(' ').join(s_item[1:-2])\n",
    "        str_list_items += f'{rf};{vinc};{nome};{s_item[-2]};{s_item[-1]};{SECRETARIA};{RELACAO};{DOM}\\n'\n",
    "        #print(str_list_items)\n",
    "        VALIDA_LINHA = False\n",
    "    i += 1"
   ]
  },
  {
   "cell_type": "code",
   "execution_count": null,
   "metadata": {},
   "outputs": [],
   "source": [
    "RELACAO = str('_').join(RELACAO.replace('/','_').split(' '))\n",
    "save_file(SAVE_DIR,str_list_items,RELACAO,'csv')"
   ]
  },
  {
   "cell_type": "markdown",
   "metadata": {},
   "source": [
    "#### RELAÇÃO DE SERVIDORES SUBMETIDOS À AVALIAÇÃO DE CAPACIDADE LABORATIVA COM CAPACIDADE LABORATIVA PARA A SUA FUNÇÃO"
   ]
  },
  {
   "cell_type": "code",
   "execution_count": null,
   "metadata": {},
   "outputs": [],
   "source": [
    "RELACAO = 'RELAÇÃO DE SERVIDORES SUBMETIDOS À AVALIAÇÃO DE CAPACIDADE LABORATIVA COM CAPACIDADE LABORATIVA PARA A SUA FUNÇÃO'\n",
    "\n",
    "if RELACAO in licencas:\n",
    "    list_items = rl_lm[licencas[RELACAO]:listas[listas.index(licencas[RELACAO])+1]]\n",
    "else:\n",
    "    list_items = []\n",
    "#list_items"
   ]
  },
  {
   "cell_type": "code",
   "execution_count": null,
   "metadata": {},
   "outputs": [],
   "source": [
    "'''\n",
    "    COLUNAS:\n",
    "        1. RF           : numeric(7) s_item[0][0]\n",
    "        2. VINC         : numeric(1) s_item[0][1]\n",
    "        3. NOME         : str()      s_item[1:]\n",
    "'''\n",
    "\n",
    "i = 0\n",
    "SECRETARIA = ''\n",
    "VALIDA_LINHA = ''\n",
    "str_list_items = 'RF;VINC;NOME;SECRETARIA;LISTA;DOM\\n'\n",
    "\n",
    "for item in list_items:\n",
    "    s_item = item.strip().split(' ')\n",
    "    if 'RF NOME' in item:\n",
    "        SECRETARIA = list_items[i-1]\n",
    "    elif len(s_item) >= 5 and s_item[0][0].isnumeric():\n",
    "        rf = s_item[0].split('/')[0]\n",
    "        vinc = s_item[0].split('/')[1]\n",
    "        nome = str(' ').join(s_item[1:])\n",
    "        str_list_items += f'{rf};{vinc};{nome};{SECRETARIA};{RELACAO};{DOM}\\n'\n",
    "        #print(str_list_items)\n",
    "    elif s_item[0][-1].isnumeric() and VALIDA_LINHA == False:\n",
    "        linha = s_item\n",
    "        VALIDA_LINHA = True\n",
    "    elif VALIDA_LINHA == True:\n",
    "        linha += f' {item}'\n",
    "        s_item = item.split(' ')\n",
    "        rf = s_item[0].split('/')[0]\n",
    "        vinc = s_item[0].split('/')[1]\n",
    "        nome = str(' ').join(s_item[1:])\n",
    "        str_list_items += f'{rf};{vinc};{nome};{SECRETARIA};{RELACAO};{DOM}\\n'\n",
    "        #print(str_list_items)\n",
    "        VALIDA_LINHA = False\n",
    "    i += 1"
   ]
  },
  {
   "cell_type": "code",
   "execution_count": null,
   "metadata": {},
   "outputs": [],
   "source": [
    "RELACAO = str('_').join(RELACAO.replace('/','_').split(' '))\n",
    "save_file(SAVE_DIR,str_list_items,RELACAO,'csv')"
   ]
  },
  {
   "cell_type": "markdown",
   "metadata": {},
   "source": [
    "#### ENGLOBAMENTO DE LICENÇAS MÉDICAS FACE PORTARIA 11/84"
   ]
  },
  {
   "cell_type": "code",
   "execution_count": null,
   "metadata": {},
   "outputs": [],
   "source": [
    "RELACAO = 'ENGLOBAMENTO DE LICENÇAS MÉDICAS FACE PORTARIA 11/84'\n",
    "\n",
    "if RELACAO in licencas:\n",
    "    list_items = rl_lm[licencas[RELACAO]:listas[listas.index(licencas[RELACAO])+1]]\n",
    "else:\n",
    "    list_items = []\n",
    "list_items"
   ]
  },
  {
   "cell_type": "code",
   "execution_count": null,
   "metadata": {},
   "outputs": [],
   "source": [
    "'''\n",
    "    COLUNAS:\n",
    "        1. RF           : numeric(7) s_item[0][0]\n",
    "        2. VINC         : numeric(1) s_item[0][1]\n",
    "        3. NOME         : str()      s_item[1:-3]\n",
    "        4. DIAS         : numeric()  s_item[-3]\n",
    "        5. A_PARTIR_DE  : date()     s_item[-2]\n",
    "        6. ARTIGO       : str()      s_item[-1]\n",
    "'''\n",
    "\n",
    "i = 0\n",
    "SECRETARIA = ''\n",
    "VALIDA_LINHA = ''\n",
    "str_list_items = 'RF;VINC;NOME;DIAS;A_PARTIR_DE;ARTIGO;SECRETARIA;LISTA;DOM\\n'\n",
    "\n",
    "for item in list_items:\n",
    "    s_item = item.strip().split(' ')\n",
    "    if 'RF NOME DIAS A_PARTIR_DE ARTIGO' in item:\n",
    "        SECRETARIA = list_items[i-1]\n",
    "    elif len(s_item) >= 5 and s_item[0][0].isnumeric() and s_item[-3][0].isnumeric() and s_item[-2][0].isnumeric():\n",
    "        rf = s_item[0].split('/')[0]\n",
    "        vinc = s_item[0].split('/')[1]\n",
    "        nome = str(' ').join(s_item[1:-3])\n",
    "        str_list_items += f'{rf};{vinc};{nome};{s_item[-3]};{s_item[-2]};{s_item[-1]};{SECRETARIA};{RELACAO};{DOM}\\n'\n",
    "        #print(str_list_items)\n",
    "    elif s_item[0][-1].isnumeric() and VALIDA_LINHA == False:\n",
    "        linha = s_item\n",
    "        VALIDA_LINHA = True\n",
    "    elif VALIDA_LINHA == True:\n",
    "        linha += f' {item}'\n",
    "        s_item = item.split(' ')\n",
    "        rf = s_item[0].split('/')[0]\n",
    "        vinc = s_item[0].split('/')[1]\n",
    "        nome = str(' ').join(s_item[1:-1])\n",
    "        str_list_items += f'{rf};{vinc};{nome};;{s_item[-1]};;{SECRETARIA};{RELACAO};{DOM}\\n'\n",
    "        #print(str_list_items)\n",
    "        VALIDA_LINHA = False\n",
    "    i += 1"
   ]
  },
  {
   "cell_type": "code",
   "execution_count": null,
   "metadata": {},
   "outputs": [],
   "source": [
    "RELACAO = str('_').join(RELACAO.replace('/','_').split(' '))\n",
    "COMPLEMENTO = str('_').join('RELAÇÃO DE LICENÇAS MÉDICAS RETIFICADAS EM FUNÇÃO DE:'.replace(':','_').split(' '))\n",
    "save_file(SAVE_DIR,str_list_items,f'{COMPLEMENTO}{RELACAO}','csv')"
   ]
  },
  {
   "cell_type": "markdown",
   "metadata": {},
   "source": [
    "#### RELAÇÃO DE ALTAS DO ACIDENTE DO TRABALHO E DA DOENÇA DO TRABALHO"
   ]
  },
  {
   "cell_type": "code",
   "execution_count": null,
   "metadata": {},
   "outputs": [],
   "source": [
    "RELACAO = 'RELAÇÃO DE ALTAS DO ACIDENTE DO TRABALHO E DA DOENÇA DO TRABALHO'\n",
    "\n",
    "if RELACAO in licencas:\n",
    "    list_items = rl_lm[licencas[RELACAO]:listas[listas.index(licencas[RELACAO])+1]]\n",
    "else:\n",
    "    list_items = []\n",
    "#list_items"
   ]
  },
  {
   "cell_type": "code",
   "execution_count": null,
   "metadata": {},
   "outputs": [],
   "source": [
    "'''\n",
    "    COLUNAS:\n",
    "        1. RF           : numeric(7) s_item[0][0]\n",
    "        2. VINC         : numeric(1) s_item[0][1]\n",
    "        3. NOME         : str()      s_item[1:-1]\n",
    "        4. DIAS         : null\n",
    "        5. A_PARTIR_DE  : date()     s_item[-1]\n",
    "        6. ARTIGO       : null\n",
    "'''\n",
    "\n",
    "i = 0\n",
    "SECRETARIA = ''\n",
    "VALIDA_LINHA = ''\n",
    "str_list_items = 'RF;VINC;NOME;DIAS;A_PARTIR_DE;ARTIGO;SECRETARIA;LISTA;DOM\\n'\n",
    "\n",
    "for item in list_items:\n",
    "    s_item = item.strip().split(' ')\n",
    "    if 'RF NOME A_PARTIR_DE' in item:\n",
    "        SECRETARIA = list_items[i-1]\n",
    "    elif len(s_item) >= 4 and s_item[0][0].isnumeric() and s_item[-1][0].isnumeric():\n",
    "        rf = s_item[0].split('/')[0]\n",
    "        vinc = s_item[0].split('/')[1]\n",
    "        nome = str(' ').join(s_item[1:-1])\n",
    "        str_list_items += f'{rf};{vinc};{nome};;{s_item[-1]};;{SECRETARIA};{RELACAO};{DOM}\\n'\n",
    "        #print(str_list_items)\n",
    "    elif s_item[0][-1].isnumeric() and VALIDA_LINHA == False:\n",
    "        linha = s_item\n",
    "        VALIDA_LINHA = True\n",
    "    elif VALIDA_LINHA == True:\n",
    "        linha += f' {item}'\n",
    "        s_item = item.split(' ')\n",
    "        rf = s_item[0].split('/')[0]\n",
    "        vinc = s_item[0].split('/')[1]\n",
    "        nome = str(' ').join(s_item[1:-1])\n",
    "        str_list_items += f'{rf};{vinc};{nome};;{s_item[-1]};;{SECRETARIA};{RELACAO};{DOM}\\n'\n",
    "        #print(str_list_items)\n",
    "        VALIDA_LINHA = False\n",
    "    i += 1"
   ]
  },
  {
   "cell_type": "code",
   "execution_count": null,
   "metadata": {},
   "outputs": [],
   "source": [
    "RELACAO = str('_').join(RELACAO.replace('/','_').split(' '))\n",
    "save_file(SAVE_DIR,str_list_items,f'{COMPLEMENTO}{RELACAO}','csv')"
   ]
  },
  {
   "cell_type": "markdown",
   "metadata": {},
   "source": [
    "#### RELAÇÃO DE ALTAS DO ACIDENTE DO TRABALHO E DA DOENÇA DO TRABALHO :"
   ]
  },
  {
   "cell_type": "code",
   "execution_count": null,
   "metadata": {},
   "outputs": [],
   "source": [
    "RELACAO = 'RELAÇÃO DE ALTAS DO ACIDENTE DO TRABALHO E DA DOENÇA DO TRABALHO :'\n",
    "\n",
    "if RELACAO in licencas:\n",
    "    list_items = rl_lm[licencas[RELACAO]:listas[listas.index(licencas[RELACAO])+1]]\n",
    "else:\n",
    "    list_items = []\n",
    "list_items"
   ]
  },
  {
   "cell_type": "code",
   "execution_count": null,
   "metadata": {},
   "outputs": [],
   "source": [
    "'''\n",
    "    COLUNAS:\n",
    "        1. RF           : numeric(7) s_item[0][0]\n",
    "        2. VINC         : numeric(1) s_item[0][1]\n",
    "        3. NOME         : str()      s_item[1:-1]\n",
    "        4. DIAS         : null\n",
    "        5. A_PARTIR_DE  : date()     s_item[-1]\n",
    "        6. ARTIGO       : null\n",
    "'''\n",
    "LISTAS = [\n",
    "            'APÓS TRANSFORMAÇÃO DO ARTIGO DA LICENÇA MÉDICA',\n",
    "        ]\n",
    "\n",
    "i = 0\n",
    "SECRETARIA = ''\n",
    "VALIDA_LINHA = ''\n",
    "str_list_items = 'RF;VINC;NOME;DIAS;A_PARTIR_DE;ARTIGO;SECRETARIA;LISTA;DOM\\n'\n",
    "\n",
    "for item in list_items:\n",
    "    s_item = item.strip().split(' ')\n",
    "    if item in LISTAS:\n",
    "            RELACAO2 = f'{RELACAO} {item}'\n",
    "    if 'RF NOME A_PARTIR_DE' in item:\n",
    "        SECRETARIA = list_items[i-1]\n",
    "    elif len(s_item) >= 4 and s_item[0][0].isnumeric() and s_item[-1][0].isnumeric():\n",
    "        rf = s_item[0].split('/')[0]\n",
    "        vinc = s_item[0].split('/')[1]\n",
    "        nome = str(' ').join(s_item[1:-1])\n",
    "        str_list_items += f'{rf};{vinc};{nome};;{s_item[-1]};;{SECRETARIA};{RELACAO};{DOM}\\n'\n",
    "        #print(str_list_items)\n",
    "    elif s_item[0][-1].isnumeric() and VALIDA_LINHA == False:\n",
    "        linha = s_item\n",
    "        VALIDA_LINHA = True\n",
    "    elif VALIDA_LINHA == True:\n",
    "        linha += f' {item}'\n",
    "        s_item = item.split(' ')\n",
    "        rf = s_item[0].split('/')[0]\n",
    "        vinc = s_item[0].split('/')[1]\n",
    "        nome = str(' ').join(s_item[1:-1])\n",
    "        str_list_items += f'{rf};{vinc};{nome};;{s_item[-1]};;{SECRETARIA};{RELACAO};{DOM}\\n'\n",
    "        #print(str_list_items)\n",
    "        VALIDA_LINHA = False\n",
    "    i += 1"
   ]
  },
  {
   "cell_type": "code",
   "execution_count": null,
   "metadata": {},
   "outputs": [],
   "source": [
    "RELACAO = str('_').join(RELACAO.replace('/','_').replace(':','_').split(' '))\n",
    "save_file(SAVE_DIR,str_list_items,f'{COMPLEMENTO}{RELACAO}','csv')"
   ]
  },
  {
   "cell_type": "markdown",
   "metadata": {},
   "source": [
    "#### RELAÇÃO DE CONCESSÃO DE NEXO DE ACIDENTE DO TRABALHO DEFERIDO"
   ]
  },
  {
   "cell_type": "code",
   "execution_count": null,
   "metadata": {},
   "outputs": [],
   "source": [
    "RELACAO = 'RELAÇÃO DE CONCESSÃO DE NEXO DE ACIDENTE DO TRABALHO DEFERIDO'\n",
    "\n",
    "if RELACAO in licencas:\n",
    "    list_items = rl_lm[licencas[RELACAO]:listas[listas.index(licencas[RELACAO])+1]]\n",
    "else:\n",
    "    list_items = []\n",
    "list_items"
   ]
  },
  {
   "cell_type": "code",
   "execution_count": null,
   "metadata": {},
   "outputs": [],
   "source": [
    "'''\n",
    "    COLUNAS:\n",
    "        1. RF           : numeric(7) s_item[0][0]\n",
    "        2. VINC         : numeric(1) s_item[0][1]\n",
    "        3. NOME         : str()      s_item[1:-1]\n",
    "        4. DIAS         : null\n",
    "        5. A_PARTIR_DE  : date()     s_item[-1]\n",
    "        6. ARTIGO       : null\n",
    "'''\n",
    "\n",
    "i = 0\n",
    "SECRETARIA = ''\n",
    "VALIDA_LINHA = ''\n",
    "str_list_items = 'RF;VINC;NOME;DIAS;A_PARTIR_DE;ARTIGO;SECRETARIA;LISTA;DOM\\n'\n",
    "\n",
    "for item in list_items:\n",
    "    s_item = item.strip().split(' ')\n",
    "    if 'RF NOME DIAS A_PARTIR_DE ARTIGO' in item:\n",
    "        SECRETARIA = list_items[i-1]\n",
    "    elif len(s_item) >= 5 and s_item[0][0].isnumeric() and s_item[-1][0].isnumeric():\n",
    "        rf = s_item[0].split('/')[0]\n",
    "        vinc = s_item[0].split('/')[1]\n",
    "        nome = str(' ').join(s_item[1:-1])\n",
    "        str_list_items += f'{rf};{vinc};{nome};;{s_item[-1]};;{SECRETARIA};{RELACAO};{DOM}\\n'\n",
    "        #print(str_list_items)\n",
    "    elif s_item[0][-1].isnumeric() and VALIDA_LINHA == False:\n",
    "        linha = s_item\n",
    "        VALIDA_LINHA = True\n",
    "    elif VALIDA_LINHA == True:\n",
    "        linha += f' {item}'\n",
    "        s_item = item.split(' ')\n",
    "        rf = s_item[0].split('/')[0]\n",
    "        vinc = s_item[0].split('/')[1]\n",
    "        nome = str(' ').join(s_item[1:-1])\n",
    "        str_list_items += f'{rf};{vinc};{nome};;{s_item[-1]};;{SECRETARIA};{RELACAO};{DOM}\\n'\n",
    "        #print(str_list_items)\n",
    "        VALIDA_LINHA = False\n",
    "    i += 1"
   ]
  },
  {
   "cell_type": "code",
   "execution_count": null,
   "metadata": {},
   "outputs": [],
   "source": [
    "RELACAO = str('_').join(RELACAO.replace('/','_').split(' '))\n",
    "save_file(SAVE_DIR,str_list_items,f'{COMPLEMENTO}{RELACAO}','csv')"
   ]
  },
  {
   "cell_type": "markdown",
   "metadata": {},
   "source": [
    "#### RELAÇÃO DE CONCESSÃO DE NEXO DE ACIDENTE DO TRABALHO DEFERIDO EM GRAU DE RECURSO"
   ]
  },
  {
   "cell_type": "code",
   "execution_count": null,
   "metadata": {},
   "outputs": [],
   "source": [
    "RELACAO = 'RELAÇÃO DE CONCESSÃO DE NEXO DE ACIDENTE DO TRABALHO DEFERIDO EM GRAU DE RECURSO'\n",
    "\n",
    "if RELACAO in licencas:\n",
    "    list_items = rl_lm[licencas[RELACAO]:listas[listas.index(licencas[RELACAO])+1]]\n",
    "else:\n",
    "    list_items = []\n",
    "list_items"
   ]
  },
  {
   "cell_type": "code",
   "execution_count": null,
   "metadata": {},
   "outputs": [],
   "source": [
    "'''\n",
    "    COLUNAS:\n",
    "        1. RF           : numeric(7) s_item[0][0]\n",
    "        2. VINC         : numeric(1) s_item[0][1]\n",
    "        3. NOME         : str()      s_item[1:-1]\n",
    "        4. DIAS         : null\n",
    "        5. A_PARTIR_DE  : date()     s_item[-1]\n",
    "        6. ARTIGO       : null\n",
    "'''\n",
    "\n",
    "i = 0\n",
    "SECRETARIA = ''\n",
    "VALIDA_LINHA = ''\n",
    "str_list_items = 'RF;VINC;NOME;DIAS;A_PARTIR_DE;ARTIGO;SECRETARIA;LISTA;DOM\\n'\n",
    "\n",
    "for item in list_items:\n",
    "    s_item = item.strip().split(' ')\n",
    "    if 'RF NOME A_PARTIR_DE' in item:\n",
    "        SECRETARIA = list_items[i-1]\n",
    "    elif len(s_item) >= 4 and s_item[0][0].isnumeric() and s_item[-1][0].isnumeric():\n",
    "        rf = s_item[0].split('/')[0]\n",
    "        vinc = s_item[0].split('/')[1]\n",
    "        nome = str(' ').join(s_item[1:-1])\n",
    "        str_list_items += f'{rf};{vinc};{nome};;{s_item[-1]};;{SECRETARIA};{RELACAO};{DOM}\\n'\n",
    "        #print(str_list_items)\n",
    "    elif s_item[0][-1].isnumeric() and VALIDA_LINHA == False:\n",
    "        linha = s_item\n",
    "        VALIDA_LINHA = True\n",
    "    elif VALIDA_LINHA == True:\n",
    "        linha += f' {item}'\n",
    "        s_item = item.split(' ')\n",
    "        rf = s_item[0].split('/')[0]\n",
    "        vinc = s_item[0].split('/')[1]\n",
    "        nome = str(' ').join(s_item[1:-1])\n",
    "        str_list_items += f'{rf};{vinc};{nome};;{s_item[-1]};;{SECRETARIA};{RELACAO};{DOM}\\n'\n",
    "        #print(str_list_items)\n",
    "        VALIDA_LINHA = False\n",
    "    i += 1"
   ]
  },
  {
   "cell_type": "code",
   "execution_count": null,
   "metadata": {},
   "outputs": [],
   "source": [
    "RELACAO = str('_').join(RELACAO.replace('/','_').split(' '))\n",
    "save_file(SAVE_DIR,str_list_items,f'{COMPLEMENTO}{RELACAO}','csv')"
   ]
  },
  {
   "cell_type": "markdown",
   "metadata": {},
   "source": [
    "#### RELAÇÃO DE CONCESSÃO DE NEXO DE ACIDENTE DO TRABALHO INDEFERIDO"
   ]
  },
  {
   "cell_type": "code",
   "execution_count": null,
   "metadata": {},
   "outputs": [],
   "source": [
    "RELACAO = 'RELAÇÃO DE CONCESSÃO DE NEXO DE ACIDENTE DO TRABALHO INDEFERIDO'\n",
    "\n",
    "if RELACAO in licencas:\n",
    "    list_items = rl_lm[licencas[RELACAO]:listas[listas.index(licencas[RELACAO])+1]]\n",
    "    #print(licencas[RELACAO])\n",
    "    #print(listas[listas.index(licencas[RELACAO])+1])\n",
    "else:\n",
    "    list_items = []\n",
    "list_items"
   ]
  },
  {
   "cell_type": "code",
   "execution_count": null,
   "metadata": {},
   "outputs": [],
   "source": [
    "'''\n",
    "    COLUNAS:\n",
    "        1. RF           : numeric(7) s_item[0][0]\n",
    "        2. VINC         : numeric(1) s_item[0][1]\n",
    "        3. NOME         : str()      s_item[1:-1]\n",
    "        4. DIAS         : null\n",
    "        5. A_PARTIR_DE  : date()     s_item[-1]\n",
    "        6. ARTIGO       : null\n",
    "'''\n",
    "\n",
    "i = 0\n",
    "SECRETARIA = ''\n",
    "VALIDA_LINHA = ''\n",
    "str_list_items = 'RF;VINC;NOME;DIAS;A_PARTIR_DE;ARTIGO;SECRETARIA;LISTA;DOM\\n'\n",
    "\n",
    "for item in list_items:\n",
    "    print(item)\n",
    "    s_item = item.strip().split(' ')\n",
    "    if 'RF NOME A_PARTIR_DE' in item:\n",
    "        SECRETARIA = list_items[i-1]\n",
    "    elif len(s_item) >= 4 and s_item[0][0].isnumeric() and s_item[-1][0].isnumeric():\n",
    "        rf = s_item[0].split('/')[0]\n",
    "        vinc = s_item[0].split('/')[1]\n",
    "        nome = str(' ').join(s_item[1:-1])\n",
    "        str_list_items += f'{rf};{vinc};{nome};;{s_item[-1]};;{SECRETARIA};{RELACAO};{DOM}\\n'\n",
    "        #print(str_list_items)\n",
    "    elif s_item[0][-1].isnumeric() and VALIDA_LINHA == False:\n",
    "        linha = s_item\n",
    "        VALIDA_LINHA = True\n",
    "    elif VALIDA_LINHA == True:\n",
    "        linha += f' {item}'\n",
    "        s_item = item.split(' ')\n",
    "        rf = s_item[0].split('/')[0]\n",
    "        vinc = s_item[0].split('/')[1]\n",
    "        nome = str(' ').join(s_item[1:-1])\n",
    "        str_list_items += f'{rf};{vinc};{nome};;{s_item[-1]};;{SECRETARIA};{RELACAO};{DOM}\\n'\n",
    "        #print(str_list_items)\n",
    "        VALIDA_LINHA = False\n",
    "    i += 1\n",
    "    print(i)"
   ]
  },
  {
   "cell_type": "code",
   "execution_count": null,
   "metadata": {},
   "outputs": [],
   "source": [
    "RELACAO = str('_').join(RELACAO.replace('/','_').split(' '))\n",
    "save_file(SAVE_DIR,str_list_items,f'{COMPLEMENTO}{RELACAO}','csv')"
   ]
  },
  {
   "cell_type": "code",
   "execution_count": null,
   "metadata": {},
   "outputs": [],
   "source": []
  },
  {
   "cell_type": "code",
   "execution_count": null,
   "metadata": {},
   "outputs": [],
   "source": []
  }
 ],
 "metadata": {
  "interpreter": {
   "hash": "31998cb917190a853c3fd1ae24bdc9afc831ff1caa3d83c63b3cf1ba0cc5525e"
  },
  "kernelspec": {
   "display_name": "Python 3.10.2 ('dom')",
   "language": "python",
   "name": "python3"
  },
  "language_info": {
   "codemirror_mode": {
    "name": "ipython",
    "version": 3
   },
   "file_extension": ".py",
   "mimetype": "text/x-python",
   "name": "python",
   "nbconvert_exporter": "python",
   "pygments_lexer": "ipython3",
   "version": "3.10.2"
  },
  "orig_nbformat": 4
 },
 "nbformat": 4,
 "nbformat_minor": 2
}
