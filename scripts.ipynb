{
 "cells": [
  {
   "cell_type": "markdown",
   "metadata": {},
   "source": [
    "# Script para ler o Diário Oficial do Município de São Paulo"
   ]
  },
  {
   "cell_type": "markdown",
   "metadata": {},
   "source": [
    "## Script BASE"
   ]
  },
  {
   "cell_type": "markdown",
   "metadata": {},
   "source": [
    "### Importando as bibliotecas"
   ]
  },
  {
   "cell_type": "code",
   "execution_count": 252,
   "metadata": {},
   "outputs": [],
   "source": [
    "from datetime import date, datetime, timedelta\n",
    "import os\n",
    "import fitz as fz\n",
    "import tabula"
   ]
  },
  {
   "cell_type": "markdown",
   "metadata": {},
   "source": [
    "### Obter data atual"
   ]
  },
  {
   "cell_type": "code",
   "execution_count": 253,
   "metadata": {},
   "outputs": [],
   "source": [
    "def get_date_today():\n",
    "    '''Obtém a data atual e retorna uma string: (YYYY-mm-dd)'''\n",
    "    dt_now = date.today()\n",
    "    if dt_now.weekday() == 0:\n",
    "            dt_now = dt_now + timedelta(-2)\n",
    "            dt_now = dt_now.strftime(\"%Y-%m-%d\")\n",
    "    else:\n",
    "            dt_now = dt_now.strftime(\"%Y-%m-%d\")\n",
    "    \n",
    "    return dt_now\n",
    "\n",
    "dt_now = get_date_today()"
   ]
  },
  {
   "cell_type": "markdown",
   "metadata": {},
   "source": [
    "### Obtendo diretórios"
   ]
  },
  {
   "cell_type": "code",
   "execution_count": 254,
   "metadata": {},
   "outputs": [
    {
     "name": "stdout",
     "output_type": "stream",
     "text": [
      "### INFO:  DIRS ###\n",
      "BASE_DIR:  c:\\Projetos\\scrapy_dom\n",
      "DATA_DIR:  c:\\Projetos\\scrapy_dom\\querido-diario\\data_collection\\data\\3550308\\2022-05-25\n",
      "SAVE_DIR:  c:\\Projetos\\scrapy_dom\\outputs_files\\2022-05-25\n",
      "DATA_FILE  c:\\Projetos\\scrapy_dom\\outputs_files\\2022-05-25\\DOM_SP-67_97_104_2022-05-25.tsv\n"
     ]
    }
   ],
   "source": [
    "def get_directories():\n",
    "        '''Obtém  os diretórios de trabalho.\n",
    "                return BASE_DIR,DATA_DIR,SAVE_DIR,DATA_FILE,DATA_FILES\n",
    "        '''\n",
    "        dt_now = get_date_today()\n",
    "        BASE_DIR = os.getcwd()\n",
    "        os.chdir(BASE_DIR)\n",
    "        try:\n",
    "                os.makedirs(f'{BASE_DIR}\\\\outputs_files\\\\{dt_now}')\n",
    "        except:\n",
    "                pass\n",
    "\n",
    "        DATA_DIR = f'{BASE_DIR}\\\\querido-diario\\\\data_collection\\\\data\\\\3550308\\\\{str(dt_now)}'\n",
    "        SAVE_DIR = f'{BASE_DIR}\\\\outputs_files\\\\{dt_now}'\n",
    "        DATA_FILE = SAVE_DIR + '\\\\' + [f for f in os.listdir(SAVE_DIR) if f.endswith(\"tsv\")][0]\n",
    "        DATA_FILES = os.listdir(DATA_DIR)\n",
    "        \n",
    "        print(f'### INFO:  DIRS ###')\n",
    "        print(f'BASE_DIR:  {BASE_DIR}')\n",
    "        print(f'DATA_DIR:  {DATA_DIR}')\n",
    "        print(f'SAVE_DIR:  {SAVE_DIR}')\n",
    "        print(f'DATA_FILE  {DATA_FILE}')\n",
    "        \n",
    "        return BASE_DIR,DATA_DIR,SAVE_DIR,DATA_FILE,DATA_FILES\n",
    "\n",
    "BASE_DIR,DATA_DIR,SAVE_DIR,DATA_FILE,DATA_FILES = get_directories()"
   ]
  },
  {
   "cell_type": "markdown",
   "metadata": {},
   "source": [
    "### Obtendo Informações do DOM"
   ]
  },
  {
   "cell_type": "code",
   "execution_count": 255,
   "metadata": {},
   "outputs": [
    {
     "name": "stdout",
     "output_type": "stream",
     "text": [
      "### INFO:  DIRS ###\n",
      "BASE_DIR:  c:\\Projetos\\scrapy_dom\n",
      "DATA_DIR:  c:\\Projetos\\scrapy_dom\\querido-diario\\data_collection\\data\\3550308\\2022-05-25\n",
      "SAVE_DIR:  c:\\Projetos\\scrapy_dom\\outputs_files\\2022-05-25\n",
      "DATA_FILE  c:\\Projetos\\scrapy_dom\\outputs_files\\2022-05-25\\DOM_SP-67_97_104_2022-05-25.tsv\n",
      "### INFO: DOM-SP ###\n",
      "DATA: 2022-05-25\n",
      "PAGS: 104\n",
      "HEAD: São Paulo, 67 (97)\n"
     ]
    }
   ],
   "source": [
    "def get_info_dom():\n",
    "        '''Obtém as informações do DOM.\n",
    "                return YEAR_DOM,EDITION_DOM,PAGS_DOM,HEAD_DOM        \n",
    "        '''\n",
    "        dt_now = get_date_today()\n",
    "        BASE_DIR,DATA_DIR,SAVE_DIR,DATA_FILE,DATA_FILES = get_directories()\n",
    "        YEAR_DOM = date.today().year - 1955\n",
    "        HEAD_DOM ='São Paulo, ' + str(YEAR_DOM) + ' ('\n",
    "\n",
    "        with fz.open(DATA_DIR +'\\\\'+ DATA_FILES[3]) as file:\n",
    "                search_edition = ''\n",
    "                for page in file:\n",
    "                        search_edition += page.get_text()\n",
    "\n",
    "        search_edition = search_edition[search_edition.find(HEAD_DOM):]\n",
    "        EDITION_DOM = search_edition[search_edition.find('(')+1:search_edition.find(')')]\n",
    "        HEAD_DOM ='São Paulo, ' + str(YEAR_DOM) + ' (' + EDITION_DOM + ')'\n",
    "        PAGS_DOM = str(len(DATA_FILES))\n",
    "\n",
    "        print('### INFO: DOM-SP ###')\n",
    "        print(f'DATA: {dt_now}')\n",
    "        print(f'PAGS: {PAGS_DOM}')\n",
    "        print(f'HEAD: {HEAD_DOM}')\n",
    "\n",
    "        return YEAR_DOM,EDITION_DOM,PAGS_DOM,HEAD_DOM\n",
    "\n",
    "YEAR_DOM,EDITION_DOM,PAGS_DOM,HEAD_DOM = get_info_dom()"
   ]
  },
  {
   "cell_type": "markdown",
   "metadata": {},
   "source": [
    "### Salva arquivo final"
   ]
  },
  {
   "cell_type": "code",
   "execution_count": 256,
   "metadata": {},
   "outputs": [],
   "source": [
    "def save_file(SAVE_DIR,CONTEXT,NAME_FILE,FORMAT='txt'):\n",
    "        '''\n",
    "                Cria um arquivo com o conteúdo e salva na pasta.\n",
    "                        SAVE_DIR  : Diretório para salvar o conteúdo\n",
    "                        CONTEXT   : Conteúdo a ser salvo\n",
    "                        NAME_FILE : Nome do arquivo para ser salvo\n",
    "                        FORMAT    : Formato do arquivo final\n",
    "        '''\n",
    "\n",
    "        with open(f\"{SAVE_DIR}\\\\{NAME_FILE}.{FORMAT}\",\"w\",encoding='utf8') as output_file:\n",
    "                output_file.write(CONTEXT)\n",
    "        \n",
    "        return f\"{SAVE_DIR}\\\\{NAME_FILE}.{FORMAT}\""
   ]
  },
  {
   "cell_type": "markdown",
   "metadata": {},
   "source": [
    "### Obtem contéudo do arquivo TSV"
   ]
  },
  {
   "cell_type": "code",
   "execution_count": 257,
   "metadata": {},
   "outputs": [],
   "source": [
    "with open(DATA_FILE,'r') as file:\n",
    "    conteudo = file.read()"
   ]
  },
  {
   "cell_type": "markdown",
   "metadata": {},
   "source": [
    "## Scripts de Listagens"
   ]
  },
  {
   "cell_type": "markdown",
   "metadata": {},
   "source": [
    "### Seção SERVIDORES"
   ]
  },
  {
   "cell_type": "code",
   "execution_count": 258,
   "metadata": {},
   "outputs": [
    {
     "name": "stdout",
     "output_type": "stream",
     "text": [
      "SERVIRODRES: 677493 / CONCURSOS: 1031372\n"
     ]
    }
   ],
   "source": [
    "# Localiza o início das seções SERVIDORES e CONCURSOS\n",
    "sc_servidores = conteudo.find('\\nSERVIDORES\\n')\n",
    "sc_concursos = conteudo.find('\\nCONCURSOS\\n')\n",
    "print(f\"SERVIRODRES: {sc_servidores} / CONCURSOS: {sc_concursos}\")\n",
    "conteudo_servidores = conteudo[sc_servidores:sc_concursos]"
   ]
  },
  {
   "cell_type": "markdown",
   "metadata": {},
   "source": [
    "#### Limpeza dos dados"
   ]
  },
  {
   "cell_type": "code",
   "execution_count": 279,
   "metadata": {},
   "outputs": [],
   "source": [
    "conteudo_servidores = conteudo_servidores.replace('\\t',' ')\n",
    "conteudo_servidores = conteudo_servidores.replace('\"\"','')\n",
    "conteudo_servidores = conteudo_servidores.replace(' \\n','\\n')\n",
    "conteudo_servidores = conteudo_servidores.replace('\\n ','\\n')\n",
    "conteudo_servidores = conteudo_servidores.replace('    ',' ')\n",
    "conteudo_servidores = conteudo_servidores.replace('   ',' ')\n",
    "conteudo_servidores = conteudo_servidores.replace('  ',' ')\n",
    "conteudo_servidores = conteudo_servidores.replace('-\\n','')\n",
    "conteudo_servidores = conteudo_servidores.replace(',\\n',', ')\n",
    "conteudo_servidores = conteudo_servidores.replace(', \\n',', ')\n",
    "conteudo_servidores = conteudo_servidores.upper()\n",
    "conteudo_servidores = conteudo_servidores.replace('FUNDAÇÃO PAULISTANA DE EDUCAÇÃO\\nTECNOLOGIA E CULTURA','FUNDAÇÃO PAULISTANA DE EDUCAÇÃO TECNOLOGIA E CULTURA')\n",
    "conteudo_servidores = conteudo_servidores.replace('HOSPITAL DO SERVIDOR\\nPÚBLICO MUNICIPAL','HOSPITAL DO SERVIDOR PÚBLICO MUNICIPAL')\n",
    "conteudo_servidores = conteudo_servidores.replace('SECRETARIA MUNICIPAL DE ASSIST E DESENV\\nSOCIAL','SECRETARIA MUNICIPAL DE ASSIST E DESENV SOCIAL')\n",
    "conteudo_servidores = conteudo_servidores.replace('SECRETARIA MUNICIPAL DE INFRAESTRUTURA\\nURBANA E OB','SECRETARIA MUNICIPAL DE INFRAESTRUTURA URBANA E OB')\n",
    "conteudo_servidores = conteudo_servidores.replace('SECRETARIA MUNICIPAL DE SEGURANCA\\nURBANA','SECRETARIA MUNICIPAL DE SEGURANCA URBANA')\n",
    "conteudo_servidores = conteudo_servidores.replace('SECRETARIA MUNICIPAL DO VERDE E DO MEIO\\nAMBIENTE','SECRETARIA MUNICIPAL DO VERDE E DO MEIO AMBIENTE')\n",
    "conteudo_servidores = conteudo_servidores.replace('LICENÇAS MÉDICAS CONCEDIDAS/NEGADAS\\nEM GRAU DE RECURSO','LICENÇAS MÉDICAS CONCEDIDAS/NEGADAS EM GRAU DE RECURSO')\n",
    "conteudo_servidores = conteudo_servidores.replace('RELAÇÃO DE LICENÇAS MÉDICAS NEGADAS\\nNOS TERMOS DA LEI 8989/79','RELAÇÃO DE LICENÇAS MÉDICAS NEGADAS NOS TERMOS DA LEI 8989/79')\n",
    "conteudo_servidores = conteudo_servidores.replace('RELAÇÃO DE FALTAS DOS CONVOCADOS\\nPARA AVALIAÇÃO DE ESPECIALISTA','RELAÇÃO DE FALTAS DOS CONVOCADOS PARA AVALIAÇÃO DE ESPECIALISTA')\n",
    "conteudo_servidores = conteudo_servidores.replace('RELAÇÃO DE FALTAS DOS CONVOCADOS\\nPARA JUNTA MÉDICA PARA FINS DE PENSÃO\\nPOR MORTE','RELAÇÃO DE FALTAS DOS CONVOCADOS PARA JUNTA MÉDICA PARA FINS DE PENSÃO POR MORTE')\n",
    "conteudo_servidores = conteudo_servidores.replace('RELAÇÃO DE ALTA DE AT/DT RETIFICADA EM\\nFUNÇÃO DE:','RELAÇÃO DE ALTA DE AT/DT RETIFICADA EM FUNÇÃO DE:')\n",
    "conteudo_servidores = conteudo_servidores.replace('RELAÇÃO DE SERVIDORES SUBMETIDOS À\\nAVALIAÇÃO DE ESPECIALISTA\\nCOM CAPACIDADE LABORATIVA PARA A SUA\\nFUNÇÃO ORIGINAL','RELAÇÃO DE SERVIDORES SUBMETIDOS À AVALIAÇÃO DE ESPECIALISTA COM CAPACIDADE LABORATIVA PARA A SUA FUNÇÃO ORIGINAL')\n",
    "conteudo_servidores = conteudo_servidores.replace('LICENÇAS MÉDICAS DE CURTA DURAÇÃO\\nDOC ','LICENÇAS MÉDICAS DE CURTA DURAÇÃO DOC ')\n",
    "conteudo_servidores = conteudo_servidores.replace('A PARTIR DE',' A_PARTIR_DE')\n",
    "conteudo_servidores = conteudo_servidores.replace('ACI-\\nDENTE','ACIDENTE')\n",
    "conteudo_servidores = conteudo_servidores.replace('CANCELA-\\nDAS','CANCELADAS')\n",
    "conteudo_servidores = conteudo_servidores.replace('RETIFICA-\\nDAS','RETIFICADAS')\n",
    "conteudo_servidores = conteudo_servidores.replace('RECO-\\nMENDAÇÃO','RECOMENDAÇÃO')\n",
    "conteudo_servidores = conteudo_servidores.replace('RECOMENDAÇÃO\\nD','RECOMENDAÇÃO D')\n",
    "conteudo_servidores = conteudo_servidores.replace('LICENÇAS MÉDICAS\\nFACE','LICENÇAS MÉDICAS FACE')\n",
    "conteudo_servidores = conteudo_servidores.replace('LICENÇAS MÉDICAS PARA SERVIDORES SOB REGIME GERAL DA\\nPREVIDÊNCIA SOCIAL\\nCONCEDIDA DE ACORDO COM O DETERMINADO NA PORTARIA NO\\n','LICENÇAS MÉDICAS PARA SERVIDORES SOB REGIME GERAL DA PREVIDÊNCIA SOCIAL CONCEDIDA DE ACORDO COM O DETERMINADO NA PORTARIA NO ')\n",
    "conteudo_servidores = conteudo_servidores.replace('DECRETO NO\\n','DECRETO NO')\n",
    "conteudo_servidores = conteudo_servidores.replace('PUBLICADO\\nNO','PUBLICADO NO')\n",
    "conteudo_servidores = conteudo_servidores.replace('\\nCONCEDIDA',' CONCEDIDA')\n",
    "conteudo_servidores = conteudo_servidores.replace('\\nCONCEDIDAS ',' CONCEDIDAS ')\n",
    "conteudo_servidores = conteudo_servidores.replace(' DA LEI\\n',' DA LEI ')\n",
    "conteudo_servidores = conteudo_servidores.replace('\\nAOS ',' AOS ')\n",
    "conteudo_servidores = conteudo_servidores.replace(' SÃO\\n',' SÃO ')\n",
    "conteudo_servidores = conteudo_servidores.replace(' À\\n',' À ')\n",
    "conteudo_servidores = conteudo_servidores.replace(' ÀS\\n',' ÀS ')\n",
    "conteudo_servidores = conteudo_servidores.replace(' AS\\n',' AS ')\n",
    "conteudo_servidores = conteudo_servidores.replace(' E\\n',' E ')\n",
    "conteudo_servidores = conteudo_servidores.replace(' O\\n',' O ')\n",
    "conteudo_servidores = conteudo_servidores.replace(' DA\\n',' DA ')\n",
    "conteudo_servidores = conteudo_servidores.replace(' DAS\\n',' DAS ')\n",
    "conteudo_servidores = conteudo_servidores.replace(' DA(S)\\n',' DA(S) ')\n",
    "conteudo_servidores = conteudo_servidores.replace(' DE\\n',' DE ')\n",
    "conteudo_servidores = conteudo_servidores.replace(' DO\\n',' DO ')\n",
    "conteudo_servidores = conteudo_servidores.replace(' DOS\\n',' DOS ')\n",
    "conteudo_servidores = conteudo_servidores.replace(' DO(S)\\n',' DO(S) ')\n",
    "conteudo_servidores = conteudo_servidores.replace(' COM\\n',' COM ')\n",
    "conteudo_servidores = conteudo_servidores.replace(' EM\\n',' EM ')\n",
    "conteudo_servidores = conteudo_servidores.replace(' PARA\\n',' PARA ')\n",
    "conteudo_servidores = conteudo_servidores.replace(' NA\\n',' NA ')\n",
    "conteudo_servidores = conteudo_servidores.replace(' NAS\\n',' NAS ')\n",
    "conteudo_servidores = conteudo_servidores.replace(' NO\\n',' NO ')\n",
    "conteudo_servidores = conteudo_servidores.replace(' NOS\\n',' NOS ')\n",
    "conteudo_servidores = conteudo_servidores.replace('RF NOME DIAS A PARTIR DE ARTIGO','RF NOME DIAS A_PARTIR_DE ARTIGO')\n",
    "conteudo_servidores = conteudo_servidores.replace('REG. FUNC. NOME CONTROLE NO ','RF NOME CONTROLE_NO\\n')\n",
    "conteudo_servidores = conteudo_servidores.replace('R.F./V NOME DIAS/EXERCÍCIO A_PARTIR_DE','RF/V NOME DIAS/EXERCÍCIO A_PARTIR_DE')\n",
    "conteudo_servidores = conteudo_servidores.replace('REG. FUNC/VINC NOME NÍVEL CAT. SÍMBOLO A_PARTIR_DE','RF/v NOME NÍVEL_CAT SÍMBOLO A_PARTIR_DE')\n",
    "conteudo_servidores = conteudo_servidores.replace('RF V NOME EH A PARTIR MOTIVO','RF VINC NOME EH A_PARTIR MOTIVO')"
   ]
  },
  {
   "cell_type": "code",
   "execution_count": 280,
   "metadata": {},
   "outputs": [
    {
     "data": {
      "text/plain": [
       "'c:\\\\Projetos\\\\scrapy_dom\\\\outputs_files\\\\2022-05-25\\\\seção_servidores.txt'"
      ]
     },
     "execution_count": 280,
     "metadata": {},
     "output_type": "execute_result"
    }
   ],
   "source": [
    "#print(conteudo_servidores)\n",
    "save_file(SAVE_DIR,conteudo_servidores,'seção_servidores')"
   ]
  },
  {
   "cell_type": "code",
   "execution_count": 281,
   "metadata": {},
   "outputs": [],
   "source": [
    "#print(conteudo_servidores)"
   ]
  },
  {
   "cell_type": "markdown",
   "metadata": {},
   "source": [
    "### Relação de Licença Médica"
   ]
  },
  {
   "cell_type": "markdown",
   "metadata": {},
   "source": [
    "#### CONTEÚDO PRINCIPAL"
   ]
  },
  {
   "cell_type": "code",
   "execution_count": 311,
   "metadata": {},
   "outputs": [
    {
     "data": {
      "text/plain": [
       "21588"
      ]
     },
     "execution_count": 311,
     "metadata": {},
     "output_type": "execute_result"
    }
   ],
   "source": [
    "conteudo_licenca_medica = conteudo_servidores\n",
    "\n",
    "sc_lm = conteudo_licenca_medica.find('\\nRELAÇÃO DE LICENÇA MÉDICA')\n",
    "conteudo_licenca_medica = conteudo_licenca_medica[sc_lm:]\n",
    "sc_lm"
   ]
  },
  {
   "cell_type": "code",
   "execution_count": 312,
   "metadata": {},
   "outputs": [
    {
     "name": "stdout",
     "output_type": "stream",
     "text": [
      "{'RELAÇÃO DE LICENÇAS MÉDICAS NOS TERMOS DA LEI 8989/79': 4, 'RELAÇÃO DE LICENÇAS MÉDICAS NEGADAS NOS TERMOS DA LEI 8989/79': 724, 'RELAÇÃO DE FALTAS DOS CONVOCADOS PARA JUNTA MÉDICA PARA FINS DE PENSÃO POR MORTE': 761, 'RELAÇÃO DE FALTA DO SERVIDOR À PERÍCIA': 764, 'RELAÇÃO DE FALTAS DOS CONVOCADOS PARA AVALIAÇÃO DE ESPECIALISTA': 777, 'RELAÇÃO DE SERVIDORES SUBMETIDOS À AVALIAÇÃO DE CAPACIDADE LABORATIVA': 781, 'RELAÇÃO DE LICENÇAS MÉDICAS CANCELADAS EM FUNÇÃO DE:': 799, 'RELAÇÃO DE LICENÇAS MÉDICAS RETIFICADAS EM FUNÇÃO DE:': 805, 'ENGLOBAMENTO DE LICENÇAS MÉDICAS FACE PORTARIA 11/84': 824, 'RELAÇÃO DE ALTA DE AT/DT RETIFICADA EM FUNÇÃO DE:': 873, 'RELAÇÃO DE ALTAS DO ACIDENTE DO TRABALHO E DA DOENÇA DO TRABALHO': 878, 'RELAÇÃO DE SERVIDORES COM ALTERAÇÕES NAS DATAS DE ATENDIMENTO PARA AVALIAÇÃO MÉDICA DE ACIDENTE DE TRABALHO': 892, 'FÉRIAS, LICENÇAS MÉDICAS, LICENÇA GALA, ALTERAÇÃO DE ESTADO CIVIL, ALTERAÇÃO DE NOME E LICENÇA NOJO.': 1385, 'LICENÇAS MÉDICAS DE CURTA DURAÇÃO': 1394, 'LICENÇAS MÉDICAS DE CURTA DURAÇÃO CONCEDIDAS NOS TERMOS DA LEI 8989/79, ARTIGO 138, INCISO I': 2315, 'LICENÇAS MÉDICAS – HSPM CONCEDIDAS NOS TERMOS DO DECRETO NO 58.225 DE 09/05/2018': 2755, 'LICENÇAS MÉDICAS – HSPE CONCEDIDAS NOS TERMOS DO DECRETO NO 58.225 DE 09/05/18': 2762, 'LICENÇAS MÉDICAS – UNIDADE REDE PÚBLICA DE SAÚDE CONCEDIDAS NOS TERMOS DO DECRETO NO 58.225 DE 09/05/18': 2766, 'RELAÇÃO DE ADICIONAIS POR TEMPO DE SERVIÇO NOS TERMOS DO ARTIGO 112, DA LEI 8989/79': 3005, 'LICENÇAS MÉDICAS DE CURTA DURAÇÃO CONCEDIDAS NOS TERMOS DA LEI 8989/79,ART. 138, MODIFICADA': 3151, 'LICENÇAS MÉDICAS DO SERVIDOR - CONCEDIDAS NOS TERMOS DO ART. 143, DA LEI 8989/79, NA FORMA PREVISTA NO DECRETO NO 58.225/18, ART. 38 INCISO II.': 3249}\n",
      "[4, 724, 761, 764, 777, 781, 799, 805, 824, 873, 878, 892, 1385, 1394, 2315, 2755, 2762, 2766, 2823, 3005, 3151, 3249]\n"
     ]
    },
    {
     "data": {
      "text/plain": [
       "'c:\\\\Projetos\\\\scrapy_dom\\\\outputs_files\\\\2022-05-25\\\\listagens_dom.txt'"
      ]
     },
     "execution_count": 312,
     "metadata": {},
     "output_type": "execute_result"
    }
   ],
   "source": [
    "i = 0\n",
    "rl_lm =  conteudo_licenca_medica.split('\\n')\n",
    "licencas = {}\n",
    "listas = []\n",
    "\n",
    "for line in rl_lm:\n",
    "    if 'LICENÇAS MÉDICAS' in line and not 'SEÇÃO DE LICENÇAS MÉDICAS' in line:\n",
    "        licencas.update({\n",
    "            line : i\n",
    "        })\n",
    "        listas.append(i)\n",
    "    elif 'RELAÇÃO DE' in line and not 'RELAÇÃO DE LICENÇA MÉDICA' in line:\n",
    "        licencas.update({\n",
    "            line : i\n",
    "        })\n",
    "        listas.append(i)\n",
    "    \n",
    "    i += 1\n",
    "\n",
    "print(licencas)\n",
    "print(listas)\n",
    "len(f'Total de listas: {len(listas)}')\n",
    "save_file(SAVE_DIR,str(licencas),'listagens_dom')"
   ]
  },
  {
   "cell_type": "markdown",
   "metadata": {},
   "source": [
    "#### RELAÇÃO DE LICENÇAS MÉDICAS NOS TERMOS DA LEI 8989/79"
   ]
  },
  {
   "cell_type": "code",
   "execution_count": 313,
   "metadata": {},
   "outputs": [],
   "source": [
    "RELACAO = 'RELAÇÃO DE LICENÇAS MÉDICAS NOS TERMOS DA LEI 8989/79'\n",
    "\n",
    "if RELACAO in licencas:\n",
    "    list_items = rl_lm[licencas[RELACAO]:listas[listas.index(licencas[RELACAO])+1]]\n",
    "else:\n",
    "    list_items = []\n",
    "#list_items"
   ]
  },
  {
   "cell_type": "code",
   "execution_count": 249,
   "metadata": {},
   "outputs": [],
   "source": [
    "i = 0\n",
    "SECRETARIA = ''\n",
    "str_list_items = 'RF;NOME;DIAS;A_PARTIR_DE;ARTIGO;SECRETARIA;LISTA\\n'\n",
    "\n",
    "for item in list_items:\n",
    "    s_item = item.split(' ')\n",
    "    if 'RF NOME DIAS A_PARTIR_DE ARTIGO' in item:\n",
    "        SECRETARIA = list_items[i-1]\n",
    "    elif len(s_item) >= 5 and s_item[0][0].isnumeric():\n",
    "        #print(s_item[0])\n",
    "        #print(s_item[1:-3])\n",
    "        #print(s_item[-3])\n",
    "        #print(s_item[-2])\n",
    "        #print(SECRETARIA)\n",
    "        #print(s_item[-1])\n",
    "        if s_item[-3].isnumeric():\n",
    "            nome = str(' ').join(s_item[1:-3])\n",
    "            str_list_items += f'{s_item[0]};{nome};{s_item[-3]};{s_item[-2]};{s_item[-1]};{SECRETARIA};{RELACAO}\\n'\n",
    "            #print(str_list_items)\n",
    "        else:\n",
    "            nome = str(' ').join(s_item[1:-2])\n",
    "            str_list_items += f'{s_item[0]};{nome};{s_item[-3]};{s_item[-2]};{s_item[-1]};{SECRETARIA};{RELACAO}\\n'\n",
    "            #print(str_list_items)\n",
    "\n",
    "    i += 1"
   ]
  },
  {
   "cell_type": "code",
   "execution_count": 272,
   "metadata": {},
   "outputs": [
    {
     "data": {
      "text/plain": [
       "'c:\\\\Projetos\\\\scrapy_dom\\\\outputs_files\\\\2022-05-25\\\\RELAÇÃO_DE_LICENÇAS_MÉDICAS_NOS_TERMOS_DA_LEI_8989_79.csv'"
      ]
     },
     "execution_count": 272,
     "metadata": {},
     "output_type": "execute_result"
    }
   ],
   "source": [
    "RELACAO = str('_').join(RELACAO.replace('/','_').split(' '))\n",
    "save_file(SAVE_DIR,str_list_items,RELACAO,'csv')"
   ]
  },
  {
   "cell_type": "markdown",
   "metadata": {},
   "source": [
    "#### RELAÇÃO DE LICENÇAS MÉDICAS NEGADAS NOS TERMOS DA LEI 8989/79"
   ]
  },
  {
   "cell_type": "code",
   "execution_count": 273,
   "metadata": {},
   "outputs": [],
   "source": [
    "RELACAO = 'RELAÇÃO DE LICENÇAS MÉDICAS NEGADAS NOS TERMOS DA LEI 8989/79'\n",
    "\n",
    "if RELACAO in licencas:\n",
    "    list_items = rl_lm[licencas[RELACAO]:listas[listas.index(licencas[RELACAO])+1]]\n",
    "else:\n",
    "    list_items = []\n",
    "#lm_8989_negada\n"
   ]
  },
  {
   "cell_type": "code",
   "execution_count": 274,
   "metadata": {},
   "outputs": [],
   "source": [
    "i = 0\n",
    "SECRETARIA = ''\n",
    "str_list_items = 'RF;NOME;DIAS;A_PARTIR_DE;ARTIGO;SECRETARIA;LISTA\\n'\n",
    "\n",
    "for item in list_items:\n",
    "    s_item = item.split(' ')\n",
    "    if 'RF NOME DIAS A_PARTIR_DE ARTIGO' in item:\n",
    "        SECRETARIA = list_items[i-1]\n",
    "    elif len(s_item) >= 5 and s_item[0][0].isnumeric():\n",
    "        #print(s_item[0])\n",
    "        #print(s_item[1:-3])\n",
    "        #print(s_item[-3])\n",
    "        #print(s_item[-2])\n",
    "        #print(SECRETARIA)\n",
    "        #print(s_item[-1])\n",
    "        nome = str(' ').join(s_item[1:-3])\n",
    "        #print(f'{s_item[0]};{nome};{s_item[-3]};{s_item[-2]};{s_item[-1]};{SECRETARIA};{RELACAO}\\\\n')\n",
    "        str_list_items += f'{s_item[0]};{nome};{s_item[-3]};{s_item[-2]};{s_item[-1]};{SECRETARIA};{RELACAO}\\n'\n",
    "    i += 1"
   ]
  },
  {
   "cell_type": "code",
   "execution_count": 275,
   "metadata": {},
   "outputs": [
    {
     "data": {
      "text/plain": [
       "'c:\\\\Projetos\\\\scrapy_dom\\\\outputs_files\\\\2022-05-25\\\\RELAÇÃO_DE_LICENÇAS_MÉDICAS_NEGADAS_NOS_TERMOS_DA_LEI_8989_79.csv'"
      ]
     },
     "execution_count": 275,
     "metadata": {},
     "output_type": "execute_result"
    }
   ],
   "source": [
    "RELACAO = str('_').join(RELACAO.replace('/','_').split(' '))\n",
    "save_file(SAVE_DIR,str_list_items,RELACAO,'csv')"
   ]
  },
  {
   "cell_type": "markdown",
   "metadata": {},
   "source": [
    "#### RELAÇÃO DE FALTAS DOS CONVOCADOS PARA JUNTA MÉDICA PARA FINS DE PENSÃO POR MORTE"
   ]
  },
  {
   "cell_type": "code",
   "execution_count": 290,
   "metadata": {},
   "outputs": [],
   "source": [
    "RELACAO = 'RELAÇÃO DE FALTAS DOS CONVOCADOS PARA JUNTA MÉDICA PARA FINS DE PENSÃO POR MORTE'\n",
    "\n",
    "if RELACAO in licencas:\n",
    "    list_items = rl_lm[licencas[RELACAO]:listas[listas.index(licencas[RELACAO])+1]]\n",
    "else:\n",
    "    list_items = []\n",
    "#lm_faltas_pensao"
   ]
  },
  {
   "cell_type": "code",
   "execution_count": 301,
   "metadata": {},
   "outputs": [],
   "source": [
    "i = 0\n",
    "SECRETARIA = ''\n",
    "str_list_items = 'RF;NOME;A_PARTIR_DE;SECRETARIA;LISTA\\n'\n",
    "\n",
    "for item in list_items:\n",
    "    s_item = item.split(' ')\n",
    "    if 'RF NOME DIAS A_PARTIR_DE ARTIGO' in item:\n",
    "        SECRETARIA = list_items[i-1]\n",
    "    elif len(s_item) >= 3 and s_item[0][0].isnumeric():\n",
    "        #print(s_item[0])\n",
    "        #print(s_item[1:-3])\n",
    "        #print(s_item[-3])\n",
    "        #print(s_item[-2])\n",
    "        #print(SECRETARIA)\n",
    "        #print(s_item[-1])\n",
    "        if s_item[-1][0].isnumeric():\n",
    "            nome = str(' ').join(s_item[1:-1])\n",
    "            str_list_items += f'{s_item[0]};{nome};{s_item[-1]};{SECRETARIA};{RELACAO}\\n'\n",
    "            #print(str_list_items)\n",
    "        else:\n",
    "            nome = str(' ').join(s_item[1:-2])\n",
    "            str_list_items += f'{s_item[0]};{nome};{s_item[-1]};{SECRETARIA};{RELACAO}\\n'\n",
    "            #print(str_list_items)\n",
    "    i += 1"
   ]
  },
  {
   "cell_type": "code",
   "execution_count": 302,
   "metadata": {},
   "outputs": [
    {
     "data": {
      "text/plain": [
       "'c:\\\\Projetos\\\\scrapy_dom\\\\outputs_files\\\\2022-05-25\\\\RELAÇÃO_DE_FALTAS_DOS_CONVOCADOS_PARA_JUNTA_MÉDICA_PARA_FINS_DE_PENSÃO_POR_MORTE.csv'"
      ]
     },
     "execution_count": 302,
     "metadata": {},
     "output_type": "execute_result"
    }
   ],
   "source": [
    "RELACAO = str('_').join(RELACAO.replace('/','_').split(' '))\n",
    "save_file(SAVE_DIR,str_list_items,RELACAO,'csv')"
   ]
  },
  {
   "cell_type": "markdown",
   "metadata": {},
   "source": [
    "#### RELAÇÃO DE FALTA DO SERVIDOR À PERÍCIA"
   ]
  },
  {
   "cell_type": "code",
   "execution_count": 289,
   "metadata": {},
   "outputs": [],
   "source": [
    "RELACAO = 'RELAÇÃO DE FALTA DO SERVIDOR À PERÍCIA'\n",
    "\n",
    "if RELACAO in licencas:\n",
    "    list_items = rl_lm[licencas[RELACAO]:listas[listas.index(licencas[RELACAO])+1]]\n",
    "else:\n",
    "    list_items = []\n",
    "#list_items"
   ]
  },
  {
   "cell_type": "code",
   "execution_count": 309,
   "metadata": {},
   "outputs": [],
   "source": [
    "i = 0\n",
    "SECRETARIA = ''\n",
    "str_list_items = 'RF;NOME;DIAS;A_PARTIR_DE;ARTIGO;SECRETARIA;LISTA\\n'\n",
    "\n",
    "for item in list_items:\n",
    "    s_item = item.split(' ')\n",
    "    if 'RF NOME DIAS A_PARTIR_DE ARTIGO' in item:\n",
    "        SECRETARIA = list_items[i-1]\n",
    "    elif len(s_item) >= 4 and s_item[0][0].isnumeric():\n",
    "        #print(s_item[0])\n",
    "        #print(s_item[1:-3])\n",
    "        #print(s_item[-3])\n",
    "        #print(s_item[-2])\n",
    "        #print(s_item[-1])\n",
    "        #print(SECRETARIA)\n",
    "        if s_item[-3].isnumeric():\n",
    "            nome = str(' ').join(s_item[1:-3])\n",
    "            str_list_items += f'{s_item[0]};{nome};{s_item[-3]};{s_item[-2]};{s_item[-1]};{SECRETARIA};{RELACAO}\\n'\n",
    "            #print(str_list_items)\n",
    "        else:\n",
    "            nome = str(' ').join(s_item[1:-2])\n",
    "            str_list_items += f'{s_item[0]};{nome};;{s_item[-2]};{s_item[-1]};{SECRETARIA};{RELACAO}\\n'\n",
    "            #print(str_list_items)\n",
    "    i += 1"
   ]
  },
  {
   "cell_type": "code",
   "execution_count": 310,
   "metadata": {},
   "outputs": [
    {
     "data": {
      "text/plain": [
       "'c:\\\\Projetos\\\\scrapy_dom\\\\outputs_files\\\\2022-05-25\\\\RELAÇÃO_DE_LICENÇAS_MÉDICAS_NOS_TERMOS_DA_LEI_8989_79.csv'"
      ]
     },
     "execution_count": 310,
     "metadata": {},
     "output_type": "execute_result"
    }
   ],
   "source": [
    "RELACAO = str('_').join(RELACAO.replace('/','_').split(' '))\n",
    "save_file(SAVE_DIR,str_list_items,RELACAO,'csv')"
   ]
  },
  {
   "cell_type": "code",
   "execution_count": null,
   "metadata": {},
   "outputs": [],
   "source": []
  }
 ],
 "metadata": {
  "interpreter": {
   "hash": "31998cb917190a853c3fd1ae24bdc9afc831ff1caa3d83c63b3cf1ba0cc5525e"
  },
  "kernelspec": {
   "display_name": "Python 3.10.2 ('dom')",
   "language": "python",
   "name": "python3"
  },
  "language_info": {
   "codemirror_mode": {
    "name": "ipython",
    "version": 3
   },
   "file_extension": ".py",
   "mimetype": "text/x-python",
   "name": "python",
   "nbconvert_exporter": "python",
   "pygments_lexer": "ipython3",
   "version": "3.10.2"
  },
  "orig_nbformat": 4
 },
 "nbformat": 4,
 "nbformat_minor": 2
}
