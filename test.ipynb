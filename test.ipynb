{
 "cells": [
  {
   "cell_type": "code",
   "execution_count": 1,
   "metadata": {},
   "outputs": [],
   "source": [
    "import win32com.client as win32"
   ]
  },
  {
   "cell_type": "code",
   "execution_count": 2,
   "metadata": {},
   "outputs": [
    {
     "ename": "com_error",
     "evalue": "(-2147221005, 'Cadeia de caracteres de classe inválida', None, None)",
     "output_type": "error",
     "traceback": [
      "\u001b[1;31m---------------------------------------------------------------------------\u001b[0m",
      "\u001b[1;31mcom_error\u001b[0m                                 Traceback (most recent call last)",
      "File \u001b[1;32mc:\\Projetos\\Envs\\dom\\lib\\site-packages\\win32com\\client\\dynamic.py:86\u001b[0m, in \u001b[0;36m_GetGoodDispatch\u001b[1;34m(IDispatch, clsctx)\u001b[0m\n\u001b[0;32m     85\u001b[0m \u001b[39mtry\u001b[39;00m:\n\u001b[1;32m---> 86\u001b[0m     IDispatch \u001b[39m=\u001b[39m pythoncom\u001b[39m.\u001b[39;49mconnect(IDispatch)\n\u001b[0;32m     87\u001b[0m \u001b[39mexcept\u001b[39;00m pythoncom\u001b[39m.\u001b[39mole_error:\n",
      "\u001b[1;31mcom_error\u001b[0m: (-2147221005, 'Cadeia de caracteres de classe inválida', None, None)",
      "\nDuring handling of the above exception, another exception occurred:\n",
      "\u001b[1;31mcom_error\u001b[0m                                 Traceback (most recent call last)",
      "\u001b[1;32mc:\\Projetos\\scrapy_dom\\test.ipynb Cell 2'\u001b[0m in \u001b[0;36m<cell line: 1>\u001b[1;34m()\u001b[0m\n\u001b[1;32m----> <a href='vscode-notebook-cell:/c%3A/Projetos/scrapy_dom/test.ipynb#ch0000001?line=0'>1</a>\u001b[0m whatsapp \u001b[39m=\u001b[39m win32\u001b[39m.\u001b[39;49mDispatch(\u001b[39m'\u001b[39;49m\u001b[39mwhatsapp.application\u001b[39;49m\u001b[39m'\u001b[39;49m)\n",
      "File \u001b[1;32mc:\\Projetos\\Envs\\dom\\lib\\site-packages\\win32com\\client\\__init__.py:117\u001b[0m, in \u001b[0;36mDispatch\u001b[1;34m(dispatch, userName, resultCLSID, typeinfo, UnicodeToString, clsctx)\u001b[0m\n\u001b[0;32m    115\u001b[0m \u001b[39m\"\"\"Creates a Dispatch based COM object.\"\"\"\u001b[39;00m\n\u001b[0;32m    116\u001b[0m \u001b[39massert\u001b[39;00m UnicodeToString \u001b[39mis\u001b[39;00m \u001b[39mNone\u001b[39;00m, \u001b[39m\"\u001b[39m\u001b[39mthis is deprecated and will go away\u001b[39m\u001b[39m\"\u001b[39m\n\u001b[1;32m--> 117\u001b[0m dispatch, userName \u001b[39m=\u001b[39m dynamic\u001b[39m.\u001b[39;49m_GetGoodDispatchAndUserName(dispatch, userName, clsctx)\n\u001b[0;32m    118\u001b[0m \u001b[39mreturn\u001b[39;00m __WrapDispatch(dispatch, userName, resultCLSID, typeinfo, clsctx\u001b[39m=\u001b[39mclsctx)\n",
      "File \u001b[1;32mc:\\Projetos\\Envs\\dom\\lib\\site-packages\\win32com\\client\\dynamic.py:106\u001b[0m, in \u001b[0;36m_GetGoodDispatchAndUserName\u001b[1;34m(IDispatch, userName, clsctx)\u001b[0m\n\u001b[0;32m    103\u001b[0m     \u001b[39m## ??? else userName remains None ???\u001b[39;00m\n\u001b[0;32m    104\u001b[0m \u001b[39melse\u001b[39;00m:\n\u001b[0;32m    105\u001b[0m     userName \u001b[39m=\u001b[39m \u001b[39mstr\u001b[39m(userName)\n\u001b[1;32m--> 106\u001b[0m \u001b[39mreturn\u001b[39;00m (_GetGoodDispatch(IDispatch, clsctx), userName)\n",
      "File \u001b[1;32mc:\\Projetos\\Envs\\dom\\lib\\site-packages\\win32com\\client\\dynamic.py:88\u001b[0m, in \u001b[0;36m_GetGoodDispatch\u001b[1;34m(IDispatch, clsctx)\u001b[0m\n\u001b[0;32m     86\u001b[0m         IDispatch \u001b[39m=\u001b[39m pythoncom\u001b[39m.\u001b[39mconnect(IDispatch)\n\u001b[0;32m     87\u001b[0m     \u001b[39mexcept\u001b[39;00m pythoncom\u001b[39m.\u001b[39mole_error:\n\u001b[1;32m---> 88\u001b[0m         IDispatch \u001b[39m=\u001b[39m pythoncom\u001b[39m.\u001b[39;49mCoCreateInstance(\n\u001b[0;32m     89\u001b[0m             IDispatch, \u001b[39mNone\u001b[39;49;00m, clsctx, pythoncom\u001b[39m.\u001b[39;49mIID_IDispatch\n\u001b[0;32m     90\u001b[0m         )\n\u001b[0;32m     91\u001b[0m \u001b[39melse\u001b[39;00m:\n\u001b[0;32m     92\u001b[0m     \u001b[39m# may already be a wrapped class.\u001b[39;00m\n\u001b[0;32m     93\u001b[0m     IDispatch \u001b[39m=\u001b[39m \u001b[39mgetattr\u001b[39m(IDispatch, \u001b[39m\"\u001b[39m\u001b[39m_oleobj_\u001b[39m\u001b[39m\"\u001b[39m, IDispatch)\n",
      "\u001b[1;31mcom_error\u001b[0m: (-2147221005, 'Cadeia de caracteres de classe inválida', None, None)"
     ]
    }
   ],
   "source": [
    "whatsapp = win32.Dispatch('whatsapp.application')"
   ]
  },
  {
   "cell_type": "code",
   "execution_count": 3,
   "metadata": {},
   "outputs": [],
   "source": [
    "outlook = win32.Dispatch('outlook.application')"
   ]
  },
  {
   "cell_type": "code",
   "execution_count": 15,
   "metadata": {},
   "outputs": [
    {
     "data": {
      "text/plain": [
       "<function win32com.client.Dispatch(dispatch, userName=None, resultCLSID=None, typeinfo=None, UnicodeToString=None, clsctx=21)>"
      ]
     },
     "execution_count": 15,
     "metadata": {},
     "output_type": "execute_result"
    }
   ],
   "source": []
  },
  {
   "cell_type": "code",
   "execution_count": 16,
   "metadata": {},
   "outputs": [
    {
     "ename": "TypeError",
     "evalue": "'function' object is not iterable",
     "output_type": "error",
     "traceback": [
      "\u001b[1;31m---------------------------------------------------------------------------\u001b[0m",
      "\u001b[1;31mTypeError\u001b[0m                                 Traceback (most recent call last)",
      "\u001b[1;32mc:\\Projetos\\scrapy_dom\\test.ipynb Cell 5'\u001b[0m in \u001b[0;36m<cell line: 1>\u001b[1;34m()\u001b[0m\n\u001b[1;32m----> <a href='vscode-notebook-cell:/c%3A/Projetos/scrapy_dom/test.ipynb#ch0000004?line=0'>1</a>\u001b[0m \u001b[39mfor\u001b[39;00m item \u001b[39min\u001b[39;00m lista:\n\u001b[0;32m      <a href='vscode-notebook-cell:/c%3A/Projetos/scrapy_dom/test.ipynb#ch0000004?line=1'>2</a>\u001b[0m     \u001b[39mprint\u001b[39m(item)\n",
      "\u001b[1;31mTypeError\u001b[0m: 'function' object is not iterable"
     ]
    }
   ],
   "source": [
    "for item in lista:\n",
    "    print(item)"
   ]
  },
  {
   "cell_type": "code",
   "execution_count": null,
   "metadata": {},
   "outputs": [],
   "source": []
  }
 ],
 "metadata": {
  "kernelspec": {
   "display_name": "Python 3.10.2 ('dom')",
   "language": "python",
   "name": "python3"
  },
  "language_info": {
   "codemirror_mode": {
    "name": "ipython",
    "version": 3
   },
   "file_extension": ".py",
   "mimetype": "text/x-python",
   "name": "python",
   "nbconvert_exporter": "python",
   "pygments_lexer": "ipython3",
   "version": "3.10.2"
  },
  "orig_nbformat": 4,
  "vscode": {
   "interpreter": {
    "hash": "31998cb917190a853c3fd1ae24bdc9afc831ff1caa3d83c63b3cf1ba0cc5525e"
   }
  }
 },
 "nbformat": 4,
 "nbformat_minor": 2
}
