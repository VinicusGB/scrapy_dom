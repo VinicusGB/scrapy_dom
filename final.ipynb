{
 "cells": [
  {
   "cell_type": "code",
   "execution_count": 50,
   "metadata": {},
   "outputs": [],
   "source": [
    "from datetime import datetime, date, timedelta\n",
    "from functools import reduce\n",
    "from pandas import read_csv\n",
    "from subprocess import call\n",
    "import subprocess"
   ]
  },
  {
   "cell_type": "code",
   "execution_count": 22,
   "metadata": {},
   "outputs": [],
   "source": [
    "class Diretorio():\n",
    "    '''Classe dos diretórios para salvar os dados'''\n",
    "    def __init__(self, published = datetime.now().date()):\n",
    "        self.base = os.getcwd()\n",
    "        self.remoto = f'{self.base}\\\\querido-diario\\\\data_collection\\\\data\\\\3550308\\\\{published}'\n",
    "        self.local = f'{self.base}\\\\outputs_files\\\\{published}'\n",
    "        #self.file_tsv = self.save + '\\\\' + [f for f in os.listdir(self.save) if f.endswith(\"tsv\")][0]\n",
    "        #self.files = os.listdir(self.data)\n",
    "    def __str__(self):\n",
    "        return self.base\n",
    "    def baixado(self):\n",
    "        '''Verifica o diretório remoto(querido-diario/data_collection/) e se os arquivos foram tratados'''\n",
    "        try:\n",
    "            os.listdir(self.remoto)\n",
    "            return print('Diário baixado')\n",
    "        except:\n",
    "            return print('Diário não foi baixado')\n",
    "    def tratado(self):\n",
    "        try:\n",
    "            os.listdir(self.local)\n",
    "            return print('Diário foi tratado')\n",
    "        except:\n",
    "            os.listdir()\n",
    "            return print('Diário não foi tratado')\n"
   ]
  },
  {
   "cell_type": "code",
   "execution_count": 41,
   "metadata": {},
   "outputs": [],
   "source": [
    "class Remoto():\n",
    "    '''Classe do diretório remoto'''\n",
    "    def __init__(self, published = datetime.now().date()):\n",
    "        self.base = f'{subprocess.os.getcwd()}\\\\querido-diario\\\\data_collection'\n",
    "        self.dir = f'{self.base}\\\\data\\\\3550308\\\\{published}'\n",
    "        '''Método que verfica se o DOM-SP foi baixado'''\n",
    "        def foi_baixado(self):\n",
    "            '''Método que verfica se os arquivos foram baixados, tratados e lista os arquivos'''\n",
    "            try: return True, os.listdir(self.dir)\n",
    "            except: return False, []\n",
    "        self.baixado, self.arquivos = foi_baixado(self)\n",
    "        def foi_tratado(self):\n",
    "            '''Método para verificar se os arquivos foram tratados'''\n",
    "            if self.baixado == True: return bool(reduce(lambda a,b: (str(a).startswith('pg_',0,3)) + (str(b).startswith('pg_',0,3)), self.arquivos))\n",
    "            else: return False\n",
    "        self.tratado = foi_tratado(self)\n",
    "    def baixar(self):\n",
    "        chdir(self.base)\n",
    "        call([\"rm\",\"-rf\",\".\"])\n",
    "\n",
    "\n",
    "        "
   ]
  },
  {
   "cell_type": "code",
   "execution_count": 42,
   "metadata": {},
   "outputs": [],
   "source": [
    "class Local():\n",
    "    '''Classe do diretório local'''\n",
    "    def __init__(self, published = datetime.now().date()):\n",
    "        self.dir = f'{getcwd()}\\\\outputs_files\\\\{published}'\n",
    "        "
   ]
  },
  {
   "cell_type": "code",
   "execution_count": 43,
   "metadata": {},
   "outputs": [],
   "source": [
    "class DOMSP():\n",
    "    '''Classe do Diário Oficial do Município de São Paulo - (DOM SP)'''\n",
    "    def __init__(self, published = datetime.now().date()):\n",
    "        '''Método que instância o objeto do DOM SP'''\n",
    "        def houve_publicacao(published):\n",
    "            '''Obtém a data atual e retorna uma string: (YYYY-mm-dd)'''\n",
    "            base = f'c:\\\\Projetos\\\\scrapy_dom\\\\'\n",
    "            chdir(base)\n",
    "            feriadosmunicipais = read_csv(f'{base}/Feriados/docs/FeriadosMunicipaisBr.csv',sep=';')\n",
    "            feriadosestaduais = read_csv(f'{base}/Feriados/docs/FeriadosEstaduaisBr.csv',sep=';')\n",
    "            feriadosnacionais = read_csv(f'{base}/Feriados/docs/FeriadosNacionaisBr.csv',sep=';')\n",
    "\n",
    "            feriados = feriadosmunicipais.query('UF == \"SP\" and NOME_DA_CIDADE == \"São Paulo\"')[['UF','NOME_DA_CIDADE','DIA','MÊS']]\n",
    "            feriados['EVENTO'] = 'Aniversário do Município de São Paulo'\n",
    "            feriados = feriados.append(feriadosestaduais.query('UF == \"SP\"'),ignore_index = True)\n",
    "            feriados = feriados.append(feriadosnacionais,ignore_index=True)\n",
    "            \n",
    "            while True:\n",
    "                if feriados.query(f'DIA == {published.day} and MÊS == {published.month}')['EVENTO'].count() != 0:\n",
    "                    published = published - timedelta(1)\n",
    "                    print(\"ATENÇÃO: Não houve publicação neste dia. Feriado.\")\n",
    "                    published = houve_publicacao(published)\n",
    "                elif (published.weekday() == 0 or published.weekday() == 6) and published <= datetime.now().date():\n",
    "                    if published.weekday() == 0:\n",
    "                        published = published - timedelta(2)\n",
    "                        print(\"ATENÇÃO: Não houve publicação neste dia. Data ajustada para o útlimo dia de publicação.\")\n",
    "                        break\n",
    "                    elif published.weekday() == 6:\n",
    "                        published = published - timedelta(1)\n",
    "                        print(\"ATENÇÃO : Não houve publicação neste dia. Data ajustada para o útlimo dia de publicação.\")\n",
    "                        break\n",
    "                elif published > datetime.now().date():\n",
    "                    published = houve_publicacao(datetime.now().date())\n",
    "                else:\n",
    "                    published = published\n",
    "                    break\n",
    "            return published\n",
    "        self.published = houve_publicacao(published)\n",
    "        self.year = published.year - 1955\n",
    "        print(f\"Diário Oficial do Município de São Paulo\\nData de publicação: {self.published}\")\n",
    "        self.remoto = Remoto(self.published)\n",
    "        self.local = Local(self.published)\n",
    "        self.edition = 0\n",
    "        self.pags = 0\n",
    "        self.head = f'São Paulo, {str(self.year)} ({str(self.edition)})'\n",
    "    def __str__(self):\n",
    "        '''Método para quando o objeto e chamado'''\n",
    "        return print(f\"\\\n",
    "        Diário Oficial do Município de São Paulo\\n\\\n",
    "        Data de publicação: {self.published}\\\n",
    "        \")\n",
    "        "
   ]
  },
  {
   "cell_type": "code",
   "execution_count": 44,
   "metadata": {},
   "outputs": [
    {
     "name": "stdout",
     "output_type": "stream",
     "text": [
      "ATENÇÃO: Não houve publicação neste dia. Feriado.\n",
      "ATENÇÃO : Não houve publicação neste dia. Data ajustada para o útlimo dia de publicação.\n",
      "Diário Oficial do Município de São Paulo\n",
      "Data de publicação: 2018-07-07\n"
     ]
    },
    {
     "name": "stderr",
     "output_type": "stream",
     "text": [
      "C:\\Users\\vinicius.gomes\\AppData\\Local\\Temp\\ipykernel_5968\\1378909895.py:15: FutureWarning: The frame.append method is deprecated and will be removed from pandas in a future version. Use pandas.concat instead.\n",
      "  feriados = feriados.append(feriadosestaduais.query('UF == \"SP\"'),ignore_index = True)\n",
      "C:\\Users\\vinicius.gomes\\AppData\\Local\\Temp\\ipykernel_5968\\1378909895.py:16: FutureWarning: The frame.append method is deprecated and will be removed from pandas in a future version. Use pandas.concat instead.\n",
      "  feriados = feriados.append(feriadosnacionais,ignore_index=True)\n",
      "C:\\Users\\vinicius.gomes\\AppData\\Local\\Temp\\ipykernel_5968\\1378909895.py:15: FutureWarning: The frame.append method is deprecated and will be removed from pandas in a future version. Use pandas.concat instead.\n",
      "  feriados = feriados.append(feriadosestaduais.query('UF == \"SP\"'),ignore_index = True)\n",
      "C:\\Users\\vinicius.gomes\\AppData\\Local\\Temp\\ipykernel_5968\\1378909895.py:16: FutureWarning: The frame.append method is deprecated and will be removed from pandas in a future version. Use pandas.concat instead.\n",
      "  feriados = feriados.append(feriadosnacionais,ignore_index=True)\n"
     ]
    }
   ],
   "source": [
    "dom_sp = DOMSP(date(2018,7,9))"
   ]
  },
  {
   "cell_type": "code",
   "execution_count": 45,
   "metadata": {},
   "outputs": [
    {
     "data": {
      "text/plain": [
       "'c:\\\\Projetos\\\\scrapy_dom\\\\querido-diario\\\\data_collection\\\\data\\\\3550308\\\\2018-07-07'"
      ]
     },
     "execution_count": 45,
     "metadata": {},
     "output_type": "execute_result"
    }
   ],
   "source": [
    "dom_sp.remoto.dir"
   ]
  },
  {
   "cell_type": "code",
   "execution_count": 46,
   "metadata": {},
   "outputs": [
    {
     "data": {
      "text/plain": [
       "True"
      ]
     },
     "execution_count": 46,
     "metadata": {},
     "output_type": "execute_result"
    }
   ],
   "source": [
    "dom_sp.remoto.baixado"
   ]
  },
  {
   "cell_type": "code",
   "execution_count": 47,
   "metadata": {},
   "outputs": [
    {
     "data": {
      "text/plain": [
       "['008280afbf4e209d1fc42b6ad00bbdec60ff6b64.pdf',\n",
       " '0176a869432a94e00a5f4d88bca247a597a5638b.pdf',\n",
       " '01dfe2963503b65e1306bbeaffe5f4838a975d84.pdf',\n",
       " '0204ef07be913de39657047b57e0368875383561.pdf',\n",
       " '03b6b9d3a02cff2fb6c1e737c5220c29150a7764.pdf',\n",
       " '0d1a744ab4ec86d8c6bd4f332d5343a4463c5a2a.pdf',\n",
       " '0f7931c865f1b9f9a93c4dc326c11c00d64e6dff.pdf',\n",
       " '10ad9de1c01a4dd7773dcbe00c13ad91a4a5cf50.pdf',\n",
       " '10fac6d0a53b0895480d10515b72678647a63007.pdf',\n",
       " '149e99d1649074d481da9c0cbc1fa946bce7ca13.pdf',\n",
       " '17631451f585d7867a39db7883f18df803be6882.pdf',\n",
       " '197e8e0b96b879fe37435e01f8e8ef41e7a4997c.pdf',\n",
       " '1a5bb3ec5573e1142d832be212bdca6d38886519.pdf',\n",
       " '1aac2e473cb8c3ed28b4d983d8136787989b008b.pdf',\n",
       " '203c2f1bc820084d75a9ee233c28918db2b1ab38.pdf',\n",
       " '28cd3c7b8d8cf7faa02b4261db1868641f9ee3ab.pdf',\n",
       " '292700ef738213c5ce3abd0984602914d375713c.pdf',\n",
       " '34cd0b08520947210e731d6df66bfea24b1689c2.pdf',\n",
       " '36a376a31748d9955a783c04f9f7eff7abf11833.pdf',\n",
       " '3e1436594c61858548947e8bfc1b897bea213299.pdf',\n",
       " '40dec0ab0c773f6b254359dd452f9680a4b2fe0b.pdf',\n",
       " '4131c022a510442ef5c6ff996309ab7ae5a6452d.pdf',\n",
       " '42a830fc920b201b4eb620f9a302a1a83c432060.pdf',\n",
       " '456e7c8cbbee0c6c1af4317e6c76b9d07c82cd31.pdf',\n",
       " '45cddbdbf7cd07d35fe93e0869041007029076f3.pdf',\n",
       " '464af4ea4f4d74a35510be97df6d4249f679a654.pdf',\n",
       " '5224ff2ec95e4566d4f763cf4d5bd6b004562d75.pdf',\n",
       " '52ab21d27f2d6d20d9dede1935ba8190e19944c9.pdf',\n",
       " '613dff3611270fea288a6b257f2973ab429278e9.pdf',\n",
       " '650419639d26e19091b2aef5b340c5d71edbbe5c.pdf',\n",
       " '67b4cfea3cfded355ceb0d61526d53f0f53e5a84.pdf',\n",
       " '6da946bbe445557ebb30ec9329ba7ac2e8ca420a.pdf',\n",
       " '7b343ec4b8509fda9cc5a746053b018afc02aa82.pdf',\n",
       " '85e1b281a0e7a0f0a53fd8f44ab84b82b0eafb7e.pdf',\n",
       " '86a9b16480796b38b60be59c65c2bd5ecc65ec81.pdf',\n",
       " '86c7afe340c44f80043ee2d4eb3561d9dc1b753e.pdf',\n",
       " '8a392be6f8a9968b1ee49de71423598359a86ae6.pdf',\n",
       " '8a4a7de8f0f1e85ea34e2956c95003fd6d6906a5.pdf',\n",
       " '9997e56c51b3058621efc4ca7c08164624fa1656.pdf',\n",
       " '99b04cf2a765e15c4838a2cb17dfe097218a1e79.pdf',\n",
       " '9eaa749c116d1cfd5ac9f7bd2baaddd1a5f101d3.pdf',\n",
       " 'a4642414db08c5a66d6f3914f2fb8f8a1baa4699.pdf',\n",
       " 'a67890103c3af6c11e2dd2493ebe56ca8399623e.pdf',\n",
       " 'aa25f6f14ce4f3b02db8cd73207b43c111e595cb.pdf',\n",
       " 'ac703d1b3707e86394bd82abe1bf94e0e5adf64e.pdf',\n",
       " 'ae63e96b3e5a84c732f1e55ad3d5f19ac29997ca.pdf',\n",
       " 'afce160d132f26de9cf23b19876528679dd4e222.pdf',\n",
       " 'b2b65e56a3af2e07daebb4f75222106c1d30b483.pdf',\n",
       " 'b82ac74a6f3733964aa7547f07b6bc1f393cab3a.pdf',\n",
       " 'b86a5ff6bde1f1b3b5e93827c7144622df2d004a.pdf',\n",
       " 'c3a7a3ad9192f3bacbb52a546f0a545225cf0f6b.pdf',\n",
       " 'c5b2d91bf23255cf2ebc848bcc75a09e79ae08cc.pdf',\n",
       " 'c9b7f0f93b8e372df1afd1a08ddf0b43b216afda.pdf',\n",
       " 'cd80345efbd15e82b457d160307fa4c5eb64943d.pdf',\n",
       " 'cf4bb055a724dce638de0e34434dff4f6d16ef79.pdf',\n",
       " 'd52e3374142868d5e9d08ed786aab3ed498f9301.pdf',\n",
       " 'da006508dde61241d9f37eb9b2863365de5b038b.pdf',\n",
       " 'da1f7867449b604f07db7b713988fa9b67760114.pdf',\n",
       " 'da4b5b0094da76be527cc0633f66f898d05190ed.pdf',\n",
       " 'dd123ed79a1b0e70c1e2075ec002a7313a715fc5.pdf',\n",
       " 'df89dcda5cd419f7c86e06865e27b7308a8c1c63.pdf',\n",
       " 'e1660cd5247d32bc38356c9c8199e56e027055c5.pdf',\n",
       " 'e25f2c7a7cf6ca2a8948db5df7624701cf33c4c5.pdf',\n",
       " 'e79d7cfb19534109fefc1b177721bd98b6726f57.pdf',\n",
       " 'ecc9c1ebc36e1c812e59b5efef31fef965cc24a0.pdf',\n",
       " 'edb79f8a4375f8409082783c525ea0829f547803.pdf',\n",
       " 'f24660e0c7f58e665c298a256e8fd97a5c38676f.pdf',\n",
       " 'f412ba1bf82f91cf8ff8fd2b281f19f0698e8785.pdf',\n",
       " 'fcc9255e0c0c445efae4090de3a3be95103e833d.pdf',\n",
       " 'fe584c614725064bbfaf27dbd64d33f4fbaa3724.pdf']"
      ]
     },
     "execution_count": 47,
     "metadata": {},
     "output_type": "execute_result"
    }
   ],
   "source": [
    "dom_sp.remoto.arquivos"
   ]
  },
  {
   "cell_type": "code",
   "execution_count": 48,
   "metadata": {},
   "outputs": [
    {
     "data": {
      "text/plain": [
       "False"
      ]
     },
     "execution_count": 48,
     "metadata": {},
     "output_type": "execute_result"
    }
   ],
   "source": [
    "dom_sp.remoto.tratado"
   ]
  },
  {
   "cell_type": "code",
   "execution_count": 49,
   "metadata": {},
   "outputs": [
    {
     "ename": "FileNotFoundError",
     "evalue": "[WinError 2] O sistema não pode encontrar o arquivo especificado",
     "output_type": "error",
     "traceback": [
      "\u001b[1;31m---------------------------------------------------------------------------\u001b[0m",
      "\u001b[1;31mFileNotFoundError\u001b[0m                         Traceback (most recent call last)",
      "\u001b[1;32mc:\\Projetos\\scrapy_dom\\final.ipynb Célula: 11\u001b[0m in \u001b[0;36m<cell line: 1>\u001b[1;34m()\u001b[0m\n\u001b[1;32m----> <a href='vscode-notebook-cell:/c%3A/Projetos/scrapy_dom/final.ipynb#X13sZmlsZQ%3D%3D?line=0'>1</a>\u001b[0m dom_sp\u001b[39m.\u001b[39;49mremoto\u001b[39m.\u001b[39;49mbaixar()\n",
      "\u001b[1;32mc:\\Projetos\\scrapy_dom\\final.ipynb Célula: 11\u001b[0m in \u001b[0;36mRemoto.baixar\u001b[1;34m(self)\u001b[0m\n\u001b[0;32m     <a href='vscode-notebook-cell:/c%3A/Projetos/scrapy_dom/final.ipynb#X13sZmlsZQ%3D%3D?line=16'>17</a>\u001b[0m \u001b[39mdef\u001b[39;00m \u001b[39mbaixar\u001b[39m(\u001b[39mself\u001b[39m):\n\u001b[0;32m     <a href='vscode-notebook-cell:/c%3A/Projetos/scrapy_dom/final.ipynb#X13sZmlsZQ%3D%3D?line=17'>18</a>\u001b[0m     chdir(\u001b[39mself\u001b[39m\u001b[39m.\u001b[39mbase)\n\u001b[1;32m---> <a href='vscode-notebook-cell:/c%3A/Projetos/scrapy_dom/final.ipynb#X13sZmlsZQ%3D%3D?line=18'>19</a>\u001b[0m     call([\u001b[39m\"\u001b[39;49m\u001b[39mrm\u001b[39;49m\u001b[39m\"\u001b[39;49m,\u001b[39m\"\u001b[39;49m\u001b[39m-rf\u001b[39;49m\u001b[39m\"\u001b[39;49m,\u001b[39m\"\u001b[39;49m\u001b[39m.\u001b[39;49m\u001b[39m\"\u001b[39;49m])\n",
      "File \u001b[1;32mC:\\Python310\\lib\\subprocess.py:345\u001b[0m, in \u001b[0;36mcall\u001b[1;34m(timeout, *popenargs, **kwargs)\u001b[0m\n\u001b[0;32m    337\u001b[0m \u001b[39mdef\u001b[39;00m \u001b[39mcall\u001b[39m(\u001b[39m*\u001b[39mpopenargs, timeout\u001b[39m=\u001b[39m\u001b[39mNone\u001b[39;00m, \u001b[39m*\u001b[39m\u001b[39m*\u001b[39mkwargs):\n\u001b[0;32m    338\u001b[0m     \u001b[39m\"\"\"Run command with arguments.  Wait for command to complete or\u001b[39;00m\n\u001b[0;32m    339\u001b[0m \u001b[39m    timeout, then return the returncode attribute.\u001b[39;00m\n\u001b[0;32m    340\u001b[0m \n\u001b[1;32m   (...)\u001b[0m\n\u001b[0;32m    343\u001b[0m \u001b[39m    retcode = call([\"ls\", \"-l\"])\u001b[39;00m\n\u001b[0;32m    344\u001b[0m \u001b[39m    \"\"\"\u001b[39;00m\n\u001b[1;32m--> 345\u001b[0m     \u001b[39mwith\u001b[39;00m Popen(\u001b[39m*\u001b[39mpopenargs, \u001b[39m*\u001b[39m\u001b[39m*\u001b[39mkwargs) \u001b[39mas\u001b[39;00m p:\n\u001b[0;32m    346\u001b[0m         \u001b[39mtry\u001b[39;00m:\n\u001b[0;32m    347\u001b[0m             \u001b[39mreturn\u001b[39;00m p\u001b[39m.\u001b[39mwait(timeout\u001b[39m=\u001b[39mtimeout)\n",
      "File \u001b[1;32mC:\\Python310\\lib\\subprocess.py:966\u001b[0m, in \u001b[0;36mPopen.__init__\u001b[1;34m(self, args, bufsize, executable, stdin, stdout, stderr, preexec_fn, close_fds, shell, cwd, env, universal_newlines, startupinfo, creationflags, restore_signals, start_new_session, pass_fds, user, group, extra_groups, encoding, errors, text, umask, pipesize)\u001b[0m\n\u001b[0;32m    962\u001b[0m         \u001b[39mif\u001b[39;00m \u001b[39mself\u001b[39m\u001b[39m.\u001b[39mtext_mode:\n\u001b[0;32m    963\u001b[0m             \u001b[39mself\u001b[39m\u001b[39m.\u001b[39mstderr \u001b[39m=\u001b[39m io\u001b[39m.\u001b[39mTextIOWrapper(\u001b[39mself\u001b[39m\u001b[39m.\u001b[39mstderr,\n\u001b[0;32m    964\u001b[0m                     encoding\u001b[39m=\u001b[39mencoding, errors\u001b[39m=\u001b[39merrors)\n\u001b[1;32m--> 966\u001b[0m     \u001b[39mself\u001b[39;49m\u001b[39m.\u001b[39;49m_execute_child(args, executable, preexec_fn, close_fds,\n\u001b[0;32m    967\u001b[0m                         pass_fds, cwd, env,\n\u001b[0;32m    968\u001b[0m                         startupinfo, creationflags, shell,\n\u001b[0;32m    969\u001b[0m                         p2cread, p2cwrite,\n\u001b[0;32m    970\u001b[0m                         c2pread, c2pwrite,\n\u001b[0;32m    971\u001b[0m                         errread, errwrite,\n\u001b[0;32m    972\u001b[0m                         restore_signals,\n\u001b[0;32m    973\u001b[0m                         gid, gids, uid, umask,\n\u001b[0;32m    974\u001b[0m                         start_new_session)\n\u001b[0;32m    975\u001b[0m \u001b[39mexcept\u001b[39;00m:\n\u001b[0;32m    976\u001b[0m     \u001b[39m# Cleanup if the child failed starting.\u001b[39;00m\n\u001b[0;32m    977\u001b[0m     \u001b[39mfor\u001b[39;00m f \u001b[39min\u001b[39;00m \u001b[39mfilter\u001b[39m(\u001b[39mNone\u001b[39;00m, (\u001b[39mself\u001b[39m\u001b[39m.\u001b[39mstdin, \u001b[39mself\u001b[39m\u001b[39m.\u001b[39mstdout, \u001b[39mself\u001b[39m\u001b[39m.\u001b[39mstderr)):\n",
      "File \u001b[1;32mC:\\Python310\\lib\\subprocess.py:1435\u001b[0m, in \u001b[0;36mPopen._execute_child\u001b[1;34m(self, args, executable, preexec_fn, close_fds, pass_fds, cwd, env, startupinfo, creationflags, shell, p2cread, p2cwrite, c2pread, c2pwrite, errread, errwrite, unused_restore_signals, unused_gid, unused_gids, unused_uid, unused_umask, unused_start_new_session)\u001b[0m\n\u001b[0;32m   1433\u001b[0m \u001b[39m# Start the process\u001b[39;00m\n\u001b[0;32m   1434\u001b[0m \u001b[39mtry\u001b[39;00m:\n\u001b[1;32m-> 1435\u001b[0m     hp, ht, pid, tid \u001b[39m=\u001b[39m _winapi\u001b[39m.\u001b[39;49mCreateProcess(executable, args,\n\u001b[0;32m   1436\u001b[0m                              \u001b[39m# no special security\u001b[39;49;00m\n\u001b[0;32m   1437\u001b[0m                              \u001b[39mNone\u001b[39;49;00m, \u001b[39mNone\u001b[39;49;00m,\n\u001b[0;32m   1438\u001b[0m                              \u001b[39mint\u001b[39;49m(\u001b[39mnot\u001b[39;49;00m close_fds),\n\u001b[0;32m   1439\u001b[0m                              creationflags,\n\u001b[0;32m   1440\u001b[0m                              env,\n\u001b[0;32m   1441\u001b[0m                              cwd,\n\u001b[0;32m   1442\u001b[0m                              startupinfo)\n\u001b[0;32m   1443\u001b[0m \u001b[39mfinally\u001b[39;00m:\n\u001b[0;32m   1444\u001b[0m     \u001b[39m# Child is launched. Close the parent's copy of those pipe\u001b[39;00m\n\u001b[0;32m   1445\u001b[0m     \u001b[39m# handles that only the child should have open.  You need\u001b[39;00m\n\u001b[1;32m   (...)\u001b[0m\n\u001b[0;32m   1448\u001b[0m     \u001b[39m# pipe will not close when the child process exits and the\u001b[39;00m\n\u001b[0;32m   1449\u001b[0m     \u001b[39m# ReadFile will hang.\u001b[39;00m\n\u001b[0;32m   1450\u001b[0m     \u001b[39mself\u001b[39m\u001b[39m.\u001b[39m_close_pipe_fds(p2cread, p2cwrite,\n\u001b[0;32m   1451\u001b[0m                          c2pread, c2pwrite,\n\u001b[0;32m   1452\u001b[0m                          errread, errwrite)\n",
      "\u001b[1;31mFileNotFoundError\u001b[0m: [WinError 2] O sistema não pode encontrar o arquivo especificado"
     ]
    }
   ],
   "source": [
    "dom_sp.remoto.baixar()"
   ]
  },
  {
   "cell_type": "code",
   "execution_count": null,
   "metadata": {},
   "outputs": [],
   "source": [
    "getcwd()"
   ]
  },
  {
   "cell_type": "code",
   "execution_count": 51,
   "metadata": {},
   "outputs": [
    {
     "data": {
      "text/plain": [
       "'c:\\\\Projetos\\\\scrapy_dom\\\\querido-diario\\\\data_collection'"
      ]
     },
     "execution_count": 51,
     "metadata": {},
     "output_type": "execute_result"
    }
   ],
   "source": [
    "subprocess.os.getcwd()"
   ]
  },
  {
   "cell_type": "code",
   "execution_count": null,
   "metadata": {},
   "outputs": [],
   "source": []
  }
 ],
 "metadata": {
  "kernelspec": {
   "display_name": "Python 3.10.2 ('dom')",
   "language": "python",
   "name": "python3"
  },
  "language_info": {
   "codemirror_mode": {
    "name": "ipython",
    "version": 3
   },
   "file_extension": ".py",
   "mimetype": "text/x-python",
   "name": "python",
   "nbconvert_exporter": "python",
   "pygments_lexer": "ipython3",
   "version": "3.10.2"
  },
  "orig_nbformat": 4,
  "vscode": {
   "interpreter": {
    "hash": "31998cb917190a853c3fd1ae24bdc9afc831ff1caa3d83c63b3cf1ba0cc5525e"
   }
  }
 },
 "nbformat": 4,
 "nbformat_minor": 2
}
