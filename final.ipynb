{
 "cells": [
  {
   "cell_type": "code",
   "execution_count": 1,
   "metadata": {},
   "outputs": [],
   "source": [
    "from datetime import datetime, date, timedelta\n",
    "from functools import reduce\n",
    "from pandas import read_csv\n",
    "import fitz as fz\n",
    "import subprocess\n",
    "import essentials_func"
   ]
  },
  {
   "cell_type": "code",
   "execution_count": 2,
   "metadata": {},
   "outputs": [],
   "source": [
    "class Diretorio():\n",
    "    '''Classe dos diretórios para salvar os dados'''\n",
    "    def __init__(self, published = datetime.now().date()):\n",
    "        self.base = subprocess.os.getcwd()\n",
    "        self.remoto = subprocess.os.path.join(self.base,'querido-diario','data_collection','data','3550308',str(published))\n",
    "        self.local = subprocess.os.path.join(self.base,'outputs_files',str(published))\n",
    "        #self.file_tsv = PurePath.joinpath(self.save,[f for f in Path.iterdir(self.save) if f.endswith(\"tsv\")][0])\n",
    "        #self.files = Path.iterdir(self.data)\n",
    "    def __str__(self):\n",
    "        return self.base\n",
    "    def baixado(self):\n",
    "        '''Verifica o diretório remoto(querido-diario/data_collection/) e se os arquivos foram tratados'''\n",
    "        try:\n",
    "            subprocess.os.listdir(self.remoto)\n",
    "            return print('Diário baixado')\n",
    "        except:\n",
    "            return print('Diário não foi baixado')\n",
    "    def tratado(self):\n",
    "        try: \n",
    "            subprocess.os.listdir(self.local)\n",
    "            return print('Diário foi tratado')\n",
    "        except:\n",
    "            return print('Diário não foi tratado')"
   ]
  },
  {
   "cell_type": "code",
   "execution_count": 3,
   "metadata": {},
   "outputs": [
    {
     "name": "stdout",
     "output_type": "stream",
     "text": [
      "c:\\Projetos\\scrapy_dom\n",
      "c:\\Projetos\\scrapy_dom\\outputs_files\\2022-08-26\n",
      "c:\\Projetos\\scrapy_dom\\querido-diario\\data_collection\\data\\3550308\\2022-08-26\n"
     ]
    }
   ],
   "source": [
    "teste = Diretorio()\n",
    "print(teste.base)\n",
    "print(teste.local)\n",
    "print(teste.remoto)"
   ]
  },
  {
   "cell_type": "code",
   "execution_count": 4,
   "metadata": {},
   "outputs": [],
   "source": [
    "subprocess.os.chdir('c:\\Projetos\\scrapy_dom')\n",
    "class Remoto():\n",
    "    '''Classe do diretório remoto'''\n",
    "    def __init__(self, published = datetime.now().date()):\n",
    "        self.published = published\n",
    "        self.base = subprocess.os.path.join(subprocess.os.getcwd(),'querido-diario','data_collection')\n",
    "        self.dir = subprocess.os.path.join(self.base,'data','3550308',str(published))\n",
    "        def foi_baixado(self):\n",
    "            '''Método que verfica se os arquivos foram baixados, tratados e lista os arquivos'''\n",
    "            try: return True, subprocess.os.listdir(self.dir)\n",
    "            except: return False, []\n",
    "        self.baixado, self.arquivos_baixados = foi_baixado(self)\n",
    "        def foi_tratado(self):\n",
    "                    '''Método para verificar se os arquivos foram tratados'''\n",
    "                    if self.baixado == True: return bool(reduce(lambda a,b: (str(a).startswith('pg_',0,3)) + (str(b).startswith('pg_',0,3)), self.arquivos_baixados))\n",
    "                    else: return False\n",
    "        self.tratado = foi_tratado(self)\n",
    "    def baixar(self):\n",
    "        subprocess.os.chdir('c:\\Projetos\\scrapy_dom')\n",
    "        try:\n",
    "            [subprocess.os.remove(subprocess.os.path.join(self.dir,arquivo)) for arquivo in self.arquivos_baixados]\n",
    "            subprocess.os.removedirs(self.dir)\n",
    "            print(\"Arquivos apagados\")\n",
    "        except FileNotFoundError:\n",
    "            print(\"Diretório não existe\")\n",
    "            pass   \n",
    "        subprocess.os.chdir(self.base)\n",
    "        print(\"Baixando o diário\")\n",
    "        subprocess.call([\"scrapy\",\"crawl\",\"sp_sao_paulo\",\"-a\",f\"start_date={str(self.published)}\"])\n",
    "        print(\"Diário baixado\")"
   ]
  },
  {
   "cell_type": "code",
   "execution_count": 5,
   "metadata": {},
   "outputs": [
    {
     "name": "stdout",
     "output_type": "stream",
     "text": [
      "c:\\Projetos\\scrapy_dom\\querido-diario\\data_collection\n",
      "c:\\Projetos\\scrapy_dom\\querido-diario\\data_collection\\data\\3550308\\2022-01-11\n",
      "2022-01-11\n",
      "True\n",
      "['001fcc2f32f61e4b6932cf3208145d03890d8921.pdf', '00482eb3931ee60630bc15833cfd4e07516c8cc3.pdf', '09c7a9bd661b53166fd74c67d9603706ee9e8394.pdf', '17e598a0f1fd11a4491341cc521369a84c0a6ca3.pdf', '19b5032e4a55197c1ea176f7520ca87c55bdfd7d.pdf', '1d9bc0d4dfb62f14f7bb8d56541efda6cc3eae6f.pdf', '2280f51faac3ec40a7e7013c9bfd8480b15e5d11.pdf', '22f6e821822060f3455a2af2168e72999243e5d4.pdf', '2cfb57fa48e212afa3d41d9d7eb957f95f0e57eb.pdf', '2d36998aed97ee527b11a990b151b2d465931685.pdf', '350129dee9198f40efc8827671382539a488dddd.pdf', '389086301f966c759492a25e0d7d44e8b907410f.pdf', '3b7f01a5fedba9bdec29e413f74481980272728f.pdf', '3bf1686a61eb3dc192a926095f4698a4ee634363.pdf', '3d4632c44650f87d23121f42f3b41ed036ab92b0.pdf', '3e131baa8919caf0c684d28ab93e2a9fe3191743.pdf', '48202335d1bb22a57e4aa1eb80cfb8f6fe7712b5.pdf', '4c436f389ed3614bb15e087918c2ae0adc521045.pdf', '4fcf0ce8df438d2d1dfdfe1589381ab24a1ce821.pdf', '515a1e32cc5f3d5fcc011d1096b1ddc2ce9b8d43.pdf', '5487ce11cabe6b2339d979d9c775d9432862e250.pdf', '5aad0103372e1551fce12b8ac64508fb9de01b4e.pdf', '5b761584d7eba72b002cfbd233ed7c85f4ec07b8.pdf', '5c81f639ead4ad35c608989779e314e07f037938.pdf', '5da520c696e5fed74d4a0bce4de58befd88db9a1.pdf', '5dbb181bda54524840be084703ba31ba74194a86.pdf', '6332b82bea935b8e243b4a1f51c3e72f02b8f033.pdf', '677f4591928f3eb481a994c8b3b93adab6bed77f.pdf', '6966630a5ec1b0a3008b8bfd57074adee1fa70bc.pdf', '6d81140761eb1c87536bd5b837c221211ff4763d.pdf', '72ca9ad92ac56c05b20a431a1bced9f3970acfad.pdf', '732c4d0a30e9451ace29b52371bf883527052c36.pdf', '73ec05fe63c25dae1a87e4adf27a5c5ef2c9d6b3.pdf', '817e0533a8823aa3f34d50f47154d139674e4b35.pdf', '83171484e4082ed0854391c2f3568f1fe4eeedfd.pdf', '836846e901df1cfa0f2105ade3d66b08182ee86a.pdf', '85056770591398799ec3357b66110c3327112a68.pdf', '88335a1d5e4758ca365514dae31da3b87cd7752c.pdf', '918c8c2f115981a953bc4894e75734aeb3b9e030.pdf', '9256264251cbf9d39858455980b6352a27eaa0f2.pdf', '97609a42f6a428b6aadbb6cab06f18c7a5883752.pdf', '97a11665d08b2a6088ef5c56519941d0818f1054.pdf', '9a0d8914b9e820e022630a977316f66b0d7635aa.pdf', '9b889a8b5e00a2ba1f85de22f4ef55dd231ca2dd.pdf', 'a0c2fde54e1e23c0990a13107663004849aa38fa.pdf', 'a2406f34b97255da760b4eac70c5f3b328c95b1f.pdf', 'a24176a5b97f2ca65dec65180803f732d655901d.pdf', 'a556c8bc1cb7b77f2838c75464b28e39c7e78579.pdf', 'a689449ebce4fe0e93c1194d05b662cb1e755054.pdf', 'a6ab69eed2effa590b73ad0f3ed0940a62cbbd56.pdf', 'a7c1141c39578a7fcef0d3e65a604c34306777df.pdf', 'a9e61c37766e80735062003dd5ef9597654adfee.pdf', 'a9ecd8e93d24dcba6e259e56c0739f6929c9bcec.pdf', 'aa4179ced3d44b6f5abbb227b691e1e89393f2b0.pdf', 'aa51d44eee5fe514ef8b5c308959dd04418119be.pdf', 'ac25abd826b36cf0b9bca5485b2393c99c7070dc.pdf', 'af8a94cf66bcb5a4e6add1ae867ab747c21d9d34.pdf', 'b2b03f0148b635d5f9f732ae2b8b8ffb08ec4153.pdf', 'b594f7bc5353e428d86a517e16e5326bb3367e6b.pdf', 'b8042110100a2726fc2ef021b5702515db31f082.pdf', 'b83f59d18045eb4c9d17e23ceb76338cfdb1f5cb.pdf', 'c00ebd12e17e564edc3ca304aeeb41b49f3a20c9.pdf', 'c1478d5e1ceb7e1af363002fb579913f018158d6.pdf', 'c5490c67123139c3c0111d80dd972e183551f29f.pdf', 'cbe4bbc9bd8b042cdba9e6232bb63db9367d5e99.pdf', 'cce2c6aecf75fb0e6eb8da52c29b653cfbdceeb7.pdf', 'cdbd6807017bb722538bbc8b4096dcff4de7f3bb.pdf', 'cfd84d4c7770f2eacb65a70341c710e0cbb6b12a.pdf', 'd78db903f85e1cd4ead74e1c8a82d468978bb1f2.pdf', 'd7b50ee682457864617522956a1ab150c3343ff8.pdf', 'e8d50cfe665f7620a50b2682b0954d573828378a.pdf', 'f21903bf59d798dc31553cf847b8ad7ef1c115ba.pdf', 'f364f4ea5869277678b900c2be4ca0b3bba7afd6.pdf', 'f41ec3959c7a841a52bfdb2585bddd3730d8fb6d.pdf', 'f4b67667d0ddf9c857a0c867386f82699a753e97.pdf', 'ffdf82daca5a2a9598506e3f24be2dd5e1962853.pdf']\n",
      "False\n"
     ]
    }
   ],
   "source": [
    "teste = Remoto(date(2022,1,11))\n",
    "print(teste.base)\n",
    "print(teste.dir)\n",
    "print(teste.published)\n",
    "print(teste.baixado)\n",
    "print(teste.arquivos_baixados)\n",
    "print(teste.tratado)"
   ]
  },
  {
   "cell_type": "code",
   "execution_count": 6,
   "metadata": {},
   "outputs": [
    {
     "name": "stdout",
     "output_type": "stream",
     "text": [
      "Arquivos apagados\n",
      "Baixando o diário\n",
      "Diário baixado\n"
     ]
    }
   ],
   "source": [
    "teste.baixar()"
   ]
  },
  {
   "cell_type": "code",
   "execution_count": 7,
   "metadata": {},
   "outputs": [],
   "source": [
    "class Local():\n",
    "    '''Classe do diretório local'''\n",
    "    def __init__(self, published = datetime.now().date()):\n",
    "        self.published = published\n",
    "        self.base = subprocess.os.path.join(subprocess.os.getcwd())\n",
    "        self.dir = subprocess.os.path.join(self.base,'outputs_files',str(published))\n",
    "        def foi_baixado(self):\n",
    "            '''Método que verfica se os arquivos foram baixados, tratados e lista os arquivos'''\n",
    "            try: return True, subprocess.os.listdir(self.dir)\n",
    "            except: return False, []\n",
    "        self.baixado, self.arquivos_baixados = foi_baixado(self)\n",
    "        def foi_tratado(self):\n",
    "                    '''Método para verificar se os arquivos foram tratados'''\n",
    "                    if self.baixado == True: return bool(reduce(lambda a,b: (str(a).startswith('pg_',0,3)) + (str(b).startswith('pg_',0,3)), self.arquivos_baixados))\n",
    "                    else: return False\n",
    "        self.tratado = foi_tratado(self)"
   ]
  },
  {
   "cell_type": "code",
   "execution_count": null,
   "metadata": {},
   "outputs": [],
   "source": [
    "class DOMSP():\n",
    "    '''Classe do Diário Oficial do Município de São Paulo - (DOM SP)'''\n",
    "    def __init__(self, published = datetime.now().date()):\n",
    "        '''Método que instância o objeto do DOM SP'''\n",
    "        def houve_publicacao(published):\n",
    "            '''Obtém a data atual e retorna uma string: (YYYY-mm-dd)'''\n",
    "            base = f'c:\\\\Projetos\\\\scrapy_dom\\\\'\n",
    "            subprocess.os.chdir(base)\n",
    "            feriadosmunicipais = read_csv(f'{base}/Feriados/docs/FeriadosMunicipaisBr.csv',sep=';')\n",
    "            feriadosestaduais = read_csv(f'{base}/Feriados/docs/FeriadosEstaduaisBr.csv',sep=';')\n",
    "            feriadosnacionais = read_csv(f'{base}/Feriados/docs/FeriadosNacionaisBr.csv',sep=';')\n",
    "\n",
    "            feriados = feriadosmunicipais.query('UF == \"SP\" and NOME_DA_CIDADE == \"São Paulo\"')[['UF','NOME_DA_CIDADE','DIA','MÊS']]\n",
    "            feriados['EVENTO'] = 'Aniversário do Município de São Paulo'\n",
    "            feriados = feriados.append(feriadosestaduais.query('UF == \"SP\"'),ignore_index = True)\n",
    "            feriados = feriados.append(feriadosnacionais,ignore_index=True)\n",
    "            \n",
    "            while True:\n",
    "                if feriados.query(f'DIA == {published.day} and MÊS == {published.month}')['EVENTO'].count() != 0:\n",
    "                    published = published - timedelta(1)\n",
    "                    print(\"ATENÇÃO: Não houve publicação neste dia. Feriado.\")\n",
    "                    published = houve_publicacao(published)\n",
    "                elif (published.weekday() == 0 or published.weekday() == 6) and published <= datetime.now().date():\n",
    "                    if published.weekday() == 0:\n",
    "                        published = published - timedelta(2)\n",
    "                        print(\"ATENÇÃO: Não houve publicação neste dia. Data ajustada para o útlimo dia de publicação.\")\n",
    "                        break\n",
    "                    elif published.weekday() == 6:\n",
    "                        published = published - timedelta(1)\n",
    "                        print(\"ATENÇÃO : Não houve publicação neste dia. Data ajustada para o útlimo dia de publicação.\")\n",
    "                        break\n",
    "                elif published > datetime.now().date():\n",
    "                    published = houve_publicacao(datetime.now().date())\n",
    "                else:\n",
    "                    published = published\n",
    "                    break\n",
    "            return published\n",
    "        self.published = houve_publicacao(published)\n",
    "        self.year = published.year - 1955\n",
    "        self.dir = Diretorio(self.published)\n",
    "        print(f\"Diário Oficial do Município de São Paulo\\nData de publicação: {self.published}\")\n",
    "        self.remoto = Remoto(self.published)\n",
    "        self.local = Local(self.published)\n",
    "        self.edition = 0\n",
    "        self.pags = 0\n",
    "        self.head = f'São Paulo, {str(self.year)} ({str(self.edition)})'\n",
    "    def __str__(self):\n",
    "        '''Método para quando o objeto e chamado'''\n",
    "        return print(f\"\\\n",
    "        Diário Oficial do Município de São Paulo\\n\\\n",
    "        Data de publicação: {self.published}\\\n",
    "        \")\n",
    "        "
   ]
  },
  {
   "cell_type": "code",
   "execution_count": null,
   "metadata": {},
   "outputs": [],
   "source": [
    "dom_sp = DOMSP(date(2018,7,9))"
   ]
  },
  {
   "cell_type": "code",
   "execution_count": null,
   "metadata": {},
   "outputs": [],
   "source": [
    "dom_sp.remoto.dir"
   ]
  },
  {
   "cell_type": "code",
   "execution_count": null,
   "metadata": {},
   "outputs": [],
   "source": [
    "dom_sp.remoto.baixado"
   ]
  },
  {
   "cell_type": "code",
   "execution_count": null,
   "metadata": {},
   "outputs": [],
   "source": [
    "dom_sp.remoto.arquivos_baixados"
   ]
  },
  {
   "cell_type": "code",
   "execution_count": null,
   "metadata": {},
   "outputs": [],
   "source": [
    "dom_sp.remoto.tratado"
   ]
  },
  {
   "cell_type": "code",
   "execution_count": null,
   "metadata": {},
   "outputs": [],
   "source": [
    "dom_sp.remoto.baixar()"
   ]
  }
 ],
 "metadata": {
  "kernelspec": {
   "display_name": "Python 3.10.2 ('dom')",
   "language": "python",
   "name": "python3"
  },
  "language_info": {
   "codemirror_mode": {
    "name": "ipython",
    "version": 3
   },
   "file_extension": ".py",
   "mimetype": "text/x-python",
   "name": "python",
   "nbconvert_exporter": "python",
   "pygments_lexer": "ipython3",
   "version": "3.10.2"
  },
  "orig_nbformat": 4,
  "vscode": {
   "interpreter": {
    "hash": "31998cb917190a853c3fd1ae24bdc9afc831ff1caa3d83c63b3cf1ba0cc5525e"
   }
  }
 },
 "nbformat": 4,
 "nbformat_minor": 2
}
