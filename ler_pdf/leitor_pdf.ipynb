{
 "cells": [
  {
   "cell_type": "markdown",
   "metadata": {},
   "source": [
    "# Ler PDF (Portable Document Format)\n",
    "Estudo para verificar qual a melhor biblioteca para leitura do DOM-SP (Diário Oficial do Município de São Paulo)."
   ]
  },
  {
   "cell_type": "markdown",
   "metadata": {},
   "source": [
    "## Dados de exemplo"
   ]
  },
  {
   "cell_type": "code",
   "execution_count": 84,
   "metadata": {},
   "outputs": [],
   "source": [
    "# Importação das bibliotecas necessárias\n",
    "from datetime import date, datetime, timedelta\n",
    "from os import getcwd, path, listdir, chdir\n",
    "import datetime\n",
    "import os"
   ]
  },
  {
   "cell_type": "code",
   "execution_count": 87,
   "metadata": {},
   "outputs": [
    {
     "name": "stdout",
     "output_type": "stream",
     "text": [
      "DATA_DIR: c:\\Projetos\\sindsep-remocao_pmsp\\ler_pdf\\data\\files_pdf\n",
      "FILE_NAME: c:\\Projetos\\sindsep-remocao_pmsp\\ler_pdf\\data\\files_pdf\\pg_035-5a16426d8c12e74a30aa609cc7563a92704fd873.pdf\n"
     ]
    }
   ],
   "source": [
    "dt_now = date.today()\n",
    "year_edition_dom = dt_now.year - 1955\n",
    "head_dom ='São Paulo, ' + str(year_edition_dom) + ' ('\n",
    "if dt_now.weekday() == 0:\n",
    "        dt_now = dt_now + timedelta(-2)\n",
    "        dt_now = dt_now.strftime(\"%Y-%m-%d\")\n",
    "else:\n",
    "        dt_now = dt_now.strftime(\"%Y-%m-%d\")\n",
    "\n",
    "\n",
    "BASE_DIR = os.getcwd()\n",
    "DATA_DIR = os.path.join(BASE_DIR,'data\\\\files_pdf')\n",
    "os.chdir(BASE_DIR)\n",
    "print(f\"DATA_DIR: {DATA_DIR}\")\n",
    "list_files_names = os.listdir(DATA_DIR)\n",
    "file_test = DATA_DIR +'\\\\'+ list_files_names[2]\n",
    "SAVE_DIR = \"data\\\\outputs_ler_pdf\\\\\"\n",
    "print(f\"FILE_NAME: {file_test}\")"
   ]
  },
  {
   "cell_type": "markdown",
   "metadata": {},
   "source": [
    "## Biblioteca PyMuPDF\n",
    "[Documentação]('https://pymupdf.readthedocs.io/en/latest/installation.html')"
   ]
  },
  {
   "cell_type": "code",
   "execution_count": 88,
   "metadata": {},
   "outputs": [
    {
     "name": "stdout",
     "output_type": "stream",
     "text": [
      "Requirement already satisfied: pymupdf in c:\\projetos\\envs\\env_dom\\lib\\site-packages (1.19.6)\n"
     ]
    }
   ],
   "source": [
    "### Instalação\n",
    "!pip install --upgrade pymupdf"
   ]
  },
  {
   "cell_type": "code",
   "execution_count": 89,
   "metadata": {},
   "outputs": [],
   "source": [
    "### Importando a biblioteca\n",
    "import fitz as fz"
   ]
  },
  {
   "cell_type": "code",
   "execution_count": 90,
   "metadata": {},
   "outputs": [],
   "source": [
    "### Lendo o arquivo\n",
    "with fz.open(file_test) as file:\n",
    "        contexts = ''\n",
    "        for page in file:\n",
    "                contexts += page.get_text()"
   ]
  },
  {
   "cell_type": "code",
   "execution_count": 91,
   "metadata": {},
   "outputs": [],
   "source": [
    "### Salvando o arquivo final\n",
    "with open(f\"{SAVE_DIR}output_fitz.txt\",\"w\",encoding='utf-8-sig') as output_file:\n",
    "    output_file.write(contexts)"
   ]
  },
  {
   "cell_type": "markdown",
   "metadata": {},
   "source": [
    "## Biblioteca PyPDF2\n",
    "[Documentação]('https://pypi.org/project/PyPDF2/')"
   ]
  },
  {
   "cell_type": "code",
   "execution_count": 92,
   "metadata": {},
   "outputs": [
    {
     "name": "stdout",
     "output_type": "stream",
     "text": [
      "Requirement already satisfied: PyPDF2 in c:\\projetos\\envs\\env_dom\\lib\\site-packages (1.27.12)\n"
     ]
    }
   ],
   "source": [
    "# Instalação\n",
    "!pip install PyPDF2"
   ]
  },
  {
   "cell_type": "code",
   "execution_count": 93,
   "metadata": {},
   "outputs": [],
   "source": [
    "### Importando as bibliotecas\n",
    "import re\n",
    "import PyPDF2\n",
    "from PyPDF2 import PdfFileReader\n"
   ]
  },
  {
   "cell_type": "code",
   "execution_count": 94,
   "metadata": {},
   "outputs": [
    {
     "name": "stdout",
     "output_type": "stream",
     "text": [
      "Número de páginas: 1\n"
     ]
    }
   ],
   "source": [
    "### Lendo o arquivo\n",
    "\n",
    "file = open(file_test, 'rb')\n",
    "read_pdf = PyPDF2.PdfFileReader(file)       # Faz a leitura usando a biblioteca\n",
    "number_of_pages = read_pdf.getNumPages()    # pega o numero de páginas\n",
    "print(f\"Número de páginas: {number_of_pages}\")\n",
    "page = read_pdf.getPage(0)                  # lê a primeira página completa\n",
    "page_content = page.extractText()           # extrai apenas o texto\n",
    "contexts = ''.join(page_content)              # faz a junção das linhas "
   ]
  },
  {
   "cell_type": "code",
   "execution_count": 95,
   "metadata": {},
   "outputs": [],
   "source": [
    "### Salvando o arquivo final\n",
    "\n",
    "with open(f\"{SAVE_DIR}output_pyPDF2.txt\",\"w\",encoding='utf-8-sig') as output_file:\n",
    "    output_file.write(contexts)"
   ]
  },
  {
   "cell_type": "markdown",
   "metadata": {},
   "source": [
    "### Merge PDFs"
   ]
  },
  {
   "cell_type": "code",
   "execution_count": 99,
   "metadata": {},
   "outputs": [],
   "source": [
    "import os\n",
    "from PyPDF2 import PdfFileReader, PdfFileMerger\n",
    "\n",
    "pdf_files = [f for f in os.listdir(DATA_DIR) if f.endswith(\"pdf\")]\n",
    "merger = PdfFileMerger()\n",
    "\n",
    "for filename in pdf_files:\n",
    "    merger.append(PdfFileReader(os.path.join(DATA_DIR, filename), \"rb\"))\n",
    "\n",
    "merger.write(os.path.join(SAVE_DIR, \"output_pyPDF2_merged_full.pdf\"))"
   ]
  },
  {
   "cell_type": "markdown",
   "metadata": {},
   "source": [
    "## Biblioteca Tabula\n",
    "[Documentação]('https://pypi.org/project/tabula-py/')"
   ]
  },
  {
   "cell_type": "code",
   "execution_count": 100,
   "metadata": {},
   "outputs": [
    {
     "name": "stdout",
     "output_type": "stream",
     "text": [
      "Requirement already satisfied: tabula-py in c:\\projetos\\envs\\env_dom\\lib\\site-packages (2.3.0)\n",
      "Requirement already satisfied: pandas>=0.25.3 in c:\\projetos\\envs\\env_dom\\lib\\site-packages (from tabula-py) (1.4.2)\n",
      "Requirement already satisfied: distro in c:\\projetos\\envs\\env_dom\\lib\\site-packages (from tabula-py) (1.7.0)\n",
      "Requirement already satisfied: numpy in c:\\projetos\\envs\\env_dom\\lib\\site-packages (from tabula-py) (1.22.3)\n",
      "Requirement already satisfied: python-dateutil>=2.8.1 in c:\\projetos\\envs\\env_dom\\lib\\site-packages (from pandas>=0.25.3->tabula-py) (2.8.2)\n",
      "Requirement already satisfied: pytz>=2020.1 in c:\\projetos\\envs\\env_dom\\lib\\site-packages (from pandas>=0.25.3->tabula-py) (2022.1)\n",
      "Requirement already satisfied: six>=1.5 in c:\\projetos\\envs\\env_dom\\lib\\site-packages (from python-dateutil>=2.8.1->pandas>=0.25.3->tabula-py) (1.16.0)\n"
     ]
    }
   ],
   "source": [
    "### Instalação\n",
    "!pip install tabula-py"
   ]
  },
  {
   "cell_type": "code",
   "execution_count": 101,
   "metadata": {},
   "outputs": [],
   "source": [
    "# Importando a biblioteca\n",
    "import tabula"
   ]
  },
  {
   "cell_type": "code",
   "execution_count": 102,
   "metadata": {},
   "outputs": [
    {
     "name": "stdout",
     "output_type": "stream",
     "text": [
      "Python version:\n",
      "    3.10.2 (tags/v3.10.2:a58ebcc, Jan 17 2022, 14:12:15) [MSC v.1929 64 bit (AMD64)]\n",
      "Java version:\n",
      "    java version \"1.8.0_333\"\n",
      "Java(TM) SE Runtime Environment (build 1.8.0_333-b02)\n",
      "Java HotSpot(TM) 64-Bit Server VM (build 25.333-b02, mixed mode)\n",
      "tabula-py version: 2.3.0\n",
      "platform: Windows-10-10.0.22000-SP0\n",
      "uname:\n",
      "    uname_result(system='Windows', node='SIND-WKS-PRES', release='10', version='10.0.22000', machine='AMD64')\n",
      "linux_distribution: ('', '', '')\n",
      "mac_ver: ('', ('', '', ''), '')\n",
      "    \n"
     ]
    }
   ],
   "source": [
    "# Verificando o versão do java python\n",
    "tabula.environment_info()"
   ]
  },
  {
   "cell_type": "code",
   "execution_count": 103,
   "metadata": {},
   "outputs": [],
   "source": [
    "#Area do pdf para ser scaneada\n",
    "area_text = [[42.849,28.172,1209.134,215.329],[42.849,216.314,1210.119,393.621],[42.849,395.591,1210.119,574.868],[42.849,576.838,1207.164,760.055]]"
   ]
  },
  {
   "cell_type": "code",
   "execution_count": 104,
   "metadata": {},
   "outputs": [
    {
     "name": "stdout",
     "output_type": "stream",
     "text": [
      "Quantidade de páginas: 4\n"
     ]
    }
   ],
   "source": [
    "# Lendo o arquivo\n",
    "dfs = tabula.read_pdf(file_test,pages=\"all\",area=area_text,multiple_tables=True,encoding='utf-8',pandas_options={\"header\": [0, 1]})\n",
    "print(f\"Quantidade de páginas: {len(dfs)}\")"
   ]
  },
  {
   "cell_type": "code",
   "execution_count": 111,
   "metadata": {},
   "outputs": [],
   "source": [
    "### Salvando o arquivo final\n",
    "\n",
    "tabula.convert_into(file_test,SAVE_DIR+\"output_tabula.csv\" ,pages=\"all\",output_format = \"tsv\",area=area_text)"
   ]
  },
  {
   "cell_type": "code",
   "execution_count": 112,
   "metadata": {},
   "outputs": [],
   "source": [
    "### Convertendo todos os arquivos em csv de uma pasta\n",
    "\n",
    "tabula.convert_into_by_batch(DATA_DIR,output_format=\"tsv\",area=area_text,pages=\"all\")"
   ]
  },
  {
   "cell_type": "markdown",
   "metadata": {},
   "source": [
    "## Conclusão"
   ]
  },
  {
   "cell_type": "markdown",
   "metadata": {},
   "source": [
    "- **Biblioteca PyMuPDF:**\n",
    "    - Ideal para trabalhar com arquivos PDF simples sem paginação.\n",
    "- **Biblioteca PyPDF2:**\n",
    "    - Ótima para manipulação de arquivos PDF como mesclar páginas e arquivos.\n",
    "- **Biblioteca Tabula:**\n",
    "    - Ótima para conversões em massa de arquivos e conversão de arquivos PDF complexos com paginação e várias colunas.\n"
   ]
  }
 ],
 "metadata": {
  "interpreter": {
   "hash": "0d9c8620375c7e4f97b539c35ec4878b974cc35cdef5ae45f85e6614963f6c0d"
  },
  "kernelspec": {
   "display_name": "Python 3.10.2 ('env_dom')",
   "language": "python",
   "name": "python3"
  },
  "language_info": {
   "codemirror_mode": {
    "name": "ipython",
    "version": 3
   },
   "file_extension": ".py",
   "mimetype": "text/x-python",
   "name": "python",
   "nbconvert_exporter": "python",
   "pygments_lexer": "ipython3",
   "version": "3.10.2"
  },
  "orig_nbformat": 4
 },
 "nbformat": 4,
 "nbformat_minor": 2
}
